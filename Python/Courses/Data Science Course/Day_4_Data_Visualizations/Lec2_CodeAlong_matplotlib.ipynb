{
 "cells": [
  {
   "cell_type": "markdown",
   "metadata": {},
   "source": [
    "# Matplotlib Data Visualization \n",
    "\n",
    "Matplotlib is the most popular plotting library for Python. <br>\n",
    "* They say on their website, <font style=\"color:green;\"><b><I>Matplotlib tries to make easy things easy and hard things possible.</I></b></font>\n",
    "\n",
    "  \n",
    "Matplotlib was originally written by [John Hunter](https://en.wikipedia.org/wiki/John_D._Hunter) to visualize Electrocorticography (ECoG) data of epilepsy patients during his post-doctoral research in Neurobiology. He created this library to replicate MatLab's plotting capabilities in Python (if you have ever worked with Matlab, matplotlib will feel natural to you). Later on, this open-source library emerged as the most widely used plotting library for the Python programming language, and a core component of the scientific Python stack, along with Numpy, Scipy and IPython.\n",
    "\n",
    "\n",
    "Along with providing great control on every element in a figure, Matplotlib is very easy to get started for simple plots. Matplotlib is very customizable in general and, with just a few lines of code, it generate high-quality plots, histograms, power spectra, bar charts, error-charts, scatter-plots, etc.<br>\n",
    "\n",
    "The official documentation of matplotlib is provided on its [website](http://matplotlib.org/). This is a great idea to explore Matplotlib [examples](https://matplotlib.org/gallery/index.html#) and [tutorials](https://matplotlib.org/tutorials/index.html) on its official website, to learn more about this state of the art plotting library.<br>\n",
    "\n",
    "&#9989; [Matplotlib source code on github](https://github.com/matplotlib/matplotlib) <br>\n",
    "&#9989; [This is another great matplotlib tutorial](http://www.labri.fr/perso/nrougier/teaching/matplotlib/#introduction). <br>\n",
    "\n",
    "In this section, we will learn matplotlib's key features with examples. Let's get started!"
   ]
  },
  {
   "cell_type": "code",
   "execution_count": 1,
   "metadata": {},
   "outputs": [],
   "source": [
    "#!pip install matplotlib # if you not installed"
   ]
  },
  {
   "cell_type": "markdown",
   "metadata": {},
   "source": [
    "**First thing first, we need to import the library**<br>\n",
    "**`matplotlib.pyplot`** is commonly imported as **`plt`**"
   ]
  },
  {
   "cell_type": "code",
   "execution_count": 2,
   "metadata": {},
   "outputs": [],
   "source": [
    "# This code is optional, and changes the matplotlib default dpi (100) to our own value. \n",
    "#import matplotlib as mpl\n",
    "#mpl.rcParams['figure.dpi'] = 300"
   ]
  },
  {
   "cell_type": "code",
   "execution_count": 3,
   "metadata": {},
   "outputs": [],
   "source": [
    "#This is optional for retina display \n",
    "from IPython.display import set_matplotlib_formats\n",
    "set_matplotlib_formats('retina')"
   ]
  },
  {
   "cell_type": "markdown",
   "metadata": {},
   "source": [
    "```Python\n",
    "import matplotlib.pyplot as plt\n",
    "```"
   ]
  },
  {
   "cell_type": "code",
   "execution_count": null,
   "metadata": {},
   "outputs": [],
   "source": []
  },
  {
   "cell_type": "markdown",
   "metadata": {},
   "source": [
    "We are working in jupyter notebook, which provides a convenient way of printing the plots within the notebook using **`%matplotlib inline`** command. <font style=\"font-size:12px;color:green;\">*This is only for jupyter notebooks, if you are using another editor, you'll use: **`plt.show()`** at the end of all your plotting commands.*</font>"
   ]
  },
  {
   "cell_type": "markdown",
   "metadata": {},
   "source": [
    "```Python\n",
    "# will print plots in the jupyter notebook\n",
    "%matplotlib inline \n",
    "#%config InlineBackend.figure_format = 'retina'\n",
    "```"
   ]
  },
  {
   "cell_type": "code",
   "execution_count": null,
   "metadata": {},
   "outputs": [],
   "source": []
  },
  {
   "cell_type": "markdown",
   "metadata": {
    "collapsed": true
   },
   "source": [
    "**We need data to work with.**<br> \n",
    "Let's start with a simple example using two numpy arrays to plot numbers along **`x`** and their squares along **`y`** axis. <br>\n",
    "*(We can use lists, however, I opted to work with numpy array. Most likely we will be using numpy arrays or pandas columns in this course, which essentially also behave like arrays)*"
   ]
  },
  {
   "cell_type": "markdown",
   "metadata": {},
   "source": [
    "```Python\n",
    "import numpy as np # importing numpy\n",
    "x = np.arange(11) # using arange to create array \"x\"\n",
    "y = x ** 2 # computing square of \"x\"\n",
    "print(\"original array is:          \", x) # a normal print statement\n",
    "print(\"Square of original array is:\", y) # a normal print statement\n",
    "```"
   ]
  },
  {
   "cell_type": "code",
   "execution_count": null,
   "metadata": {},
   "outputs": [],
   "source": [
    "h"
   ]
  },
  {
   "cell_type": "markdown",
   "metadata": {},
   "source": [
    "## Basic Plotting\n",
    "#### Creating a basic line plot.\n",
    "We have data in `x` and `y`. Let's create some plots using this data.<br>\n",
    "&#9758; *Do you remember the trick `<Shift+Tab>` -- documentation of the function in jupyter notebook along the way!.*<br>\n",
    "Reference: List of the [Key matlab Commands](https://matplotlib.org/api/pyplot_summary.html)<br>\n",
    "`plot()` is the basic method that plots y versus x as lines and/or markers."
   ]
  },
  {
   "cell_type": "markdown",
   "metadata": {},
   "source": [
    "```Python\n",
    "plt.plot(x, y)# Try passing 'r' as an additional argument for a line with blue color, press <Shift+Tab> for more options\n",
    "\n",
    "# We can add labels and title\n",
    "plt.xlabel('X Axis Title')\n",
    "plt.ylabel('Y Axis Title')\n",
    "plt.title('Figure/plot Title')\n",
    "\n",
    "#plt.show() # if not using Jupyter notebook, you need this line as well\n",
    "#with plt.show(), it will print the plot instead of \"out[]\" cell in jupyter notebook\n",
    "#e.g. print('string') or 'string'\n",
    "#Try plt.show()\n",
    "```"
   ]
  },
  {
   "cell_type": "code",
   "execution_count": null,
   "metadata": {},
   "outputs": [],
   "source": []
  },
  {
   "cell_type": "markdown",
   "metadata": {},
   "source": [
    "#### Creating multiple plot on the same canvas.\n",
    "<code>**[subplot()](https://matplotlib.org/api/_as_gen/matplotlib.pyplot.subplot.html#matplotlib.pyplot.subplot)** </code>: provides a convenient way of creating multi-plots on same canvas!<br>\n",
    "<code>**[tight_layout()](https://matplotlib.org/api/_as_gen/matplotlib.pyplot.tight_layout.html#matplotlib.pyplot.tight_layout)**</code>:  Automatically adjust subplot parameters to give specified padding."
   ]
  },
  {
   "cell_type": "markdown",
   "metadata": {},
   "source": [
    "```Python\n",
    "# plt.subplot(nrows, ncols, plot_number)\n",
    "\n",
    "# For plot on left\n",
    "plt.subplot(1,3,1) # (131) is same as (1,3,1)\n",
    "plt.plot(x, y, 'r--') # Shift+Tab for more colour/style options in doc string\n",
    "\n",
    "# For plot in the middle\n",
    "plt.subplot(1,3,2)\n",
    "plt.plot(y, x, 'g*-');\n",
    "\n",
    "# For the plot on right \n",
    "plt.subplot(1,3,3)\n",
    "plt.plot(x, y, 'r--')\n",
    "plt.plot(y, x, 'g*-');\n",
    "\n",
    "# Let's adjust the subplots\n",
    "plt.tight_layout() # try same code without tight_layout() and see the difference!\n",
    "```"
   ]
  },
  {
   "cell_type": "code",
   "execution_count": null,
   "metadata": {},
   "outputs": [],
   "source": []
  },
  {
   "cell_type": "markdown",
   "metadata": {},
   "source": [
    "## Matplotlib \"Object Oriented\" approach\n",
    "We have seen the basic plotting which is very quick and easy to generate plots. However, it is recommended to use object-oriented approach for more control and customization of our plots.<br> \n",
    "Let's break down and learn the formal introduction of [Matplotlib's Object Oriented API](https://matplotlib.org/gallery/index.html#api-examples) for plotting the data.<br>\n",
    "The idea behind Object Oriented approach is, **we create figure objects and then call methods or attributes from that object.** This elegant approach is greatly helpful when we are dealing with a canvas that has multiple plots on it. \n",
    "\n",
    "To start with, let's create a `figure instance \"fig1\"` and add axes to that figure:"
   ]
  },
  {
   "cell_type": "markdown",
   "metadata": {},
   "source": [
    "```Python\n",
    "# Step 1:\n",
    "# Creating Figure Object (empty canvas)\n",
    "fig1 = plt.figure()\n",
    "# Figure object is created\n",
    "\n",
    "# Step 2:\n",
    "# Add axes to the figure object \"fig1\" -- obj.add_axes()\n",
    "# [left, bottom, width, height] (range 0 to 1)\n",
    "axes = fig1.add_axes([0.1, 0.1, 0.9, 0.9]) \n",
    "\n",
    "# Step 3:\n",
    "# Plotting the data on the set of axes we have created -- axes.plot()\n",
    "axes.plot(x, y, 'b')\n",
    "\n",
    "# We can add labels and titles as well! \n",
    "# Calling methods to set labels, titles etc -- axes.set....()\n",
    "axes.set_xlabel('X Label') # Notice the use of set_ to begin methods\n",
    "axes.set_ylabel('y Label')\n",
    "axes.set_title('Figure Title') # put \";\" if you don't want to see the line of text below!\n",
    "```"
   ]
  },
  {
   "cell_type": "code",
   "execution_count": null,
   "metadata": {},
   "outputs": [],
   "source": []
  },
  {
   "cell_type": "markdown",
   "metadata": {},
   "source": [
    "Let's revise, what we did:<br>\n",
    "* Created an object (empty canvas) \"fig1\" -- <code>plt.figure()</code>\n",
    "* Added \"axes\" on \"fig1\" -- <code>fig1.add_axes()</code>\n",
    "* Plotted data on \"axes\" -- <code>axes.plot()</code>\n",
    "* Set labels and title -- <code>axes.set_xlabel/title()</code>\n",
    "\n",
    "The code is little more and might look complicated in the beginning. However, the advantage is that we have a full control of where the plot axes are placed, and we can easily add more than one axis to the figure.<br>\n",
    "**Let's learn how to create an inset plot using Object-Oriented approach!**"
   ]
  },
  {
   "cell_type": "markdown",
   "metadata": {},
   "source": [
    "```Python\n",
    "# Creating an empty canvas\n",
    "fig2 = plt.figure()\n",
    "\n",
    "# Creating main axes - values b/w 0 & 1\n",
    "axes_main = fig2.add_axes([0.1, 0.1, 0.9, 0.9]) # [left, bottom, width, height]\n",
    "\n",
    "# Creating inset axes - values b/w 0 & 1\n",
    "axes_inset = fig2.add_axes([0.3, 0.5, 0.3, 0.4]) # [left, bottom, width, height]\n",
    "\n",
    "# See the output here, how it looks like!\n",
    "# Change the numbers in axes_inset and see the difference!\n",
    "\n",
    "# Main figure\n",
    "axes_main.plot(x, y, 'b')\n",
    "axes_main.set_xlabel('X_label_main')\n",
    "axes_main.set_ylabel('Y_label_main')\n",
    "axes_main.set_title('Title_main')\n",
    "\n",
    "# Inset figure\n",
    "axes_inset.plot(y, x, 'r')\n",
    "axes_inset.set_xlabel('X_label_inset')\n",
    "axes_inset.set_ylabel('Y_label_inset')\n",
    "axes_inset.set_title('Title_inset');\n",
    "```"
   ]
  },
  {
   "cell_type": "code",
   "execution_count": null,
   "metadata": {},
   "outputs": [],
   "source": []
  },
  {
   "cell_type": "markdown",
   "metadata": {},
   "source": [
    "Let's revise, once again, what we did:<br>\n",
    "* Created an object (empty canvas) `\"fig2\"`.\n",
    "* Added main and inset \"axes\" on `\"fig2\"`.\n",
    "* Plotted data on \"main axes\" and set the `labels`.\n",
    "* Plotted data on \"inset axes\" and set the `labels`. \n",
    "\n",
    "So, this is the flow that we will be working with matplotlib in the coming lectures for data plotting."
   ]
  },
  {
   "cell_type": "markdown",
   "metadata": {},
   "source": [
    "### Creating a figure and a set of subplots -- \"Object Oriented\" approach\n",
    "*Notice the difference, subplot is different then subplots (with additional s).*<br>\n",
    "<code>**[subplots()](https://matplotlib.org/api/_as_gen/matplotlib.pyplot.subplots.html)**</code>: Create a figure and a set of subplots. A very convenient way to create layouts of subplots, including the enclosing figure object, in a single call. <br>\n",
    "&#9758; `<Shift+Tab> for doc string`\n",
    "\n",
    "Let's start with a basic use case:"
   ]
  },
  {
   "cell_type": "markdown",
   "metadata": {},
   "source": [
    "```Python\n",
    "# Instead of figure(), lets call subplots()\n",
    "# Tuple unpacking to grab fig and axes\n",
    "fig, axes = plt.subplots()\n",
    "```"
   ]
  },
  {
   "cell_type": "code",
   "execution_count": null,
   "metadata": {},
   "outputs": [],
   "source": []
  },
  {
   "cell_type": "markdown",
   "metadata": {},
   "source": [
    "```Python\n",
    "# adding nrows and ncols - automaticaly calls the axes based on ncols and nrows\n",
    "fig, axes = plt.subplots(nrows=2, ncols=2)\n",
    "plt.tight_layout() # for auto adjustment\n",
    "```"
   ]
  },
  {
   "cell_type": "code",
   "execution_count": null,
   "metadata": {},
   "outputs": [],
   "source": []
  },
  {
   "cell_type": "markdown",
   "metadata": {},
   "source": [
    "```Python\n",
    "# We can share x and y axes.\n",
    "fig, axes = plt.subplots(nrows=2, ncols=2, sharex=True, sharey=True )\n",
    "plt.tight_layout() # for auto adjustment\n",
    "```"
   ]
  },
  {
   "cell_type": "code",
   "execution_count": null,
   "metadata": {},
   "outputs": [],
   "source": []
  },
  {
   "cell_type": "markdown",
   "metadata": {},
   "source": [
    "**Let's plot some data**"
   ]
  },
  {
   "cell_type": "markdown",
   "metadata": {},
   "source": [
    "```Python\n",
    "# Tuple unpacking to grab fig and axes\n",
    "fig, axes = plt.subplots()\n",
    "\n",
    "# Adding data to the plot using axes object.\n",
    "axes.plot(x, y, 'r')\n",
    "\n",
    "# Adding labels and title using axes abject\n",
    "axes.set_xlabel('X_Label')\n",
    "axes.set_ylabel('Y_Label')\n",
    "axes.set_title('Plot_Title')\n",
    "```"
   ]
  },
  {
   "cell_type": "code",
   "execution_count": null,
   "metadata": {},
   "outputs": [],
   "source": []
  },
  {
   "cell_type": "markdown",
   "metadata": {},
   "source": [
    "**Let's create two empty canvases (`fig1` and `fig2`) with two axes on each canvas to do some stuff**"
   ]
  },
  {
   "cell_type": "markdown",
   "metadata": {},
   "source": [
    "```Python\n",
    "fig1, axes1 = plt.subplots(2,1) #(nrows, ncols)\n",
    "fig2, axes2 = plt.subplots(1,2) #(nrows, ncols)\n",
    "```"
   ]
  },
  {
   "cell_type": "code",
   "execution_count": null,
   "metadata": {},
   "outputs": [],
   "source": []
  },
  {
   "cell_type": "markdown",
   "metadata": {},
   "source": [
    "```Python\n",
    "# axes1 and axes2 are arrays of axes to plot on, let's confirm their type and lenght (we can grab any one)!\n",
    "type(axes1), len(axes1)\n",
    "```"
   ]
  },
  {
   "cell_type": "code",
   "execution_count": null,
   "metadata": {},
   "outputs": [],
   "source": []
  },
  {
   "cell_type": "markdown",
   "metadata": {},
   "source": [
    "`axes1` and `axes2` are `numpy` arrays, so we can iterate through them using loop! "
   ]
  },
  {
   "cell_type": "markdown",
   "metadata": {},
   "source": [
    "```Python\n",
    "# We can iterate through this (axes) array using for loop\n",
    "for ax in axes1:\n",
    "    ax.plot(x, y, 'b')\n",
    "    ax.set_xlabel('X_label')\n",
    "    ax.set_ylabel('Y_label')\n",
    "    ax.set_title('Title')\n",
    "fig1.tight_layout() # avoid overlapping\n",
    "fig1 # Display the figure object accociated with axes1, we need it here becasue the object is created in a different cell! \n",
    "```"
   ]
  },
  {
   "cell_type": "code",
   "execution_count": null,
   "metadata": {},
   "outputs": [],
   "source": []
  },
  {
   "cell_type": "markdown",
   "metadata": {},
   "source": [
    "We are also access the plots on `axes1` and `axes2` individually using their index values!"
   ]
  },
  {
   "cell_type": "markdown",
   "metadata": {},
   "source": [
    "```Python\n",
    "# We can access them one by one\n",
    "# index 0 of axes2\n",
    "axes2[0].plot(x, y, 'b')\n",
    "axes2[0].set_xlabel('x_blue')\n",
    "axes2[0].set_ylabel('y_blue')\n",
    "axes2[0].set_title('title_blue')\n",
    "\n",
    "# index 1 of axes2\n",
    "axes2[1].plot(x, y, 'r')\n",
    "axes2[1].set_xlabel('x_red')\n",
    "axes2[1].set_ylabel('y_red')\n",
    "axes2[1].set_title('title_red')\n",
    "\n",
    "fig2.tight_layout() # avoid overlapping\n",
    "fig2 # Display the figure object   \n",
    "```"
   ]
  },
  {
   "cell_type": "code",
   "execution_count": null,
   "metadata": {},
   "outputs": [],
   "source": []
  },
  {
   "cell_type": "markdown",
   "metadata": {},
   "source": [
    "**<code>subplots()</code>.**"
   ]
  },
  {
   "cell_type": "markdown",
   "metadata": {},
   "source": [
    "```Python\n",
    "fig, axes = plt.subplots(figsize=(10,5))\n",
    "# axes will have only one item this time, we are not passing \"nrows\" and \"ncols\"\n",
    "axes.plot(x, y, 'g--') # g-- for green dashed line\n",
    "axes.set_xlabel('x') # setting \"x\" label\n",
    "axes.set_ylabel('y') # setting \"y\" label\n",
    "axes.set_title('title'); # setting \"title\" -- also notice \";\"\n",
    "# notice, we did not call the fig here, the object is created in the same cell, we can skip!\n",
    "```"
   ]
  },
  {
   "cell_type": "code",
   "execution_count": null,
   "metadata": {},
   "outputs": [],
   "source": []
  },
  {
   "cell_type": "markdown",
   "metadata": {},
   "source": [
    "#### Saving figures\n",
    "<code>**savefig()**</code>: This method provides range of formats including `.jpg, .pdf, .png, .eps` etc are possible to save high-quality figures in matplotlib. <br>\n",
    "Let's try to save the figure above, we have the object `fig` for that. We need to call `.savefig()` on `fig`."
   ]
  },
  {
   "cell_type": "markdown",
   "metadata": {},
   "source": [
    "```Python\n",
    "fig.savefig(\"filename.png\", dpi=200) # passing the file name and dpi -- Reminder: <shift+tab> for docstring\n",
    "```"
   ]
  },
  {
   "cell_type": "code",
   "execution_count": null,
   "metadata": {},
   "outputs": [],
   "source": []
  },
  {
   "cell_type": "markdown",
   "metadata": {},
   "source": [
    "&#9758; figure `\"filename.png\"` will be saved in your current working directory."
   ]
  },
  {
   "cell_type": "markdown",
   "metadata": {},
   "source": [
    "### Decorating the figures\n",
    "So, we have learned that we can add **x_label**, **y_label** and **plot_title** using:\n",
    "* <code>axes.set_xlabel(\"x_label\")</code>\n",
    "* <code>axes.set_xlabel(\"y_label\")</code>\n",
    "* <code>ax.set_title(\"plot_title\")</code>\n",
    "\n",
    "We can use the `label=\"label_text\"` keyword argument when plots or other objects are added to the figure. <code>**`legends()`**</code> method, without arguments, to add the legend to the figure. <br>\n",
    "**Let's learn with example:**"
   ]
  },
  {
   "cell_type": "markdown",
   "metadata": {},
   "source": [
    "```Python\n",
    "fig = plt.figure() # creating fig object\n",
    "\n",
    "axes = fig.add_axes([0,0,1,1]) # adding axes on fig\n",
    "\n",
    "axes.plot(x, x**2, label=\"x**2\") # adding plot on axes\n",
    "axes.plot(x, x**3, label=\"x**3\") # adding another plot on axes\n",
    "axes.legend() # adding legends\n",
    "```"
   ]
  },
  {
   "cell_type": "code",
   "execution_count": null,
   "metadata": {},
   "outputs": [],
   "source": []
  },
  {
   "cell_type": "markdown",
   "metadata": {},
   "source": [
    "The position of the legend can be specified using an optional keyword argument <code>**loc**</code> in <code>**legend()**</code> function. -- *`<Sfift+Tab>` to see the options.* \n",
    "<br>[Official documentation page](http://matplotlib.org/users/legend_guide.html#legend-location) for details. <br>\n",
    "**most common <code>loc</code> values are:**"
   ]
  },
  {
   "cell_type": "markdown",
   "metadata": {},
   "source": [
    "```Python\n",
    "axes.legend(loc=1) # upper right corner\n",
    "axes.legend(loc=2) # upper left corner\n",
    "axes.legend(loc=3) # lower left corner\n",
    "axes.legend(loc=4) # lower right corner\n",
    "\n",
    "axes.legend(loc=0) # let matplotlib decide the optimal location\n",
    "fig # Display the figure object\n",
    "```"
   ]
  },
  {
   "cell_type": "code",
   "execution_count": null,
   "metadata": {},
   "outputs": [],
   "source": []
  },
  {
   "cell_type": "markdown",
   "metadata": {},
   "source": [
    "#### Colors, linewidths, linetypes, marker styles etc.\n",
    "There are lots of options available in matplotlib to customize the plot. <br>\n",
    "Let's explore few and we will learn more and more along with this course. <br>\n",
    "[Official Documentation](https://matplotlib.org/api/_as_gen/matplotlib.figure.Figure.html) "
   ]
  },
  {
   "cell_type": "markdown",
   "metadata": {},
   "source": [
    "The color and other graphical elements can be defined in number of ways. MATLAB-like syntax, `'r'` means red, `'g'` means green, etc can be used. MATLAB API for selecting line styles are also supported, for example, `'r.-' means a red line with dots.`"
   ]
  },
  {
   "cell_type": "markdown",
   "metadata": {},
   "source": [
    "```Python\n",
    "fig, axes = plt.subplots() # using subplots() here \n",
    "axes.plot(x, x+1, 'r.-') # red line with dots\n",
    "axes.plot(x, x+2, 'g--') # green dashed line\n",
    "```"
   ]
  },
  {
   "cell_type": "code",
   "execution_count": null,
   "metadata": {},
   "outputs": [],
   "source": []
  },
  {
   "cell_type": "markdown",
   "metadata": {},
   "source": [
    "**The appropriate way is to use Colors with the `color = parameter`**<br>\n",
    "Colors by their names or `RGB hex codes` can also be used. There is another very useful optional parameter, `alpha` that can be used along with `color` to control the opacity *(useful when data points are on top of each other!)* ."
   ]
  },
  {
   "cell_type": "markdown",
   "metadata": {
    "scrolled": true
   },
   "source": [
    "```Python\n",
    "fig, axes = plt.subplots()\n",
    "\n",
    "axes.plot(x, x+1, color=\"blue\", alpha=0.5) # alpha = 0.5, half-transparant\n",
    "axes.plot(x, x+2, color=\"#8B008B\")        # RGB hex color code\n",
    "axes.plot(x, x+3, color=\"#FF8C00\")        # RGB hex color code \n",
    "```"
   ]
  },
  {
   "cell_type": "code",
   "execution_count": null,
   "metadata": {},
   "outputs": [],
   "source": []
  },
  {
   "cell_type": "markdown",
   "metadata": {},
   "source": [
    "Below is another example using range of related parameters to make your plot beautiful!"
   ]
  },
  {
   "cell_type": "markdown",
   "metadata": {},
   "source": [
    "```Python\n",
    "fig, axes = plt.subplots(figsize=(10,8))\n",
    "axes.plot(x, y, color=\"purple\", lw=3, ls='-', \n",
    "          marker='s', markersize=8,\n",
    "          markerfacecolor=\"yellow\", \n",
    "          markeredgewidth=3, markeredgecolor=\"green\")\n",
    "\"\"\"To Do: Change parameters e.g. markeredgewidth, markerfacecolor, markeredgecolor, marker etc \n",
    "to see the difference let's go the the reference jupyter notebook to see some options!\"\"\"\n",
    "```"
   ]
  },
  {
   "cell_type": "code",
   "execution_count": null,
   "metadata": {},
   "outputs": [],
   "source": []
  },
  {
   "cell_type": "markdown",
   "metadata": {},
   "source": [
    "**Let's move on and explore little more to make the figure attractive, its important in storytelling!**<br>\n",
    "* How to change line width with <b>`linewidth`</b> or <b>`lw`</b> keyword argument \n",
    "* How to change the line style with <b>`linestyle`</b> or <b>`ls`</b> keyword arguments\n",
    "* How to set the marker with <b>`marker`</b> and <b>`markersize`</b> keyword arguments\n",
    "\n",
    "Code and the figure below could be a good reference for you while creating attractive plots!"
   ]
  },
  {
   "cell_type": "markdown",
   "metadata": {},
   "source": [
    "```Python\n",
    "# using subplots for fig and axes\n",
    "fig, axes = plt.subplots(figsize=(10,8))\n",
    "\n",
    "# adding plots of different colors and line widths on axes \n",
    "axes.plot(x, x+1, color=\"red\", linewidth=0.25)\n",
    "axes.plot(x, x+2, color=\"red\", linewidth=0.50)\n",
    "axes.plot(x, x+3, color=\"red\", linewidth=1.00)\n",
    "axes.plot(x, x+4, color=\"red\", linewidth=2.00)\n",
    "\n",
    "# possible linestype options ‘-‘, ‘–’, ‘-.’, ‘:’, ‘steps’\n",
    "axes.plot(x, x+5, color=\"green\", lw=5, linestyle='-')\n",
    "axes.plot(x, x+6, color=\"green\", lw=5, ls='-.')\n",
    "axes.plot(x, x+7, color=\"green\", lw=5, ls=':')\n",
    "\n",
    "# custom dash\n",
    "line, = ax.plot(x, x+8, color=\"black\", lw=1.50)\n",
    "line.set_dashes([5, 10, 15, 10]) # format: line length, space length, ...\n",
    "\n",
    "# possible marker symbols: marker = '+', 'o', '*', 's', ',', '.', '1', '2', '3', '4', ...\n",
    "axes.plot(x, x+ 9, color=\"blue\", lw=3, ls='-', marker='+')\n",
    "axes.plot(x, x+10, color=\"blue\", lw=3, ls='--', marker='o')\n",
    "axes.plot(x, x+11, color=\"blue\", lw=3, ls='-', marker='s')\n",
    "axes.plot(x, x+12, color=\"blue\", lw=3, ls='--', marker='1')\n",
    "\n",
    "# marker size and color\n",
    "axes.plot(x, x+13, color=\"purple\", lw=3, ls='-', marker='o', markersize=2)\n",
    "axes.plot(x, x+14, color=\"purple\", lw=3, ls='-', marker='o', markersize=4)\n",
    "axes.plot(x, x+15, color=\"purple\", lw=3, ls='-', marker='o', markersize=8, markerfacecolor=\"red\")\n",
    "axes.plot(x, x+16, color=\"purple\", lw=3, ls='-', marker='s', markersize=8, \n",
    "        markerfacecolor=\"yellow\", markeredgewidth=3, markeredgecolor=\"green\");\n",
    "```"
   ]
  },
  {
   "cell_type": "code",
   "execution_count": null,
   "metadata": {},
   "outputs": [],
   "source": []
  },
  {
   "cell_type": "markdown",
   "metadata": {},
   "source": [
    "**Matplotlib conveniently allows the control on axis**<br>\n",
    "* Set the x and y limits using `set_xlim` and `set_ylim` methods \n",
    "* `axis('tight')` for automatically getting `\"tightly fitted\"` axes ranges\n",
    "\n",
    "Let's learn with examples:"
   ]
  },
  {
   "cell_type": "markdown",
   "metadata": {},
   "source": [
    "```Python\n",
    "# subplots again with nrows, ncols and figsize\n",
    "fig, axes = plt.subplots(nrows=1, ncols=3, figsize=(16, 3))\n",
    "\n",
    "# Default axes range on left plot\n",
    "axes[0].plot(x, y, y, x)\n",
    "axes[0].set_title(\"default axes ranges\")\n",
    "\n",
    "# Tight axes on the middle plot\n",
    "axes[1].plot(x, y, y, x)\n",
    "axes[1].axis('tight')\n",
    "axes[1].set_title(\"tight axes\")\n",
    "\n",
    "# Custom axes range on the right plot\n",
    "axes[2].plot(x, y, y, x)\n",
    "axes[2].set_ylim([0, 50])\n",
    "axes[2].set_xlim([1, 4])\n",
    "axes[2].set_title(\"custom axes range\");\n",
    "```"
   ]
  },
  {
   "cell_type": "code",
   "execution_count": null,
   "metadata": {},
   "outputs": [],
   "source": []
  },
  {
   "cell_type": "markdown",
   "metadata": {},
   "source": [
    "While doing data science, we create several plots, however, some **Commonly used plots** histograms, scatter plots, barplots, pie chart etc. It's very easy to create plots using this state-of-the art python library. Let's look at some example plots and if you want to explore more than this, please **[Explore official documentation of matplotlib for more examples](https://matplotlib.org/tutorials/introductory/sample_plots.html#pie-charts)**.<br>\n",
    "With time and practice, you will get familiar with more plots and when to use them. "
   ]
  },
  {
   "cell_type": "markdown",
   "metadata": {},
   "source": [
    "```Python\n",
    "# Scatter plot\n",
    "plt.scatter(x,y)\n",
    "```"
   ]
  },
  {
   "cell_type": "code",
   "execution_count": null,
   "metadata": {},
   "outputs": [],
   "source": []
  },
  {
   "cell_type": "markdown",
   "metadata": {},
   "source": [
    "```Python\n",
    "# Histogram \n",
    "from random import sample\n",
    "data = sample(range(1, 1000), 100)\n",
    "plt.hist(data)\n",
    "```"
   ]
  },
  {
   "cell_type": "code",
   "execution_count": null,
   "metadata": {},
   "outputs": [],
   "source": []
  },
  {
   "cell_type": "markdown",
   "metadata": {},
   "source": [
    "```Python\n",
    "# boxplot - Don't worry, I will talk about box plot and its usage in details in the somming sections!\n",
    "# creating data for the plot, recall list comprehension!\n",
    "data = [np.random.normal(0, std, 100) for std in range(1, 4)] \n",
    "\n",
    "# rectangular box plot\n",
    "plt.boxplot(data, vert=True, patch_artist=True); # Reminder: <shift+tab> for docstring:) \n",
    "```"
   ]
  },
  {
   "cell_type": "code",
   "execution_count": null,
   "metadata": {},
   "outputs": [],
   "source": []
  },
  {
   "cell_type": "markdown",
   "metadata": {
    "collapsed": true
   },
   "source": [
    "# Excellent, Great work!\n",
    "Let's do a quick revision and move on to the matplotlib exercise."
   ]
  }
 ],
 "metadata": {
  "kernelspec": {
   "display_name": "Python 3",
   "language": "python",
   "name": "python3"
  },
  "language_info": {
   "codemirror_mode": {
    "name": "ipython",
    "version": 3
   },
   "file_extension": ".py",
   "mimetype": "text/x-python",
   "name": "python",
   "nbconvert_exporter": "python",
   "pygments_lexer": "ipython3",
   "version": "3.7.5"
  }
 },
 "nbformat": 4,
 "nbformat_minor": 1
}
