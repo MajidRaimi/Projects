{
 "cells": [
  {
   "cell_type": "markdown",
   "metadata": {},
   "source": [
    "# Seaborn for data visualizations\n",
    "Author and instructor: ***Dr. Junaid Qazi, PhD***\n",
    "\n",
    "Let's explore one of the most famous and benchmark dataset [\"Titanic: Machine Learning from Disaster\"](https://www.kaggle.com/c/titanic/data) from kaggle. \n",
    "\n",
    "Follow this link at [kaggle](https://www.kaggle.com/c/titanic) for detailed description on titanic dataset.<br>\n",
    "\n",
    "**Data Dictionary**\n",
    "* PassengerId\n",
    "* Survived -- 0 = No, 1 = Yes\n",
    "* Pclass -- Ticket class\t1 = 1st, 2 = 2nd, 3 = 3rd\n",
    "* Name -- Passenger name \n",
    "* Sex -- male / female \t\n",
    "* Age -- age in years\t\n",
    "* SibSp -- no. of siblings / spouses aboard the Titanic\t\n",
    "* Parch -- no. of parents / children aboard the Titanic\t\n",
    "* Ticket -- Ticket number\t\n",
    "* Fare -- Passenger fare\t\n",
    "* Cabin -- Cabin number\t\n",
    "* Embarked -- Port of Embarkation\tC = Cherbourg, Q = Queenstown, S = Southampton"
   ]
  },
  {
   "cell_type": "markdown",
   "metadata": {},
   "source": [
    "First thing first, let's import some libraries. At this stage, I am sure these libraries are not new to you!"
   ]
  },
  {
   "cell_type": "code",
   "execution_count": 1,
   "metadata": {},
   "outputs": [],
   "source": [
    "import pandas as pd\n",
    "import numpy as np\n",
    "import matplotlib.pyplot as plt\n",
    "import seaborn as sns\n",
    "sns.set_style('whitegrid') # just optional!\n",
    "%matplotlib inline\n",
    "\n",
    "#Setting display format to retina in matplotlib to see better quality images.\n",
    "from IPython.display import set_matplotlib_formats\n",
    "set_matplotlib_formats('retina')\n",
    "\n",
    "# Lines below are just to ignore warnings\n",
    "import warnings\n",
    "warnings.filterwarnings('ignore')"
   ]
  },
  {
   "cell_type": "markdown",
   "metadata": {},
   "source": [
    "Let's read`\"train_titanic.csv\"` into `\"train\"`"
   ]
  },
  {
   "cell_type": "markdown",
   "metadata": {},
   "source": [
    "```Python\n",
    "train = pd.read_csv('titanic.csv')\n",
    "```"
   ]
  },
  {
   "cell_type": "code",
   "execution_count": null,
   "metadata": {},
   "outputs": [],
   "source": []
  },
  {
   "cell_type": "markdown",
   "metadata": {},
   "source": [
    "```Python\n",
    "train.head()\n",
    "```"
   ]
  },
  {
   "cell_type": "code",
   "execution_count": null,
   "metadata": {},
   "outputs": [],
   "source": []
  },
  {
   "cell_type": "markdown",
   "metadata": {},
   "source": [
    "## Exploratory Data Analysis - EDA\n",
    "Let's overview the dataset using `info()` first!"
   ]
  },
  {
   "cell_type": "markdown",
   "metadata": {},
   "source": [
    "```Python\n",
    "train.info()\n",
    "```"
   ]
  },
  {
   "cell_type": "code",
   "execution_count": null,
   "metadata": {},
   "outputs": [],
   "source": []
  },
  {
   "cell_type": "markdown",
   "metadata": {},
   "source": [
    "**Missing Data**<br>\n",
    "So, we have 891 entries in our train dataset with column `Name` along with other information of the traveler such as passenger class (`Pclass`), `Fare`, `Ticket` and `Cabin` etc. <br>\n",
    "Notice, Age column have 714 non-nulls whereas Cabin have 204 non-null values. Embarked also have 889 non-nulls. So there is some data missing!<br> Let's do some calculation to find out the % of missing data in each column!<br>\n",
    "Remember, we have a function `isnull()` in this situation!"
   ]
  },
  {
   "cell_type": "markdown",
   "metadata": {},
   "source": [
    "```Python\n",
    "#round((train.isnull().sum())/(train.isnull().count())*100,1)\n",
    "pct_missing = round((train.isnull().sum())/(train.isnull().count())*100,1)\n",
    "pct_missing.sort_values(ascending=False).head()\n",
    "```"
   ]
  },
  {
   "cell_type": "code",
   "execution_count": null,
   "metadata": {},
   "outputs": [],
   "source": []
  },
  {
   "cell_type": "markdown",
   "metadata": {},
   "source": [
    "We have the numbers now!<br>\n",
    "* `Cabin` column is missing 77.1% of its data\n",
    "* `Age` column is missing 19.9% of its data\n",
    "* `Embarked` column is missing 0.2% of its data\n",
    "\n",
    "<font style=\"font-size:12px;color:green;\">*Recall and refresh your skills in dealing with missing data, we are going to use those skills at later stage*</font>\n",
    "\n",
    "`isnull()` return `True` for all the places where the data is missing. Our dataset is large, we better think about graphical visualization using seaborn's heatmap method to visualization missing data! <br>\n",
    "Let's try!!"
   ]
  },
  {
   "cell_type": "markdown",
   "metadata": {},
   "source": [
    "```Python\n",
    "# heatmap using seaborn, you can set the figure size if you want!\n",
    "plt.figure(figsize = (12,8))\n",
    "sns.heatmap(data = train.isnull())\n",
    "```"
   ]
  },
  {
   "cell_type": "code",
   "execution_count": null,
   "metadata": {},
   "outputs": [],
   "source": []
  },
  {
   "cell_type": "markdown",
   "metadata": {},
   "source": [
    "The above plot might be ok, but visualization of our heatmap can be improved. `yticklabels` are overlapping and the color bar is also not useful in this case.<br>\n",
    "We can set `yticklabels` and `cbar` to `False` and also use `cmap = 'viridis'` for cleaner map (you can use color of your choice)!<br>\n",
    "Let's try again!"
   ]
  },
  {
   "cell_type": "markdown",
   "metadata": {},
   "source": [
    "```Python\n",
    "plt.figure(figsize = (12,8))\n",
    "sns.heatmap(data=train.isnull(), yticklabels=False, cbar=False, cmap='viridis' )\n",
    "```"
   ]
  },
  {
   "cell_type": "code",
   "execution_count": null,
   "metadata": {},
   "outputs": [],
   "source": []
  },
  {
   "cell_type": "markdown",
   "metadata": {},
   "source": [
    "The map looks much better now.<br>\n",
    "Notice, yellow are `True` which represent the missing data!<br><br>\n",
    "**Well, we want to know more about the dataset<br>**\n",
    "we can use `countplot()` to see how many people survived and how many died!"
   ]
  },
  {
   "cell_type": "markdown",
   "metadata": {},
   "source": [
    "```Python\n",
    "sns.countplot(x='survived', data=train)# try different palette, such as 'coolwarm' or anyother!\n",
    "```"
   ]
  },
  {
   "cell_type": "code",
   "execution_count": null,
   "metadata": {},
   "outputs": [],
   "source": []
  },
  {
   "cell_type": "markdown",
   "metadata": {},
   "source": [
    "It's sad that not many passengers survived! <br><br>\n",
    "**Let's dig into little deeper, pass `hue = Sex` to see the female and male ratio in survived and died passengers.**"
   ]
  },
  {
   "cell_type": "markdown",
   "metadata": {},
   "source": [
    "```Python\n",
    "sns.countplot(x='survived', hue='gender',data=train, palette='coolwarm')\n",
    "```"
   ]
  },
  {
   "cell_type": "code",
   "execution_count": null,
   "metadata": {},
   "outputs": [],
   "source": []
  },
  {
   "cell_type": "markdown",
   "metadata": {},
   "source": [
    "The plot suggests that not many males survived whereas, most of the females survived. <br><br>\n",
    "**We can ask another question here!**<br>\n",
    "We know there were three passenger classes in the titanic, which class survived the most?<br>\n",
    "`nunique() or unique()` on `Pclass` and `hue = Pclass` can be useful!"
   ]
  },
  {
   "cell_type": "markdown",
   "metadata": {},
   "source": [
    "```Python\n",
    "# Let's check the no of classes again to re-confirm!\n",
    "train['pclass'].unique()\n",
    "```"
   ]
  },
  {
   "cell_type": "code",
   "execution_count": null,
   "metadata": {},
   "outputs": [],
   "source": []
  },
  {
   "cell_type": "markdown",
   "metadata": {},
   "source": [
    "Just a comment for the next `countplot`, you can use any color e.g. `palette='coolwarm'/'rainbow'` etc, it's your choice, I am just trying to keep things simpler using default one! "
   ]
  },
  {
   "cell_type": "markdown",
   "metadata": {},
   "source": [
    "```Python\n",
    "sns.countplot(x='survived', hue='pclass',data=train)\n",
    "```"
   ]
  },
  {
   "cell_type": "code",
   "execution_count": null,
   "metadata": {},
   "outputs": [],
   "source": []
  },
  {
   "cell_type": "markdown",
   "metadata": {},
   "source": [
    "Excellent!<br>\n",
    "We got even better understanding of our data. Now, we know that more than half of the `class-1` passenger survived whereas most of the `class-3` passengers died.<br><br>\n",
    "**Let's explore more and see `what was the survival rate` based on the `Port of Embarkation`?**"
   ]
  },
  {
   "cell_type": "markdown",
   "metadata": {},
   "source": [
    "```Python\n",
    "# hue is useful here!\n",
    "sns.countplot(x='embarked',data=train, hue='survived')#hue='Pclass')\n",
    "```"
   ]
  },
  {
   "cell_type": "code",
   "execution_count": null,
   "metadata": {},
   "outputs": [],
   "source": []
  },
  {
   "cell_type": "markdown",
   "metadata": {},
   "source": [
    "So, it looks like passenger, embarked from Southampton Port have a better chance of survival!<br><br>\n",
    "This suggest <b>another question</b>, we may want to explore the class of the passenger and their port of embarkation.<br>\n",
    "Let's pass `hue = 'Pclass'` now!. This is again a `countplot`!"
   ]
  },
  {
   "cell_type": "markdown",
   "metadata": {},
   "source": [
    "```Python\n",
    "sns.countplot(x='embarked',data=train, hue='pclass')\n",
    "```"
   ]
  },
  {
   "cell_type": "code",
   "execution_count": null,
   "metadata": {},
   "outputs": [],
   "source": []
  },
  {
   "cell_type": "markdown",
   "metadata": {},
   "source": [
    "Di you see, more you more understanding of the data gives better in-sights!<br>\n",
    "Now, we see, ***Southampton was actually the busiest port for each class!*** <br><br>\n",
    "\n",
    "***Furthermore, we can see how many passengers traveled with siblings/spouses and parent/children. We can plot a histogram to know how the age was distributed among the travelers.***<br>\n",
    "<font style=\"font-size:16px;color:green;\"><br>\n",
    "&#9758; I encourage you to ask questions to yourself and try to apply your EDA skills to learn more about the data. Use different types of plots along with your skills in interactive plotting - Recall the skills you acquired in data visualization section! <b>Practice is a key.</b></font><br><br>"
   ]
  },
  {
   "cell_type": "markdown",
   "metadata": {},
   "source": [
    "```Python\n",
    "# Parch -- no. of parents / children aboard the Titanic\n",
    "sns.countplot(x='parch',data=train, hue='survived')\n",
    "```"
   ]
  },
  {
   "cell_type": "code",
   "execution_count": null,
   "metadata": {},
   "outputs": [],
   "source": []
  },
  {
   "cell_type": "markdown",
   "metadata": {},
   "source": [
    "* What do you learn from the plot above? \n",
    "* Is there any trend with survival with the group size?"
   ]
  },
  {
   "cell_type": "markdown",
   "metadata": {},
   "source": [
    "Moving forward, I just want to have another plot to see the age distribution of the passengers on titanic! "
   ]
  },
  {
   "cell_type": "markdown",
   "metadata": {
    "scrolled": true
   },
   "source": [
    "```Python\n",
    "sns.distplot(train['age'].dropna(),kde=False,color='green',bins=30) \n",
    "#train['Age'].hist(bins=30,color='green',alpha=0.5) # using pandas data visualizations\n",
    "```"
   ]
  },
  {
   "cell_type": "code",
   "execution_count": null,
   "metadata": {},
   "outputs": [],
   "source": []
  },
  {
   "cell_type": "markdown",
   "metadata": {},
   "source": [
    "### Data Cleaning\n",
    "So, we know form EDA that some data is missing in our dataset, let's deal with that first.<br>\n",
    "**`Age` column is missing ~ 19.9% of its data.**<br>\n",
    "A convenient way to fix `'Age'` column is by filling the missing data with `mean` or `average` value of all passengers in that column. **We can do even better** in this case, because we know that their are three passenger classes, **its better to use the average age for each missing passenger for its own class.** <br>\n",
    "Let's use a `boxplot()` to explore if their is any relationship in class and passenger age?"
   ]
  },
  {
   "cell_type": "markdown",
   "metadata": {},
   "source": [
    "```Python\n",
    "plt.figure(figsize=(10, 6)) # setting the figure size, its subjective\n",
    "sns.boxplot(x='pclass',y='age',data=train, palette='rainbow')\n",
    "```"
   ]
  },
  {
   "cell_type": "code",
   "execution_count": null,
   "metadata": {},
   "outputs": [],
   "source": []
  },
  {
   "cell_type": "markdown",
   "metadata": {},
   "source": [
    "Yes, `Pclass` and `Age` are somehow related, this makes sense, ***older the passenger is, higher the class he traveled in!*** <br>\n",
    "So our hypothesis to to fill the missing `Age` with respect to the passenger class is the better way to fill in missing data in `Age` column!<br>\n",
    "Before writing a function for this purpose, we may want to know the average age of the passenger for each class, **`groupby()` is usefull here!**<br><br>\n",
    "Let's find the average age of passengers in each class first, we only need `Pclass` and `Age` columns for this purpose!"
   ]
  },
  {
   "cell_type": "markdown",
   "metadata": {},
   "source": [
    "```Python\n",
    "train[['pclass','age']].groupby('pclass').mean() #describe() # try describe with groupby!\n",
    "```"
   ]
  },
  {
   "cell_type": "markdown",
   "metadata": {},
   "source": [
    "Now, we have average age for each class, let's write a custom function to fill in the missing values in `Age` columns. Super easy, we can use `if-else conditional statement` in the function!"
   ]
  },
  {
   "cell_type": "markdown",
   "metadata": {},
   "source": [
    "```Python\n",
    "#defining a function 'impute_age'\n",
    "def impute_age(age_pclass): # passing age_pclass as ['Age', 'Pclass']\n",
    "    \n",
    "    # Passing age_pclass[0] which is 'Age' to variable 'Age'\n",
    "    Age = age_pclass[0]\n",
    "    \n",
    "    # Passing age_pclass[2] which is 'Pclass' to variable 'Pclass'\n",
    "    Pclass = age_pclass[1]\n",
    "    \n",
    "    #applying condition based on the Age and filling the missing data respectively \n",
    "    if pd.isnull(Age):\n",
    "\n",
    "        if Pclass == 1:\n",
    "            return 38\n",
    "\n",
    "        elif Pclass == 2:\n",
    "            return 30\n",
    "\n",
    "        else:\n",
    "            return 25\n",
    "\n",
    "    else:\n",
    "        return Age\n",
    "    ```"
   ]
  },
  {
   "cell_type": "code",
   "execution_count": null,
   "metadata": {},
   "outputs": [],
   "source": []
  },
  {
   "cell_type": "markdown",
   "metadata": {},
   "source": [
    "Let's apply the above function to our data now. We can use `apply()` method and pass `axis = 1` for column. (recall from pandas section)"
   ]
  },
  {
   "cell_type": "markdown",
   "metadata": {},
   "source": [
    "```Python\n",
    "# grab age and apply the impute_age, our custom function \n",
    "train['age'] = train[['age','pclass']].apply(impute_age,axis=1)\n",
    "# You may want to revise 'impute_age' function and the statement above! \n",
    "```"
   ]
  },
  {
   "cell_type": "code",
   "execution_count": null,
   "metadata": {},
   "outputs": [],
   "source": []
  },
  {
   "cell_type": "markdown",
   "metadata": {},
   "source": [
    "```Python\n",
    "plt.figure(figsize = (12,8)) # just fig size\n",
    "# Let's try to re-plot the heatmap now!\n",
    "sns.heatmap(train.isnull(),yticklabels=False,cbar=False,cmap='viridis')\n",
    "```"
   ]
  },
  {
   "cell_type": "code",
   "execution_count": null,
   "metadata": {},
   "outputs": [],
   "source": []
  },
  {
   "cell_type": "markdown",
   "metadata": {},
   "source": [
    "So, we got this done, ***no more yellow color in Age*** column. This means we have filled all the missing values in `Age` column using `impute_age` function. "
   ]
  },
  {
   "cell_type": "markdown",
   "metadata": {},
   "source": [
    "Now, there is another column,**`Cabin` with ~ 77.1% of missing data.**<br>\n",
    "This is quite a lot of missing information, at the moment, we can drop this column!"
   ]
  },
  {
   "cell_type": "markdown",
   "metadata": {},
   "source": [
    "```Python\n",
    "# dropping 'Cabin' column, axis =1 for column and inplace = True for permanent change!\n",
    "train.drop('cabin',axis=1,inplace=True)\n",
    "```"
   ]
  },
  {
   "cell_type": "code",
   "execution_count": null,
   "metadata": {},
   "outputs": [],
   "source": []
  },
  {
   "cell_type": "markdown",
   "metadata": {},
   "source": [
    "Let's see how the `heatmap` looks like now!"
   ]
  },
  {
   "cell_type": "markdown",
   "metadata": {},
   "source": [
    "```Python\n",
    "plt.figure(figsize = (12,8))\n",
    "sns.heatmap(train.isnull(), yticklabels=False, cbar=False, cmap='viridis')\n",
    "```"
   ]
  },
  {
   "cell_type": "code",
   "execution_count": null,
   "metadata": {},
   "outputs": [],
   "source": []
  },
  {
   "cell_type": "markdown",
   "metadata": {},
   "source": [
    "So, we don't have `Cabin` Column in our data now, ***only yellow color is for `Embarked` column. This is only 0.2%***<br>\n",
    "\n",
    "***Let's drop any other missing value in the dataset now, this will essentially drop the rows for missing `Embarked` data. We will re-plot the `heatmap` after this operation.***"
   ]
  },
  {
   "cell_type": "markdown",
   "metadata": {},
   "source": [
    "```Python\n",
    "plt.figure(figsize = (12,8))\n",
    "train.dropna(inplace=True)\n",
    "sns.heatmap(train.isnull(), yticklabels=False, cbar=False, cmap='viridis')\n",
    "```"
   ]
  },
  {
   "cell_type": "code",
   "execution_count": null,
   "metadata": {},
   "outputs": [],
   "source": []
  }
 ],
 "metadata": {
  "kernelspec": {
   "display_name": "Python 3",
   "language": "python",
   "name": "python3"
  },
  "language_info": {
   "codemirror_mode": {
    "name": "ipython",
    "version": 3
   },
   "file_extension": ".py",
   "mimetype": "text/x-python",
   "name": "python",
   "nbconvert_exporter": "python",
   "pygments_lexer": "ipython3",
   "version": "3.7.5"
  }
 },
 "nbformat": 4,
 "nbformat_minor": 4
}
