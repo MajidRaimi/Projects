{
 "cells": [
  {
   "cell_type": "code",
   "execution_count": 12,
   "metadata": {},
   "outputs": [],
   "source": [
    "#Imports first\n",
    "import numpy as np\n",
    "import pandas as pd\n",
    "import matplotlib.pyplot as plt\n",
    "%matplotlib inline"
   ]
  },
  {
   "cell_type": "code",
   "execution_count": 3,
   "metadata": {},
   "outputs": [
    {
     "data": {
      "text/html": [
       "<div>\n",
       "<style scoped>\n",
       "    .dataframe tbody tr th:only-of-type {\n",
       "        vertical-align: middle;\n",
       "    }\n",
       "\n",
       "    .dataframe tbody tr th {\n",
       "        vertical-align: top;\n",
       "    }\n",
       "\n",
       "    .dataframe thead th {\n",
       "        text-align: right;\n",
       "    }\n",
       "</style>\n",
       "<table border=\"1\" class=\"dataframe\">\n",
       "  <thead>\n",
       "    <tr style=\"text-align: right;\">\n",
       "      <th></th>\n",
       "      <th>A</th>\n",
       "      <th>B</th>\n",
       "      <th>C</th>\n",
       "      <th>D</th>\n",
       "    </tr>\n",
       "    <tr>\n",
       "      <th>date</th>\n",
       "      <th></th>\n",
       "      <th></th>\n",
       "      <th></th>\n",
       "      <th></th>\n",
       "    </tr>\n",
       "  </thead>\n",
       "  <tbody>\n",
       "    <tr>\n",
       "      <th>2000-01-01</th>\n",
       "      <td>0.972015</td>\n",
       "      <td>-0.856349</td>\n",
       "      <td>1.094492</td>\n",
       "      <td>0.437061</td>\n",
       "    </tr>\n",
       "    <tr>\n",
       "      <th>2000-01-02</th>\n",
       "      <td>0.926552</td>\n",
       "      <td>-0.051951</td>\n",
       "      <td>-0.282242</td>\n",
       "      <td>0.515090</td>\n",
       "    </tr>\n",
       "    <tr>\n",
       "      <th>2000-01-03</th>\n",
       "      <td>1.266955</td>\n",
       "      <td>-0.439584</td>\n",
       "      <td>-0.770992</td>\n",
       "      <td>0.167784</td>\n",
       "    </tr>\n",
       "    <tr>\n",
       "      <th>2000-01-04</th>\n",
       "      <td>0.412783</td>\n",
       "      <td>0.474888</td>\n",
       "      <td>0.853868</td>\n",
       "      <td>0.924615</td>\n",
       "    </tr>\n",
       "    <tr>\n",
       "      <th>2000-01-05</th>\n",
       "      <td>-1.359869</td>\n",
       "      <td>-0.696544</td>\n",
       "      <td>0.522583</td>\n",
       "      <td>0.644952</td>\n",
       "    </tr>\n",
       "    <tr>\n",
       "      <th>...</th>\n",
       "      <td>...</td>\n",
       "      <td>...</td>\n",
       "      <td>...</td>\n",
       "      <td>...</td>\n",
       "    </tr>\n",
       "    <tr>\n",
       "      <th>2001-05-10</th>\n",
       "      <td>0.042827</td>\n",
       "      <td>-0.831186</td>\n",
       "      <td>-3.112788</td>\n",
       "      <td>0.131798</td>\n",
       "    </tr>\n",
       "    <tr>\n",
       "      <th>2001-05-11</th>\n",
       "      <td>-1.303187</td>\n",
       "      <td>-0.919191</td>\n",
       "      <td>-0.093787</td>\n",
       "      <td>0.636607</td>\n",
       "    </tr>\n",
       "    <tr>\n",
       "      <th>2001-05-12</th>\n",
       "      <td>0.807183</td>\n",
       "      <td>-0.285361</td>\n",
       "      <td>-0.939410</td>\n",
       "      <td>0.172675</td>\n",
       "    </tr>\n",
       "    <tr>\n",
       "      <th>2001-05-13</th>\n",
       "      <td>0.840268</td>\n",
       "      <td>-0.424548</td>\n",
       "      <td>1.076964</td>\n",
       "      <td>0.581239</td>\n",
       "    </tr>\n",
       "    <tr>\n",
       "      <th>2001-05-14</th>\n",
       "      <td>0.899051</td>\n",
       "      <td>-0.062677</td>\n",
       "      <td>-2.866095</td>\n",
       "      <td>0.247780</td>\n",
       "    </tr>\n",
       "  </tbody>\n",
       "</table>\n",
       "<p>500 rows × 4 columns</p>\n",
       "</div>"
      ],
      "text/plain": [
       "                   A         B         C         D\n",
       "date                                              \n",
       "2000-01-01  0.972015 -0.856349  1.094492  0.437061\n",
       "2000-01-02  0.926552 -0.051951 -0.282242  0.515090\n",
       "2000-01-03  1.266955 -0.439584 -0.770992  0.167784\n",
       "2000-01-04  0.412783  0.474888  0.853868  0.924615\n",
       "2000-01-05 -1.359869 -0.696544  0.522583  0.644952\n",
       "...              ...       ...       ...       ...\n",
       "2001-05-10  0.042827 -0.831186 -3.112788  0.131798\n",
       "2001-05-11 -1.303187 -0.919191 -0.093787  0.636607\n",
       "2001-05-12  0.807183 -0.285361 -0.939410  0.172675\n",
       "2001-05-13  0.840268 -0.424548  1.076964  0.581239\n",
       "2001-05-14  0.899051 -0.062677 -2.866095  0.247780\n",
       "\n",
       "[500 rows x 4 columns]"
      ]
     },
     "execution_count": 3,
     "metadata": {},
     "output_type": "execute_result"
    }
   ],
   "source": [
    "#reading and creating data from a given csv file\n",
    "my_data = pd.read_csv(\"data_for_pandas_viz.csv\", index_col = \"date\")\n",
    "my_data"
   ]
  },
  {
   "cell_type": "code",
   "execution_count": 6,
   "metadata": {},
   "outputs": [
    {
     "data": {
      "text/plain": [
       "array([[0.49304527, 0.79639835, 0.89240965],\n",
       "       [0.74687326, 0.7735506 , 0.37696315],\n",
       "       [0.18472058, 0.00322   , 0.40138819],\n",
       "       [0.68139918, 0.00302009, 0.1041099 ],\n",
       "       [0.30462192, 0.39261029, 0.17802217],\n",
       "       [0.98734439, 0.06206716, 0.25454388],\n",
       "       [0.85973172, 0.91812598, 0.53249624],\n",
       "       [0.30897244, 0.68613717, 0.27706223],\n",
       "       [0.35598971, 0.54525425, 0.22431661],\n",
       "       [0.77084988, 0.92850899, 0.14894214],\n",
       "       [0.01500971, 0.5501931 , 0.02431516],\n",
       "       [0.65930054, 0.33825937, 0.14775713],\n",
       "       [0.23937822, 0.04382503, 0.34194083],\n",
       "       [0.78167696, 0.12107119, 0.35873835],\n",
       "       [0.82882873, 0.0171488 , 0.67572666],\n",
       "       [0.08032084, 0.01270293, 0.09636704],\n",
       "       [0.76719083, 0.39933681, 0.02952288],\n",
       "       [0.34694007, 0.08305657, 0.87094043],\n",
       "       [0.53531886, 0.48028219, 0.42588636],\n",
       "       [0.53262127, 0.59582965, 0.10275129]])"
      ]
     },
     "execution_count": 6,
     "metadata": {},
     "output_type": "execute_result"
    }
   ],
   "source": [
    "#create a random dataframe\n",
    "data2 = np.random.rand(20,3)\n",
    "data2"
   ]
  },
  {
   "cell_type": "code",
   "execution_count": 8,
   "metadata": {},
   "outputs": [
    {
     "data": {
      "text/html": [
       "<div>\n",
       "<style scoped>\n",
       "    .dataframe tbody tr th:only-of-type {\n",
       "        vertical-align: middle;\n",
       "    }\n",
       "\n",
       "    .dataframe tbody tr th {\n",
       "        vertical-align: top;\n",
       "    }\n",
       "\n",
       "    .dataframe thead th {\n",
       "        text-align: right;\n",
       "    }\n",
       "</style>\n",
       "<table border=\"1\" class=\"dataframe\">\n",
       "  <thead>\n",
       "    <tr style=\"text-align: right;\">\n",
       "      <th></th>\n",
       "      <th>x</th>\n",
       "      <th>y</th>\n",
       "      <th>z</th>\n",
       "    </tr>\n",
       "  </thead>\n",
       "  <tbody>\n",
       "    <tr>\n",
       "      <th>0</th>\n",
       "      <td>0.493045</td>\n",
       "      <td>0.796398</td>\n",
       "      <td>0.892410</td>\n",
       "    </tr>\n",
       "    <tr>\n",
       "      <th>1</th>\n",
       "      <td>0.746873</td>\n",
       "      <td>0.773551</td>\n",
       "      <td>0.376963</td>\n",
       "    </tr>\n",
       "    <tr>\n",
       "      <th>2</th>\n",
       "      <td>0.184721</td>\n",
       "      <td>0.003220</td>\n",
       "      <td>0.401388</td>\n",
       "    </tr>\n",
       "    <tr>\n",
       "      <th>3</th>\n",
       "      <td>0.681399</td>\n",
       "      <td>0.003020</td>\n",
       "      <td>0.104110</td>\n",
       "    </tr>\n",
       "    <tr>\n",
       "      <th>4</th>\n",
       "      <td>0.304622</td>\n",
       "      <td>0.392610</td>\n",
       "      <td>0.178022</td>\n",
       "    </tr>\n",
       "    <tr>\n",
       "      <th>5</th>\n",
       "      <td>0.987344</td>\n",
       "      <td>0.062067</td>\n",
       "      <td>0.254544</td>\n",
       "    </tr>\n",
       "    <tr>\n",
       "      <th>6</th>\n",
       "      <td>0.859732</td>\n",
       "      <td>0.918126</td>\n",
       "      <td>0.532496</td>\n",
       "    </tr>\n",
       "    <tr>\n",
       "      <th>7</th>\n",
       "      <td>0.308972</td>\n",
       "      <td>0.686137</td>\n",
       "      <td>0.277062</td>\n",
       "    </tr>\n",
       "    <tr>\n",
       "      <th>8</th>\n",
       "      <td>0.355990</td>\n",
       "      <td>0.545254</td>\n",
       "      <td>0.224317</td>\n",
       "    </tr>\n",
       "    <tr>\n",
       "      <th>9</th>\n",
       "      <td>0.770850</td>\n",
       "      <td>0.928509</td>\n",
       "      <td>0.148942</td>\n",
       "    </tr>\n",
       "    <tr>\n",
       "      <th>10</th>\n",
       "      <td>0.015010</td>\n",
       "      <td>0.550193</td>\n",
       "      <td>0.024315</td>\n",
       "    </tr>\n",
       "    <tr>\n",
       "      <th>11</th>\n",
       "      <td>0.659301</td>\n",
       "      <td>0.338259</td>\n",
       "      <td>0.147757</td>\n",
       "    </tr>\n",
       "    <tr>\n",
       "      <th>12</th>\n",
       "      <td>0.239378</td>\n",
       "      <td>0.043825</td>\n",
       "      <td>0.341941</td>\n",
       "    </tr>\n",
       "    <tr>\n",
       "      <th>13</th>\n",
       "      <td>0.781677</td>\n",
       "      <td>0.121071</td>\n",
       "      <td>0.358738</td>\n",
       "    </tr>\n",
       "    <tr>\n",
       "      <th>14</th>\n",
       "      <td>0.828829</td>\n",
       "      <td>0.017149</td>\n",
       "      <td>0.675727</td>\n",
       "    </tr>\n",
       "    <tr>\n",
       "      <th>15</th>\n",
       "      <td>0.080321</td>\n",
       "      <td>0.012703</td>\n",
       "      <td>0.096367</td>\n",
       "    </tr>\n",
       "    <tr>\n",
       "      <th>16</th>\n",
       "      <td>0.767191</td>\n",
       "      <td>0.399337</td>\n",
       "      <td>0.029523</td>\n",
       "    </tr>\n",
       "    <tr>\n",
       "      <th>17</th>\n",
       "      <td>0.346940</td>\n",
       "      <td>0.083057</td>\n",
       "      <td>0.870940</td>\n",
       "    </tr>\n",
       "    <tr>\n",
       "      <th>18</th>\n",
       "      <td>0.535319</td>\n",
       "      <td>0.480282</td>\n",
       "      <td>0.425886</td>\n",
       "    </tr>\n",
       "    <tr>\n",
       "      <th>19</th>\n",
       "      <td>0.532621</td>\n",
       "      <td>0.595830</td>\n",
       "      <td>0.102751</td>\n",
       "    </tr>\n",
       "  </tbody>\n",
       "</table>\n",
       "</div>"
      ],
      "text/plain": [
       "           x         y         z\n",
       "0   0.493045  0.796398  0.892410\n",
       "1   0.746873  0.773551  0.376963\n",
       "2   0.184721  0.003220  0.401388\n",
       "3   0.681399  0.003020  0.104110\n",
       "4   0.304622  0.392610  0.178022\n",
       "5   0.987344  0.062067  0.254544\n",
       "6   0.859732  0.918126  0.532496\n",
       "7   0.308972  0.686137  0.277062\n",
       "8   0.355990  0.545254  0.224317\n",
       "9   0.770850  0.928509  0.148942\n",
       "10  0.015010  0.550193  0.024315\n",
       "11  0.659301  0.338259  0.147757\n",
       "12  0.239378  0.043825  0.341941\n",
       "13  0.781677  0.121071  0.358738\n",
       "14  0.828829  0.017149  0.675727\n",
       "15  0.080321  0.012703  0.096367\n",
       "16  0.767191  0.399337  0.029523\n",
       "17  0.346940  0.083057  0.870940\n",
       "18  0.535319  0.480282  0.425886\n",
       "19  0.532621  0.595830  0.102751"
      ]
     },
     "execution_count": 8,
     "metadata": {},
     "output_type": "execute_result"
    }
   ],
   "source": [
    "#Making my dataframe columns, then making my dataframe\n",
    "col = [\"x\", \"y\", \"z\"]\n",
    "my_data2 = pd.DataFrame(data = data2, columns = col)\n",
    "my_data2"
   ]
  },
  {
   "cell_type": "code",
   "execution_count": 10,
   "metadata": {},
   "outputs": [
    {
     "data": {
      "text/plain": [
       "<matplotlib.axes._subplots.AxesSubplot at 0x1d983883248>"
      ]
     },
     "execution_count": 10,
     "metadata": {},
     "output_type": "execute_result"
    },
    {
     "data": {
      "image/png": "[encoded data removed]",
      "text/plain": [
       "<Figure size 432x288 with 1 Axes>"
      ]
     },
     "metadata": {
      "needs_background": "light"
     },
     "output_type": "display_data"
    }
   ],
   "source": [
    "#Let us plot the data onto a histogram to see what we get!\n",
    "my_data[\"A\"].hist(bins = 30)"
   ]
  },
  {
   "cell_type": "code",
   "execution_count": 16,
   "metadata": {},
   "outputs": [
    {
     "data": {
      "text/plain": [
       "<matplotlib.axes._subplots.AxesSubplot at 0x1d983cb2648>"
      ]
     },
     "execution_count": 16,
     "metadata": {},
     "output_type": "execute_result"
    },
    {
     "data": {
      "image/png": "[encoded data removed]",
      "text/plain": [
       "<Figure size 432x288 with 1 Axes>"
      ]
     },
     "metadata": {
      "needs_background": "light"
     },
     "output_type": "display_data"
    }
   ],
   "source": [
    "my_data.plot.kde(x = \"B\", y = \"A\")"
   ]
  },
  {
   "cell_type": "code",
   "execution_count": null,
   "metadata": {},
   "outputs": [],
   "source": []
  }
 ],
 "metadata": {
  "kernelspec": {
   "display_name": "Python 3",
   "language": "python",
   "name": "python3"
  },
  "language_info": {
   "codemirror_mode": {
    "name": "ipython",
    "version": 3
   },
   "file_extension": ".py",
   "mimetype": "text/x-python",
   "name": "python",
   "nbconvert_exporter": "python",
   "pygments_lexer": "ipython3",
   "version": "3.7.5"
  }
 },
 "nbformat": 4,
 "nbformat_minor": 2
}
