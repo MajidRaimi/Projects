{
 "cells": [
  {
   "cell_type": "markdown",
   "metadata": {},
   "source": [
    "# Python Programming\n",
    "_Author and Instructor: Dr. Junaid Qazi, PhD_"
   ]
  },
  {
   "cell_type": "markdown",
   "metadata": {},
   "source": [
    "# Lab_HW: "
   ]
  },
  {
   "cell_type": "markdown",
   "metadata": {},
   "source": [
    "## Exercises\n",
    "\n",
    "Complete the tasks given below or answer the questions. If given, please follow the instructions."
   ]
  },
  {
   "cell_type": "markdown",
   "metadata": {},
   "source": [
    "**COMPLETE 1. What is 5 to the power of 3?**"
   ]
  },
  {
   "cell_type": "code",
   "execution_count": 1,
   "metadata": {},
   "outputs": [
    {
     "data": {
      "text/plain": [
       "125"
      ]
     },
     "execution_count": 1,
     "metadata": {},
     "output_type": "execute_result"
    }
   ],
   "source": [
    "# To avoid overwriting the output, please code here \n",
    "5 ** 3"
   ]
  },
  {
   "cell_type": "code",
   "execution_count": 2,
   "metadata": {},
   "outputs": [
    {
     "data": {
      "text/plain": [
       "125"
      ]
     },
     "execution_count": 2,
     "metadata": {},
     "output_type": "execute_result"
    }
   ],
   "source": []
  },
  {
   "cell_type": "markdown",
   "metadata": {},
   "source": [
    "**COMPLETE 2. what is the remainder if 9 is divided by 2.** Is 9 even?"
   ]
  },
  {
   "cell_type": "code",
   "execution_count": 4,
   "metadata": {},
   "outputs": [
    {
     "name": "stdout",
     "output_type": "stream",
     "text": [
      "Number is odd, with remainder: 1\n"
     ]
    }
   ],
   "source": [
    "# To avoid overwriting the output, please code here \n",
    "if (9 % 2) == 1:\n",
    "    print(\"Number is odd, with remainder: \" + str(9 % 2))\n",
    "else:\n",
    "    print(\"Number is even\")"
   ]
  },
  {
   "cell_type": "code",
   "execution_count": 4,
   "metadata": {},
   "outputs": [
    {
     "data": {
      "text/plain": [
       "1"
      ]
     },
     "execution_count": 4,
     "metadata": {},
     "output_type": "execute_result"
    }
   ],
   "source": []
  },
  {
   "cell_type": "markdown",
   "metadata": {},
   "source": [
    "**COMPLETE 3. Convert the string** `s = 'i am in Alberta'` **into upper case and into a list.**"
   ]
  },
  {
   "cell_type": "code",
   "execution_count": 6,
   "metadata": {},
   "outputs": [],
   "source": [
    "s = 'i am in Alberta'"
   ]
  },
  {
   "cell_type": "code",
   "execution_count": 13,
   "metadata": {},
   "outputs": [
    {
     "name": "stdout",
     "output_type": "stream",
     "text": [
      "I AM IN ALBERTA\n",
      "['I', 'AM', 'IN', 'ALBERTA']\n"
     ]
    }
   ],
   "source": [
    "# To avoid overwriting the output, please code here \n",
    "s = s.upper()\n",
    "s_list = s.split(\" \")\n",
    "print(s)\n",
    "print(s_list)"
   ]
  },
  {
   "cell_type": "code",
   "execution_count": 7,
   "metadata": {},
   "outputs": [
    {
     "data": {
      "text/plain": [
       "['I', 'AM', 'IN', 'ALBERTA']"
      ]
     },
     "execution_count": 7,
     "metadata": {},
     "output_type": "execute_result"
    }
   ],
   "source": []
  },
  {
   "cell_type": "markdown",
   "metadata": {},
   "source": [
    "**COMPLETE 4. Convert the string** `s = 'My name is #Qazi!'` **into lower case and split at # into a list.**"
   ]
  },
  {
   "cell_type": "code",
   "execution_count": 14,
   "metadata": {},
   "outputs": [],
   "source": [
    "s = \"My name is #Qazi!\""
   ]
  },
  {
   "cell_type": "code",
   "execution_count": 15,
   "metadata": {},
   "outputs": [
    {
     "name": "stdout",
     "output_type": "stream",
     "text": [
      "my name is #qazi!\n",
      "['my name is ', 'qazi!']\n"
     ]
    }
   ],
   "source": [
    "# To avoid overwriting the output, please code here \n",
    "s = s.lower()\n",
    "s_list = s.split(\"#\")\n",
    "print(s)\n",
    "print(s_list)"
   ]
  },
  {
   "cell_type": "code",
   "execution_count": 10,
   "metadata": {},
   "outputs": [
    {
     "data": {
      "text/plain": [
       "['my name is ', 'qazi!']"
      ]
     },
     "execution_count": 10,
     "metadata": {},
     "output_type": "execute_result"
    }
   ],
   "source": []
  },
  {
   "cell_type": "markdown",
   "metadata": {},
   "source": [
    "**COMPLETE 5. We have**\n",
    "\n",
    "    province = \"Alberta\"\n",
    "    population = 4.1\n",
    "\n",
    "**print the following using `format()`**\n",
    "\n",
    "    The total population of Alberta is 4.1 million."
   ]
  },
  {
   "cell_type": "markdown",
   "metadata": {},
   "source": [
    "Steps:<br>\n",
    "Create place holders inside the string in the print statement.<br>\n",
    "pass in the initialized variables to the format to fill the place holders<br>"
   ]
  },
  {
   "cell_type": "code",
   "execution_count": 16,
   "metadata": {},
   "outputs": [],
   "source": [
    "province = \"Alberta\"\n",
    "population = 4.1"
   ]
  },
  {
   "cell_type": "code",
   "execution_count": 19,
   "metadata": {},
   "outputs": [
    {
     "name": "stdout",
     "output_type": "stream",
     "text": [
      "The total population of Alberta is 4.1 million\n"
     ]
    }
   ],
   "source": [
    "# To avoid overwriting the output, please code here \n",
    "print(\"The total population of \" + province + \" is \" + str(population) + \" million\")"
   ]
  },
  {
   "cell_type": "code",
   "execution_count": 13,
   "metadata": {},
   "outputs": [
    {
     "name": "stdout",
     "output_type": "stream",
     "text": [
      "The total population of Alberta is 4.1 million.\n",
      "The total population of Alberta is 4.1 million.\n"
     ]
    }
   ],
   "source": []
  },
  {
   "cell_type": "markdown",
   "metadata": {},
   "source": [
    "**COMPLETE 6. Can you grab \"Canada\" from the nested list? Use indexing.**"
   ]
  },
  {
   "cell_type": "code",
   "execution_count": 23,
   "metadata": {},
   "outputs": [],
   "source": [
    "a = ['Alberta',2,[3,4],[5,['Canada',7,['hello']],10,15],1,7]"
   ]
  },
  {
   "cell_type": "code",
   "execution_count": 30,
   "metadata": {},
   "outputs": [
    {
     "name": "stdout",
     "output_type": "stream",
     "text": [
      "Canada\n"
     ]
    }
   ],
   "source": [
    "# To avoid overwriting the output, please code here \n",
    "print(a[3][1][0])"
   ]
  },
  {
   "cell_type": "code",
   "execution_count": 29,
   "metadata": {},
   "outputs": [
    {
     "name": "stdout",
     "output_type": "stream",
     "text": [
      "Canada\n"
     ]
    }
   ],
   "source": []
  },
  {
   "cell_type": "markdown",
   "metadata": {},
   "source": [
    "**COMPLETE 7. List name of provinces (keys) from the dictionary below.**"
   ]
  },
  {
   "cell_type": "code",
   "execution_count": 3,
   "metadata": {},
   "outputs": [],
   "source": [
    "d = {'BC':'Victoria','AB':'Edmonton', 'ON':'Toronto', 'QC':'Quebec City'}"
   ]
  },
  {
   "cell_type": "code",
   "execution_count": 4,
   "metadata": {},
   "outputs": [
    {
     "name": "stdout",
     "output_type": "stream",
     "text": [
      "['BC', 'AB', 'ON', 'QC']\n"
     ]
    }
   ],
   "source": [
    "# To avoid overwriting the output, please code here \n",
    "print(list(d.keys()))"
   ]
  },
  {
   "cell_type": "code",
   "execution_count": 19,
   "metadata": {},
   "outputs": [
    {
     "data": {
      "text/plain": [
       "['BC', 'AB', 'ON', 'QC']"
      ]
     },
     "execution_count": 19,
     "metadata": {},
     "output_type": "execute_result"
    }
   ],
   "source": []
  },
  {
   "cell_type": "markdown",
   "metadata": {},
   "source": [
    "**COMPLETE 8. From the nested dictionary, grab the word \"Montreal\". Little tricky!**"
   ]
  },
  {
   "cell_type": "code",
   "execution_count": 5,
   "metadata": {},
   "outputs": [],
   "source": [
    "d = {'k1':'AB','k2':[1,{'BC':['SK','ON','Vancouver',{'Calgary':[1,2,3,'Montreal']}]}]}"
   ]
  },
  {
   "cell_type": "code",
   "execution_count": 6,
   "metadata": {},
   "outputs": [
    {
     "name": "stdout",
     "output_type": "stream",
     "text": [
      "Montreal\n"
     ]
    }
   ],
   "source": [
    "# To avoid overwriting the output, please code here \n",
    "print(d['k2'][1][\"BC\"][3][\"Calgary\"][3])"
   ]
  },
  {
   "cell_type": "code",
   "execution_count": 22,
   "metadata": {},
   "outputs": [
    {
     "data": {
      "text/plain": [
       "'Montreal'"
      ]
     },
     "execution_count": 22,
     "metadata": {},
     "output_type": "execute_result"
    }
   ],
   "source": []
  },
  {
   "cell_type": "markdown",
   "metadata": {},
   "source": [
    "**COMPLETE 9. What is the main difference between a tuple and a list?**"
   ]
  },
  {
   "cell_type": "code",
   "execution_count": 23,
   "metadata": {
    "collapsed": true
   },
   "outputs": [],
   "source": [
    "# A tuple is completely immutable while a list can be mutated and changed throughout the code"
   ]
  },
  {
   "cell_type": "markdown",
   "metadata": {},
   "source": [
    "**COMPLETE 10. An element can appear multiple times in a set ? True / False**"
   ]
  },
  {
   "cell_type": "code",
   "execution_count": 24,
   "metadata": {
    "collapsed": true
   },
   "outputs": [],
   "source": [
    "# False"
   ]
  },
  {
   "cell_type": "markdown",
   "metadata": {},
   "source": [
    "**COMPLETE 11. You got email addresses, write a function to split the website domain**\n",
    "\n",
    "    user_name@some_domain.ca    \n",
    "    \n",
    "**passing email and the function should return `some_domain.com`**"
   ]
  },
  {
   "cell_type": "code",
   "execution_count": 4,
   "metadata": {},
   "outputs": [
    {
     "data": {
      "text/plain": [
       "'some_domain.ca'"
      ]
     },
     "execution_count": 4,
     "metadata": {},
     "output_type": "execute_result"
    }
   ],
   "source": [
    "# To avoid overwriting the output, please code here \n",
    "def Get_domain(domain):\n",
    "    new_domain = domain.split(\"@\")\n",
    "    return new_domain[1]\n",
    "Get_domain(\"user_name@some_domain.ca\")"
   ]
  },
  {
   "cell_type": "code",
   "execution_count": 26,
   "metadata": {
    "collapsed": true
   },
   "outputs": [],
   "source": []
  },
  {
   "cell_type": "code",
   "execution_count": 27,
   "metadata": {},
   "outputs": [
    {
     "data": {
      "text/plain": [
       "'some_domain.ca'"
      ]
     },
     "execution_count": 27,
     "metadata": {},
     "output_type": "execute_result"
    }
   ],
   "source": [
    "Get_domain('user_name@some_domain.ca')"
   ]
  },
  {
   "cell_type": "markdown",
   "metadata": {},
   "source": [
    "**COMPLETE 12. Can you write a function that tells you if there is a word `Calgary` in the provided string?<br> How to deal if the word `city` is capitalized?**"
   ]
  },
  {
   "cell_type": "markdown",
   "metadata": {},
   "source": [
    "Create a function<br>\n",
    "Pass the string 's' to the function<br>\n",
    "in order to account for the capitalization, we will use .lower and split at white space"
   ]
  },
  {
   "cell_type": "code",
   "execution_count": 8,
   "metadata": {},
   "outputs": [
    {
     "name": "stdout",
     "output_type": "stream",
     "text": [
      "True\n"
     ]
    }
   ],
   "source": [
    "# To avoid overwriting the output, please code here \n",
    "def find_city(statement):\n",
    "    statement = statement.lower()\n",
    "    statement_list = statement.split(\" \")\n",
    "    if \"calgary\" in statement_list:\n",
    "        print(\"True\")\n",
    "    else:\n",
    "        print(\"False\")\n",
    "        \n",
    "find_city(\"bluemieres ia calgary s a city in alberta\")"
   ]
  },
  {
   "cell_type": "code",
   "execution_count": 29,
   "metadata": {
    "collapsed": true
   },
   "outputs": [],
   "source": []
  },
  {
   "cell_type": "code",
   "execution_count": 30,
   "metadata": {},
   "outputs": [
    {
     "data": {
      "text/plain": [
       "True"
      ]
     },
     "execution_count": 30,
     "metadata": {},
     "output_type": "execute_result"
    }
   ],
   "source": [
    "find_city('Calgary is a city in Alberta')"
   ]
  },
  {
   "cell_type": "markdown",
   "metadata": {},
   "source": [
    "**COMPLETE 13. Write a function to return square of numbers from 1 to 5, use `range()` method**"
   ]
  },
  {
   "cell_type": "code",
   "execution_count": 42,
   "metadata": {},
   "outputs": [],
   "source": [
    "# To avoid overwriting the output, please code here \n",
    "def square(number):\n",
    "    print([x**2 for x in number])"
   ]
  },
  {
   "cell_type": "code",
   "execution_count": 40,
   "metadata": {},
   "outputs": [
    {
     "name": "stdout",
     "output_type": "stream",
     "text": [
      "[1, 4, 9, 16, 25]\n"
     ]
    }
   ],
   "source": [
    "square(range(1,6))"
   ]
  },
  {
   "cell_type": "code",
   "execution_count": 33,
   "metadata": {},
   "outputs": [
    {
     "data": {
      "text/plain": [
       "[1, 4, 9, 16, 25]"
      ]
     },
     "execution_count": 33,
     "metadata": {},
     "output_type": "execute_result"
    }
   ],
   "source": [
    "square(range(1,6))"
   ]
  },
  {
   "cell_type": "markdown",
   "metadata": {},
   "source": [
    "**COMPLETE 14. Write lambda expression for the function above, use `map()` and `range()`**"
   ]
  },
  {
   "cell_type": "code",
   "execution_count": 3,
   "metadata": {},
   "outputs": [
    {
     "data": {
      "text/plain": [
       "[1, 4, 9, 16, 25]"
      ]
     },
     "execution_count": 3,
     "metadata": {},
     "output_type": "execute_result"
    }
   ],
   "source": [
    "# To avoid overwriting the output, please code here \n",
    "list(map(lambda number : number**2, range(1,6)))\n"
   ]
  },
  {
   "cell_type": "code",
   "execution_count": 35,
   "metadata": {},
   "outputs": [
    {
     "data": {
      "text/plain": [
       "[1, 4, 9, 16, 25]"
      ]
     },
     "execution_count": 35,
     "metadata": {},
     "output_type": "execute_result"
    }
   ],
   "source": []
  },
  {
   "cell_type": "markdown",
   "metadata": {},
   "source": [
    "**COMPLETE 15. filter the words from a list that start with 'c'. Use lambda expression and `filter()`.**\n",
    "\n",
    "    veg_list = ['tomato','cabbage','meat','chicken','goat']\n",
    "\n",
    "**Out put should be**\n",
    "\n",
    "    ['cabbage','chicken']"
   ]
  },
  {
   "cell_type": "code",
   "execution_count": 4,
   "metadata": {},
   "outputs": [],
   "source": [
    "veg_list = ['tomato','cabbage','meat','chicken','goat']"
   ]
  },
  {
   "cell_type": "code",
   "execution_count": 6,
   "metadata": {},
   "outputs": [
    {
     "data": {
      "text/plain": [
       "['cabbage', 'chicken']"
      ]
     },
     "execution_count": 6,
     "metadata": {},
     "output_type": "execute_result"
    }
   ],
   "source": [
    "# To avoid overwriting the output, please code here \n",
    "list(filter(lambda word : \"c\" in word, veg_list))"
   ]
  },
  {
   "cell_type": "code",
   "execution_count": 38,
   "metadata": {},
   "outputs": [
    {
     "data": {
      "text/plain": [
       "['cabbage', 'chicken']"
      ]
     },
     "execution_count": 38,
     "metadata": {},
     "output_type": "execute_result"
    }
   ],
   "source": []
  },
  {
   "cell_type": "markdown",
   "metadata": {},
   "source": [
    "**COMPLETE 16. You are a loyal customer and the store to offering discounts to their loyal customers:**\n",
    "* ***between `0 & 50 CAD`, you get `10 %` discounts,***<br>\n",
    "* ***between `51 & 100 CAD`, you get `20 %` discounts,***<br>\n",
    "* ***more than `100 CAD`, you get `40 %` discounts,*** <br>\n",
    "* ***Its Monday, and you are spending more than `50 CAD`, you get a cherry on top! `10 CAD` OFF***<br>\n",
    "\n",
    "**write a function to calculate how much the customer will pay for any spending.**<br>\n",
    "**Tricky? <br>You need to develop the logic! <br>Take a pen and a notebook and do the calculations if needed!<br>\n",
    "test the function for `[51,50,100,101]` using for loop with you function**\n",
    "### Good Luck"
   ]
  },
  {
   "cell_type": "code",
   "execution_count": 39,
   "metadata": {
    "collapsed": true
   },
   "outputs": [],
   "source": [
    "# To avoid overwriting the output, please code here \n",
    "# Write your function here."
   ]
  },
  {
   "cell_type": "markdown",
   "metadata": {
    "collapsed": true
   },
   "source": [
    "```Python\n",
    "# Stater code\n",
    "def you_pay(spending, is_monday):    \n",
    "    if .........\n",
    "        return .........\n",
    "    elif ...........\n",
    "        new_spending = spending - 5\n",
    "    else.......... \n",
    "    ```"
   ]
  },
  {
   "cell_type": "code",
   "execution_count": 1,
   "metadata": {},
   "outputs": [],
   "source": [
    "# To avoid overwriting the output, please code here \n",
    "# Call function using for loop if not Monday\n",
    "# Stater code\n",
    "def you_pay(spending, is_monday):    \n",
    "    if is_monday == False:\n",
    "        if (spending <= 50):\n",
    "            return (spending * 0.9)\n",
    "        elif (spending >= 51 and spending <= 100):\n",
    "            return (spending * 0.8)\n",
    "        elif (spending >= 100):\n",
    "            return (spending * 0.6)\n",
    "    else:\n",
    "        if spending > 50:\n",
    "            \n",
    "            if (spending >= 51 and spending <= 100):\n",
    "                return ((spending * 0.8) - 10)\n",
    "            elif (spending >= 100):\n",
    "                return ((spending * 0.6) - 10)\n",
    "        else:\n",
    "            if spending <= 50:\n",
    "                return (spending * 0.9)\n",
    "        "
   ]
  },
  {
   "cell_type": "markdown",
   "metadata": {},
   "source": [
    "```Python\n",
    "# stater code for the output below \n",
    "test = [50, 51, 100, 101]\n",
    "for ........\n",
    "    print(\"For\",num,\"CAD, you pay\", you_pay(num,False),\"if not Monday\")\n",
    "    ```"
   ]
  },
  {
   "cell_type": "code",
   "execution_count": 3,
   "metadata": {},
   "outputs": [
    {
     "name": "stdout",
     "output_type": "stream",
     "text": [
      "For 50 CAD, you pay 45.0 if not Monday\n",
      "For 51 CAD, you pay 40.8 if not Monday\n",
      "For 100 CAD, you pay 80.0 if not Monday\n",
      "For 101 CAD, you pay 60.6 if not Monday\n"
     ]
    }
   ],
   "source": [
    "# stater code for the output below \n",
    "test = [50, 51, 100, 101]\n",
    "for num in test:\n",
    "    print(\"For\",num,\"CAD, you pay\", round(you_pay(num,False), 2),\"if not Monday\")"
   ]
  },
  {
   "cell_type": "code",
   "execution_count": 42,
   "metadata": {
    "scrolled": false
   },
   "outputs": [
    {
     "name": "stdout",
     "output_type": "stream",
     "text": [
      "For 50 CAD, you pay 45.0 if not Monday\n",
      "For 51 CAD, you pay 40.8 if not Monday\n",
      "For 100 CAD, you pay 80.0 if not Monday\n",
      "For 101 CAD, you pay 60.6 if not Monday\n"
     ]
    }
   ],
   "source": [
    "# NO CODE HERE PLEASE, if you run this cell, you will lose the output"
   ]
  },
  {
   "cell_type": "markdown",
   "metadata": {},
   "source": [
    "```Python\n",
    "# stater code for the output below\n",
    "test = [50, 51, 100, 101]\n",
    "for......\n",
    "```"
   ]
  },
  {
   "cell_type": "code",
   "execution_count": 11,
   "metadata": {},
   "outputs": [
    {
     "name": "stdout",
     "output_type": "stream",
     "text": [
      "For 50 CAD, you pay 45.0 On Monday\n",
      "For 51 CAD, you pay 30.8 On Monday\n",
      "For 100 CAD, you pay 70.0 On Monday\n",
      "For 101 CAD, you pay 50.6 On Monday\n"
     ]
    }
   ],
   "source": [
    "# To avoid overwriting the output, please code here \n",
    "# Call function using for loop if its Monday today\n",
    "# stater code for the output below\n",
    "test = [50, 51, 100, 101]\n",
    "for num in test:\n",
    "    print(\"For\",num,\"CAD, you pay\",round(you_pay(num,True),2),\"On Monday\")"
   ]
  },
  {
   "cell_type": "code",
   "execution_count": 44,
   "metadata": {
    "scrolled": true
   },
   "outputs": [
    {
     "name": "stdout",
     "output_type": "stream",
     "text": [
      "For 50 CAD, you pay  45.0 on Monday\n",
      "For 51 CAD, you pay  36.8 on Monday\n",
      "For 100 CAD, you pay  76.0 on Monday\n",
      "For 101 CAD, you pay  57.6 on Monday\n"
     ]
    }
   ],
   "source": [
    "# NO CODE HERE PLEASE, You will lose the output!"
   ]
  },
  {
   "cell_type": "markdown",
   "metadata": {},
   "source": [
    "<br>"
   ]
  },
  {
   "cell_type": "markdown",
   "metadata": {},
   "source": [
    "# Great job!"
   ]
  }
 ],
 "metadata": {
  "kernelspec": {
   "display_name": "Python 3",
   "language": "python",
   "name": "python3"
  },
  "language_info": {
   "codemirror_mode": {
    "name": "ipython",
    "version": 3
   },
   "file_extension": ".py",
   "mimetype": "text/x-python",
   "name": "python",
   "nbconvert_exporter": "python",
   "pygments_lexer": "ipython3",
   "version": "3.7.5"
  }
 },
 "nbformat": 4,
 "nbformat_minor": 1
}
