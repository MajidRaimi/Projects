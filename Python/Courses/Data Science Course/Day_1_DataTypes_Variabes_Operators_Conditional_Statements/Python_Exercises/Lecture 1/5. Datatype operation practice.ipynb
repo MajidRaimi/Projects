{
 "cells": [
  {
   "cell_type": "code",
   "execution_count": 1,
   "metadata": {},
   "outputs": [
    {
     "name": "stdout",
     "output_type": "stream",
     "text": [
      "After Adding pizza and eggs: \n",
      "['chicken', 'rice', 'meat', 'meat', 'chocolate', 'pizza', 'eggs']\n",
      "After removing pizza: \n",
      "['chicken', 'rice', 'meat', 'meat', 'chocolate', 'eggs']\n",
      "After reassigning index 1 to be popcorn: \n",
      "['chicken', 'popcorn', 'meat', 'meat', 'chocolate', 'eggs']\n",
      "Removing index 2 and assigning it to 0: \n",
      "['meat', 'chicken', 'popcorn', 'meat', 'chocolate', 'eggs']\n",
      "And after all those operations, index 0 becomes: \n",
      "meat\n"
     ]
    }
   ],
   "source": [
    "#list operations\n",
    "favorite_food_list = [\"chicken\", \"rice\", \"meat\", \"meat\", \"chocolate\"]\n",
    "\n",
    "#adding eggs and pizza\n",
    "favorite_food_list.append(\"pizza\")\n",
    "favorite_food_list.append(\"eggs\")\n",
    "print(\"After Adding pizza and eggs: \"), print(favorite_food_list)\n",
    "\n",
    "#removing pizza\n",
    "favorite_food_list.remove(\"pizza\")\n",
    "print(\"After removing pizza: \"), print(favorite_food_list)\n",
    "\n",
    "#replacing index 1 with popcorn\n",
    "favorite_food_list.pop(1)\n",
    "favorite_food_list.insert(1,\"popcorn\")\n",
    "print(\"After reassigning index 1 to be popcorn: \"), print(favorite_food_list)\n",
    "\n",
    "#taking index 2 and putting it at 0\n",
    "deleted = favorite_food_list.pop(2)\n",
    "favorite_food_list.insert(0,deleted)\n",
    "print(\"Removing index 2 and assigning it to 0: \")\n",
    "print(favorite_food_list)\n",
    "\n",
    "#printing index 0\n",
    "print(\"And after all those operations, index 0 becomes: \\n\" + favorite_food_list[0])\n"
   ]
  },
  {
   "cell_type": "code",
   "execution_count": 2,
   "metadata": {},
   "outputs": [
    {
     "name": "stdout",
     "output_type": "stream",
     "text": [
      "Original set: \n",
      "{'meat', 'indomi', 'chicken', 'noodles'}\n",
      "Set from list: \n",
      "{'eggs', 'chicken', 'popcorn', 'chocolate', 'meat'}\n",
      "After Adding pizza and eggs: \n",
      "{'eggs', 'pizza', 'chicken', 'popcorn', 'chocolate', 'meat'}\n",
      "After removing pizza: \n",
      "{'eggs', 'chicken', 'popcorn', 'chocolate', 'meat'}\n"
     ]
    }
   ],
   "source": [
    "#Set operations\n",
    "favorite_food_set_1 = {\"noodles\", \"indomi\", \"chicken\", \"chicken\", \"meat\"}\n",
    "favorite_food_set = set(favorite_food_list)\n",
    "print(\"Original set: \"), print(favorite_food_set_1)\n",
    "print(\"Set from list: \"), print(favorite_food_set)\n",
    "#Adding eggs and pizza\n",
    "favorite_food_set.add(\"pizza\")\n",
    "favorite_food_set.add(\"eggs\")\n",
    "print(\"After Adding pizza and eggs: \"), print(favorite_food_set)\n",
    "\n",
    "#removing pizza\n",
    "favorite_food_set.remove(\"pizza\")\n",
    "print(\"After removing pizza: \") \n",
    "print(favorite_food_set)\n"
   ]
  },
  {
   "cell_type": "code",
   "execution_count": 3,
   "metadata": {},
   "outputs": [
    {
     "name": "stdout",
     "output_type": "stream",
     "text": [
      "This is a tuple, and it is immutable by code\n",
      "('meat', 'chicken', 'popcorn', 'meat', 'chocolate', 'eggs')\n"
     ]
    }
   ],
   "source": [
    "#Tuple operations\n",
    "favorite_food_tuple = tuple(favorite_food_list)\n",
    "print(\"This is a tuple, and it is immutable by code\")\n",
    "print(favorite_food_tuple)"
   ]
  },
  {
   "cell_type": "code",
   "execution_count": null,
   "metadata": {},
   "outputs": [],
   "source": []
  }
 ],
 "metadata": {
  "kernelspec": {
   "display_name": "Python 3",
   "language": "python",
   "name": "python3"
  },
  "language_info": {
   "codemirror_mode": {
    "name": "ipython",
    "version": 3
   },
   "file_extension": ".py",
   "mimetype": "text/x-python",
   "name": "python",
   "nbconvert_exporter": "python",
   "pygments_lexer": "ipython3",
   "version": "3.7.5"
  }
 },
 "nbformat": 4,
 "nbformat_minor": 2
}
