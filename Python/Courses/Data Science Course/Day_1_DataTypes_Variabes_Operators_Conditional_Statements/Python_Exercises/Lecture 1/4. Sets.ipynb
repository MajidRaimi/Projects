{
 "cells": [
  {
   "cell_type": "code",
   "execution_count": 19,
   "metadata": {},
   "outputs": [
    {
     "name": "stdout",
     "output_type": "stream",
     "text": [
      "['black', 'blue', 'green', 'black', 'yellow', 'black', 'black']\n",
      "{'black', 'blue', 'yellow', 'green'}\n"
     ]
    }
   ],
   "source": [
    "#introduction to sets\n",
    "clothing_list = [\"black\", \"blue\", \"green\", \"black\", \"yellow\", \"black\", \"Black\"]\n",
    "clothing_list = [x.lower() for x in clothing_list]\n",
    "print(clothing_list)\n",
    "clothing_set = set(clothing_list)\n",
    "print(clothing_set)"
   ]
  }
 ],
 "metadata": {
  "kernelspec": {
   "display_name": "Python 3",
   "language": "python",
   "name": "python3"
  },
  "language_info": {
   "codemirror_mode": {
    "name": "ipython",
    "version": 3
   },
   "file_extension": ".py",
   "mimetype": "text/x-python",
   "name": "python",
   "nbconvert_exporter": "python",
   "pygments_lexer": "ipython3",
   "version": "3.7.5"
  }
 },
 "nbformat": 4,
 "nbformat_minor": 2
}
