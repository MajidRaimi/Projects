{
 "cells": [
  {
   "cell_type": "code",
   "execution_count": 1,
   "metadata": {},
   "outputs": [],
   "source": [
    "#Declaring first and last name\n",
    "first_name = \"Radwan\"\n",
    "last_name = \"Albahrani\""
   ]
  },
  {
   "cell_type": "code",
   "execution_count": 6,
   "metadata": {},
   "outputs": [
    {
     "name": "stdout",
     "output_type": "stream",
     "text": [
      "Radwan Albahrani\n",
      "['Radwan', 'Albahrani']\n"
     ]
    }
   ],
   "source": [
    "#Concatenating first and last name\n",
    "full_name = first_name + \" \" + last_name\n",
    "print(full_name)\n",
    "#Splitting full name into list\n",
    "full_name_listed = full_name.split(\" \")\n",
    "print(full_name_listed)"
   ]
  },
  {
   "cell_type": "code",
   "execution_count": 4,
   "metadata": {},
   "outputs": [
    {
     "name": "stdout",
     "output_type": "stream",
     "text": [
      "['radwan158', 'gmail.com']\n"
     ]
    }
   ],
   "source": [
    "#Declaring Email\n",
    "email = \"radwan158@gmail.com\"\n",
    "#Splitting email at @ and printing it\n",
    "email_list = email.split(\"@\")\n",
    "print(email_list)"
   ]
  },
  {
   "cell_type": "code",
   "execution_count": 8,
   "metadata": {},
   "outputs": [
    {
     "name": "stdout",
     "output_type": "stream",
     "text": [
      "['radwan158', 'gmail']\n"
     ]
    }
   ],
   "source": [
    "#Taking the second part of the email and splitting it at ., then appending it to main list\n",
    "email_list.append(email_list[1].split(\".\")[0])\n",
    "#Removing the original not splitted item and printing\n",
    "email_list.remove(email_list[1])\n",
    "print(email_list)"
   ]
  },
  {
   "cell_type": "code",
   "execution_count": 7,
   "metadata": {},
   "outputs": [
    {
     "name": "stdout",
     "output_type": "stream",
     "text": [
      "0\n",
      "1\n"
     ]
    }
   ],
   "source": [
    "#Checking for gmail emails in list\n",
    "for x in email_list:\n",
    "    if type(x) == list:\n",
    "        if x[0] == \"gmail\":\n",
    "            print(\"1\")\n",
    "        else:\n",
    "            print(\"0\")\n",
    "    elif x == \"gmail\":\n",
    "            print(\"1\")\n",
    "    else:\n",
    "        print(\"0\")"
   ]
  },
  {
   "cell_type": "code",
   "execution_count": null,
   "metadata": {},
   "outputs": [],
   "source": []
  }
 ],
 "metadata": {
  "kernelspec": {
   "display_name": "Python 3",
   "language": "python",
   "name": "python3"
  },
  "language_info": {
   "codemirror_mode": {
    "name": "ipython",
    "version": 3
   },
   "file_extension": ".py",
   "mimetype": "text/x-python",
   "name": "python",
   "nbconvert_exporter": "python",
   "pygments_lexer": "ipython3",
   "version": "3.7.5"
  }
 },
 "nbformat": 4,
 "nbformat_minor": 2
}
