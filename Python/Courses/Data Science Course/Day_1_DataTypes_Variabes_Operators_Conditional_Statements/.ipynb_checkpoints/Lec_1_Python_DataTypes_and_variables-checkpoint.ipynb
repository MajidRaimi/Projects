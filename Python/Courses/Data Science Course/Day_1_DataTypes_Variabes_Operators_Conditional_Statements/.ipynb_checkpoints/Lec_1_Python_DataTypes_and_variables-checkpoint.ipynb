{
 "cells": [
  {
   "cell_type": "markdown",
   "metadata": {},
   "source": [
    "# Python Programming - Day 1\n",
    "_Author and Instructor: Dr. Junaid Qazi, PhD_"
   ]
  },
  {
   "cell_type": "markdown",
   "metadata": {},
   "source": [
    "In this lecture, we are going to discuss the key concepts of Python. We need them throughout in this course. This section is carefully designed for all levels. If you don't have any programming experience in Python, it is still very easy to follow.\n",
    "\n",
    "For those who want to explore more, following resources are very useful: <br>\n",
    "“[python.org](https://www.python.org/about/gettingstarted/)”.<br>\n",
    "\"[learning-python’s documentation](http://learning-python.readthedocs.io/en/latest/index.html)\".<br>\n",
    "“[Learning Python, 5th Ed.](http://shop.oreilly.com/product/0636920028154.do)” by Mark Lutz is a great resource book for the beginners.<br>\n",
    "\n",
    "We will go through the following concepts in this section:\n",
    "* Python data types:\n",
    "    * Numbers\n",
    "    * Strings & print formatting\n",
    "    * Lists\n",
    "    * Dictionaries\n",
    "    * Tuples\n",
    "    * Sets\n",
    "    * Booleans. \n",
    "    \n",
    "    \n",
    "&#9989; This notebook can be considered as a code reference.<br>\n",
    "\n",
    "## Python data types:\n",
    "\n",
    "### Numbers \n",
    "Python has two basic number types, <b>integer</b> and <b>float</b>. <br>\n",
    "\n",
    "For example, 2 is an integer and 2.0 is a floating point number, which has a decimal attached to it. <br>We can perform arithmetic operations to either of these numbers types. "
   ]
  },
  {
   "cell_type": "code",
   "execution_count": 1,
   "metadata": {},
   "outputs": [
    {
     "data": {
      "text/plain": [
       "7"
      ]
     },
     "execution_count": 1,
     "metadata": {},
     "output_type": "execute_result"
    }
   ],
   "source": [
    "# addition\n",
    "5 + 2"
   ]
  },
  {
   "cell_type": "code",
   "execution_count": 2,
   "metadata": {},
   "outputs": [
    {
     "data": {
      "text/plain": [
       "3"
      ]
     },
     "execution_count": 2,
     "metadata": {},
     "output_type": "execute_result"
    }
   ],
   "source": [
    "# subtraction\n",
    "5 - 2"
   ]
  },
  {
   "cell_type": "code",
   "execution_count": 3,
   "metadata": {},
   "outputs": [
    {
     "data": {
      "text/plain": [
       "10"
      ]
     },
     "execution_count": 3,
     "metadata": {},
     "output_type": "execute_result"
    }
   ],
   "source": [
    "# multiplication\n",
    "5 * 2"
   ]
  },
  {
   "cell_type": "markdown",
   "metadata": {},
   "source": [
    "We can divide them with a forward slash `/` between them (note, two integers are giving floating point in results).<br> \n",
    "<font style=\"font-size:12px;\">*If you are using Python 2, you need to add 2.0 in the expression (e.g. 5 / 2.0) to get the same results.*</font>"
   ]
  },
  {
   "cell_type": "code",
   "execution_count": 4,
   "metadata": {},
   "outputs": [
    {
     "data": {
      "text/plain": [
       "2.5"
      ]
     },
     "execution_count": 4,
     "metadata": {},
     "output_type": "execute_result"
    }
   ],
   "source": [
    "5 / 2"
   ]
  },
  {
   "cell_type": "markdown",
   "metadata": {},
   "source": [
    "We can compute the power of some number `(exponent)` with two **Asterix** ** together."
   ]
  },
  {
   "cell_type": "markdown",
   "metadata": {},
   "source": [
    "Python follow the order of arithmetic operations, for example:<br>\n",
    "**for 1 + 2 * 3 + 4**<br>\n",
    "Python will **first multiply 2 & 3** then perform the other operations."
   ]
  },
  {
   "cell_type": "code",
   "execution_count": 5,
   "metadata": {},
   "outputs": [
    {
     "data": {
      "text/plain": [
       "11"
      ]
     },
     "execution_count": 5,
     "metadata": {},
     "output_type": "execute_result"
    }
   ],
   "source": [
    "1 + 2 * 3 + 4"
   ]
  },
  {
   "cell_type": "markdown",
   "metadata": {},
   "source": [
    "**A good practice is to use parentheses `\"( )\"`** to tell the Python, which operation needs to be performed and clarify the order. <br> \n",
    "The operations in the parentheses will be performed first."
   ]
  },
  {
   "cell_type": "code",
   "execution_count": 6,
   "metadata": {},
   "outputs": [
    {
     "data": {
      "text/plain": [
       "21"
      ]
     },
     "execution_count": 6,
     "metadata": {},
     "output_type": "execute_result"
    }
   ],
   "source": [
    "(1 + 2) * (3 + 4)"
   ]
  },
  {
   "cell_type": "markdown",
   "metadata": {},
   "source": [
    "# Variables"
   ]
  },
  {
   "cell_type": "markdown",
   "metadata": {},
   "source": [
    "## Lesson Objectives\n",
    "After this lesson, you will be able to...\n",
    "* Create and re-assign numerical and string variables. \n",
    "* Use numerical operators.\n",
    "* Print complex variable structures."
   ]
  },
  {
   "cell_type": "markdown",
   "metadata": {},
   "source": [
    "**What is a Variable?**<br>\n",
    "* Turn to the person next to you, and together come up with as many definitions for the word `variable` as you can.\n",
    "* Consider contexts such as mathematics, the sciences, weather, etc."
   ]
  },
  {
   "cell_type": "markdown",
   "metadata": {},
   "source": [
    "### Variables:\n",
    "At many occasions, we pick a variable with some name and assign object or a data type to that variable. We can do this in Python using equal sign operator **`“=“`**. <br>\n",
    "For example, if we assign a value of 5 to a variable `“x”`. Whenever we call `x`, this will return 5 in the output. <br>\n",
    "* Are boxes that can hold all kinds of information for you. Make it easier to store and re-use values.\n",
    "* Are the most basic piece of code."
   ]
  },
  {
   "cell_type": "markdown",
   "metadata": {},
   "source": [
    "### Declaring variables\n",
    "To use a variable, we simply announce that we want to use it -- we `\"declare\"` it!"
   ]
  },
  {
   "cell_type": "code",
   "execution_count": 7,
   "metadata": {
    "slideshow": {
     "slide_type": "slide"
    }
   },
   "outputs": [],
   "source": [
    "# I have eated 3 cupcakes.\n",
    "cupcakes_ive_eaten = 3"
   ]
  },
  {
   "cell_type": "code",
   "execution_count": 8,
   "metadata": {},
   "outputs": [
    {
     "name": "stdout",
     "output_type": "stream",
     "text": [
      "3\n"
     ]
    }
   ],
   "source": [
    "print(cupcakes_ive_eaten)"
   ]
  },
  {
   "cell_type": "markdown",
   "metadata": {},
   "source": [
    "### Naming Conventions: Mistakes and Syntax\n",
    "#### Some common naming mistakes:<br>\n",
    "* Not using meaningful names. delicious = 3 doesn’t mean anything - cupcakes_ive_eaten = 3 does!\n",
    "* Case sensitivity (CUPCAKES_IVE_EATEN and cupcakes_ive_eaten are not the same!) \n",
    "* No spaces or punctuation (“cupcakes i’ve eaten” isn’t allowed) -- This is invalid syntax\n",
    "\n",
    "***Use `snake_case: lowercase_letters_with_underscores` (it’s in the official Python style guide)***"
   ]
  },
  {
   "cell_type": "markdown",
   "metadata": {},
   "source": [
    "### Reassigning Variables"
   ]
  },
  {
   "cell_type": "code",
   "execution_count": 9,
   "metadata": {},
   "outputs": [
    {
     "name": "stdout",
     "output_type": "stream",
     "text": [
      "First value:  3\n",
      "Second Value:  4\n"
     ]
    }
   ],
   "source": [
    "#what do you think the output of the code is?\n",
    "cupcakes_ive_eaten = 3 \n",
    "print(\"First value: \", cupcakes_ive_eaten) \n",
    "cupcakes_ive_eaten = 4 \n",
    "print(\"Second Value: \", cupcakes_ive_eaten)"
   ]
  },
  {
   "cell_type": "markdown",
   "metadata": {},
   "source": [
    "### Mathematical Operators\n",
    "Math works on numerical variables, too!<br>\n",
    "The `+, -, * (multiply), and / (divide)` operators work just like they do with regular math."
   ]
  },
  {
   "cell_type": "code",
   "execution_count": 10,
   "metadata": {},
   "outputs": [
    {
     "name": "stdout",
     "output_type": "stream",
     "text": [
      "9\n"
     ]
    }
   ],
   "source": [
    "# Addition\n",
    "cupcakes_ive_eaten = 6 + 3\n",
    "print(cupcakes_ive_eaten)"
   ]
  },
  {
   "cell_type": "code",
   "execution_count": 11,
   "metadata": {},
   "outputs": [
    {
     "name": "stdout",
     "output_type": "stream",
     "text": [
      "3\n"
     ]
    }
   ],
   "source": [
    "# Subtraction \n",
    "cupcakes_ive_eaten = 6-3 \n",
    "print(cupcakes_ive_eaten)"
   ]
  },
  {
   "cell_type": "code",
   "execution_count": 12,
   "metadata": {},
   "outputs": [
    {
     "name": "stdout",
     "output_type": "stream",
     "text": [
      "18\n"
     ]
    }
   ],
   "source": [
    "# Multiplication\n",
    "cupcakes_ive_eaten = 6 * 3 \n",
    "print(cupcakes_ive_eaten)"
   ]
  },
  {
   "cell_type": "code",
   "execution_count": 13,
   "metadata": {},
   "outputs": [
    {
     "name": "stdout",
     "output_type": "stream",
     "text": [
      "Square of 10:  100\n",
      "Cube of 10:  1000\n"
     ]
    }
   ],
   "source": [
    "# Exponent\n",
    "\n",
    "# Square\n",
    "making_exponents = 10 ** 2 \n",
    "print(\"Square of 10: \",making_exponents)\n",
    "\n",
    "# Cube\n",
    "more_exponents = 10 ** 3 \n",
    "print(\"Cube of 10: \",more_exponents)"
   ]
  },
  {
   "cell_type": "code",
   "execution_count": 14,
   "metadata": {},
   "outputs": [
    {
     "name": "stdout",
     "output_type": "stream",
     "text": [
      "10%3:  1\n",
      "10%2:  0\n"
     ]
    }
   ],
   "source": [
    "# modulus\n",
    "making_modulus = 10 % 3 \n",
    "print(\"10%3: \",making_modulus)\n",
    "\n",
    "making_modulus = 10 % 2 \n",
    "print(\"10%2: \", making_modulus)"
   ]
  },
  {
   "cell_type": "markdown",
   "metadata": {},
   "source": [
    "### Math On The Same Variable\n",
    "\n",
    "\n",
    "You can reassign a variable using that very same variable - or other variables!"
   ]
  },
  {
   "cell_type": "code",
   "execution_count": 15,
   "metadata": {},
   "outputs": [
    {
     "name": "stdout",
     "output_type": "stream",
     "text": [
      "Given value:  3\n",
      "New value:  4\n"
     ]
    }
   ],
   "source": [
    "cupcakes_ive_eaten = 3\n",
    "print(\"Given value: \", cupcakes_ive_eaten )\n",
    "\n",
    "# adding 1 in the given value\n",
    "cupcakes_ive_eaten = cupcakes_ive_eaten + 1\n",
    "print(\"New value: \",cupcakes_ive_eaten)"
   ]
  },
  {
   "cell_type": "code",
   "execution_count": 16,
   "metadata": {},
   "outputs": [
    {
     "name": "stdout",
     "output_type": "stream",
     "text": [
      "Given value:  6\n",
      "New value:  5\n"
     ]
    }
   ],
   "source": [
    "cupcakes_left_in_box = 6\n",
    "print(\"Given value: \", cupcakes_left_in_box)\n",
    "\n",
    "# subtracting 1\n",
    "cupcakes_left_in_box = cupcakes_left_in_box - 1 \n",
    "print(\"New value: \",cupcakes_left_in_box)"
   ]
  },
  {
   "cell_type": "code",
   "execution_count": 17,
   "metadata": {},
   "outputs": [
    {
     "name": "stdout",
     "output_type": "stream",
     "text": [
      "No of remaining cupcakes:  1\n"
     ]
    }
   ],
   "source": [
    "cupcakes_left_in_box = cupcakes_left_in_box - cupcakes_ive_eaten \n",
    "print(\"No of remaining cupcakes: \", cupcakes_left_in_box)\n",
    "# try re-running this cell again and again.\n",
    "# what do you notice in the output?"
   ]
  },
  {
   "cell_type": "markdown",
   "metadata": {},
   "source": [
    "### Reassignment Shorthand"
   ]
  },
  {
   "cell_type": "code",
   "execution_count": 18,
   "metadata": {},
   "outputs": [
    {
     "data": {
      "text/plain": [
       "16"
      ]
     },
     "execution_count": 18,
     "metadata": {},
     "output_type": "execute_result"
    }
   ],
   "source": [
    "my_num = 9\n",
    "my_num = my_num + 7 \n",
    "my_num # my_num is now 16"
   ]
  },
  {
   "cell_type": "code",
   "execution_count": 19,
   "metadata": {},
   "outputs": [],
   "source": [
    "# The same operation can be performed in another way."
   ]
  },
  {
   "cell_type": "code",
   "execution_count": 20,
   "metadata": {},
   "outputs": [
    {
     "data": {
      "text/plain": [
       "16"
      ]
     },
     "execution_count": 20,
     "metadata": {},
     "output_type": "execute_result"
    }
   ],
   "source": [
    "my_num = 9\n",
    "my_num += 7 \n",
    "my_num\n",
    "# += is short for \"theSameVariable = theSameVariable + 7\""
   ]
  },
  {
   "cell_type": "code",
   "execution_count": 21,
   "metadata": {},
   "outputs": [],
   "source": [
    "# Try +=, -=, *=, /="
   ]
  },
  {
   "cell_type": "markdown",
   "metadata": {},
   "source": [
    "### Even or Odd?\n",
    "\n",
    "* Is 6 even or odd?\n",
    "* Is 7 even or odd?\n",
    "\n",
    "How do you think a computer knows?\n",
    "* Modulus operator shows the remainder of a division problem. ***Modding by 2 only gives a 0 or a 1.***"
   ]
  },
  {
   "cell_type": "code",
   "execution_count": 22,
   "metadata": {},
   "outputs": [
    {
     "data": {
      "text/plain": [
       "0"
      ]
     },
     "execution_count": 22,
     "metadata": {},
     "output_type": "execute_result"
    }
   ],
   "source": [
    "6%2 # for even number, mod 2 of the number is 0"
   ]
  },
  {
   "cell_type": "code",
   "execution_count": 23,
   "metadata": {},
   "outputs": [
    {
     "data": {
      "text/plain": [
       "1"
      ]
     },
     "execution_count": 23,
     "metadata": {},
     "output_type": "execute_result"
    }
   ],
   "source": [
    "7%2 # is this even?"
   ]
  },
  {
   "cell_type": "markdown",
   "metadata": {},
   "source": [
    "****"
   ]
  },
  {
   "cell_type": "markdown",
   "metadata": {},
   "source": [
    "## Quick Review\n",
    "- A variable is a box that holds a value.\n",
    "- A variable is a value that can be defined, declared, called and changed within your program.\n",
    "    - my_number = 5\n",
    "- Naming: Variable names are case sensitive.\n",
    "- Variables can be reassigned as often as you like, but only the most recent declaration counts.\n",
    "- Python can do math using operators, such as +, -, *, and / on variables."
   ]
  },
  {
   "cell_type": "markdown",
   "metadata": {},
   "source": [
    "****"
   ]
  },
  {
   "cell_type": "markdown",
   "metadata": {},
   "source": [
    "## Strings"
   ]
  },
  {
   "cell_type": "code",
   "execution_count": 24,
   "metadata": {},
   "outputs": [],
   "source": [
    "box_contents = \"cupcakes\" # This is a string"
   ]
  },
  {
   "cell_type": "code",
   "execution_count": 25,
   "metadata": {},
   "outputs": [
    {
     "name": "stdout",
     "output_type": "stream",
     "text": [
      "cupcakes\n"
     ]
    }
   ],
   "source": [
    "print(box_contents) # It's a normal variable -- we can print it."
   ]
  },
  {
   "cell_type": "code",
   "execution_count": 26,
   "metadata": {},
   "outputs": [],
   "source": [
    "best_snack = \"Frosted Cupcakes\" # This is a string."
   ]
  },
  {
   "cell_type": "code",
   "execution_count": 27,
   "metadata": {},
   "outputs": [],
   "source": [
    "cupcakes_ive_eaten = 5 # No quotes -- this is a number."
   ]
  },
  {
   "cell_type": "code",
   "execution_count": 28,
   "metadata": {},
   "outputs": [],
   "source": [
    "cupcakes_ive_eaten_as_string = \"5\" \n",
    "# Because this is in quotes, this is a string"
   ]
  },
  {
   "cell_type": "code",
   "execution_count": 29,
   "metadata": {},
   "outputs": [
    {
     "data": {
      "text/plain": [
       "str"
      ]
     },
     "execution_count": 29,
     "metadata": {},
     "output_type": "execute_result"
    }
   ],
   "source": [
    "type(cupcakes_ive_eaten_as_string)"
   ]
  },
  {
   "cell_type": "markdown",
   "metadata": {},
   "source": [
    "### Declaring Strings"
   ]
  },
  {
   "cell_type": "code",
   "execution_count": 31,
   "metadata": {},
   "outputs": [
    {
     "name": "stdout",
     "output_type": "stream",
     "text": [
      "Marty Delorean 88\n"
     ]
    }
   ],
   "source": [
    "name = \"Marty\"\n",
    "car = \"Delorean\"\n",
    "speed = \"88\"\n",
    "print(name, car, speed)"
   ]
  },
  {
   "cell_type": "code",
   "execution_count": 32,
   "metadata": {},
   "outputs": [
    {
     "ename": "TypeError",
     "evalue": "can only concatenate str (not \"int\") to str",
     "output_type": "error",
     "traceback": [
      "\u001b[0;31m---------------------------------------------------------------------------\u001b[0m",
      "\u001b[0;31mTypeError\u001b[0m                                 Traceback (most recent call last)",
      "\u001b[0;32m<ipython-input-32-b77decaf98ae>\u001b[0m in \u001b[0;36m<module>\u001b[0;34m\u001b[0m\n\u001b[0;32m----> 1\u001b[0;31m \u001b[0mnew_speed\u001b[0m \u001b[0;34m=\u001b[0m \u001b[0mspeed\u001b[0m \u001b[0;34m+\u001b[0m \u001b[0;36m4\u001b[0m \u001b[0;31m# you will get an error, why?\u001b[0m\u001b[0;34m\u001b[0m\u001b[0;34m\u001b[0m\u001b[0m\n\u001b[0m",
      "\u001b[0;31mTypeError\u001b[0m: can only concatenate str (not \"int\") to str"
     ]
    }
   ],
   "source": [
    "new_speed = speed + 4 # you will get an error, why?"
   ]
  },
  {
   "cell_type": "markdown",
   "metadata": {},
   "source": [
    "## String Concatenation"
   ]
  },
  {
   "cell_type": "code",
   "execution_count": 33,
   "metadata": {},
   "outputs": [
    {
     "data": {
      "text/plain": [
       "'DocBrown'"
      ]
     },
     "execution_count": 33,
     "metadata": {},
     "output_type": "execute_result"
    }
   ],
   "source": [
    "\"Doc\" + \"Brown\" # result will be \"DocBrown\""
   ]
  },
  {
   "cell_type": "code",
   "execution_count": 34,
   "metadata": {},
   "outputs": [
    {
     "data": {
      "text/plain": [
       "'55'"
      ]
     },
     "execution_count": 34,
     "metadata": {},
     "output_type": "execute_result"
    }
   ],
   "source": [
    "\"5\" + \"5\" # should this be 10? "
   ]
  },
  {
   "cell_type": "code",
   "execution_count": 35,
   "metadata": {},
   "outputs": [],
   "source": [
    "string_numbers = \"88\" + \"51\"\n",
    "# what will be the string_numbers?"
   ]
  },
  {
   "cell_type": "code",
   "execution_count": 36,
   "metadata": {},
   "outputs": [
    {
     "name": "stdout",
     "output_type": "stream",
     "text": [
      "Doc Brown\n"
     ]
    }
   ],
   "source": [
    "# we can use variables \n",
    "first_name = \"Doc\"\n",
    "last_name = \"Brown\"\n",
    "\n",
    "full_name = first_name+ ' ' + last_name # notice the spae ' '\n",
    "print(full_name)"
   ]
  },
  {
   "cell_type": "code",
   "execution_count": 37,
   "metadata": {},
   "outputs": [],
   "source": [
    "name = \"Marty\" \n",
    "car = \"Delorean\" \n",
    "speed = \"88\""
   ]
  },
  {
   "cell_type": "code",
   "execution_count": 38,
   "metadata": {},
   "outputs": [
    {
     "name": "stdout",
     "output_type": "stream",
     "text": [
      "Marty is driving his Delorean 88\n"
     ]
    }
   ],
   "source": [
    "sentence = name + \" is driving his \" + car + \" \" + speed \n",
    "print(sentence)\n",
    "# sentence"
   ]
  },
  {
   "cell_type": "code",
   "execution_count": 39,
   "metadata": {},
   "outputs": [
    {
     "name": "stdout",
     "output_type": "stream",
     "text": [
      "Marty is driving his Delorean 88\n"
     ]
    }
   ],
   "source": [
    "# using variables in print()\n",
    "print(name, \"is driving his\", car, speed)"
   ]
  },
  {
   "cell_type": "code",
   "execution_count": 40,
   "metadata": {},
   "outputs": [
    {
     "name": "stdout",
     "output_type": "stream",
     "text": [
      "16\n"
     ]
    }
   ],
   "source": [
    "# Do you think this will run? If yes, what does it print?\n",
    "my_num\n",
    "print(my_num)"
   ]
  },
  {
   "cell_type": "code",
   "execution_count": 41,
   "metadata": {},
   "outputs": [],
   "source": [
    "# How about this? Does it run? If so, what does it print?\n",
    "my_num = 5 \n",
    "# print()"
   ]
  },
  {
   "cell_type": "code",
   "execution_count": 42,
   "metadata": {},
   "outputs": [],
   "source": [
    "# How about this? Does it run? If so, what does it print?\n",
    "my_num = 5\n",
    "my_string = \"Hello\" \n",
    "# print(my_num + my_string) # error?"
   ]
  },
  {
   "cell_type": "markdown",
   "metadata": {},
   "source": [
    "## String split"
   ]
  },
  {
   "cell_type": "code",
   "execution_count": 43,
   "metadata": {},
   "outputs": [],
   "source": [
    "# One last question. What does this do?\n",
    "my_num1 = \"10\"\n",
    "my_num2 = \"20\" \n",
    "# print(my_num1 + my_num2)"
   ]
  },
  {
   "cell_type": "code",
   "execution_count": 44,
   "metadata": {},
   "outputs": [],
   "source": [
    "my_name_string = \"My name is Junaid\""
   ]
  },
  {
   "cell_type": "code",
   "execution_count": 45,
   "metadata": {},
   "outputs": [
    {
     "name": "stdout",
     "output_type": "stream",
     "text": [
      "['My', 'name', 'is', 'Junaid']\n",
      "<class 'list'>\n"
     ]
    }
   ],
   "source": [
    "my_name = my_name_string.split(' ')# <shift+tab>\n",
    "print(my_name)\n",
    "print(type(my_name))"
   ]
  },
  {
   "cell_type": "code",
   "execution_count": 46,
   "metadata": {},
   "outputs": [
    {
     "data": {
      "text/plain": [
       "'name'"
      ]
     },
     "execution_count": 46,
     "metadata": {},
     "output_type": "execute_result"
    }
   ],
   "source": [
    "email_ = \"name@gmail.com\"\n",
    "\n",
    "# we want to grab the name only\n",
    "email_.split('@')[0] # easy, right?"
   ]
  },
  {
   "cell_type": "code",
   "execution_count": 106,
   "metadata": {},
   "outputs": [
    {
     "data": {
      "text/plain": [
       "'MY NAME IS JUNAID'"
      ]
     },
     "execution_count": 106,
     "metadata": {},
     "output_type": "execute_result"
    }
   ],
   "source": [
    "# upper case\n",
    "my_name_string.upper()"
   ]
  },
  {
   "cell_type": "code",
   "execution_count": 108,
   "metadata": {},
   "outputs": [
    {
     "data": {
      "text/plain": [
       "'my name is junaid'"
      ]
     },
     "execution_count": 108,
     "metadata": {},
     "output_type": "execute_result"
    }
   ],
   "source": [
    "# lower case\n",
    "my_name_string.lower()"
   ]
  },
  {
   "cell_type": "code",
   "execution_count": 114,
   "metadata": {},
   "outputs": [
    {
     "data": {
      "text/plain": [
       "'My name is junaid'"
      ]
     },
     "execution_count": 114,
     "metadata": {},
     "output_type": "execute_result"
    }
   ],
   "source": [
    "# capitalize -- notice two operations in one line!\n",
    "my_name_string.upper().capitalize()"
   ]
  },
  {
   "cell_type": "markdown",
   "metadata": {},
   "source": [
    "**********"
   ]
  },
  {
   "cell_type": "markdown",
   "metadata": {},
   "source": [
    "# Python Lists:"
   ]
  },
  {
   "cell_type": "code",
   "execution_count": 47,
   "metadata": {},
   "outputs": [],
   "source": [
    "# Declaring lists\n",
    "\n",
    "# list of strings\n",
    "colors = [\"red\", \"yellow\", \"green\"]\n",
    "my_class = [\"Brandi\", \"Zoe\", \"Steve\", \"Aleksander\", \"Dasha\"]\n",
    "\n",
    "# List of numbers\n",
    "my_nums = [4, 7, 9, 1, 4]\n",
    "\n",
    "# List of different datatypes\n",
    "mixed = [\"red\", 5, [1,2,3], 4.5]"
   ]
  },
  {
   "cell_type": "code",
   "execution_count": 48,
   "metadata": {},
   "outputs": [
    {
     "data": {
      "text/plain": [
       "['red', 'yellow', 'green']"
      ]
     },
     "execution_count": 48,
     "metadata": {},
     "output_type": "execute_result"
    }
   ],
   "source": [
    "colors"
   ]
  },
  {
   "cell_type": "code",
   "execution_count": 49,
   "metadata": {},
   "outputs": [
    {
     "data": {
      "text/plain": [
       "['Brandi', 'Zoe', 'Steve', 'Aleksander', 'Dasha']"
      ]
     },
     "execution_count": 49,
     "metadata": {},
     "output_type": "execute_result"
    }
   ],
   "source": [
    "my_class"
   ]
  },
  {
   "cell_type": "code",
   "execution_count": 50,
   "metadata": {},
   "outputs": [
    {
     "data": {
      "text/plain": [
       "[4, 7, 9, 1, 4]"
      ]
     },
     "execution_count": 50,
     "metadata": {},
     "output_type": "execute_result"
    }
   ],
   "source": [
    "my_nums"
   ]
  },
  {
   "cell_type": "code",
   "execution_count": 51,
   "metadata": {},
   "outputs": [
    {
     "data": {
      "text/plain": [
       "['red', 5, [1, 2, 3], 4.5]"
      ]
     },
     "execution_count": 51,
     "metadata": {},
     "output_type": "execute_result"
    }
   ],
   "source": [
    "mixed"
   ]
  },
  {
   "cell_type": "markdown",
   "metadata": {},
   "source": [
    "### List index!"
   ]
  },
  {
   "cell_type": "code",
   "execution_count": 52,
   "metadata": {},
   "outputs": [
    {
     "name": "stdout",
     "output_type": "stream",
     "text": [
      "Brandi\n",
      "Dasha\n"
     ]
    }
   ],
   "source": [
    "print(my_class[0])\n",
    "print(my_class[4])"
   ]
  },
  {
   "cell_type": "code",
   "execution_count": 53,
   "metadata": {},
   "outputs": [],
   "source": [
    "#print(my_class[10]) # what do you expect?"
   ]
  },
  {
   "cell_type": "code",
   "execution_count": 54,
   "metadata": {},
   "outputs": [
    {
     "name": "stdout",
     "output_type": "stream",
     "text": [
      "There are 5 students in the class\n"
     ]
    }
   ],
   "source": [
    "# how many items are in the list or how long it is?\n",
    "num_students = len(my_class)\n",
    "print(\"There are\", num_students, \"students in the class\")"
   ]
  },
  {
   "cell_type": "code",
   "execution_count": 55,
   "metadata": {},
   "outputs": [],
   "source": [
    "# try this \"list?\" or <shift+tab> after typing list"
   ]
  },
  {
   "cell_type": "markdown",
   "metadata": {},
   "source": [
    "### List Operations\n",
    "#### Finding length of the list, how many items are there!\n",
    "* `.len()`\n",
    "    * A built in list operation.\n",
    "    * How long is the list?"
   ]
  },
  {
   "cell_type": "code",
   "execution_count": 56,
   "metadata": {},
   "outputs": [
    {
     "name": "stdout",
     "output_type": "stream",
     "text": [
      "There are 5 students in the class\n"
     ]
    }
   ],
   "source": [
    "# length_variable = len(your_list)\n",
    "my_class = [\"Brandi\", \"Zoe\", \"Steve\", \"Aleksander\", \"Dasha\"] \n",
    "num_students = len(my_class)\n",
    "\n",
    "print(\"There are\", num_students, \"students in the class\")"
   ]
  },
  {
   "cell_type": "markdown",
   "metadata": {},
   "source": [
    "#### Adding Elements: Append\n",
    "* `.append()`\n",
    "    * A built in list operation.\n",
    "    * Adds to the end of the list. \n",
    "    * Takes any element (type)."
   ]
  },
  {
   "cell_type": "code",
   "execution_count": 57,
   "metadata": {},
   "outputs": [
    {
     "name": "stdout",
     "output_type": "stream",
     "text": [
      "list before append:\n",
      " ['Brandi', 'Zoe', 'Steve', 'Aleksander', 'Dasha']\n",
      "list after append:\n",
      " ['Brandi', 'Zoe', 'Steve', 'Aleksander', 'Dasha', 'Sonyl']\n"
     ]
    }
   ],
   "source": [
    "# your_list.append(item)\n",
    "my_class = [\"Brandi\", \"Zoe\", \"Steve\", \"Aleksander\", \"Dasha\"] \n",
    "print(\"list before append:\\n\", my_class) # notice '\\n' -- new line\n",
    "my_class.append(\"Sonyl\")\n",
    "print(\"list after append:\\n\",my_class)"
   ]
  },
  {
   "cell_type": "markdown",
   "metadata": {},
   "source": [
    "#### Adding Elements: Insert\n",
    "* `.insert()`\n",
    "    * A built in list operation.\n",
    "    * Adds to any point in the list \n",
    "    * Takes any element and an index."
   ]
  },
  {
   "cell_type": "code",
   "execution_count": 58,
   "metadata": {},
   "outputs": [
    {
     "name": "stdout",
     "output_type": "stream",
     "text": [
      "list before insert opearation:\n",
      " ['Brandi', 'Zoe', 'Steve', 'Aleksander', 'Dasha', 'Sonyl']\n",
      "list after insert operation:\n",
      " ['Brandi', 'Sanju', 'Zoe', 'Steve', 'Aleksander', 'Dasha', 'Sonyl']\n"
     ]
    }
   ],
   "source": [
    "# your_list.insert(index, item)\n",
    "my_class = [\"Brandi\", \"Zoe\", \"Steve\", \"Aleksander\", \"Dasha\", \"Sonyl\"]\n",
    "print(\"list before insert opearation:\\n\", my_class)\n",
    "\n",
    "my_class.insert(1, \"Sanju\")\n",
    "print(\"list after insert operation:\\n\",my_class)\n",
    "# notice the difference b/w append and insert!"
   ]
  },
  {
   "cell_type": "markdown",
   "metadata": {},
   "source": [
    "#### Removing elements - Pop\n",
    "* `pop()` -- *default `index=-1`, the last item*\n",
    "    * A built in list operation.\n",
    "    * Removes an item from the end of the list."
   ]
  },
  {
   "cell_type": "code",
   "execution_count": 59,
   "metadata": {},
   "outputs": [
    {
     "name": "stdout",
     "output_type": "stream",
     "text": [
      "original list:\n",
      "  ['Brandi', 'Zoe', 'Steve', 'Aleksander', 'Dasha', 'Sonyl']\n",
      "The student Sonyl has left the class.\n",
      "New list -- class:\n",
      " ['Brandi', 'Zoe', 'Steve', 'Aleksander', 'Dasha']\n"
     ]
    }
   ],
   "source": [
    "# your_list.pop()\n",
    "my_class = [\"Brandi\", \"Zoe\", \"Steve\", \"Aleksander\", \"Dasha\", \"Sonyl\"] \n",
    "print('original list:\\n ', my_class)\n",
    "\n",
    "# last student in the list left the class -- pop!\n",
    "# Let's get the name in a variable!\n",
    "student_that_left = my_class.pop()\n",
    "\n",
    "# Who left\n",
    "print(\"The student\", student_that_left, \"has left the class.\")\n",
    "\n",
    "# new list after the one who left the class\n",
    "print(\"New list -- class:\\n\",my_class)\n",
    "# => [\"Brandi\", \"Zoe\", \"Steve\", \"Aleksander\", \"Dasha\"]"
   ]
  },
  {
   "cell_type": "markdown",
   "metadata": {},
   "source": [
    "### Removing elements - Pop(index)\n",
    "* `.pop(index)`\n",
    "    * A built in list operation.\n",
    "    * Removes an item from the list. \n",
    "    * Can take an index."
   ]
  },
  {
   "cell_type": "code",
   "execution_count": 60,
   "metadata": {},
   "outputs": [
    {
     "name": "stdout",
     "output_type": "stream",
     "text": [
      "original list: \n",
      " ['Brandi', 'Zoe', 'Steve', 'Aleksander', 'Dasha', 'Sonyl']\n",
      "\n",
      "The student name ' Steve ' has left the class.\n",
      "\n",
      "Now the list of the students is:\n",
      "  ['Brandi', 'Zoe', 'Aleksander', 'Dasha', 'Sonyl']\n"
     ]
    }
   ],
   "source": [
    "# your_list.pop(index)\n",
    "my_class = [\"Brandi\", \"Zoe\", \"Steve\", \"Aleksander\", \"Dasha\", \"Sonyl\"] \n",
    "print(\"original list: \\n\", my_class)\n",
    "print() # just adding a line\n",
    "\n",
    "# suppose Steve left the class, its inex is \"2\"\n",
    "student_that_left = my_class.pop(2) # Remember to count from 0! \n",
    "print(\"The student name '\",student_that_left,\"' has left the class.\")\n",
    "print()\n",
    "\n",
    "# What are the remaining class members?\n",
    "print(\"Now the list of the students is:\\n \", my_class)"
   ]
  },
  {
   "cell_type": "markdown",
   "metadata": {},
   "source": [
    "# Time for some practice!\n",
    "* 1. DECLARE A LIST WITH THE NAMES OF YOUR CLASSMATES\n",
    "* 2. PRINT OUT THE LENGTH OF THAT LIST\n",
    "* 3. PRINT THE 3RD NAME ON THE LIST\n",
    "* 4. DELETE THE FIRST NAME ON THE LIST\n",
    "* 5. RE-ADD THE NAME YOU DELETED TO THE END OF THE LIST"
   ]
  },
  {
   "cell_type": "markdown",
   "metadata": {},
   "source": [
    "#### Good to know!"
   ]
  },
  {
   "cell_type": "code",
   "execution_count": 61,
   "metadata": {},
   "outputs": [
    {
     "name": "stdout",
     "output_type": "stream",
     "text": [
      "None\n"
     ]
    }
   ],
   "source": [
    "# This won’t work as expected - don’t do this!\n",
    "colors = [\"red\", \"yellow\", \"green\"] \n",
    "print(colors.append(\"blue\"))\n",
    "# => None\n",
    "#print(colors)"
   ]
  },
  {
   "cell_type": "code",
   "execution_count": 62,
   "metadata": {},
   "outputs": [
    {
     "name": "stdout",
     "output_type": "stream",
     "text": [
      "['red', 'yellow', 'green', 'blue']\n"
     ]
    }
   ],
   "source": [
    "colors = [\"red\", \"yellow\", \"green\"] \n",
    "colors.append(\"blue\")\n",
    "print(colors)\n",
    "# => [\"red\", \"yellow\", \"green\", \"blue\"]"
   ]
  },
  {
   "cell_type": "markdown",
   "metadata": {},
   "source": [
    "### Quick Review: Basic List Operations"
   ]
  },
  {
   "cell_type": "code",
   "execution_count": 63,
   "metadata": {},
   "outputs": [
    {
     "name": "stdout",
     "output_type": "stream",
     "text": [
      "original list:  ['red', 7, 'yellow', 1]\n",
      "No of items in the list:  4\n",
      "The first item is: red\n",
      "list after append opeartion:  ['red', 7, 'yellow', 1, 'Yi']\n",
      "list after insert: ['red', 'Sanju', 7, 'yellow', 1, 'Yi']\n",
      "list after pop():  ['red', 'Sanju', 7, 'yellow', 1]\n",
      "list after pop(2) now:  ['red', 'Sanju', 'yellow', 1]\n"
     ]
    }
   ],
   "source": [
    "# List Creation\n",
    "my_list = [\"red\", 7, \"yellow\", 1]\n",
    "print(\"original list: \", my_list)\n",
    "\n",
    "# List Length\n",
    "list_length = len(my_list) # 4\n",
    "print(\"No of items in the list: \",list_length)\n",
    "\n",
    "# List Index \n",
    "print(\"The first item is:\", my_list[0]) # red\n",
    "\n",
    "# List Append\n",
    "my_list.append(\"Yi\") # [\"red\", 7, \"yellow\", 1, \"Yi\"]\n",
    "print(\"list after append opeartion: \", my_list)\n",
    "\n",
    "# List Insert at Index\n",
    "my_list.insert(1, \"Sanju\") # [\"red\", \"Sanju\", 7, \"yellow\", 1, \"Yi\"]\n",
    "print('list after insert:', my_list )\n",
    "\n",
    "# List Delete\n",
    "my_list.pop() # \"Yi\"; [\"red\", \"Sanju\", 7, \"yellow\", 1]\n",
    "print(\"list after pop(): \", my_list)\n",
    "\n",
    "# List Delete at Index\n",
    "my_list.pop(2) # 7; [\"red\", \"Sanju\", \"yellow\", 1]\n",
    "print(\"list after pop(2) now: \", my_list)"
   ]
  },
  {
   "cell_type": "markdown",
   "metadata": {},
   "source": [
    "## Moving forward, let's talk about some important numerical operations on the lists!\n",
    "**Some actions that we usually perform on lists with numbers.**"
   ]
  },
  {
   "cell_type": "markdown",
   "metadata": {},
   "source": [
    "* `.sum()`\n",
    "    * A built in list operation. \n",
    "    * Adds the list together.\n",
    "    * Only works on lists with numbers!"
   ]
  },
  {
   "cell_type": "code",
   "execution_count": 64,
   "metadata": {},
   "outputs": [],
   "source": [
    "# let's declare a list firt:\n",
    "team_batting_avgs = [.328, .299, .208, .301, .275, .226, .253, .232, .287]"
   ]
  },
  {
   "cell_type": "code",
   "execution_count": 65,
   "metadata": {},
   "outputs": [
    {
     "name": "stdout",
     "output_type": "stream",
     "text": [
      "The total of all the batting averages is 2.4090000000000003\n",
      "The total of all the batting averages is 2.409\n"
     ]
    }
   ],
   "source": [
    "# sum(your_numeric_list)\n",
    "sum_avgs = sum(team_batting_avgs)\n",
    "print(\"The total of all the batting averages is\", sum_avgs)\n",
    "# let's introduce round() here!\n",
    "print(\"The total of all the batting averages is\", round(sum_avgs, 3))"
   ]
  },
  {
   "cell_type": "markdown",
   "metadata": {},
   "source": [
    "* `max() min()`\n",
    "    * Built in list operations.\n",
    "    * Finds highest, or lowest, in the list."
   ]
  },
  {
   "cell_type": "code",
   "execution_count": 66,
   "metadata": {},
   "outputs": [
    {
     "name": "stdout",
     "output_type": "stream",
     "text": [
      "The highest batting average is 0.328\n",
      "The lowest batting average is 0.208\n"
     ]
    }
   ],
   "source": [
    "# max(your_numeric_list) \n",
    "print(\"The highest batting average is\", max(team_batting_avgs))\n",
    "\n",
    "# min(your_numeric_list)\n",
    "print(\"The lowest batting average is\", min(team_batting_avgs))"
   ]
  },
  {
   "cell_type": "markdown",
   "metadata": {},
   "source": [
    "## You Do: Lists\n",
    "On your local computer:\n",
    "1. Save a list with the numbers 2, 4, 6, and 8 into a variable called numbers. \n",
    "2. Print the max of numbers.\n",
    "3. Pop the last element in numbers off; re-insert it at index 2.\n",
    "4. Pop the second number in numbers off.\n",
    "5. Append 3 to numbers.\n",
    "6. Print out the average number (divide the sum of numbers by the length). \n",
    "7. Print numbers."
   ]
  },
  {
   "cell_type": "markdown",
   "metadata": {},
   "source": [
    "Additional Resources on lists:\n",
    "\n",
    "* https://www.youtube.com/watch?v=zEyEC34MY1A\n",
    "* https://developers.google.com/edu/python/lists\n",
    "* https://www.tutorialspoint.com/python/python_lists.htm"
   ]
  },
  {
   "cell_type": "markdown",
   "metadata": {},
   "source": [
    "******"
   ]
  },
  {
   "cell_type": "markdown",
   "metadata": {},
   "source": [
    "# Sets and Tuples\n",
    "\n",
    "#### Learning Objectives\n",
    "After this lesson, you will be able to:\n",
    "* Perform common actions with sets. \n",
    "* Perform common actions with tuples.\n",
    "* Know when to use different data structures."
   ]
  },
  {
   "cell_type": "markdown",
   "metadata": {},
   "source": [
    "**Let's start with creating lists!**"
   ]
  },
  {
   "cell_type": "code",
   "execution_count": 67,
   "metadata": {},
   "outputs": [],
   "source": [
    "unique_colors = [\"red\", \"yellow\", \"red\", \"green\", \"red\", \"yellow\"] \n",
    "subscribed_emails = [\"mary@gmail.com\", \"opal@gmail.com\", \"mary@gmail.com\",\n",
    "\"sayed@gmail.com\"] "
   ]
  },
  {
   "cell_type": "markdown",
   "metadata": {},
   "source": [
    "<details><summary><b>What could be the problem in the above lists?</b></summary>\n",
    "The very first thing that we can notice is duplication:<br>\n",
    "-- Colors are repeating in a list of unique colors!<br>\n",
    "-- We have same emails multiple times in the list of subscribers.<br>\n",
    "    <b>Is this correct?</b>\n",
    "</details>    \n"
   ]
  },
  {
   "cell_type": "markdown",
   "metadata": {},
   "source": [
    "**This is where we need to introduce the sets!**<br>\n",
    "Sets contains only unique elements. It's simple concept from your school maths!"
   ]
  },
  {
   "cell_type": "code",
   "execution_count": 68,
   "metadata": {},
   "outputs": [
    {
     "name": "stdout",
     "output_type": "stream",
     "text": [
      "['red', 'yellow', 'red', 'green', 'red', 'yellow']\n",
      "['mary@gmail.com', 'opal@gmail.com', 'mary@gmail.com', 'sayed@gmail.com']\n"
     ]
    }
   ],
   "source": [
    "# Our lists are:\n",
    "print(unique_colors)\n",
    "print(subscribed_emails)"
   ]
  },
  {
   "cell_type": "markdown",
   "metadata": {},
   "source": [
    "#### Declaring/making sets:"
   ]
  },
  {
   "cell_type": "code",
   "execution_count": 69,
   "metadata": {},
   "outputs": [],
   "source": [
    "# Sets: no duplicates!\n",
    "unique_colors_set = {\"green\", \"yellow\", \"red\"}\n",
    "subscribed_emails_set = {\"mary@gmail.com\", \"opal@gmail.com\", \"sayed@gmail.com\"}"
   ]
  },
  {
   "cell_type": "markdown",
   "metadata": {},
   "source": [
    "**Notice the `{}` versus the `[]`.**"
   ]
  },
  {
   "cell_type": "code",
   "execution_count": 70,
   "metadata": {},
   "outputs": [
    {
     "name": "stdout",
     "output_type": "stream",
     "text": [
      "{'red', 'green', 'yellow'}\n",
      "{'sayed@gmail.com', 'opal@gmail.com', 'mary@gmail.com'}\n"
     ]
    }
   ],
   "source": [
    "print(unique_colors_set)\n",
    "print(subscribed_emails_set)"
   ]
  },
  {
   "cell_type": "markdown",
   "metadata": {},
   "source": [
    "## We can make sets from lists to remove the duplicates automatically, `it's super easy!` \n",
    "* `my_set = set(a_list_to_convert)` "
   ]
  },
  {
   "cell_type": "code",
   "execution_count": 71,
   "metadata": {},
   "outputs": [
    {
     "name": "stdout",
     "output_type": "stream",
     "text": [
      "{'yellow', 'green', 'red'}\n",
      "{'sayed@gmail.com', 'opal@gmail.com', 'mary@gmail.com'}\n"
     ]
    }
   ],
   "source": [
    "print(set(unique_colors))\n",
    "print(set(subscribed_emails))"
   ]
  },
  {
   "cell_type": "code",
   "execution_count": 72,
   "metadata": {},
   "outputs": [
    {
     "name": "stdout",
     "output_type": "stream",
     "text": [
      "{'yellow', 'green', 'red'}\n",
      "{'sayed@gmail.com', 'opal@gmail.com', 'mary@gmail.com'}\n"
     ]
    }
   ],
   "source": [
    "# you can pass them to the new variables for later use\n",
    "uni_col = set(unique_colors)\n",
    "sub_email = set(subscribed_emails)\n",
    "print(uni_col)\n",
    "print(sub_email)"
   ]
  },
  {
   "cell_type": "markdown",
   "metadata": {},
   "source": [
    "## Important Note: `Lists vs Sets`\n",
    "Lists are always in the same order:\n",
    "* `my_list = [\"green\", \"yellow\", \"red\"]` is always going to be `[\"green\", \"yellow\", \"red\"]`\n",
    "* `my_list[0]` is always \"green\"; `my_list[1]` is always `\"yellow\"`; `my_list[2]` is always `\"red\"`.\n",
    "\n",
    "\n",
    "Sets are not like this! Like dictionaries, they are not ordered.\n",
    "* `my_set = {\"green\", \"yellow\", \"red\"}` could later be `{\"red\", \"yellow\", \"green\"}!`\n",
    "* `\"green\"`, `\"red\"`, or `\"yellow\"` could be at any index - we don’t know!\n",
    "* **We cannot do: `print(my_set[0])` - it could be anything! Python won’t let us.**"
   ]
  },
  {
   "cell_type": "code",
   "execution_count": 73,
   "metadata": {},
   "outputs": [
    {
     "data": {
      "text/plain": [
       "3"
      ]
     },
     "execution_count": 73,
     "metadata": {},
     "output_type": "execute_result"
    }
   ],
   "source": [
    "len(uni_col)"
   ]
  },
  {
   "cell_type": "code",
   "execution_count": 74,
   "metadata": {},
   "outputs": [
    {
     "ename": "TypeError",
     "evalue": "'set' object is not subscriptable",
     "output_type": "error",
     "traceback": [
      "\u001b[0;31m---------------------------------------------------------------------------\u001b[0m",
      "\u001b[0;31mTypeError\u001b[0m                                 Traceback (most recent call last)",
      "\u001b[0;32m<ipython-input-74-3e6b950eaffe>\u001b[0m in \u001b[0;36m<module>\u001b[0;34m\u001b[0m\n\u001b[0;32m----> 1\u001b[0;31m \u001b[0muni_col\u001b[0m\u001b[0;34m[\u001b[0m\u001b[0;36m0\u001b[0m\u001b[0;34m]\u001b[0m \u001b[0;31m# error\u001b[0m\u001b[0;34m\u001b[0m\u001b[0;34m\u001b[0m\u001b[0m\n\u001b[0m",
      "\u001b[0;31mTypeError\u001b[0m: 'set' object is not subscriptable"
     ]
    }
   ],
   "source": [
    "uni_col[0] # error"
   ]
  },
  {
   "cell_type": "markdown",
   "metadata": {},
   "source": [
    "### To Do: Creating a Set from a List\n",
    "\n",
    "* Make a list `clothing_list` containing the main color of your classmates clothing. \n",
    "* Using `clothing_list`, make a set named `clothing_set`.\n",
    "* Use a for loop to print out both clothing_list and clothing_set. (don't worry, we will do this later) \n",
    "\n",
    "**Try to print an index!**"
   ]
  },
  {
   "cell_type": "markdown",
   "metadata": {},
   "source": [
    "### Let's talk about some operations on sets in comparisons with lists.\n",
    "#### Adding to a Set\n",
    "* `.add()`"
   ]
  },
  {
   "cell_type": "code",
   "execution_count": 75,
   "metadata": {},
   "outputs": [
    {
     "name": "stdout",
     "output_type": "stream",
     "text": [
      "['black', 'blue', 'black', 'white', 'white', 'green']\n",
      "{'black', 'blue', 'white', 'green'}\n"
     ]
    }
   ],
   "source": [
    "# How do we add more to a set?\n",
    "\n",
    "# suppose your clothing list is \n",
    "clothing_list = ['black', 'blue', 'black', 'white', 'white']\n",
    "# and the set is\n",
    "clothing_set = set(clothing_list)\n",
    "\n",
    "# In a list: recall lists!\n",
    "clothing_list.append(\"green\")\n",
    "print(clothing_list)\n",
    "\n",
    "# In a set \n",
    "clothing_set.add(\"green\")\n",
    "print(clothing_set)"
   ]
  },
  {
   "cell_type": "code",
   "execution_count": 76,
   "metadata": {},
   "outputs": [
    {
     "name": "stdout",
     "output_type": "stream",
     "text": [
      "['black', 'blue', 'black', 'white', 'white', 'green', 'green']\n",
      "{'black', 'blue', 'white', 'green'}\n"
     ]
    }
   ],
   "source": [
    "# let's add green again in the list and the set\n",
    "# In a list: recall lists!\n",
    "clothing_list.append(\"green\")\n",
    "print(clothing_list)\n",
    "\n",
    "# In a set \n",
    "clothing_set.add(\"green\")\n",
    "print(clothing_set)"
   ]
  },
  {
   "cell_type": "markdown",
   "metadata": {},
   "source": [
    "#### What do you see in the output above? What happens if you add a duplicate?"
   ]
  },
  {
   "cell_type": "markdown",
   "metadata": {},
   "source": [
    "***`add vs append` - this is because we can’t guarantee it’s going at the end!***"
   ]
  },
  {
   "cell_type": "markdown",
   "metadata": {},
   "source": [
    "### Removing from a List and a Set\n",
    " * `.remove()`"
   ]
  },
  {
   "cell_type": "code",
   "execution_count": 77,
   "metadata": {},
   "outputs": [],
   "source": [
    "#clothing_set.pop() # try this multiple time"
   ]
  },
  {
   "cell_type": "markdown",
   "metadata": {},
   "source": [
    "*Remember, lists are always the same order and sets are not!*<br>\n",
    "So thus, we need to be careful about removal:"
   ]
  },
  {
   "cell_type": "code",
   "execution_count": 78,
   "metadata": {},
   "outputs": [
    {
     "name": "stdout",
     "output_type": "stream",
     "text": [
      "green\n",
      "black\n"
     ]
    }
   ],
   "source": [
    "# In a list:\n",
    "print(clothing_list.pop()) # Removes and returns the last item in the list. \n",
    "print(clothing_list.pop(0)) # Removes and returns a specific item at given index"
   ]
  },
  {
   "cell_type": "code",
   "execution_count": 79,
   "metadata": {},
   "outputs": [
    {
     "data": {
      "text/plain": [
       "'black'"
      ]
     },
     "execution_count": 79,
     "metadata": {},
     "output_type": "execute_result"
    }
   ],
   "source": [
    "# In a set\n",
    "clothing_set.pop() # No! This is unreliable! The order is arbitrary. "
   ]
  },
  {
   "cell_type": "code",
   "execution_count": 80,
   "metadata": {},
   "outputs": [
    {
     "data": {
      "text/plain": [
       "{'blue', 'green', 'white'}"
      ]
     },
     "execution_count": 80,
     "metadata": {},
     "output_type": "execute_result"
    }
   ],
   "source": [
    "# set is after pop\n",
    "clothing_set"
   ]
  },
  {
   "cell_type": "code",
   "execution_count": 81,
   "metadata": {},
   "outputs": [
    {
     "ename": "TypeError",
     "evalue": "pop() takes no arguments (1 given)",
     "output_type": "error",
     "traceback": [
      "\u001b[0;31m---------------------------------------------------------------------------\u001b[0m",
      "\u001b[0;31mTypeError\u001b[0m                                 Traceback (most recent call last)",
      "\u001b[0;32m<ipython-input-81-ca3521852484>\u001b[0m in \u001b[0;36m<module>\u001b[0;34m\u001b[0m\n\u001b[0;32m----> 1\u001b[0;31m \u001b[0mclothing_set\u001b[0m\u001b[0;34m.\u001b[0m\u001b[0mpop\u001b[0m\u001b[0;34m(\u001b[0m\u001b[0;36m0\u001b[0m\u001b[0;34m)\u001b[0m \u001b[0;31m# No! Python throws an error! You can't index sets.\u001b[0m\u001b[0;34m\u001b[0m\u001b[0;34m\u001b[0m\u001b[0m\n\u001b[0m",
      "\u001b[0;31mTypeError\u001b[0m: pop() takes no arguments (1 given)"
     ]
    }
   ],
   "source": [
    "clothing_set.pop(0) # No! Python throws an error! You can't index sets. "
   ]
  },
  {
   "cell_type": "code",
   "execution_count": 82,
   "metadata": {},
   "outputs": [
    {
     "ename": "KeyError",
     "evalue": "'black'",
     "output_type": "error",
     "traceback": [
      "\u001b[0;31m---------------------------------------------------------------------------\u001b[0m",
      "\u001b[0;31mKeyError\u001b[0m                                  Traceback (most recent call last)",
      "\u001b[0;32m<ipython-input-82-faae0f63acdf>\u001b[0m in \u001b[0;36m<module>\u001b[0;34m\u001b[0m\n\u001b[1;32m      1\u001b[0m \u001b[0;31m# Do this! Call the element directly!\u001b[0m\u001b[0;34m\u001b[0m\u001b[0;34m\u001b[0m\u001b[0;34m\u001b[0m\u001b[0m\n\u001b[0;32m----> 2\u001b[0;31m \u001b[0mclothing_set\u001b[0m\u001b[0;34m.\u001b[0m\u001b[0mremove\u001b[0m\u001b[0;34m(\u001b[0m\u001b[0;34m'black'\u001b[0m\u001b[0;34m)\u001b[0m\u001b[0;34m\u001b[0m\u001b[0;34m\u001b[0m\u001b[0m\n\u001b[0m",
      "\u001b[0;31mKeyError\u001b[0m: 'black'"
     ]
    }
   ],
   "source": [
    "# Do this! Call the element directly!\n",
    "clothing_set.remove('black') "
   ]
  },
  {
   "cell_type": "code",
   "execution_count": 83,
   "metadata": {},
   "outputs": [
    {
     "data": {
      "text/plain": [
       "{'blue', 'green', 'white'}"
      ]
     },
     "execution_count": 83,
     "metadata": {},
     "output_type": "execute_result"
    }
   ],
   "source": [
    "# the set is now\n",
    "clothing_set"
   ]
  },
  {
   "cell_type": "markdown",
   "metadata": {},
   "source": [
    "### Set Intersection\n",
    "\n",
    "* One thing that sets are really good at is **relational algebra**. This is a **fancy word for an SQL join, or comparing** elements between two sets.\n",
    "* Sets are really good at this because they use the same hashing trick under the hood that dictionaries use and makes them so fast.\n",
    "\n",
    "Let’s start by making two sets:"
   ]
  },
  {
   "cell_type": "code",
   "execution_count": 84,
   "metadata": {},
   "outputs": [],
   "source": [
    "set1 = {1, 2, 3, 4, 5} \n",
    "set2 = {4, 5, 6, 7, 8}"
   ]
  },
  {
   "cell_type": "markdown",
   "metadata": {},
   "source": [
    "Now let’s use the .intersection() set method to find out what elements these two sets have in common:"
   ]
  },
  {
   "cell_type": "code",
   "execution_count": 85,
   "metadata": {},
   "outputs": [
    {
     "data": {
      "text/plain": [
       "{4, 5}"
      ]
     },
     "execution_count": 85,
     "metadata": {},
     "output_type": "execute_result"
    }
   ],
   "source": [
    "set1.intersection(set2)"
   ]
  },
  {
   "cell_type": "markdown",
   "metadata": {},
   "source": [
    "* This makes sense, the two sets share the elements 4 and 5.\n",
    "\n",
    "*Note that this is **`commutative`**, meaning we could also write **`set2.intersection(set1)`** and receive the\n",
    "same result.*"
   ]
  },
  {
   "cell_type": "markdown",
   "metadata": {},
   "source": [
    "### Set Differences\n",
    "\n",
    "Instead of finding elements in common between two sets, we can also find their differences. <br>\n",
    "To do this, we use `.difference()`.<br>\n",
    "*Note that this method is **`not commutative`**, meaning **`order matters`**.*"
   ]
  },
  {
   "cell_type": "code",
   "execution_count": 86,
   "metadata": {},
   "outputs": [
    {
     "data": {
      "text/plain": [
       "{1, 2, 3}"
      ]
     },
     "execution_count": 86,
     "metadata": {},
     "output_type": "execute_result"
    }
   ],
   "source": [
    "set1.difference(set2) # in set1 but not in set2"
   ]
  },
  {
   "cell_type": "code",
   "execution_count": 87,
   "metadata": {},
   "outputs": [
    {
     "data": {
      "text/plain": [
       "{6, 7, 8}"
      ]
     },
     "execution_count": 87,
     "metadata": {},
     "output_type": "execute_result"
    }
   ],
   "source": [
    "set2.difference(set1) # in set2 but not in set1"
   ]
  },
  {
   "cell_type": "markdown",
   "metadata": {},
   "source": [
    "*****"
   ]
  },
  {
   "cell_type": "markdown",
   "metadata": {},
   "source": [
    "## Quick Review: Sets vs. Lists\n",
    "### Lists:\n",
    "* The original, normal object.\n",
    "* Created with `[]`.\n",
    "* `append(), insert(index), pop(), pop(index)`.\n",
    "* Duplicates and mutable.\n",
    "\n",
    "### Sets:\n",
    "* Without duplicates.\n",
    "* Created with `{}` or with `set(my_list)`. \n",
    "* `add() and remove(element)`.\n",
    "               "
   ]
  },
  {
   "cell_type": "markdown",
   "metadata": {},
   "source": [
    "*****"
   ]
  },
  {
   "cell_type": "markdown",
   "metadata": {},
   "source": [
    "## Discussion: Immutability Thoughts\n",
    "* A set contains unique items where as the lits can have duplicates. We can add/remove items in both sets and lists.\n",
    "* What if, instead, we want to have a container that we don't want to change?"
   ]
  },
  {
   "cell_type": "code",
   "execution_count": 88,
   "metadata": {},
   "outputs": [
    {
     "name": "stdout",
     "output_type": "stream",
     "text": [
      "<class 'list'>\n",
      "['red', 'orange', 'yellow', 'green', 'blue', 'indigo', 'violet']\n"
     ]
    }
   ],
   "source": [
    "rainbow_colors = [\"red\", \"orange\", \"yellow\", \"green\", \n",
    "                  \"blue\", \"indigo\", \"violet\"]\n",
    "print(type(rainbow_colors))\n",
    "print(rainbow_colors)"
   ]
  },
  {
   "cell_type": "code",
   "execution_count": 89,
   "metadata": {},
   "outputs": [
    {
     "name": "stdout",
     "output_type": "stream",
     "text": [
      "<class 'set'>\n",
      "{'red', 'green', 'orange', 'indigo', 'yellow', 'violet', 'blue'}\n"
     ]
    }
   ],
   "source": [
    "print(type(set(rainbow_colors))) # same output as list\n",
    "print(set(rainbow_colors)) # same output as list"
   ]
  },
  {
   "cell_type": "markdown",
   "metadata": {},
   "source": [
    "***We want `rainbow_colors` to be immutable - cannot be changed. How we do that in Python?***\n",
    "\n",
    "## This is where `tuple` comes in!\n",
    "* Tuples are, like lists, a collection of comma separated values that could be of different datatypes.\n",
    "* Contrary to lists, Python tuples are immutable which means that once created, the tuple contents could not be changed.\n",
    "* Allows duplicates, but immutable.\n",
    "\n",
    "Syntax is super easy to create, just wrap the items in `()`!"
   ]
  },
  {
   "cell_type": "code",
   "execution_count": 90,
   "metadata": {},
   "outputs": [
    {
     "name": "stdout",
     "output_type": "stream",
     "text": [
      "<class 'tuple'>\n",
      "('red', 'orange', 'yellow', 'green', 'blue', 'indigo', 'violet')\n"
     ]
    }
   ],
   "source": [
    "rainbow_colors = (\"red\", \"orange\", \"yellow\", \"green\", \n",
    "                  \"blue\", \"indigo\", \"violet\")\n",
    "print(type(rainbow_colors))\n",
    "print(rainbow_colors)"
   ]
  },
  {
   "cell_type": "code",
   "execution_count": 91,
   "metadata": {},
   "outputs": [
    {
     "data": {
      "text/plain": [
       "'orange'"
      ]
     },
     "execution_count": 91,
     "metadata": {},
     "output_type": "execute_result"
    }
   ],
   "source": [
    "# accessing element in tuple\n",
    "rainbow_colors[1]"
   ]
  },
  {
   "cell_type": "code",
   "execution_count": 92,
   "metadata": {},
   "outputs": [
    {
     "data": {
      "text/plain": [
       "('orange', 'yellow')"
      ]
     },
     "execution_count": 92,
     "metadata": {},
     "output_type": "execute_result"
    }
   ],
   "source": [
    "rainbow_colors[1:3] # from 1 to 3 (3rd not included)"
   ]
  },
  {
   "cell_type": "code",
   "execution_count": 93,
   "metadata": {},
   "outputs": [
    {
     "data": {
      "text/plain": [
       "7"
      ]
     },
     "execution_count": 93,
     "metadata": {},
     "output_type": "execute_result"
    }
   ],
   "source": [
    "len(rainbow_colors)"
   ]
  },
  {
   "cell_type": "markdown",
   "metadata": {},
   "source": [
    "**When should you use a tuple?**<br>\n",
    "* When you need data protection through immutability. \n",
    "* When you never want to change the list."
   ]
  },
  {
   "cell_type": "markdown",
   "metadata": {},
   "source": [
    "*****"
   ]
  },
  {
   "cell_type": "markdown",
   "metadata": {},
   "source": [
    "## Quick Review: `Sets, Tuples, Lists`\n",
    "#### List:\n",
    "* The original, normal object: `[\"red\", \"red\", \"yellow\", \"green\"]`.\n",
    "* Has duplicates; \n",
    "* mutable: \n",
    "* `append(), insert(index), pop(), pop(index)`\n",
    "\n",
    "#### Set:\n",
    "* collection datatype without duplicates: `{\"red\", \"yellow\", \"green\"}`. \n",
    "* Mutable: \n",
    "* `add() and remove(element)`\n",
    "\n",
    "#### Tuple:\n",
    "* Has duplicates, but immutable: You can’t change it!\n",
    "* (\"red\", \"red\", \"yellow\", \"green\") will always be (\"red\", \"red\", \"yellow\", \"green\").\n",
    "               "
   ]
  },
  {
   "cell_type": "markdown",
   "metadata": {},
   "source": [
    "****"
   ]
  },
  {
   "cell_type": "markdown",
   "metadata": {},
   "source": [
    "## To Do: Practice\n",
    "\n",
    "* Create a list `([])`, set `({})`, and tuple `(())` of some of your favorite foods.\n",
    "* Create a second set from the list.\n",
    "* Next, in every collection datatype:\n",
    "    * Add \"pizza\" anywhere; append \"eggs\" to the end.\n",
    "    * Remove \"pizza\".\n",
    "    * Re-assign the element at index 1 to be \"popcorn\". \n",
    "    * Remove the element at index 2 and re-insert it at index 0. \n",
    "    * Print the element at index 0.\n",
    "\n",
    "*(We will do this after loops!) -- Print your final collection datatype \"list/set/tuple\" using a loop, then print their types. Don’t throw an error!*"
   ]
  },
  {
   "cell_type": "markdown",
   "metadata": {},
   "source": [
    "# Dictionaries\n",
    "### Learning Objectives\n",
    "After this lesson, you will be able to:\n",
    "* Perform common dictionary actions. \n",
    "* Build more complex dictionaries."
   ]
  },
  {
   "cell_type": "markdown",
   "metadata": {},
   "source": [
    "### Introducing Dictionaries\n",
    "* Think about dictionaries — they’re filled with words and definitions that are paired together. \n",
    "* Programming has a dictionary object just like this!\n",
    "* Dictionaries hold keys (words) and values (the definitions).\n",
    "* In a real dictionary, you can look up a word and find the definition. ***In a Python dictionary, you can look up a key and find the value.***"
   ]
  },
  {
   "cell_type": "markdown",
   "metadata": {},
   "source": [
    "#### Declaring a Dictionary\n",
    "*Dictionaries in programming are made of `key-value pairs`.*"
   ]
  },
  {
   "cell_type": "code",
   "execution_count": 94,
   "metadata": {},
   "outputs": [],
   "source": [
    "# Here's the syntax:\n",
    "#name_of_dictionary = {\"Key1\": \"Value\", \"Key2\": \"Value\", \"Key3\": \"Value\"} \n",
    "#print(name_of_dictionary[key_to_look_up])"
   ]
  },
  {
   "cell_type": "code",
   "execution_count": 95,
   "metadata": {},
   "outputs": [
    {
     "name": "stdout",
     "output_type": "stream",
     "text": [
      "{'Puppy': 'Furry, energetic animal', 'Pineapple': 'Acidic tropical fruit', 'Tea': 'Herb-infused drink'}\n"
     ]
    }
   ],
   "source": [
    "my_dictionary = {\"Puppy\": \"Furry, energetic animal\", \n",
    "                 \"Pineapple\": \"Acidic tropical fruit\",\n",
    "                \"Tea\": \"Herb-infused drink\"} # notice \":\"\n",
    "print(my_dictionary) # Prints the whole dictionary "
   ]
  },
  {
   "cell_type": "code",
   "execution_count": 96,
   "metadata": {},
   "outputs": [
    {
     "name": "stdout",
     "output_type": "stream",
     "text": [
      "Furry, energetic animal\n"
     ]
    }
   ],
   "source": [
    "print(my_dictionary[\"Puppy\"]) # print the value for the passed key"
   ]
  },
  {
   "cell_type": "code",
   "execution_count": 97,
   "metadata": {},
   "outputs": [
    {
     "data": {
      "text/plain": [
       "dict_keys(['Puppy', 'Pineapple', 'Tea'])"
      ]
     },
     "execution_count": 97,
     "metadata": {},
     "output_type": "execute_result"
    }
   ],
   "source": [
    "# return all keys\n",
    "my_dictionary.keys()"
   ]
  },
  {
   "cell_type": "code",
   "execution_count": 98,
   "metadata": {},
   "outputs": [
    {
     "data": {
      "text/plain": [
       "dict_values(['Furry, energetic animal', 'Acidic tropical fruit', 'Herb-infused drink'])"
      ]
     },
     "execution_count": 98,
     "metadata": {},
     "output_type": "execute_result"
    }
   ],
   "source": [
    "# return all values\n",
    "my_dictionary.values()"
   ]
  },
  {
   "cell_type": "code",
   "execution_count": 99,
   "metadata": {},
   "outputs": [
    {
     "data": {
      "text/plain": [
       "dict_items([('Puppy', 'Furry, energetic animal'), ('Pineapple', 'Acidic tropical fruit'), ('Tea', 'Herb-infused drink')])"
      ]
     },
     "execution_count": 99,
     "metadata": {},
     "output_type": "execute_result"
    }
   ],
   "source": [
    "# return all items [(key, value), (key, value).....]\n",
    "my_dictionary.items()"
   ]
  },
  {
   "cell_type": "markdown",
   "metadata": {},
   "source": [
    "### Booleans\n",
    "Booleans are simply **`True`** and **`False`** with capital **`T`** and Capital **`F`** -- just a customized version of **1** and **0**"
   ]
  },
  {
   "cell_type": "code",
   "execution_count": 100,
   "metadata": {},
   "outputs": [
    {
     "data": {
      "text/plain": [
       "True"
      ]
     },
     "execution_count": 100,
     "metadata": {},
     "output_type": "execute_result"
    }
   ],
   "source": [
    "True"
   ]
  },
  {
   "cell_type": "code",
   "execution_count": 101,
   "metadata": {},
   "outputs": [
    {
     "data": {
      "text/plain": [
       "False"
      ]
     },
     "execution_count": 101,
     "metadata": {},
     "output_type": "execute_result"
    }
   ],
   "source": [
    "False"
   ]
  },
  {
   "cell_type": "code",
   "execution_count": 102,
   "metadata": {},
   "outputs": [],
   "source": [
    "my_list = [1,2,3]"
   ]
  },
  {
   "cell_type": "code",
   "execution_count": 103,
   "metadata": {},
   "outputs": [
    {
     "data": {
      "text/plain": [
       "True"
      ]
     },
     "execution_count": 103,
     "metadata": {},
     "output_type": "execute_result"
    }
   ],
   "source": [
    "# check is the item is in the list\n",
    "1 in my_list"
   ]
  },
  {
   "cell_type": "code",
   "execution_count": 104,
   "metadata": {},
   "outputs": [
    {
     "data": {
      "text/plain": [
       "False"
      ]
     },
     "execution_count": 104,
     "metadata": {},
     "output_type": "execute_result"
    }
   ],
   "source": [
    "5 in my_list"
   ]
  },
  {
   "cell_type": "markdown",
   "metadata": {},
   "source": [
    "#### Additional Readings\n",
    "* [Python Count Occurrences of Letters, Words and Numbers in Strings and Lists-Video](https://www.youtube.com/watch?v=szIFFw_Xl_M)\n",
    "* [Storing Multiple Values in Lists](https://swcarpentry.github.io/python-novice-inflammation/03-lists/)\n",
    "* [Sets and Frozen Sets](https://www.python-course.eu/sets_frozensets.php)\n",
    "* [Sets](https://www.learnpython.org/en/Sets)\n",
    "* [Python Tuples](https://www.programiz.com/python-programming/tuple)\n",
    "* [Tuples](http://openbookproject.net/thinkcs/python/english3e/tuples.html)\n",
    "* [Strings, Lists, Tuples, and Dictionaries Video](https://www.youtube.com/watch?v=19EfbO5D_8s)\n",
    "* [Python Data Structures: Lists, Tuples, Sets, and Dictionaries Video](https://www.youtube.com/watch?v=R-HLU9Fl5ug)"
   ]
  }
 ],
 "metadata": {
  "kernelspec": {
   "display_name": "Python 3",
   "language": "python",
   "name": "python3"
  },
  "language_info": {
   "codemirror_mode": {
    "name": "ipython",
    "version": 3
   },
   "file_extension": ".py",
   "mimetype": "text/x-python",
   "name": "python",
   "nbconvert_exporter": "python",
   "pygments_lexer": "ipython3",
   "version": "3.7.5"
  }
 },
 "nbformat": 4,
 "nbformat_minor": 2
}
