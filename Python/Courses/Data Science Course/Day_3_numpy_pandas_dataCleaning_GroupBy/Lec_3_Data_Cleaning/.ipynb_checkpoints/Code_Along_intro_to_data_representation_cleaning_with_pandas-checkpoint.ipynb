{
 "cells": [
  {
   "cell_type": "markdown",
   "metadata": {
    "slideshow": {
     "slide_type": "slide"
    }
   },
   "source": [
    "<img src=\"http://imgur.com/1ZcRyrc.png\" style=\"float: left; margin: 20px; height: 55px\">\n",
    "\n",
    "# Intro to Data Representation and Data Cleaning\n",
    "_Dr. Junaid Qazi, PhD_"
   ]
  },
  {
   "cell_type": "markdown",
   "metadata": {
    "slideshow": {
     "slide_type": "slide"
    }
   },
   "source": [
    "## Learning Objectives\n",
    "\n",
    "\n",
    "### Core\n",
    "- Know about common data cleaning strategies\n",
    "- Know how to assess data quality\n",
    "- Inspect data types\n",
    "- Fill missing values with `fillna`\n",
    "- Count categorical values with `.value_counts`\n",
    "\n",
    "### Target\n",
    "- Know the difference between `.map`, `.apply`, `.applymap`  \n",
    "- Clean up a column using `.map`, `.apply`, `.applymap`  \n",
    "\n",
    "### Stretch\n",
    "- Write your own function and apply it to a series/dataframe with `.map`, `.apply`, `.applymap`  "
   ]
  },
  {
   "cell_type": "markdown",
   "metadata": {
    "toc": true
   },
   "source": [
    "<h1>Lesson Guide<span class=\"tocSkip\"></span></h1>\n",
    "<div class=\"toc\"><ul class=\"toc-item\"><li><span><a href=\"#Learning-Objectives\" data-toc-modified-id=\"Learning-Objectives-1\">Learning Objectives</a></span><ul class=\"toc-item\"><li><span><a href=\"#Core\" data-toc-modified-id=\"Core-1.1\">Core</a></span></li><li><span><a href=\"#Target\" data-toc-modified-id=\"Target-1.2\">Target</a></span></li><li><span><a href=\"#Stretch\" data-toc-modified-id=\"Stretch-1.3\">Stretch</a></span></li></ul></li><li><span><a href=\"#Common-Data-Cleaning-Strategies\" data-toc-modified-id=\"Common-Data-Cleaning-Strategies-2\">Common Data Cleaning Strategies</a></span></li><li><span><a href=\"#Measures-of-Data-Quality\" data-toc-modified-id=\"Measures-of-Data-Quality-3\">Measures of Data Quality</a></span></li><li><span><a href=\"#pandas-Tools-for-Data-Cleaning\" data-toc-modified-id=\"pandas-Tools-for-Data-Cleaning-4\"><code>pandas</code> Tools for Data Cleaning</a></span><ul class=\"toc-item\"><li><ul class=\"toc-item\"><li><span><a href=\"#The-.map()-function\" data-toc-modified-id=\"The-.map()-function-4.0.1\">The <code>.map()</code> function</a></span></li><li><span><a href=\"#The-.apply()-function\" data-toc-modified-id=\"The-.apply()-function-4.0.2\">The <code>.apply()</code> function</a></span></li><li><span><a href=\"#The-.applymap()-function\" data-toc-modified-id=\"The-.applymap()-function-4.0.3\">The <code>.applymap()</code> function</a></span></li><li><span><a href=\"#The-.fillna()-function\" data-toc-modified-id=\"The-.fillna()-function-4.0.4\">The <code>.fillna()</code> function</a></span></li><li><span><a href=\"#The-.value_counts()-function\" data-toc-modified-id=\"The-.value_counts()-function-4.0.5\">The <code>.value_counts()</code> function</a></span></li></ul></li></ul></li><li><span><a href=\"#Inspecting-Data-Types\" data-toc-modified-id=\"Inspecting-Data-Types-5\">Inspecting Data Types</a></span><ul class=\"toc-item\"><li><span><a href=\"#1.-Create-a-small-DataFrame-with-different-data-types\" data-toc-modified-id=\"1.-Create-a-small-DataFrame-with-different-data-types-5.1\">1. Create a small DataFrame with different data types</a></span></li><li><span><a href=\"#2.-Examine-the-data-types-of-the-columns\" data-toc-modified-id=\"2.-Examine-the-data-types-of-the-columns-5.2\">2. Examine the data types of the columns</a></span></li><li><span><a href=\"#3.-Use-the-.get_dtype_counts()-function-to-determine-how-many-columns-there-are-of-each-type\" data-toc-modified-id=\"3.-Use-the-.get_dtype_counts()-function-to-determine-how-many-columns-there-are-of-each-type-5.3\">3. Use the <code>.get_dtype_counts()</code> function to determine how many columns there are of each type</a></span></li><li><span><a href=\"#4.-Create-a-Series-object-with-integers-1-5-and-float-6.0.\" data-toc-modified-id=\"4.-Create-a-Series-object-with-integers-1-5-and-float-6.0.-5.4\">4. Create a Series object with integers 1-5 and float 6.0.</a></span></li><li><span><a href=\"#5.-Create-a-Series-with-data-[1,-2,-3,-6.,-'foo'].-What-data-type-is-the-Series?\" data-toc-modified-id=\"5.-Create-a-Series-with-data-[1,-2,-3,-6.,-'foo'].-What-data-type-is-the-Series?-5.5\">5. Create a Series with data <code>[1, 2, 3, 6., 'foo']</code>. What data type is the Series?</a></span></li><li><span><a href=\"#Without-running-this-code-with-a-Python-interpreter,-what-would-you-expect-to-be-the-common-dtype?\" data-toc-modified-id=\"Without-running-this-code-with-a-Python-interpreter,-what-would-you-expect-to-be-the-common-dtype?-5.6\"><em>Without</em> running this code with a Python interpreter, what would you expect to be the common <code>dtype</code>?</a></span></li></ul></li><li><span><a href=\"#Applying-Functions-to-DataFrames-and-Series\" data-toc-modified-id=\"Applying-Functions-to-DataFrames-and-Series-6\">Applying Functions to DataFrames and Series</a></span><ul class=\"toc-item\"><li><span><a href=\"#6.-Create-another-small-DataFrame\" data-toc-modified-id=\"6.-Create-another-small-DataFrame-6.1\">6. Create another small DataFrame</a></span></li><li><span><a href=\"#7.-Use-the-.apply()/.applymap()-function-to-find-the-square-root-of-all-cells\" data-toc-modified-id=\"7.-Use-the-.apply()/.applymap()-function-to-find-the-square-root-of-all-cells-6.2\">7. Use the <code>.apply()</code>/<code>.applymap()</code> function to find the square root of all cells</a></span></li><li><span><a href=\"#8.-Use-.apply()-to-find-the-mean-of-the-columns\" data-toc-modified-id=\"8.-Use-.apply()-to-find-the-mean-of-the-columns-6.3\">8. Use <code>.apply()</code> to find the mean of the columns</a></span></li><li><span><a href=\"#9.-Use-.apply()-to-find-the-mean-of-the-rows\" data-toc-modified-id=\"9.-Use-.apply()-to-find-the-mean-of-the-rows-6.4\">9. Use <code>.apply()</code> to find the mean of the rows</a></span></li><li><span><a href=\"#10.-Use-.apply()-to-add-two-columns\" data-toc-modified-id=\"10.-Use-.apply()-to-add-two-columns-6.5\">10. Use <code>.apply()</code> to add two columns</a></span></li><li><span><a href=\"#11.-Use-.applymap()-to-round-the-value-in-each-cell\" data-toc-modified-id=\"11.-Use-.applymap()-to-round-the-value-in-each-cell-6.6\">11. Use <code>.applymap()</code> to round the value in each cell</a></span></li><li><span><a href=\"#12.-Use-.applymap()-to-apply-a-self-defined-function-to-each-cell\" data-toc-modified-id=\"12.-Use-.applymap()-to-apply-a-self-defined-function-to-each-cell-6.7\">12. Use <code>.applymap()</code> to apply a self-defined function to each cell</a></span></li></ul></li><li><span><a href=\"#Filling-missing-values\" data-toc-modified-id=\"Filling-missing-values-7\">Filling missing values</a></span><ul class=\"toc-item\"><li><span><a href=\"#13.-Fill-all-missing-values-with-'neg'-(indicating-that-the-missing-value-was-due-to-a-negative-original-value)\" data-toc-modified-id=\"13.-Fill-all-missing-values-with-'neg'-(indicating-that-the-missing-value-was-due-to-a-negative-original-value)-7.1\">13. Fill all missing values with 'neg' (indicating that the missing value was due to a negative original value)</a></span></li><li><span><a href=\"#14.-We-could-do-that-also-for-one-column-only.\" data-toc-modified-id=\"14.-We-could-do-that-also-for-one-column-only.-7.2\">14. We could do that also for one column only.</a></span></li><li><span><a href=\"#15.-In-other-contexts,-it-might-be-useful-to-fill-with-other-values.\" data-toc-modified-id=\"15.-In-other-contexts,-it-might-be-useful-to-fill-with-other-values.-7.3\">15. In other contexts, it might be useful to fill with other values.</a></span></li><li><span><a href=\"#16.-Forward-filling-propagates-values-from-rows-above\" data-toc-modified-id=\"16.-Forward-filling-propagates-values-from-rows-above-7.4\">16. Forward filling propagates values from rows above</a></span></li><li><span><a href=\"#17.-Backward-filling-propagates-values-from-rows-below\" data-toc-modified-id=\"17.-Backward-filling-propagates-values-from-rows-below-7.5\">17. Backward filling propagates values from rows below</a></span></li></ul></li><li><span><a href=\"#Counting-Occurrances-of-Unique-Values-With-.value_counts()\" data-toc-modified-id=\"Counting-Occurrances-of-Unique-Values-With-.value_counts()-8\">Counting Occurrances of Unique Values With <code>.value_counts()</code></a></span><ul class=\"toc-item\"><li><span><a href=\"#18.-Create-a-random-vector-of-50-numbers-ranging-from-0-to-6-with-numpy\" data-toc-modified-id=\"18.-Create-a-random-vector-of-50-numbers-ranging-from-0-to-6-with-numpy-8.1\">18. Create a random vector of 50 numbers ranging from 0 to 6 with <code>numpy</code></a></span></li><li><span><a href=\"#19.-Convert-the-vector-to-a-series-and-count-the-occurrences-of-each-number\" data-toc-modified-id=\"19.-Convert-the-vector-to-a-series-and-count-the-occurrences-of-each-number-8.2\">19. Convert the vector to a series and count the occurrences of each number</a></span></li></ul></li><li><span><a href=\"#Independent-Practice:-Sales-Data\" data-toc-modified-id=\"Independent-Practice:-Sales-Data-9\">Independent Practice: Sales Data</a></span></li><li><span><a href=\"#Conclusion\" data-toc-modified-id=\"Conclusion-10\">Conclusion</a></span></li><li><span><a href=\"#Additional-resources\" data-toc-modified-id=\"Additional-resources-11\">Additional resources</a></span></li></ul></div>"
   ]
  },
  {
   "cell_type": "markdown",
   "metadata": {
    "slideshow": {
     "slide_type": "slide"
    }
   },
   "source": [
    "## Common Data Cleaning Strategies\n",
    "\n",
    "---\n",
    "\n",
    "- Remove missing values\n",
    "- Remove incorrect values\n",
    "- Update incorrect values\n",
    "  - Removing invalid characters\n",
    "  - Truncating part of a value\n",
    "  - Adding an extra numeral or string-based data\n",
    "- Impute missing or invalid data\n",
    "  - Calculating the mean/median/mode of a column, sometimes within group subsets\n",
    "  - Implementing model-based imputation (K-Nearest Neighbors etc.)\n",
    "- Backward fill or forward fill\n"
   ]
  },
  {
   "cell_type": "markdown",
   "metadata": {
    "slideshow": {
     "slide_type": "slide"
    }
   },
   "source": [
    "## Measures of Data Quality\n",
    "\n",
    "---\n",
    "\n",
    " - What is the relative value of the data column?\n",
    " - Is the data encoded properly?\n",
    " - Is the data consistently encoded? \n",
    " - Does it represent the information it contains appropriately?"
   ]
  },
  {
   "cell_type": "markdown",
   "metadata": {
    "slideshow": {
     "slide_type": "slide"
    }
   },
   "source": [
    "##  `pandas` Tools for Data Cleaning\n",
    "\n",
    "---\n",
    "\n",
    "We're starting to get more comfortable with using `pandas` for manipulating and examining data. Now, let's add a couple more tools to our toolbox.\n",
    "\n",
    "The main data types in `pandas` objects are:\n",
    "- **`float`**: Precision-specific math operations\n",
    "- **`int`**: Operations with whole numbers\n",
    "- **`bool`**: Control flow conditions\n",
    "- **`datetime64`**: Resampling, slicing/selection, frequency back/front filling on a date range\n",
    "- **`timedelta`**: Date comparisons\n",
    "- **`category`**: A more powerful set type; can capture for example days as a category with ordinal (ordering) information\n",
    "- **`object`**: All data types can be represented as an object, but math and date operations will not be possible; limited control flow possibilities are available unless you are comparing strings\n",
    "\n",
    "**It is always important to evaluate the data types of columns to ensure that the information they contain is properly represented.**"
   ]
  },
  {
   "cell_type": "markdown",
   "metadata": {},
   "source": [
    "\n",
    "We will be using these tools extensively in this lesson:\n",
    "\n",
    "#### The `.map()` function\n",
    "\n",
    "This built-in function can be used to apply a function to a pandas series or single dataframe colum.\n",
    "\n",
    "#### The `.apply()` function\n",
    "\n",
    "This function **can be used to apply a function along every row or column** of a dataframe, what is returned depends on if the function aggregates or not.\n",
    "\n",
    "#### The `.applymap()` function\n",
    "\n",
    "This function can be used to apply a function **to every cell of a dataframe**.\n",
    "\n",
    "#### The `.fillna()` function\n",
    "\n",
    "This built-in function allows to specify methods for filling missing data.\n",
    "\n",
    "#### The `.value_counts()` function\n",
    "\n",
    "The `.value_counts()` function can be applied to `pandas` series objects and returns a new series containing the counts of the data's unique values. This series will be formatted in descending order by default, so the first element is the most frequently occurring value.\n",
    "\n",
    "***Note: `.value_counts()` excludes the counts of null values in the column!***"
   ]
  },
  {
   "cell_type": "markdown",
   "metadata": {
    "slideshow": {
     "slide_type": "slide"
    }
   },
   "source": [
    "## Inspecting Data Types\n",
    "\n",
    "---"
   ]
  },
  {
   "cell_type": "markdown",
   "metadata": {},
   "source": [
    "```Python\n",
    "import pandas as pd\n",
    "import numpy as np\n",
    "```"
   ]
  },
  {
   "cell_type": "code",
   "execution_count": null,
   "metadata": {},
   "outputs": [],
   "source": []
  },
  {
   "cell_type": "markdown",
   "metadata": {
    "slideshow": {
     "slide_type": "slide"
    }
   },
   "source": [
    "### 1. Create a small DataFrame with different data types"
   ]
  },
  {
   "cell_type": "markdown",
   "metadata": {
    "slideshow": {
     "slide_type": "-"
    }
   },
   "source": [
    "```Python\n",
    "test_data = dict( \n",
    "    A = np.random.rand(3),\n",
    "    B = 1,\n",
    "    C = 'foo',\n",
    "    D = pd.Timestamp('20010102'),\n",
    "    E = pd.Series([1.0]*3).astype('float32'),\n",
    "    F = False,\n",
    "    G = pd.Series([1]*3,dtype='int8')\n",
    ")\n",
    "```"
   ]
  },
  {
   "cell_type": "code",
   "execution_count": 1,
   "metadata": {},
   "outputs": [
    {
     "ename": "SyntaxError",
     "evalue": "invalid syntax (<ipython-input-1-5f396873a541>, line 1)",
     "output_type": "error",
     "traceback": [
      "\u001b[1;36m  File \u001b[1;32m\"<ipython-input-1-5f396873a541>\"\u001b[1;36m, line \u001b[1;32m1\u001b[0m\n\u001b[1;33m    key E\u001b[0m\n\u001b[1;37m        ^\u001b[0m\n\u001b[1;31mSyntaxError\u001b[0m\u001b[1;31m:\u001b[0m invalid syntax\n"
     ]
    }
   ],
   "source": []
  },
  {
   "cell_type": "markdown",
   "metadata": {},
   "source": [
    "```Python\n",
    "# Key E\n",
    "pd.Series([1.0]*3).astype('float32')\n",
    "```"
   ]
  },
  {
   "cell_type": "code",
   "execution_count": null,
   "metadata": {},
   "outputs": [],
   "source": []
  },
  {
   "cell_type": "markdown",
   "metadata": {},
   "source": [
    "```Python\n",
    "# Key G\n",
    "pd.Series([1]*3,dtype='int8')\n",
    "```"
   ]
  },
  {
   "cell_type": "code",
   "execution_count": null,
   "metadata": {},
   "outputs": [],
   "source": []
  },
  {
   "cell_type": "markdown",
   "metadata": {
    "slideshow": {
     "slide_type": "fragment"
    }
   },
   "source": [
    "```Python\n",
    "# Whole dict\n",
    "test_data\n",
    "```"
   ]
  },
  {
   "cell_type": "code",
   "execution_count": null,
   "metadata": {},
   "outputs": [],
   "source": []
  },
  {
   "cell_type": "markdown",
   "metadata": {
    "slideshow": {
     "slide_type": "slide"
    }
   },
   "source": [
    "```Python\n",
    "# Create a dataframe from the dictionary\n",
    "df=pd.DataFrame(test_data)\n",
    "```"
   ]
  },
  {
   "cell_type": "code",
   "execution_count": null,
   "metadata": {},
   "outputs": [],
   "source": []
  },
  {
   "cell_type": "markdown",
   "metadata": {},
   "source": [
    "```Python\n",
    "df.head()\n",
    "```"
   ]
  },
  {
   "cell_type": "code",
   "execution_count": null,
   "metadata": {},
   "outputs": [],
   "source": []
  },
  {
   "cell_type": "markdown",
   "metadata": {
    "slideshow": {
     "slide_type": "slide"
    }
   },
   "source": [
    "### 2. Examine the data types of the columns"
   ]
  },
  {
   "cell_type": "markdown",
   "metadata": {
    "slideshow": {
     "slide_type": "fragment"
    }
   },
   "source": [
    "```Python\n",
    "df.info()\n",
    "#df.dtypes\n",
    "```"
   ]
  },
  {
   "cell_type": "code",
   "execution_count": null,
   "metadata": {},
   "outputs": [],
   "source": []
  },
  {
   "cell_type": "markdown",
   "metadata": {
    "slideshow": {
     "slide_type": "slide"
    }
   },
   "source": [
    "### 3. Use the `.get_dtype_counts()` function to determine how many columns there are of each type"
   ]
  },
  {
   "cell_type": "markdown",
   "metadata": {
    "scrolled": true
   },
   "source": [
    "```Python\n",
    "df.get_dtype_counts()\n",
    "#df.dtypes.value_counts()\n",
    "```"
   ]
  },
  {
   "cell_type": "code",
   "execution_count": null,
   "metadata": {},
   "outputs": [],
   "source": []
  },
  {
   "cell_type": "markdown",
   "metadata": {},
   "source": [
    "```Python\n",
    "# creating series of type int using arange\n",
    "ser1 = pd.Series(np.arange(5).astype('int')) # notice astype() here\n",
    "ser1\n",
    "```"
   ]
  },
  {
   "cell_type": "code",
   "execution_count": null,
   "metadata": {},
   "outputs": [],
   "source": []
  },
  {
   "cell_type": "markdown",
   "metadata": {},
   "source": [
    "```Python\n",
    "# creating series of type float using arange\n",
    "ser2 = pd.Series(np.arange(5).astype('float32')) #try using list insted of arange()\n",
    "ser2\n",
    "```"
   ]
  },
  {
   "cell_type": "code",
   "execution_count": null,
   "metadata": {},
   "outputs": [],
   "source": []
  },
  {
   "cell_type": "markdown",
   "metadata": {},
   "source": [
    "```Python\n",
    "# let's check the type of series\n",
    "type(ser1), type(ser2)\n",
    "```"
   ]
  },
  {
   "cell_type": "code",
   "execution_count": null,
   "metadata": {},
   "outputs": [],
   "source": []
  },
  {
   "cell_type": "markdown",
   "metadata": {},
   "source": [
    "```Python\n",
    "# We can convert ser2 which is float to int \"ser3\" here\n",
    "ser3=ser2.astype('int')\n",
    "ser3\n",
    "```"
   ]
  },
  {
   "cell_type": "code",
   "execution_count": null,
   "metadata": {},
   "outputs": [],
   "source": []
  },
  {
   "cell_type": "markdown",
   "metadata": {},
   "source": [
    "```Python\n",
    "ser3.dtype\n",
    "```"
   ]
  },
  {
   "cell_type": "code",
   "execution_count": null,
   "metadata": {},
   "outputs": [],
   "source": []
  },
  {
   "cell_type": "markdown",
   "metadata": {
    "slideshow": {
     "slide_type": "slide"
    }
   },
   "source": [
    "### 4. Create a Series object with integers 1-5 and float 6.0. \n",
    "\n",
    "- What data type is the Series?\n",
    "- What if instead of a float you inserted a string `'6'`?\n",
    "- Can you convert the series to int format?"
   ]
  },
  {
   "cell_type": "markdown",
   "metadata": {},
   "source": [
    "```Python\n",
    "#What data type is the Series?\n",
    "a=[1,2,3,4,5,6.0]\n",
    "pd.Series(a)\n",
    "```"
   ]
  },
  {
   "cell_type": "code",
   "execution_count": null,
   "metadata": {},
   "outputs": [],
   "source": []
  },
  {
   "cell_type": "markdown",
   "metadata": {},
   "source": [
    "```Python\n",
    "# What if instead of a float you inserted a string '6'?\n",
    "a=[1,2,3,4,5,'6']\n",
    "pd.Series(a)\n",
    "```"
   ]
  },
  {
   "cell_type": "code",
   "execution_count": null,
   "metadata": {},
   "outputs": [],
   "source": []
  },
  {
   "cell_type": "markdown",
   "metadata": {},
   "source": [
    "```Python\n",
    "# Can you convert the series to int format?\n",
    "pd.Series(a).astype('int')\n",
    "```"
   ]
  },
  {
   "cell_type": "code",
   "execution_count": null,
   "metadata": {},
   "outputs": [],
   "source": []
  },
  {
   "cell_type": "markdown",
   "metadata": {},
   "source": [
    "Notice the difference in **dtype**!! "
   ]
  },
  {
   "cell_type": "markdown",
   "metadata": {},
   "source": [
    "What if we have some string instead of 6. For example 's'"
   ]
  },
  {
   "cell_type": "markdown",
   "metadata": {},
   "source": [
    "```Python\n",
    "#pd.Series([1,2,'s']).astype(int) # try this\n",
    "```"
   ]
  },
  {
   "cell_type": "code",
   "execution_count": null,
   "metadata": {},
   "outputs": [],
   "source": []
  },
  {
   "cell_type": "markdown",
   "metadata": {
    "slideshow": {
     "slide_type": "slide"
    }
   },
   "source": [
    "### 5. Create a Series with data `[1, 2, 3, 6., 'foo']`. What data type is the Series?"
   ]
  },
  {
   "cell_type": "code",
   "execution_count": 1,
   "metadata": {
    "scrolled": true,
    "slideshow": {
     "slide_type": "fragment"
    }
   },
   "outputs": [],
   "source": [
    "#Do it yourself!"
   ]
  },
  {
   "cell_type": "markdown",
   "metadata": {
    "slideshow": {
     "slide_type": "slide"
    }
   },
   "source": [
    "### *Without* running this code with a Python interpreter, what would you expect to be the common `dtype`?\n",
    "\n",
    "    [1, 3, 9, .33, False, '03-20-1978', np.arange(22)]\n",
    "\n"
   ]
  },
  {
   "cell_type": "code",
   "execution_count": 2,
   "metadata": {},
   "outputs": [],
   "source": [
    "# think about it!"
   ]
  },
  {
   "cell_type": "markdown",
   "metadata": {
    "slideshow": {
     "slide_type": "slide"
    }
   },
   "source": [
    "## Applying Functions to DataFrames and Series\n",
    "\n",
    "* `df.map()` can be used to apply a function to a pandas series or single dataframe colum.\n",
    "* `df.apply()` can be used to apply a function along every row or column of a dataframe, what is returned depends on if the function aggregates or not.\n",
    "* `df.applymap()` can be used to apply a function to every cell of a dataframe."
   ]
  },
  {
   "cell_type": "markdown",
   "metadata": {
    "slideshow": {
     "slide_type": "slide"
    }
   },
   "source": [
    "### 6. Create another small DataFrame"
   ]
  },
  {
   "cell_type": "markdown",
   "metadata": {
    "scrolled": true,
    "slideshow": {
     "slide_type": "-"
    }
   },
   "source": [
    "```Python\n",
    "# Create some more test data.\n",
    "np.random.seed(1)\n",
    "df = pd.DataFrame(np.random.randn(5, 4), columns=['a', 'b', 'c', 'd'])\n",
    "df\n",
    "```"
   ]
  },
  {
   "cell_type": "code",
   "execution_count": null,
   "metadata": {},
   "outputs": [],
   "source": []
  },
  {
   "cell_type": "markdown",
   "metadata": {},
   "source": [
    "### Let's quickly grab the idea of `applymap()` and `apply()`"
   ]
  },
  {
   "cell_type": "markdown",
   "metadata": {},
   "source": [
    "```Python\n",
    "df.applymap(np.mean) # Apply a function to a Dataframe elementwise.\n",
    "```"
   ]
  },
  {
   "cell_type": "code",
   "execution_count": null,
   "metadata": {},
   "outputs": [],
   "source": []
  },
  {
   "cell_type": "markdown",
   "metadata": {},
   "source": [
    "```Python\n",
    "df.apply(np.mean) # Apply a function along an axis of the DataFrame. # default axis = 0\n",
    "```"
   ]
  },
  {
   "cell_type": "code",
   "execution_count": null,
   "metadata": {},
   "outputs": [],
   "source": []
  },
  {
   "cell_type": "markdown",
   "metadata": {},
   "source": [
    "```Python\n",
    "df.applymap(np.sum)\n",
    "```"
   ]
  },
  {
   "cell_type": "code",
   "execution_count": null,
   "metadata": {},
   "outputs": [],
   "source": []
  },
  {
   "cell_type": "markdown",
   "metadata": {},
   "source": [
    "```Python\n",
    "df.apply(np.sum) # default axis = 0\n",
    "```"
   ]
  },
  {
   "cell_type": "code",
   "execution_count": null,
   "metadata": {},
   "outputs": [],
   "source": []
  },
  {
   "cell_type": "markdown",
   "metadata": {
    "slideshow": {
     "slide_type": "slide"
    }
   },
   "source": [
    "### 7. Use the `.apply()`/`.applymap()` function to find the square root of all cells\n",
    "\n",
    "[`apply() vs mapapply() - A good link`](https://stackoverflow.com/questions/19798153/difference-between-map-applymap-and-apply-methods-in-pandas)"
   ]
  },
  {
   "cell_type": "markdown",
   "metadata": {},
   "source": [
    "In this example of `applymap()` and `apply()`, `sqrt()` id elementwise operation. "
   ]
  },
  {
   "cell_type": "markdown",
   "metadata": {},
   "source": [
    "```Python\n",
    "df.applymap(np.sqrt) # square is either +ve or zero, no sqrt for -ve number\n",
    "```"
   ]
  },
  {
   "cell_type": "code",
   "execution_count": null,
   "metadata": {},
   "outputs": [],
   "source": []
  },
  {
   "cell_type": "markdown",
   "metadata": {
    "scrolled": true,
    "slideshow": {
     "slide_type": "fragment"
    }
   },
   "source": [
    "```Python\n",
    "# Square root ALL CELLS (NaN == Not a Number).\n",
    "df_sqrt = df.apply(np.sqrt)\n",
    "df_sqrt\n",
    "```"
   ]
  },
  {
   "cell_type": "code",
   "execution_count": null,
   "metadata": {},
   "outputs": [],
   "source": []
  },
  {
   "cell_type": "markdown",
   "metadata": {},
   "source": [
    "## lambda function"
   ]
  },
  {
   "cell_type": "markdown",
   "metadata": {},
   "source": [
    "```Python\n",
    "# function to compute squares\n",
    "def square(num):\n",
    "    return num**2\n",
    "square(4)\n",
    "```"
   ]
  },
  {
   "cell_type": "code",
   "execution_count": null,
   "metadata": {},
   "outputs": [],
   "source": []
  },
  {
   "cell_type": "markdown",
   "metadata": {},
   "source": [
    "Let’s re-arrange the above function \"square\" in a single line."
   ]
  },
  {
   "cell_type": "markdown",
   "metadata": {},
   "source": [
    "```Python\n",
    "def square(num):return num**2\n",
    "square (4)\n",
    "```"
   ]
  },
  {
   "cell_type": "code",
   "execution_count": null,
   "metadata": {},
   "outputs": [],
   "source": []
  },
  {
   "cell_type": "markdown",
   "metadata": {},
   "source": [
    "Now, let’s convert this one line function `def square(num):return num**2` into a lambda expression.<br>\n",
    "Steps to re-write above function to a lambda expression\n",
    "* replace `\"def\"` with `\"lambda\"` \n",
    "* delete function name `\"square\"` \n",
    "* remove `\"()\"` around num\n",
    "* delete `\"return\"`\n",
    "\n",
    "The modified code will be your lambda expression!<br>\n",
    "Let’s try! We will use lambda expressions a lot in our pandas library."
   ]
  },
  {
   "cell_type": "markdown",
   "metadata": {},
   "source": [
    "```Python\n",
    "lambda num : num*2\n",
    "# hold-on, we will use this expression in map and filter to understand in details\n",
    "```"
   ]
  },
  {
   "cell_type": "code",
   "execution_count": null,
   "metadata": {},
   "outputs": [],
   "source": []
  },
  {
   "cell_type": "markdown",
   "metadata": {},
   "source": [
    "### let's try lambda with `map()`"
   ]
  },
  {
   "cell_type": "markdown",
   "metadata": {},
   "source": [
    "```Python\n",
    "# computing squares using for loop\n",
    "my_list = [1,2,3,4,5]\n",
    "num_sq = []\n",
    "for num in my_list:\n",
    "    num_sq.append(num**2)\n",
    "print (num_sq)\n",
    "```"
   ]
  },
  {
   "cell_type": "code",
   "execution_count": null,
   "metadata": {},
   "outputs": [],
   "source": []
  },
  {
   "cell_type": "markdown",
   "metadata": {},
   "source": [
    "```Python\n",
    "# so easy to use map with lambda!\n",
    "result = map(square, my_list)\n",
    "result\n",
    "```"
   ]
  },
  {
   "cell_type": "code",
   "execution_count": null,
   "metadata": {},
   "outputs": [],
   "source": []
  },
  {
   "cell_type": "markdown",
   "metadata": {},
   "source": [
    "```Python\n",
    "list(result)\n",
    "```"
   ]
  },
  {
   "cell_type": "code",
   "execution_count": null,
   "metadata": {},
   "outputs": [],
   "source": []
  },
  {
   "cell_type": "markdown",
   "metadata": {},
   "source": [
    "```Python\n",
    "#above two cells in a single line using lambda expression -- a throw away function\n",
    "list(map(lambda num:num**2, my_list))\n",
    "```"
   ]
  },
  {
   "cell_type": "code",
   "execution_count": null,
   "metadata": {},
   "outputs": [],
   "source": []
  },
  {
   "cell_type": "markdown",
   "metadata": {
    "slideshow": {
     "slide_type": "slide"
    }
   },
   "source": [
    "### 8. Use `.apply()` to find the mean of the columns"
   ]
  },
  {
   "cell_type": "markdown",
   "metadata": {},
   "source": [
    "```Python\n",
    "def mean_(val):\n",
    "    return val.mean()\n",
    "```"
   ]
  },
  {
   "cell_type": "code",
   "execution_count": null,
   "metadata": {},
   "outputs": [],
   "source": []
  },
  {
   "cell_type": "markdown",
   "metadata": {
    "slideshow": {
     "slide_type": "fragment"
    }
   },
   "source": [
    "```Python\n",
    "df.apply(mean_)\n",
    "```"
   ]
  },
  {
   "cell_type": "markdown",
   "metadata": {},
   "source": [
    "```Python\n",
    "df.a.mean(), df.b.mean()\n",
    "```"
   ]
  },
  {
   "cell_type": "code",
   "execution_count": null,
   "metadata": {},
   "outputs": [],
   "source": []
  },
  {
   "cell_type": "markdown",
   "metadata": {},
   "source": [
    "```Python\n",
    "df.apply(lambda x: x.mean())\n",
    "```"
   ]
  },
  {
   "cell_type": "code",
   "execution_count": null,
   "metadata": {},
   "outputs": [],
   "source": []
  },
  {
   "cell_type": "markdown",
   "metadata": {
    "slideshow": {
     "slide_type": "slide"
    }
   },
   "source": [
    "### 9. Use `.apply()` to find the mean of the rows"
   ]
  },
  {
   "cell_type": "markdown",
   "metadata": {
    "scrolled": true,
    "slideshow": {
     "slide_type": "fragment"
    }
   },
   "source": [
    "```Python\n",
    "df.apply(lambda x: x.mean(), axis = 1)\n",
    "```"
   ]
  },
  {
   "cell_type": "code",
   "execution_count": null,
   "metadata": {},
   "outputs": [],
   "source": []
  },
  {
   "cell_type": "markdown",
   "metadata": {},
   "source": [
    "### Good to know little more!"
   ]
  },
  {
   "cell_type": "markdown",
   "metadata": {},
   "source": [
    "```Python\n",
    "#Using iloc for any selected row\n",
    "df.iloc[0].mean()\n",
    "```"
   ]
  },
  {
   "cell_type": "code",
   "execution_count": null,
   "metadata": {},
   "outputs": [],
   "source": []
  },
  {
   "cell_type": "markdown",
   "metadata": {},
   "source": [
    "```Python\n",
    "# another simpler way, we can add a new column\n",
    "df['mean_rows'] = df.mean(axis=1)\n",
    "df.head()\n",
    "```"
   ]
  },
  {
   "cell_type": "code",
   "execution_count": null,
   "metadata": {},
   "outputs": [],
   "source": []
  },
  {
   "cell_type": "markdown",
   "metadata": {},
   "source": [
    "```Python\n",
    "df.drop('mean_rows', axis = 1, inplace = True)\n",
    "df\n",
    "```"
   ]
  },
  {
   "cell_type": "code",
   "execution_count": null,
   "metadata": {},
   "outputs": [],
   "source": []
  },
  {
   "cell_type": "markdown",
   "metadata": {},
   "source": [
    "### 10. Use `.apply()` to add two columns"
   ]
  },
  {
   "cell_type": "markdown",
   "metadata": {},
   "source": [
    "```Python\n",
    "df.apply(lambda x: x[0]+x[1], axis=1)\n",
    "```"
   ]
  },
  {
   "cell_type": "code",
   "execution_count": null,
   "metadata": {},
   "outputs": [],
   "source": []
  },
  {
   "cell_type": "markdown",
   "metadata": {},
   "source": [
    "```Python\n",
    "#Simple and handy!\n",
    "df['a+b'] = df.a + df.b\n",
    "df.head()\n",
    "```"
   ]
  },
  {
   "cell_type": "code",
   "execution_count": null,
   "metadata": {},
   "outputs": [],
   "source": []
  },
  {
   "cell_type": "markdown",
   "metadata": {},
   "source": [
    "### 11. Use `.applymap()` to round the value in each cell"
   ]
  },
  {
   "cell_type": "markdown",
   "metadata": {},
   "source": [
    "```Python\n",
    "df.applymap(lambda x: round(x,2))\n",
    "```"
   ]
  },
  {
   "cell_type": "code",
   "execution_count": null,
   "metadata": {},
   "outputs": [],
   "source": []
  },
  {
   "cell_type": "markdown",
   "metadata": {},
   "source": [
    "### 12. Use `.applymap()` to apply a self-defined function to each cell"
   ]
  },
  {
   "cell_type": "markdown",
   "metadata": {
    "scrolled": true
   },
   "source": [
    "```Python\n",
    "def add_10(val):\n",
    "    return val+10\n",
    "df.applymap(add_10)\n",
    "```"
   ]
  },
  {
   "cell_type": "code",
   "execution_count": null,
   "metadata": {},
   "outputs": [],
   "source": []
  },
  {
   "cell_type": "markdown",
   "metadata": {},
   "source": [
    "**Let's use lambda function instead**."
   ]
  },
  {
   "cell_type": "markdown",
   "metadata": {},
   "source": [
    "```Python\n",
    "df.applymap(lambda x: x+10)\n",
    "```"
   ]
  },
  {
   "cell_type": "code",
   "execution_count": null,
   "metadata": {},
   "outputs": [],
   "source": []
  },
  {
   "cell_type": "markdown",
   "metadata": {},
   "source": [
    "## Filling missing values\n",
    "\n",
    "---\n",
    "\n",
    "When we took the square root of all the elements in df, some values where not mapped to another number because they were negative. One could use `.applymap()` in some way to fill these values. A more direct method uses pandas' data filling methods."
   ]
  },
  {
   "cell_type": "markdown",
   "metadata": {},
   "source": [
    "### 13. Fill all missing values with 'neg' (indicating that the missing value was due to a negative original value)"
   ]
  },
  {
   "cell_type": "markdown",
   "metadata": {},
   "source": [
    "```Python\n",
    "df_sqrt\n",
    "```"
   ]
  },
  {
   "cell_type": "code",
   "execution_count": null,
   "metadata": {},
   "outputs": [],
   "source": []
  },
  {
   "cell_type": "markdown",
   "metadata": {},
   "source": [
    "```Python\n",
    "df_sqrt.fillna(value='neg')#inplace is False by default, set True for permanent change\n",
    "```"
   ]
  },
  {
   "cell_type": "code",
   "execution_count": null,
   "metadata": {},
   "outputs": [],
   "source": []
  },
  {
   "cell_type": "code",
   "execution_count": 3,
   "metadata": {},
   "outputs": [],
   "source": [
    "#df_sqrt"
   ]
  },
  {
   "cell_type": "markdown",
   "metadata": {},
   "source": [
    "### 14. We could do that also for one column only. \n",
    "\n",
    "Note that the given dataframe was not modified before. We have to specify `inplace=True` to do so."
   ]
  },
  {
   "cell_type": "markdown",
   "metadata": {},
   "source": [
    "```Python\n",
    "df_sqrt.fillna({'b':'neg'},inplace=True) # notice inplace, this is a permanent change in col b\n",
    "```"
   ]
  },
  {
   "cell_type": "code",
   "execution_count": null,
   "metadata": {},
   "outputs": [],
   "source": []
  },
  {
   "cell_type": "markdown",
   "metadata": {},
   "source": [
    "### 15. In other contexts, it might be useful to fill with other values. \n",
    "\n",
    "Just to show how it works,\n",
    "let's fill the missing value in column `c`with the column mean."
   ]
  },
  {
   "cell_type": "markdown",
   "metadata": {},
   "source": [
    "```Python\n",
    "df_sqrt.c.fillna(df_sqrt.c.mean(), inplace=True)\n",
    "df_sqrt\n",
    "```"
   ]
  },
  {
   "cell_type": "code",
   "execution_count": null,
   "metadata": {},
   "outputs": [],
   "source": []
  },
  {
   "cell_type": "markdown",
   "metadata": {},
   "source": [
    "### 16. Forward filling propagates values from rows above"
   ]
  },
  {
   "cell_type": "markdown",
   "metadata": {},
   "source": [
    "```Python\n",
    "df_sqrt.a.fillna(method='ffill',inplace=True)\n",
    "df_sqrt\n",
    "```"
   ]
  },
  {
   "cell_type": "code",
   "execution_count": null,
   "metadata": {},
   "outputs": [],
   "source": []
  },
  {
   "cell_type": "markdown",
   "metadata": {},
   "source": [
    "```Python\n",
    "df_sqrt.d.fillna(method='ffill',inplace=False)\n",
    "```"
   ]
  },
  {
   "cell_type": "code",
   "execution_count": null,
   "metadata": {},
   "outputs": [],
   "source": []
  },
  {
   "cell_type": "markdown",
   "metadata": {},
   "source": [
    "### 17. Backward filling propagates values from rows below"
   ]
  },
  {
   "cell_type": "markdown",
   "metadata": {},
   "source": [
    "```Python\n",
    "df_sqrt.d.fillna(method='bfill',inplace=True)\n",
    "df_sqrt\n",
    "```"
   ]
  },
  {
   "cell_type": "code",
   "execution_count": null,
   "metadata": {},
   "outputs": [],
   "source": []
  },
  {
   "cell_type": "markdown",
   "metadata": {
    "slideshow": {
     "slide_type": "slide"
    }
   },
   "source": [
    "## Counting Occurrances of Unique Values With `.value_counts()`\n",
    "\n",
    "---\n",
    "\n",
    "The pandas function `.value_counts()` tells us the count of unique values in a column's data. It's helpful for identifying unexpected values and the data distribution, especially when looking at group membership.  Looking at the value counts per column can give us a quick overview of values expressed in our data.\n",
    "\n",
    "Some common use cases of `.value_counts()` include:\n",
    " - Finding strings inside mostly numeric/continuous data\n",
    " - Finding non-numeric values\n",
    " - Checking the distribution of categorical variables\n",
    " - Identifying the most and least common values"
   ]
  },
  {
   "cell_type": "markdown",
   "metadata": {
    "slideshow": {
     "slide_type": "slide"
    }
   },
   "source": [
    "### 18. Create a random vector of 50 numbers ranging from 0 to 6 with `numpy`"
   ]
  },
  {
   "cell_type": "markdown",
   "metadata": {
    "slideshow": {
     "slide_type": "fragment"
    }
   },
   "source": [
    "```Python\n",
    "data = np.random.randint(0, 7, size = 50)\n",
    "data\n",
    "```"
   ]
  },
  {
   "cell_type": "code",
   "execution_count": null,
   "metadata": {},
   "outputs": [],
   "source": []
  },
  {
   "cell_type": "markdown",
   "metadata": {
    "slideshow": {
     "slide_type": "fragment"
    }
   },
   "source": [
    "### 19. Convert the vector to a series and count the occurrences of each number"
   ]
  },
  {
   "cell_type": "markdown",
   "metadata": {
    "slideshow": {
     "slide_type": "fragment"
    }
   },
   "source": [
    "```Python\n",
    "s = pd.Series(data)\n",
    "s.head()\n",
    "```"
   ]
  },
  {
   "cell_type": "code",
   "execution_count": null,
   "metadata": {},
   "outputs": [],
   "source": []
  },
  {
   "cell_type": "markdown",
   "metadata": {
    "slideshow": {
     "slide_type": "fragment"
    }
   },
   "source": [
    "```Python\n",
    "# The counts for each number in our array\n",
    "s.value_counts()\n",
    "```"
   ]
  },
  {
   "cell_type": "code",
   "execution_count": null,
   "metadata": {},
   "outputs": [],
   "source": []
  },
  {
   "cell_type": "markdown",
   "metadata": {
    "slideshow": {
     "slide_type": "slide"
    }
   },
   "source": [
    "## Independent Practice: Sales Data\n",
    "\n",
    "---\n",
    "\n",
    "1. Load the `sales.csv` data set from last week's class.\n",
    "- Inspect the data types.\n",
    "- Imagine you've found out that all your values in column 1 are off by one. Use `.apply()` or `.map()` to add `1` to column 1 of the data set.\n",
    "- Use `.apply` to add $2\\cdot {\\rm column}_1 + 3\\cdot {\\rm column}_3$\n",
    "- Use a combination of `apply` and `.value_counts()` to count how many values of `2015_margin` are larger than 45."
   ]
  },
  {
   "cell_type": "markdown",
   "metadata": {
    "collapsed": true
   },
   "source": [
    "## Conclusion \n",
    "\n",
    "Before this lesson we used pandas for reading in datasets, producing summary statistics and slicing on the data. In this lesson you learned how to inspect which datatypes are contained, how to transform individual cells and columns using `.map()`, `.apply()` and `.applymap()`, and how to get insight about the contained values using `.value_counts()`."
   ]
  },
  {
   "cell_type": "markdown",
   "metadata": {},
   "source": [
    "## Additional resources\n",
    "\n",
    "\n",
    "- [`pandas` Documentation](http://pandas.pydata.org/pandas-docs/stable/pandas.pdf).\n",
    "- [`pandas`: dtypes](http://pandas.pydata.org/pandas-docs/stable/pandas.pdf)\n",
    "- [`pandas` Series: value_counts](https://pandas.pydata.org/pandas-docs/stable/generated/pandas.Series.value_counts.html) \n",
    "\n",
    "For more advanced information on `.apply` usage, check out these links:\n",
    "\n",
    "- [\"Why Not\"'s Gist Examples](https://gist.github.com/why-not/4582705)\n",
    "\n",
    "- [Chris Albon's Map + Apply Examples](http://chrisalbon.com/python/pandas_apply_operations_to_dataframes.html)\n",
    "\n"
   ]
  },
  {
   "cell_type": "markdown",
   "metadata": {},
   "source": [
    "In case, you want to learn more about dataframes.<br>\n",
    "This link could be helpful: https://drive.google.com/file/d/1JKGxA5RbPL9ISkfmkBnJmbMQu7a5oiw-/view?usp=sharing"
   ]
  }
 ],
 "metadata": {
  "anaconda-cloud": {},
  "kernelspec": {
   "display_name": "Python 3",
   "language": "python",
   "name": "python3"
  },
  "language_info": {
   "codemirror_mode": {
    "name": "ipython",
    "version": 3
   },
   "file_extension": ".py",
   "mimetype": "text/x-python",
   "name": "python",
   "nbconvert_exporter": "python",
   "pygments_lexer": "ipython3",
   "version": "3.7.5"
  },
  "toc": {
   "nav_menu": {},
   "number_sections": false,
   "sideBar": true,
   "skip_h1_title": true,
   "title_cell": "Lesson Guide",
   "title_sidebar": "Contents",
   "toc_cell": true,
   "toc_position": {},
   "toc_section_display": "block",
   "toc_window_display": false
  }
 },
 "nbformat": 4,
 "nbformat_minor": 1
}
