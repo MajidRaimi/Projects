{
 "cells": [
  {
   "cell_type": "markdown",
   "metadata": {},
   "source": [
    "# Introduction to NumPy: Arrays\n",
    "_Dr. Junaid Qazi, PhD_\n",
    "\n",
    "\n",
    "As a fundamental package for scientific computing, NumPy provides the foundations of mathematical, scientific, engineering and data science programming within the Python Echo-system. NumPy’s main object is the homogeneous multidimensional array.<br> \n",
    "\n",
    "In this lecture, we will go through the range of important NumPy's concepts and built-in function that we will be frequently using in the coming sections. \n",
    "\n",
    "\n",
    "*For complete documentation, please visit, http://www.numpy.org and a [Quickstart tutorial](https://docs.scipy.org/doc/numpy-dev/user/quickstart.html).*\n",
    "\n",
    "**NumPy** is extremely **important for Data Science** because:\n",
    "\n",
    "   * Linear algebra library\n",
    "   * Powerful and incredibly fast\n",
    "   * Integrate C/C++ and Fortran code\n",
    "\n",
    "Almost all of the [PyData](https://pydata.org) Eco-System libraries rely on [NumPy](http://www.numpy.org). This is one of their **most important and main building block**. In this section, we will cover the key concepts of this wonderful Python library. <br>\n",
    "\n",
    ">***Remember, practice is a key.*** \n",
    "    \n",
    "## How to install NumPy\n",
    "\n",
    "**Installation of Python using [Anaconda Distribution](https://www.anaconda.com/download/#windows) is recommended. [This is the most popular Python Data Science platform](https://www.anaconda.com/what-is-anaconda/) with over 4.5 million users.**\n",
    "\n",
    "If you have not installed the required package/library so far:<br>\n",
    "For Anaconda users, install NumPy by going to your terminal or command prompt and typing:\n",
    "    \n",
    "    conda install numpy=<version_number> # in-case you want specific version\n",
    "\n",
    "If you want to use pip\n",
    "\n",
    "    pip install numpy=<version_number>\n",
    "    \n",
    "**Please use the version 1.11.3 to avoid related issues, once you finish the course, you can always try other versions, they are not very different**\n",
    "\n",
    "You do't have Anaconda and can not install it? Please visit [Numpy's official documentation on Building and installing NumPy.](http://docs.scipy.org/doc/numpy-1.10.1/user/install.html)\n",
    "\n",
    "## How to use NumPy after installation:\n",
    "\n",
    "Now, we have installed NumPy and we want to use it, we need to import the library. The most common and official way is to import this library as \"np\":\n",
    "\n",
    "    import numpy as np"
   ]
  },
  {
   "cell_type": "markdown",
   "metadata": {},
   "source": [
    "```Python\n",
    "# Let import NumPy\n",
    "import numpy as np\n",
    "```"
   ]
  },
  {
   "cell_type": "code",
   "execution_count": null,
   "metadata": {},
   "outputs": [],
   "source": []
  },
  {
   "cell_type": "markdown",
   "metadata": {},
   "source": [
    "NumPy has many built-in functions and capabilities. We will focus on some of the most important and key concepts of this powerful library.\n",
    "\n",
    "# Numpy Arrays\n",
    "\n",
    "NumPy arrays will be the main concept that we will be using in this course. These arrays essentially come in two flavors: <br>\n",
    "* **Vectors:** Vectors are strictly 1-dimensional array\n",
    "*  **Matrices:** Matrices are 2-dimensional (matrix can still have only one row or one column)."
   ]
  },
  {
   "cell_type": "markdown",
   "metadata": {},
   "source": [
    "## Creating NumPy Arrays"
   ]
  },
  {
   "cell_type": "markdown",
   "metadata": {},
   "source": [
    "### From Python data type (e.g. List, Tuple)"
   ]
  },
  {
   "cell_type": "markdown",
   "metadata": {},
   "source": [
    "```Python\n",
    "# Lets create a Python list. \n",
    "my_list = [-1,0,1]\n",
    "my_list, type(my_list)\n",
    "```"
   ]
  },
  {
   "cell_type": "code",
   "execution_count": null,
   "metadata": {},
   "outputs": [],
   "source": []
  },
  {
   "cell_type": "markdown",
   "metadata": {},
   "source": [
    "To create a NumPy array, from a Python data structure, we use NumPy's array function. <br>\n",
    "The NumPy's array function can be accessed by typing \"np.array\". <br>\n",
    "We need to cast our Python data structure, my_list, as a parameter to the array function.<br>"
   ]
  },
  {
   "cell_type": "markdown",
   "metadata": {},
   "source": [
    "```Python\n",
    "my_array = np.array(my_list) \n",
    "my_array, type(my_array)\n",
    "```"
   ]
  },
  {
   "cell_type": "code",
   "execution_count": null,
   "metadata": {},
   "outputs": [],
   "source": []
  },
  {
   "cell_type": "markdown",
   "metadata": {},
   "source": [
    "```Python\n",
    "# Lets create and cast a list of list to generate 2-D array \n",
    "my_matrix = [[1,2,3],[4,5,6],[7,8,9]]\n",
    "my_matrix\n",
    "```"
   ]
  },
  {
   "cell_type": "code",
   "execution_count": null,
   "metadata": {},
   "outputs": [],
   "source": []
  },
  {
   "cell_type": "markdown",
   "metadata": {},
   "source": [
    "```Python\n",
    "matrix_one = np.array(my_matrix)\n",
    "matrix_one\n",
    "```"
   ]
  },
  {
   "cell_type": "code",
   "execution_count": null,
   "metadata": {},
   "outputs": [],
   "source": []
  },
  {
   "cell_type": "markdown",
   "metadata": {},
   "source": [
    "```Python\n",
    "# We can use Tuple instead of list as well. \n",
    "my_tuple = (-1,0,1)\n",
    "my_array = np.array(my_tuple) \n",
    "my_array, type(my_array)\n",
    "```"
   ]
  },
  {
   "cell_type": "code",
   "execution_count": null,
   "metadata": {},
   "outputs": [],
   "source": []
  },
  {
   "cell_type": "markdown",
   "metadata": {},
   "source": [
    "### Array creation using NumPy's Built-in methods\n",
    "\n",
    "Most of the times, we use NumPy built-in methods to create arrays. These are much simpler and faster."
   ]
  },
  {
   "cell_type": "markdown",
   "metadata": {},
   "source": [
    "### `arange()`\n",
    "\n",
    "* arange() is very much similar to Python function range() <br>\n",
    "* Syntax: arange([start,] stop[, step,], dtype=None) <br>\n",
    "* Return evenly spaced values within a given interval. <br>\n",
    "\n",
    "*Press shift+tab for the documentation.*"
   ]
  },
  {
   "cell_type": "markdown",
   "metadata": {},
   "source": [
    "```Python\n",
    "np.arange(0,10) # similar to range() in Python, not including 10\n",
    "```"
   ]
  },
  {
   "cell_type": "code",
   "execution_count": null,
   "metadata": {},
   "outputs": [],
   "source": []
  },
  {
   "cell_type": "markdown",
   "metadata": {},
   "source": [
    "```Python\n",
    "# We can give the step\n",
    "np.arange(0,11,2)\n",
    "```"
   ]
  },
  {
   "cell_type": "code",
   "execution_count": null,
   "metadata": {},
   "outputs": [],
   "source": []
  },
  {
   "cell_type": "markdown",
   "metadata": {},
   "source": [
    "```Python\n",
    "# We can give the step and dtype\n",
    "np.arange(0,10,2, dtype=float)\n",
    "```"
   ]
  },
  {
   "cell_type": "code",
   "execution_count": null,
   "metadata": {},
   "outputs": [],
   "source": []
  },
  {
   "cell_type": "markdown",
   "metadata": {},
   "source": [
    "### `linspace()`\n",
    "Return evenly spaced numbers over a specified interval.<br>\n",
    "*Press shift+tab for the documentation.*"
   ]
  },
  {
   "cell_type": "markdown",
   "metadata": {},
   "source": [
    "```Python\n",
    "# start from 1 & end at 15 with 10 evenly spaced points b/w 1 to 15.\n",
    "np.linspace(1, 15, 15)\n",
    "```"
   ]
  },
  {
   "cell_type": "code",
   "execution_count": null,
   "metadata": {},
   "outputs": [],
   "source": []
  },
  {
   "cell_type": "markdown",
   "metadata": {},
   "source": [
    "```Python\n",
    "# Lets find the step size with \"retstep\" which returns the array and the step size\n",
    "my_linspace = np.linspace(5, 15, 9, retstep=True)\n",
    "my_linspace\n",
    "# my_linspace[1] to get the stepsize only\n",
    "```"
   ]
  },
  {
   "cell_type": "code",
   "execution_count": null,
   "metadata": {},
   "outputs": [],
   "source": []
  },
  {
   "cell_type": "markdown",
   "metadata": {},
   "source": [
    "```Python\n",
    "np.linspace(0,15,30) # 1-D array \n",
    "```"
   ]
  },
  {
   "cell_type": "code",
   "execution_count": null,
   "metadata": {},
   "outputs": [],
   "source": []
  },
  {
   "cell_type": "markdown",
   "metadata": {},
   "source": [
    "## Don't Confuse!\n",
    "  * <b>`arange()` takes 3rd argument as step size.<b><br>\n",
    "  * <b>`linspace()` take 3rd argument as no of point we want.<b>"
   ]
  },
  {
   "cell_type": "markdown",
   "metadata": {},
   "source": [
    "### `zeros()`\n",
    "\n",
    "* We want to create an array with **all zeros**<br>\n",
    "\n",
    "*Press shift+tab for the documentation.*"
   ]
  },
  {
   "cell_type": "markdown",
   "metadata": {},
   "source": [
    "```Python\n",
    "np.zeros(3) # 1-D with 3 elements\n",
    "```"
   ]
  },
  {
   "cell_type": "code",
   "execution_count": null,
   "metadata": {},
   "outputs": [],
   "source": []
  },
  {
   "cell_type": "markdown",
   "metadata": {},
   "source": [
    "```Python\n",
    "np.zeros((4,6)) #(no_row, no_col) passing a tuple\n",
    "```"
   ]
  },
  {
   "cell_type": "code",
   "execution_count": null,
   "metadata": {},
   "outputs": [],
   "source": []
  },
  {
   "cell_type": "markdown",
   "metadata": {},
   "source": [
    "### `ones()`\n",
    "\n",
    "* We want to create an array with **all ones**<br>\n",
    "\n",
    "*Press shift+tab for the documentation.*"
   ]
  },
  {
   "cell_type": "markdown",
   "metadata": {},
   "source": [
    "```Python\n",
    "np.ones(3)\n",
    "```"
   ]
  },
  {
   "cell_type": "code",
   "execution_count": null,
   "metadata": {},
   "outputs": [],
   "source": []
  },
  {
   "cell_type": "markdown",
   "metadata": {},
   "source": [
    "```Python\n",
    "np.ones((4,6)) #(no_row, no_col) passing a tuple\n",
    "```"
   ]
  },
  {
   "cell_type": "code",
   "execution_count": null,
   "metadata": {},
   "outputs": [],
   "source": []
  },
  {
   "cell_type": "markdown",
   "metadata": {},
   "source": [
    "## `eye()` \n",
    "Creates an identity matrix must be a square matrix, which is useful in several linear algebra problems.\n",
    "* Return a 2-D array with **ones on the diagonal and zeros elsewhere.**\n",
    "\n",
    "*Press shift+tab for the documentation.*"
   ]
  },
  {
   "cell_type": "markdown",
   "metadata": {},
   "source": [
    "```Python\n",
    "np.eye(5)\n",
    "```"
   ]
  },
  {
   "cell_type": "code",
   "execution_count": null,
   "metadata": {},
   "outputs": [],
   "source": []
  },
  {
   "cell_type": "markdown",
   "metadata": {},
   "source": [
    "## Random \n",
    "\n",
    "We can also create arrays with random numbers using Numpy's built-in functions in Random module.<br>\n",
    "*np.random. and then press tab for the options with random*"
   ]
  },
  {
   "cell_type": "markdown",
   "metadata": {},
   "source": [
    "### `rand()`\n",
    "Create an array of the given shape and populate it with\n",
    "random samples from a uniform distribution\n",
    "over ``[0, 1)``."
   ]
  },
  {
   "cell_type": "markdown",
   "metadata": {},
   "source": [
    "```Python\n",
    "np.random.rand(3) # 1-D array with three elements\n",
    "```"
   ]
  },
  {
   "cell_type": "code",
   "execution_count": null,
   "metadata": {},
   "outputs": [],
   "source": []
  },
  {
   "cell_type": "markdown",
   "metadata": {},
   "source": [
    "```Python\n",
    "np.random.rand(3,2) # row, col, note we are not passing a tuple here, each dimension as a separate argument\n",
    "```"
   ]
  },
  {
   "cell_type": "code",
   "execution_count": null,
   "metadata": {},
   "outputs": [],
   "source": []
  },
  {
   "cell_type": "markdown",
   "metadata": {},
   "source": [
    "### `randn()`\n",
    "\n",
    "Return a sample (or samples) from the \"standard normal\" or a \"Gaussian\" distribution. Unlike rand which is uniform.<br>\n",
    "*Press shift+tab for the documentation.*"
   ]
  },
  {
   "cell_type": "markdown",
   "metadata": {},
   "source": [
    "```Python\n",
    "np.random.randn(2)\n",
    "```"
   ]
  },
  {
   "cell_type": "code",
   "execution_count": null,
   "metadata": {},
   "outputs": [],
   "source": []
  },
  {
   "cell_type": "markdown",
   "metadata": {},
   "source": [
    "```Python\n",
    "np.random.randn(4,4) # no tuple, each dimension as a separate argument\n",
    "```"
   ]
  },
  {
   "cell_type": "code",
   "execution_count": null,
   "metadata": {},
   "outputs": [],
   "source": []
  },
  {
   "cell_type": "markdown",
   "metadata": {},
   "source": [
    "### `randint()`\n",
    "Return random integers from `low` (inclusive) to `high` (exclusive)."
   ]
  },
  {
   "cell_type": "markdown",
   "metadata": {},
   "source": [
    "```Python\n",
    "np.random.randint(1,100) #returns one random int, 1 inclusive, 100 exclusive\n",
    "```"
   ]
  },
  {
   "cell_type": "code",
   "execution_count": null,
   "metadata": {},
   "outputs": [],
   "source": []
  },
  {
   "cell_type": "markdown",
   "metadata": {},
   "source": [
    "```Python\n",
    "np.random.randint(1,100,10) #returns ten random int,\n",
    "```"
   ]
  },
  {
   "cell_type": "code",
   "execution_count": null,
   "metadata": {},
   "outputs": [],
   "source": []
  },
  {
   "cell_type": "markdown",
   "metadata": {},
   "source": [
    "## Array Methods & Attributes\n",
    "Some important Methods and Attributes are important to know:<br>\n",
    "\n",
    "### Methods:\n",
    "* reshape(), max(), min(), argmax(), argmin()<br>"
   ]
  },
  {
   "cell_type": "markdown",
   "metadata": {},
   "source": [
    "```Python\n",
    "# lets create 2 arrays using arange() and randint()\n",
    "array_arange = np.arange(16)\n",
    "array_ranint = np.random.randint(0,100,10)\n",
    "```"
   ]
  },
  {
   "cell_type": "code",
   "execution_count": null,
   "metadata": {},
   "outputs": [],
   "source": []
  },
  {
   "cell_type": "markdown",
   "metadata": {},
   "source": [
    "```Python\n",
    "array_arange\n",
    "```"
   ]
  },
  {
   "cell_type": "code",
   "execution_count": null,
   "metadata": {},
   "outputs": [],
   "source": []
  },
  {
   "cell_type": "markdown",
   "metadata": {},
   "source": [
    "```Python\n",
    "array_ranint\n",
    "```"
   ]
  },
  {
   "cell_type": "code",
   "execution_count": null,
   "metadata": {},
   "outputs": [],
   "source": []
  },
  {
   "cell_type": "markdown",
   "metadata": {},
   "source": [
    "#### `Reshape()`\n",
    "Returns an array containing the same data with a new shape."
   ]
  },
  {
   "cell_type": "markdown",
   "metadata": {},
   "source": [
    "```Python\n",
    "array_arange.reshape(4,4) # any other num will give error\n",
    "```"
   ]
  },
  {
   "cell_type": "code",
   "execution_count": null,
   "metadata": {},
   "outputs": [],
   "source": []
  },
  {
   "cell_type": "markdown",
   "metadata": {},
   "source": [
    "#### `max()` & `min()`\n",
    "Useful methods for finding max or min values."
   ]
  },
  {
   "cell_type": "markdown",
   "metadata": {},
   "source": [
    "```Python\n",
    "array_ranint\n",
    "```"
   ]
  },
  {
   "cell_type": "code",
   "execution_count": null,
   "metadata": {},
   "outputs": [],
   "source": []
  },
  {
   "cell_type": "markdown",
   "metadata": {},
   "source": [
    "```Python\n",
    "array_ranint.max()\n",
    "```"
   ]
  },
  {
   "cell_type": "code",
   "execution_count": null,
   "metadata": {},
   "outputs": [],
   "source": []
  },
  {
   "cell_type": "markdown",
   "metadata": {},
   "source": [
    "```Python\n",
    "array_ranint.min()\n",
    "```"
   ]
  },
  {
   "cell_type": "code",
   "execution_count": null,
   "metadata": {},
   "outputs": [],
   "source": []
  },
  {
   "cell_type": "markdown",
   "metadata": {},
   "source": [
    "#### `argmax()` & `argmin()`\n",
    "To find the index locations of max and min values in array"
   ]
  },
  {
   "cell_type": "markdown",
   "metadata": {},
   "source": [
    "```Python\n",
    "array_ranint.argmax() # index starts from 0\n",
    "```"
   ]
  },
  {
   "cell_type": "code",
   "execution_count": null,
   "metadata": {},
   "outputs": [],
   "source": []
  },
  {
   "cell_type": "markdown",
   "metadata": {},
   "source": [
    "```Python\n",
    "array_ranint.argmin()\n",
    "```"
   ]
  },
  {
   "cell_type": "code",
   "execution_count": null,
   "metadata": {},
   "outputs": [],
   "source": []
  },
  {
   "cell_type": "markdown",
   "metadata": {},
   "source": [
    "### Attributes\n",
    "* `size, shape, dtype` "
   ]
  },
  {
   "cell_type": "markdown",
   "metadata": {},
   "source": [
    "```Python\n",
    "# Lets take vector array, array_arange \n",
    "array_arange.shape\n",
    "```"
   ]
  },
  {
   "cell_type": "code",
   "execution_count": null,
   "metadata": {},
   "outputs": [],
   "source": []
  },
  {
   "cell_type": "markdown",
   "metadata": {},
   "source": [
    "```Python\n",
    "# Size of the array \n",
    "array_arange.size\n",
    "```"
   ]
  },
  {
   "cell_type": "code",
   "execution_count": null,
   "metadata": {},
   "outputs": [],
   "source": []
  },
  {
   "cell_type": "markdown",
   "metadata": {},
   "source": [
    "```Python\n",
    "# Type of the data.\n",
    "array_arange.dtype\n",
    "```"
   ]
  },
  {
   "cell_type": "code",
   "execution_count": null,
   "metadata": {},
   "outputs": [],
   "source": []
  },
  {
   "cell_type": "markdown",
   "metadata": {},
   "source": [
    "```Python\n",
    "# Notice the two sets of brackets\n",
    "array_arange.reshape(4,4)\n",
    "```"
   ]
  },
  {
   "cell_type": "code",
   "execution_count": null,
   "metadata": {},
   "outputs": [],
   "source": []
  },
  {
   "cell_type": "markdown",
   "metadata": {},
   "source": [
    "```Python\n",
    "array_arange.reshape(4,4).shape\n",
    "```"
   ]
  },
  {
   "cell_type": "code",
   "execution_count": null,
   "metadata": {},
   "outputs": [],
   "source": []
  },
  {
   "cell_type": "markdown",
   "metadata": {},
   "source": [
    "```Python\n",
    "array_arange.reshape(16,1).shape\n",
    "```"
   ]
  },
  {
   "cell_type": "code",
   "execution_count": null,
   "metadata": {},
   "outputs": [],
   "source": []
  },
  {
   "cell_type": "markdown",
   "metadata": {},
   "source": [
    "```Python\n",
    "array_arange.reshape(1,16).shape\n",
    "```"
   ]
  },
  {
   "cell_type": "code",
   "execution_count": null,
   "metadata": {},
   "outputs": [],
   "source": []
  },
  {
   "cell_type": "markdown",
   "metadata": {},
   "source": [
    "```Python\n",
    "# What is the data type of the object in the array?\n",
    "array_arange.dtype\n",
    "```"
   ]
  },
  {
   "cell_type": "code",
   "execution_count": null,
   "metadata": {},
   "outputs": [],
   "source": []
  },
  {
   "cell_type": "markdown",
   "metadata": {},
   "source": [
    "### A Quick Review -- Let's discuss what we have learned!\n",
    "This link is worth reading!<br>\n",
    "[NumPy's arrays vs Python lists](http://stackoverflow.com/questions/993984/why-numpy-instead-of-python-lists)."
   ]
  }
 ],
 "metadata": {
  "kernelspec": {
   "display_name": "Python 3",
   "language": "python",
   "name": "python3"
  },
  "language_info": {
   "codemirror_mode": {
    "name": "ipython",
    "version": 3
   },
   "file_extension": ".py",
   "mimetype": "text/x-python",
   "name": "python",
   "nbconvert_exporter": "python",
   "pygments_lexer": "ipython3",
   "version": "3.7.5"
  }
 },
 "nbformat": 4,
 "nbformat_minor": 1
}
