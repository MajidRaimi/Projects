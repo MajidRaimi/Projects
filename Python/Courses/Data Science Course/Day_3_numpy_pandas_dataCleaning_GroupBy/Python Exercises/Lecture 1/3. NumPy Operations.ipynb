{
 "cells": [
  {
   "cell_type": "code",
   "execution_count": 1,
   "metadata": {},
   "outputs": [],
   "source": [
    "#first importing\n",
    "import numpy as np"
   ]
  },
  {
   "cell_type": "code",
   "execution_count": 2,
   "metadata": {},
   "outputs": [],
   "source": [
    "#Creating an array\n",
    "arr = np.arange(0,5)"
   ]
  },
  {
   "cell_type": "code",
   "execution_count": 21,
   "metadata": {},
   "outputs": [
    {
     "name": "stderr",
     "output_type": "stream",
     "text": [
      "D:\\Program Files (x86)\\Anaconda\\envs\\pyt4\\lib\\site-packages\\ipykernel_launcher.py:2: RuntimeWarning: invalid value encountered in true_divide\n",
      "  \n",
      "D:\\Program Files (x86)\\Anaconda\\envs\\pyt4\\lib\\site-packages\\ipykernel_launcher.py:2: RuntimeWarning: divide by zero encountered in true_divide\n",
      "  \n"
     ]
    },
    {
     "data": {
      "text/plain": [
       "(array([0, 2, 4, 6, 8]),\n",
       " array([0, 0, 0, 0, 0]),\n",
       " array([ 0,  1,  4,  9, 16]),\n",
       " array([nan,  1.,  1.,  1.,  1.]),\n",
       " array([       inf, 1.        , 0.5       , 0.33333333, 0.25      ]),\n",
       " array([ 0,  1,  4,  9, 16], dtype=int32),\n",
       " array([0.        , 1.        , 1.41421356, 1.73205081, 2.        ]),\n",
       " 4,\n",
       " 0)"
      ]
     },
     "execution_count": 21,
     "metadata": {},
     "output_type": "execute_result"
    }
   ],
   "source": [
    "#this is index based operations. [0] + [0], [1] + [1], and so on\n",
    "arr + arr, arr-arr, arr*arr, arr/arr, 1/arr, arr ** 2, \n",
    "#First error: happens because 0/0 is undefined, and so it is replaced with nan\n",
    "#Second error: happens because 1/0 is infinitly many numbers, and so it is replaced with inf."
   ]
  },
  {
   "cell_type": "code",
   "execution_count": 24,
   "metadata": {},
   "outputs": [
    {
     "name": "stderr",
     "output_type": "stream",
     "text": [
      "D:\\Program Files (x86)\\Anaconda\\envs\\pyt4\\lib\\site-packages\\ipykernel_launcher.py:2: RuntimeWarning: divide by zero encountered in log\n",
      "  \n"
     ]
    },
    {
     "data": {
      "text/plain": [
       "(array([0.        , 1.        , 1.41421356, 1.73205081, 2.        ]),\n",
       " 4,\n",
       " 0,\n",
       " array([ 1.        ,  2.71828183,  7.3890561 , 20.08553692, 54.59815003]),\n",
       " array([      -inf, 0.        , 0.69314718, 1.09861229, 1.38629436]),\n",
       " array([0.        , 0.01745329, 0.03490659, 0.05235988, 0.06981317]),\n",
       " array([  0.        ,  57.29577951, 114.59155903, 171.88733854,\n",
       "        229.18311805]))"
      ]
     },
     "execution_count": 24,
     "metadata": {},
     "output_type": "execute_result"
    }
   ],
   "source": [
    "#There are also special functions in NumPy making data manipulation easier and more efficient.\n",
    "np.sqrt(arr), np.max(arr), np.min(arr), np.exp(arr), np.log(arr), np.deg2rad(arr), np.rad2deg(arr)\n",
    "#Error because of log making infinity when doing log 0"
   ]
  },
  {
   "cell_type": "code",
   "execution_count": null,
   "metadata": {},
   "outputs": [],
   "source": []
  }
 ],
 "metadata": {
  "kernelspec": {
   "display_name": "Python 3",
   "language": "python",
   "name": "python3"
  },
  "language_info": {
   "codemirror_mode": {
    "name": "ipython",
    "version": 3
   },
   "file_extension": ".py",
   "mimetype": "text/x-python",
   "name": "python",
   "nbconvert_exporter": "python",
   "pygments_lexer": "ipython3",
   "version": "3.7.5"
  }
 },
 "nbformat": 4,
 "nbformat_minor": 2
}
