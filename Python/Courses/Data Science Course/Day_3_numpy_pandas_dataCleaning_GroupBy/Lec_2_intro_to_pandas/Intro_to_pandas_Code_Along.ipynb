{
 "cells": [
  {
   "cell_type": "markdown",
   "metadata": {},
   "source": [
    "### Few important libraries for Data Science in python echo system.<br>\n",
    "\n",
    "Data analysis and visualization:\n",
    "* [NumPy](https://numpy.org) -- Data Analysis \n",
    "* [pandas](https://pandas.pydata.org) -- Data Analysis and Visualizations\n",
    "* [Matplotlib](https://matplotlib.org) -- Visualization \n",
    "* [Seaborn](https://seaborn.pydata.org) -- Statistical Data Visualization\n",
    "\n",
    "## Let's talk about pandas today!"
   ]
  },
  {
   "cell_type": "markdown",
   "metadata": {
    "slideshow": {
     "slide_type": "slide"
    }
   },
   "source": [
    "![](https://snag.gy/h9Xwf1.jpg)"
   ]
  },
  {
   "cell_type": "markdown",
   "metadata": {
    "nbpresent": {
     "id": "3433c1f4-195d-4a6b-8ad6-961d54c4c96d"
    },
    "slideshow": {
     "slide_type": "slide"
    }
   },
   "source": [
    "<img src=\"http://imgur.com/1ZcRyrc.png\" style=\"float: left; margin: 20px; height: 55px\">\n",
    "\n",
    "\n",
    "# Introduction to Pandas\n",
    "\n",
    "\n",
    "*Instructor: Dr. Junaid Qazi, PhD*\n",
    "___\n",
    "\n",
    "Pandas is the most popular Python package for managing data sets. It's used extensively by data scientists.\n",
    "\n",
    "### Learning Objectives\n",
    "\n",
    "- Define the anatomy of DataFrames.\n",
    "- Explore data with DataFrames.\n",
    "- Practice plotting with pandas."
   ]
  },
  {
   "cell_type": "markdown",
   "metadata": {
    "slideshow": {
     "slide_type": "slide"
    }
   },
   "source": [
    "### Lesson Guide\n",
    "\n",
    "- [Introduction to `pandas`](#introduction)\n",
    "- [Loading CSV Files](#loading_csvs)\n",
    "- [Exploring Your Data](#exploring_data)\n",
    "- [Data Dimensions](#data_dimensions)\n",
    "- [DataFrames vs. Series](#dataframe_series)\n",
    "- [Using the `.info()` Function](#info)\n",
    "- [Using the `.describe()` Function](#describe)\n",
    "- [Independent Practice](#independent_practice)\n",
    "- [Pandas Indexing](#indexing)\n",
    "- [Creating DataFrames](#creating_dataframes)\n",
    "- [Checking Data Types](#dtypes)\n",
    "- [Renaming and Assignment](#renaming_assignment)\n",
    "- [Basic `pandas` Plotting](#basic_plotting)\n",
    "- [Logical Filtering](#filtering)\n",
    "- [Review](#review)"
   ]
  },
  {
   "cell_type": "markdown",
   "metadata": {},
   "source": [
    "Helpful Resources:<br>\n",
    "[Series and DataFrames - Notes](https://drive.google.com/open?id=15DgNk4jiRbDjgNgRYHZft4geq8S-QF4E)<br>\n",
    "[Series Lecture](https://drive.google.com/open?id=1AiWVAT3K1YCZX4_HFB7abmxpfVyqa6MX)<br>\n",
    "[DataFrame Lecture](https://drive.google.com/open?id=1JKGxA5RbPL9ISkfmkBnJmbMQu7a5oiw-)"
   ]
  },
  {
   "cell_type": "markdown",
   "metadata": {
    "slideshow": {
     "slide_type": "slide"
    }
   },
   "source": [
    "<a id='introduction'></a>\n",
    "\n",
    "### What is a dataframe?\n",
    "\n",
    "---\n",
    "The concept of a data frame comes from the world of statistical software used in empirical research; \n",
    "- Generally refers to **\"tabular\"** data: a data structure representing cases (rows), each of which consists of a number of observations or measurements (columns)\n",
    "- Each row is treated as a single observation of multiple \"variables\" \n",
    "- The row (\"record\") datatype can be heterogenous (a tuple of different types) \n",
    "- The column datatype must be homogenous. \n",
    "- Data frames usually contain some metadata in addition to data; for example, column and row names (unlike Numpy by default)"
   ]
  },
  {
   "cell_type": "markdown",
   "metadata": {
    "slideshow": {
     "slide_type": "slide"
    }
   },
   "source": [
    "<a id='introduction'></a>\n",
    "\n",
    "### What is `pandas`?\n",
    "\n",
    "---\n",
    "\n",
    "- A data analysis library — **P**anel **D**ata **S**ystem.\n",
    "- It was created by Wes McKinney and open sourced by AQR Capital Management, LLC in 2009.\n",
    "- It's implemented in highly optimized Python/[Cython](https://en.wikipedia.org/wiki/Cython).\n",
    "- It's the most important and commonly used tool to start data analysis projects within the Python scientific ecosystem."
   ]
  },
  {
   "cell_type": "markdown",
   "metadata": {
    "slideshow": {
     "slide_type": "slide"
    }
   },
   "source": [
    "### Pandas Use Cases\n",
    "\n",
    "---\n",
    "\n",
    "- Cleaning data/munging.\n",
    "- Exploratory analysis.\n",
    "- Structuring data for plots or tabular display.\n",
    "- Joining disparate sources.\n",
    "- Modeling.\n",
    "- Filtering, extracting, or transforming. \n"
   ]
  },
  {
   "cell_type": "markdown",
   "metadata": {
    "slideshow": {
     "slide_type": "slide"
    }
   },
   "source": [
    "![](https://snag.gy/tpiLCH.jpg)"
   ]
  },
  {
   "cell_type": "markdown",
   "metadata": {
    "slideshow": {
     "slide_type": "slide"
    }
   },
   "source": [
    "![](https://snag.gy/1V0Ol4.jpg)"
   ]
  },
  {
   "cell_type": "markdown",
   "metadata": {
    "slideshow": {
     "slide_type": "subslide"
    }
   },
   "source": [
    "### Common Outputs\n",
    "\n",
    "---\n",
    "\n",
    "With `pandas` you can:\n",
    "\n",
    "- Export to databases.\n",
    "- Integrate with `matplotlib`.\n",
    "- Collaborate in common formats (plus a variety of others).\n",
    "- Integrate with Python built-ins (**and `numpy`!**).\n"
   ]
  },
  {
   "cell_type": "markdown",
   "metadata": {
    "slideshow": {
     "slide_type": "-"
    }
   },
   "source": [
    "## You can follow along and take notes using the `Intro_to_pandas_Code_along.ipynb`"
   ]
  },
  {
   "cell_type": "markdown",
   "metadata": {
    "nbpresent": {
     "id": "2114073e-4f4f-48bf-9dc8-890433270e90"
    },
    "slideshow": {
     "slide_type": "slide"
    }
   },
   "source": [
    "### Importing `pandas`\n",
    "\n",
    "---\n",
    "\n",
    "Import `pandas` at the top of your notebook like so:"
   ]
  },
  {
   "cell_type": "markdown",
   "metadata": {
    "nbpresent": {
     "id": "37d682c1-2ae6-4c1d-8d54-1e7272ccfcef"
    },
    "slideshow": {
     "slide_type": "-"
    }
   },
   "source": [
    "```Python\n",
    "import pandas as pd\n",
    "```"
   ]
  },
  {
   "cell_type": "code",
   "execution_count": null,
   "metadata": {},
   "outputs": [],
   "source": []
  },
  {
   "cell_type": "markdown",
   "metadata": {
    "nbpresent": {
     "id": "e9917673-4eb8-403d-95ba-3068360f3dcd"
    },
    "slideshow": {
     "slide_type": "fragment"
    }
   },
   "source": [
    "Recall that the **`import pandas as pd`** syntax nicknames the `pandas` module as **`pd`** for convenience."
   ]
  },
  {
   "cell_type": "markdown",
   "metadata": {
    "nbpresent": {
     "id": "b29851ac-daa2-46fb-90f0-125e0c4683e1"
    },
    "slideshow": {
     "slide_type": "slide"
    }
   },
   "source": [
    "<a id='loading_csvs'></a>\n",
    "\n",
    "### Loading a CSV into a DataFrame\n",
    "\n",
    "---\n",
    "\n",
    "`pandas` can load many types of files, but one of the **most commonly** used for storing data is a ```.csv```. As an example, let's load a data set on drug use by age from the ```./datasets``` directory:"
   ]
  },
  {
   "cell_type": "markdown",
   "metadata": {
    "nbpresent": {
     "id": "7e4ab5c8-5104-4004-9cd3-e781101e8703"
    },
    "slideshow": {
     "slide_type": "-"
    }
   },
   "source": [
    "```Python\n",
    "drug = pd.read_csv('drug-use-by-age.csv')\n",
    "```"
   ]
  },
  {
   "cell_type": "code",
   "execution_count": null,
   "metadata": {},
   "outputs": [],
   "source": []
  },
  {
   "cell_type": "markdown",
   "metadata": {
    "nbpresent": {
     "id": "7c254479-e114-4b53-bb64-d9d5783d69ab"
    },
    "slideshow": {
     "slide_type": "fragment"
    }
   },
   "source": [
    "This creates a `pandas` object called a **DataFrame**. DataFrames are powerful containers, featuring many built-in functions for exploring and manipulating data.\n",
    "\n",
    "We will barely scratch the surface of DataFrame functionality in this lesson, but, throughout this course, you will become an expert at using them."
   ]
  },
  {
   "cell_type": "markdown",
   "metadata": {
    "nbpresent": {
     "id": "b44c04a3-0bd8-4961-a930-092e872469d0"
    },
    "slideshow": {
     "slide_type": "slide"
    }
   },
   "source": [
    "<a id='exploring_data'></a>\n",
    "\n",
    "### Exploring Data using DataFrames\n",
    "\n",
    "---\n",
    "\n",
    "***DataFrames come with built-in functionality that makes data exploration easy.*** \n",
    "\n",
    "To start, let's look at the \"header\" of your data using the ```.head()``` function. If run alone in a notebook cell, it will show you the first handful of columns in the data set, along with the first five rows."
   ]
  },
  {
   "cell_type": "markdown",
   "metadata": {
    "nbpresent": {
     "id": "f332b800-d5b7-4ee9-8d36-77ecd7c4465c"
    },
    "scrolled": true,
    "slideshow": {
     "slide_type": "fragment"
    }
   },
   "source": [
    "```Python\n",
    "drug.head() # default 5 rows <shift+tab> for documentation\n",
    "```"
   ]
  },
  {
   "cell_type": "code",
   "execution_count": null,
   "metadata": {},
   "outputs": [],
   "source": []
  },
  {
   "cell_type": "markdown",
   "metadata": {
    "nbpresent": {
     "id": "1e6c6b41-692a-43fd-b4e6-81ee125dad7e"
    },
    "slideshow": {
     "slide_type": "slide"
    }
   },
   "source": [
    "If we want to see the last part of our data, we can use the ```.tail()``` function equivalently."
   ]
  },
  {
   "cell_type": "markdown",
   "metadata": {
    "nbpresent": {
     "id": "0077c2a2-48f2-4c30-9181-34d2fc466bc9"
    },
    "slideshow": {
     "slide_type": "-"
    }
   },
   "source": [
    "```Python\n",
    "drug.tail() # default n = 5\n",
    "```"
   ]
  },
  {
   "cell_type": "code",
   "execution_count": null,
   "metadata": {},
   "outputs": [],
   "source": []
  },
  {
   "cell_type": "markdown",
   "metadata": {
    "nbpresent": {
     "id": "2c901f72-6d15-4e6b-9592-de89ff0b4dfa"
    },
    "slideshow": {
     "slide_type": "slide"
    }
   },
   "source": [
    "<a id='data_dimensions'></a>\n",
    "\n",
    "### Data Dimensions\n",
    "\n",
    "---\n",
    "\n",
    "It's always good to look at the dimensions of your data. The ```.shape``` property will tell you how many rows and columns are contained within your DataFrame."
   ]
  },
  {
   "cell_type": "markdown",
   "metadata": {
    "nbpresent": {
     "id": "9a9b6f73-3b89-41e7-99eb-14e7afa83467"
    },
    "slideshow": {
     "slide_type": "-"
    }
   },
   "source": [
    "```Python\n",
    "drug.shape\n",
    "```"
   ]
  },
  {
   "cell_type": "code",
   "execution_count": null,
   "metadata": {},
   "outputs": [],
   "source": []
  },
  {
   "cell_type": "markdown",
   "metadata": {
    "nbpresent": {
     "id": "042513d6-a8a3-4ec3-aaf3-e6acb8854820"
    },
    "slideshow": {
     "slide_type": "fragment"
    }
   },
   "source": [
    "As you can see, we have 17 rows and 28 columns, so we can consider this a small data set.\n",
    "\n",
    "You'll also notice that this function operates the same as `.shape` for `numpy` arrays/matricies. `pandas` makes use of **numpy** under its hood for optimization and speed."
   ]
  },
  {
   "cell_type": "markdown",
   "metadata": {
    "nbpresent": {
     "id": "31d5c9db-bf27-4798-ae2d-081e17102bbb"
    },
    "slideshow": {
     "slide_type": "slide"
    }
   },
   "source": [
    "You can look up the names of your columns using the ```.columns``` property.\n"
   ]
  },
  {
   "cell_type": "markdown",
   "metadata": {
    "nbpresent": {
     "id": "b2da21bb-5a29-441d-a0b7-949ecf9938c8"
    },
    "slideshow": {
     "slide_type": "fragment"
    }
   },
   "source": [
    "```Python\n",
    "drug.columns\n",
    "```"
   ]
  },
  {
   "cell_type": "markdown",
   "metadata": {
    "nbpresent": {
     "id": "fc25fdf8-5959-4d0e-ab9d-ab6da5c83209"
    },
    "slideshow": {
     "slide_type": "slide"
    }
   },
   "source": [
    "**Accessing a specific column** is easy. You can use bracket syntax just like you would with Python dictionaries, using the column's string name to extract it."
   ]
  },
  {
   "cell_type": "markdown",
   "metadata": {
    "nbpresent": {
     "id": "c1d9b4d1-263d-4ca1-acf6-d18ad31c16e6"
    },
    "slideshow": {
     "slide_type": "fragment"
    }
   },
   "source": [
    "```Python\n",
    "drug['crack-use'].head(2) # passing string -- col name\n",
    "```"
   ]
  },
  {
   "cell_type": "code",
   "execution_count": null,
   "metadata": {},
   "outputs": [],
   "source": []
  },
  {
   "cell_type": "markdown",
   "metadata": {
    "nbpresent": {
     "id": "d1473cb4-9805-4831-aca8-71c68c271729"
    },
    "slideshow": {
     "slide_type": "fragment"
    }
   },
   "source": [
    "As you can see, we can also use the ```.head()``` function on a single column, which is represented as a `pandas` Series object."
   ]
  },
  {
   "cell_type": "markdown",
   "metadata": {
    "nbpresent": {
     "id": "e5d6b43d-4118-465d-bea3-83a2caf96b8e"
    },
    "slideshow": {
     "slide_type": "slide"
    }
   },
   "source": [
    "With a list of strings, you can also access a column (as a DataFrame instead of a Series)."
   ]
  },
  {
   "cell_type": "markdown",
   "metadata": {
    "nbpresent": {
     "id": "4c713e8f-a430-4d4a-afe4-90f13bde08c2"
    },
    "slideshow": {
     "slide_type": "fragment"
    }
   },
   "source": [
    "```Python\n",
    "drug[['crack-use']].head(2) # passing list of string/s -- col name/s\n",
    "drug[['age','crack-use']].head(2) # list containing more than one col names\n",
    "```"
   ]
  },
  {
   "cell_type": "code",
   "execution_count": null,
   "metadata": {
    "nbpresent": {
     "id": "46dc97d4-6326-417d-8745-64c49ef65ec2"
    },
    "slideshow": {
     "slide_type": "fragment"
    }
   },
   "outputs": [],
   "source": []
  },
  {
   "cell_type": "markdown",
   "metadata": {
    "nbpresent": {
     "id": "0c73f9d4-b242-441c-b606-40c05b450f25"
    },
    "slideshow": {
     "slide_type": "slide"
    }
   },
   "source": [
    "<a id='dataframe_series'></a>\n",
    "\n",
    "### DataFrame vs. Series\n",
    "\n",
    "---\n",
    "* [Series recorded lecture](https://drive.google.com/open?id=1AiWVAT3K1YCZX4_HFB7abmxpfVyqa6MX)\n",
    "* [DataFrame recorded lecture](https://drive.google.com/open?id=1JKGxA5RbPL9ISkfmkBnJmbMQu7a5oiw-)<br>\n",
    "\n",
    "There is an important difference between using a list of strings versus only using a string with a column's name: When you use a list containing the string, it returns another **DataFrame**. But, when you only use the string, it returns a `pandas` **Series** object."
   ]
  },
  {
   "cell_type": "markdown",
   "metadata": {
    "nbpresent": {
     "id": "a8526589-1116-4c85-be23-5cba34430f32"
    },
    "slideshow": {
     "slide_type": "fragment"
    }
   },
   "source": [
    "```Python\n",
    "print(type(drug['age'])) # its col name -- a string\n",
    "print(type(drug[['age']])) # notice, its list of col name/s\n",
    "```"
   ]
  },
  {
   "cell_type": "code",
   "execution_count": null,
   "metadata": {},
   "outputs": [],
   "source": []
  },
  {
   "cell_type": "markdown",
   "metadata": {
    "nbpresent": {
     "id": "9aee722a-59c8-4c66-ba6e-58c629b5740b"
    },
    "slideshow": {
     "slide_type": "fragment"
    }
   },
   "source": [
    "**Breakout (2min):** What's the difference between `pandas`' Series and DataFrame objects?\n",
    "\n",
    "Essentially, a **Series** object contains the data for a single column, and a **DataFrame** object is a matrix-like (2D-array) container for those Series (1D-array) objects that comprise your data."
   ]
  },
  {
   "cell_type": "markdown",
   "metadata": {
    "nbpresent": {
     "id": "892f7841-512b-4f7b-b741-5b2c094a31d2"
    },
    "slideshow": {
     "slide_type": "slide"
    }
   },
   "source": [
    "*As long as your column names don't contain any spaces or other specialized characters (underscores are OK), you can access a column as a property (`using dot operator`) of a DataFrame.*  \n",
    "\n",
    "**Get in the habit of referencing your Series columns using `df['my_column']` rather than with object notation (`df.my_column`)**."
   ]
  },
  {
   "cell_type": "markdown",
   "metadata": {
    "nbpresent": {
     "id": "2957ddaf-3796-4486-a784-3e08ecb7e5b7"
    },
    "slideshow": {
     "slide_type": "fragment"
    }
   },
   "source": [
    "```Python\n",
    "drug['age'].head(2) # default n = 5\n",
    "```"
   ]
  },
  {
   "cell_type": "code",
   "execution_count": null,
   "metadata": {},
   "outputs": [],
   "source": []
  },
  {
   "cell_type": "markdown",
   "metadata": {
    "nbpresent": {
     "id": "5cd69bd7-4bff-4fb5-b575-8919901fa6b6"
    },
    "slideshow": {
     "slide_type": "fragment"
    }
   },
   "source": [
    "Remember: This will be a **Series** object, not a DataFrame."
   ]
  },
  {
   "cell_type": "markdown",
   "metadata": {
    "slideshow": {
     "slide_type": "slide"
    }
   },
   "source": [
    "<a id='info'></a>\n",
    "\n",
    "### Examining Your Data With `.info()`\n",
    "\n",
    "---\n",
    "\n",
    "When getting acquainted with a new data set, `.info()` should be the first thing you examine.\n",
    "\n",
    "**Types** are very important. They affect the way data will be represented in our machine learning models, how data can be joined, whether or not math operators can be applied, and instances in which you can encounter unexpected results.\n",
    "\n",
    "> _**Typical problems** that arise when working with new data sets include_:\n",
    "> - Missing values.\n",
    "> - Unexpected types (string/object instead of int/float).\n",
    "> - Dirty data (commas, dollar signs, unexpected characters, etc.).\n",
    "> - Blank values that are actually \"non-null\" or single white-space characters.\n",
    "\n",
    "`.info()` is a function available on every **DataFrame** object. It provides information about:\n",
    "\n",
    "- The name of the column/variable attribute.\n",
    "- The type of index (RangeIndex is default).\n",
    "- The count of non-null values by column/attribute.\n",
    "- The type of data contained in the column/attribute.\n",
    "- The unique counts of **dtypes** (`pandas` data types).\n",
    "- The memory usage of our data set.\n"
   ]
  },
  {
   "cell_type": "markdown",
   "metadata": {
    "slideshow": {
     "slide_type": "slide"
    }
   },
   "source": [
    "```Python\n",
    "drug.info()\n",
    "```"
   ]
  },
  {
   "cell_type": "code",
   "execution_count": null,
   "metadata": {},
   "outputs": [],
   "source": []
  },
  {
   "cell_type": "markdown",
   "metadata": {
    "nbpresent": {
     "id": "3f0c0568-5a2d-4559-ac13-7170a5c43846"
    },
    "slideshow": {
     "slide_type": "slide"
    }
   },
   "source": [
    "<a id='describe'></a>\n",
    "\n",
    "### Summarizing Data with `.describe()`\n",
    "\n",
    "---\n",
    "\n",
    "The ```.describe()``` function is useful for taking a quick look at your data. It returns some **basic descriptive statistics**."
   ]
  },
  {
   "cell_type": "markdown",
   "metadata": {
    "scrolled": false
   },
   "source": [
    "```Python\n",
    "drug.describe()\n",
    "```"
   ]
  },
  {
   "cell_type": "code",
   "execution_count": null,
   "metadata": {},
   "outputs": [],
   "source": []
  },
  {
   "cell_type": "markdown",
   "metadata": {},
   "source": [
    "```Python\n",
    "drug.describe().columns # notice age, \n",
    "```"
   ]
  },
  {
   "cell_type": "code",
   "execution_count": null,
   "metadata": {},
   "outputs": [],
   "source": []
  },
  {
   "cell_type": "markdown",
   "metadata": {},
   "source": [
    "```Python\n",
    "# let's check the missing cols in describe!\n",
    "# recall on list comprehension from the python lecture! \n",
    "[x for x in drug.columns if x not in drug.describe().columns]\n",
    "```"
   ]
  },
  {
   "cell_type": "code",
   "execution_count": null,
   "metadata": {},
   "outputs": [],
   "source": []
  },
  {
   "cell_type": "markdown",
   "metadata": {},
   "source": [
    "Why the above cols did not appear in the `describe()`?"
   ]
  },
  {
   "cell_type": "markdown",
   "metadata": {},
   "source": [
    "Let's try `.describe()` function on a single column `crack-use`."
   ]
  },
  {
   "cell_type": "markdown",
   "metadata": {
    "nbpresent": {
     "id": "4d3ae9ac-b23b-4c49-9f0a-126c842419e8"
    },
    "slideshow": {
     "slide_type": "fragment"
    }
   },
   "source": [
    "```Python\n",
    "drug['crack-use'].describe()\n",
    "```"
   ]
  },
  {
   "cell_type": "code",
   "execution_count": null,
   "metadata": {},
   "outputs": [],
   "source": []
  },
  {
   "cell_type": "markdown",
   "metadata": {},
   "source": [
    "```Python\n",
    "# try this!\n",
    "#drug['inhalant-frequency'].describe()\n",
    "```"
   ]
  },
  {
   "cell_type": "code",
   "execution_count": null,
   "metadata": {},
   "outputs": [],
   "source": []
  },
  {
   "cell_type": "markdown",
   "metadata": {
    "nbpresent": {
     "id": "18836c37-de0e-4200-8eb8-3c9084da3b6b"
    },
    "slideshow": {
     "slide_type": "fragment"
    }
   },
   "source": [
    "You can also use it on multiple columns, such as ```crack-use``` and ```alcohol-frequency```."
   ]
  },
  {
   "cell_type": "markdown",
   "metadata": {
    "nbpresent": {
     "id": "59ba0259-fb6c-4bd1-b274-2035540493be"
    }
   },
   "source": [
    "```Python\n",
    "drug[['crack-use','alcohol-frequency']].describe()\n",
    "```"
   ]
  },
  {
   "cell_type": "code",
   "execution_count": null,
   "metadata": {},
   "outputs": [],
   "source": []
  },
  {
   "cell_type": "markdown",
   "metadata": {
    "nbpresent": {
     "id": "969967d8-7094-4960-8c4b-5583fed79648"
    },
    "slideshow": {
     "slide_type": "slide"
    }
   },
   "source": [
    "```.describe()``` gives us the following statistics:\n",
    "\n",
    "- **Count**, which is equivalent to the number of cells (rows).\n",
    "- **Mean**, or, the average of the values in the column.\n",
    "- **Std**, which is the standard deviation.\n",
    "- **Min**, a.k.a., the minimum value.\n",
    "- **25%**, or, the 25th percentile of the values.\n",
    "- **50%**, or, the 50th percentile of the values ( which is the equivalent to the median).\n",
    "- **75%**, or, the 75th percentile of the values.\n",
    "- **Max**, which is the maximum value.\n",
    "\n",
    "<img src=\"https://snag.gy/AH6E8I.jpg\">"
   ]
  },
  {
   "cell_type": "markdown",
   "metadata": {
    "nbpresent": {
     "id": "5bc97eed-d555-4e31-bbd6-d2f7bc26a1d4"
    },
    "slideshow": {
     "slide_type": "slide"
    }
   },
   "source": [
    "There are also built-in math functions that will work on all columns of a DataFrame at once, as well as subsets of the data.\n",
    "\n",
    "For example, I can use the ```.mean()``` function on the ```drug``` DataFrame to get the mean for every column."
   ]
  },
  {
   "cell_type": "markdown",
   "metadata": {
    "nbpresent": {
     "id": "adde643c-6657-4d32-bf3d-4406a9ae3303"
    }
   },
   "source": [
    "```Python\n",
    "drug.mean()\n",
    "```"
   ]
  },
  {
   "cell_type": "code",
   "execution_count": null,
   "metadata": {},
   "outputs": [],
   "source": []
  },
  {
   "cell_type": "markdown",
   "metadata": {
    "slideshow": {
     "slide_type": "slide"
    }
   },
   "source": [
    "<a id='independent_practice'></a>\n",
    "\n",
    "### Independent Practice\n",
    "\n",
    "---\n",
    "\n",
    "Now that we know a little bit about basic DataFrame use, let's practice on a new data set.\n",
    "\n",
    "1. Find and load the `diamonds` data set into a DataFrame (in the `datasets` directory).\n",
    "2. Print out the columns.\n",
    "3. What does the data set look like in terms of dimensions?\n",
    "4. Check the types of each column.\n",
    "  a. What is the most common type?\n",
    "  b. How many entries are there?\n",
    "  c. How much memory does this data set consume?\n",
    "5. Examine the summary statistics of the data set."
   ]
  },
  {
   "cell_type": "markdown",
   "metadata": {
    "slideshow": {
     "slide_type": "fragment"
    }
   },
   "source": [
    "```Python\n",
    "#csv_file = \"../datasets/diamonds/diamonds.csv\"\n",
    "csv_file = \"diamonds.csv\"\n",
    "diamonds = pd.read_csv(csv_file)\n",
    "```"
   ]
  },
  {
   "cell_type": "code",
   "execution_count": null,
   "metadata": {},
   "outputs": [],
   "source": []
  },
  {
   "cell_type": "markdown",
   "metadata": {
    "nbpresent": {
     "id": "5d655b68-e149-48cf-9739-b2f01fa13b88"
    },
    "slideshow": {
     "slide_type": "slide"
    }
   },
   "source": [
    "<a id='indexing'></a>\n",
    "\n",
    "### `pandas` Indexing \n",
    "\n",
    "---\n",
    "\n",
    "More often than not, we want to operate on or extract specific portions of our data. When we perform indexing on a DataFrame or Series, we can specify a certain section of the data.\n",
    "\n",
    "`pandas` has three properties you can use for indexing:\n",
    "\n",
    "- **`.loc`** indexes with the _labels_ for rows and columns.\n",
    "- **`.iloc`** indexes with the _integer positions_ for rows and columns.\n"
   ]
  },
  {
   "cell_type": "markdown",
   "metadata": {
    "nbpresent": {
     "id": "7b01d33b-a550-4b6c-8a23-f6bcc9b20b13"
    },
    "slideshow": {
     "slide_type": "slide"
    }
   },
   "source": [
    "To help clarify these differences, let's first reset the row labels to letters using the ```.index``` attribute:"
   ]
  },
  {
   "cell_type": "markdown",
   "metadata": {
    "nbpresent": {
     "id": "4162fb31-3624-4996-b1ec-a7a7eb23c5e5"
    },
    "slideshow": {
     "slide_type": "-"
    }
   },
   "source": [
    "```Python\n",
    "new_index_values = ['A','B','C','D','E','F','G','H','I','J','K','L','M','N','O','P','Q']\n",
    "drug.index=new_index_values\n",
    "```"
   ]
  },
  {
   "cell_type": "code",
   "execution_count": null,
   "metadata": {},
   "outputs": [],
   "source": []
  },
  {
   "cell_type": "markdown",
   "metadata": {
    "nbpresent": {
     "id": "ca418139-0ea6-461f-8a78-fb9f1bbdbbe3"
    },
    "slideshow": {
     "slide_type": "fragment"
    }
   },
   "source": [
    "```Python\n",
    "drug.head()\n",
    "```"
   ]
  },
  {
   "cell_type": "markdown",
   "metadata": {
    "nbpresent": {
     "id": "956f0a2a-51b8-4910-b220-3aa00d8e3848"
    },
    "slideshow": {
     "slide_type": "slide"
    }
   },
   "source": [
    "Using the **`.loc`** indexer, we can pull out rows **B through F** and the **`marijuana-use` and `marijuana-frequency`** columns."
   ]
  },
  {
   "cell_type": "markdown",
   "metadata": {
    "nbpresent": {
     "id": "a59893a2-95e8-41cc-b5d9-e0a1fe0800d8"
    }
   },
   "source": [
    "```Python\n",
    "subset = drug.loc[['B','C','D','E','F'], ['marijuana-use','marijuana-frequency']]\n",
    "subset\n",
    "```"
   ]
  },
  {
   "cell_type": "code",
   "execution_count": null,
   "metadata": {
    "nbpresent": {
     "id": "dc4ccdda-2932-48c7-a7d7-1f1b1f30826c"
    }
   },
   "outputs": [],
   "source": []
  },
  {
   "cell_type": "markdown",
   "metadata": {
    "nbpresent": {
     "id": "f11ab893-74b1-4e2d-bdd9-0c9ed30df508"
    },
    "slideshow": {
     "slide_type": "slide"
    }
   },
   "source": [
    "We can do the same thing with the **`.iloc`** indexer, but we have to use **integers for the location**."
   ]
  },
  {
   "cell_type": "markdown",
   "metadata": {
    "nbpresent": {
     "id": "569889dd-4d0c-4286-91d0-36aff19306cd"
    }
   },
   "source": [
    "```Python\n",
    "subset = drug.iloc[[1,2,3,4,5], [4,5]]\n",
    "subset\n",
    "```"
   ]
  },
  {
   "cell_type": "code",
   "execution_count": null,
   "metadata": {
    "nbpresent": {
     "id": "2c2199b3-4aef-415b-b449-b7d18027bd4c"
    }
   },
   "outputs": [],
   "source": []
  },
  {
   "cell_type": "markdown",
   "metadata": {},
   "source": [
    "```Python\n",
    "# try \n",
    "#drug.iloc[[3,5], [6,7]]\n",
    "```"
   ]
  },
  {
   "cell_type": "code",
   "execution_count": null,
   "metadata": {},
   "outputs": [],
   "source": []
  },
  {
   "cell_type": "markdown",
   "metadata": {
    "nbpresent": {
     "id": "a54d822b-89ae-4a54-924c-edc201b2a0e9"
    },
    "slideshow": {
     "slide_type": "fragment"
    }
   },
   "source": [
    "If you try to index the rows or columns with integers using **`.loc`**, you will get an error."
   ]
  },
  {
   "cell_type": "markdown",
   "metadata": {
    "nbpresent": {
     "id": "c43c0432-35b9-425b-96ba-14019a451501"
    }
   },
   "source": [
    "```Python\n",
    "#subset.loc[0,:]\n",
    "```"
   ]
  },
  {
   "cell_type": "code",
   "execution_count": null,
   "metadata": {},
   "outputs": [],
   "source": []
  },
  {
   "cell_type": "markdown",
   "metadata": {
    "nbpresent": {
     "id": "1cfa2f3c-b792-4b5b-95a7-4bc6d2298ca6"
    },
    "slideshow": {
     "slide_type": "slide"
    }
   },
   "source": [
    "Note that you can  reorder the columns just by **reordering the indices** you enter when you perform the indexing operation!"
   ]
  },
  {
   "cell_type": "markdown",
   "metadata": {
    "nbpresent": {
     "id": "f97deb4c-fe65-4ebf-9e59-bee182aede55"
    }
   },
   "source": [
    "```Python\n",
    "subset.iloc[:, [1,0]]\n",
    "subset\n",
    "```"
   ]
  },
  {
   "cell_type": "code",
   "execution_count": null,
   "metadata": {
    "nbpresent": {
     "id": "a9ef2740-4a11-4f8c-9d14-8656935ec3fd"
    }
   },
   "outputs": [],
   "source": []
  },
  {
   "cell_type": "markdown",
   "metadata": {},
   "source": [
    "While we created an index earlier, **we can also use a column to set an index.**"
   ]
  },
  {
   "cell_type": "markdown",
   "metadata": {},
   "source": [
    "```Python\n",
    "drug.index = drug['age']\n",
    "drug.head()\n",
    "```"
   ]
  },
  {
   "cell_type": "code",
   "execution_count": null,
   "metadata": {},
   "outputs": [],
   "source": []
  },
  {
   "cell_type": "markdown",
   "metadata": {},
   "source": [
    "Is age the best feature to use as an index?  \n",
    "\n",
    "If it isn't we can use the `df.reset_index()` to reset our index."
   ]
  },
  {
   "cell_type": "markdown",
   "metadata": {},
   "source": [
    "```Python\n",
    "drug.reset_index(drop=True, inplace=True)\n",
    "drug.head()\n",
    "```"
   ]
  },
  {
   "cell_type": "code",
   "execution_count": null,
   "metadata": {},
   "outputs": [],
   "source": []
  },
  {
   "cell_type": "markdown",
   "metadata": {
    "nbpresent": {
     "id": "b7034391-7d6d-4f08-beca-147e18036001"
    },
    "slideshow": {
     "slide_type": "slide"
    }
   },
   "source": [
    "<a id='creating_dataframes'></a>\n",
    "\n",
    "### Creating DataFrames\n",
    "\n",
    "---\n",
    "\n",
    "The simplest way to create your own DataFrame without importing data from a file is to give the ```pd.DataFrame()``` instantiator a dictionary."
   ]
  },
  {
   "cell_type": "markdown",
   "metadata": {
    "nbpresent": {
     "id": "c42d85ec-a9a6-4880-84c5-1b73ace2341b"
    }
   },
   "source": [
    "```Python\n",
    "mydata = pd.DataFrame({'Letters':['A','B','C'],\n",
    "                       'Integers':[1,2,3], \n",
    "                       'Floats':[2.2, 3.3, 4.4]})\n",
    "mydata # to see the output!\n",
    "```"
   ]
  },
  {
   "cell_type": "code",
   "execution_count": null,
   "metadata": {},
   "outputs": [],
   "source": []
  },
  {
   "cell_type": "code",
   "execution_count": null,
   "metadata": {
    "nbpresent": {
     "id": "7e00119c-0641-4eaf-9432-dc3dffc68669"
    }
   },
   "outputs": [],
   "source": []
  },
  {
   "cell_type": "markdown",
   "metadata": {
    "nbpresent": {
     "id": "61856902-23ac-482d-bf1e-791d84e2caad"
    },
    "slideshow": {
     "slide_type": "fragment"
    }
   },
   "source": [
    "As you might expect, the dictionary needs to have lists of values that are all the same length. The keys correspond to the names of the columns, and the values correspond to the data in the columns."
   ]
  },
  {
   "cell_type": "markdown",
   "metadata": {
    "nbpresent": {
     "id": "4286b323-71b5-4b3e-ad37-bf17b63f04e9"
    },
    "slideshow": {
     "slide_type": "slide"
    }
   },
   "source": [
    "<a id='dtypes'></a>\n",
    "\n",
    "### Examining Data Types\n",
    "\n",
    "---\n",
    "\n",
    "`pandas` comes with a useful property for looking solely at the data types of your DataFrame columns. Use ```.dtypes``` on your DataFrame:"
   ]
  },
  {
   "cell_type": "markdown",
   "metadata": {
    "nbpresent": {
     "id": "14c76064-13e1-4f4c-a4a2-82ed0b5897e1"
    },
    "slideshow": {
     "slide_type": "-"
    }
   },
   "source": [
    "```Python\n",
    "mydata.dtypes\n",
    "```"
   ]
  },
  {
   "cell_type": "code",
   "execution_count": null,
   "metadata": {},
   "outputs": [],
   "source": []
  },
  {
   "cell_type": "markdown",
   "metadata": {
    "nbpresent": {
     "id": "5f2b8742-e66b-4b2c-987e-48075bf691c6"
    },
    "slideshow": {
     "slide_type": "fragment"
    }
   },
   "source": [
    "This will show you the data type of each column. Strings are stored as a type called \"object,\" as they are not guaranteed to take up a set amount of space (strings can be any length)."
   ]
  },
  {
   "cell_type": "markdown",
   "metadata": {
    "nbpresent": {
     "id": "12862adc-f2f7-4d44-8d6b-56415ba46aff"
    },
    "slideshow": {
     "slide_type": "slide"
    }
   },
   "source": [
    "<a id='renaming_assignment'></a>\n",
    "\n",
    "### Renaming and Assignment\n",
    "\n",
    "---\n",
    "\n",
    "`pandas` makes it easy to **change column names** and assign values to your DataFrame.\n",
    "\n",
    "Say, for example, we want to change the column name `Integers` to `int`:"
   ]
  },
  {
   "cell_type": "markdown",
   "metadata": {
    "nbpresent": {
     "id": "d00b8c41-4221-45e1-a598-02fa2da5f703"
    }
   },
   "source": [
    "```Python\n",
    "mydata.rename(columns={mydata.columns[1]:'int'}, inplace=True) # inplace = True updates mydata\n",
    "print(mydata.columns)\n",
    "```"
   ]
  },
  {
   "cell_type": "code",
   "execution_count": null,
   "metadata": {},
   "outputs": [],
   "source": []
  },
  {
   "cell_type": "code",
   "execution_count": null,
   "metadata": {
    "nbpresent": {
     "id": "578ba013-df3e-4f28-b338-57d0742b928b"
    }
   },
   "outputs": [],
   "source": [
    "mydata"
   ]
  },
  {
   "cell_type": "markdown",
   "metadata": {
    "nbpresent": {
     "id": "36b7b0d7-0cfc-4ded-ae1b-f8003a92bb30"
    },
    "slideshow": {
     "slide_type": "fragment"
    }
   },
   "source": [
    "If you want to change every column name, you can just assign a new list to the ```.columns``` property."
   ]
  },
  {
   "cell_type": "markdown",
   "metadata": {
    "nbpresent": {
     "id": "d5070ee2-eecf-4709-b601-f28861d353c0"
    }
   },
   "source": [
    "```Python\n",
    "mydata.columns = ['A','B','C']\n",
    "print(mydata.head())\n",
    "```"
   ]
  },
  {
   "cell_type": "code",
   "execution_count": null,
   "metadata": {},
   "outputs": [],
   "source": []
  },
  {
   "cell_type": "markdown",
   "metadata": {
    "nbpresent": {
     "id": "3d67b602-b799-4b15-850b-d214529a0914"
    },
    "slideshow": {
     "slide_type": "slide"
    }
   },
   "source": [
    "We can assign values using the indexing operations we've already learned.\n",
    "\n",
    "Let's change the newly renamed \"B\" column at row index 1 to be 100."
   ]
  },
  {
   "cell_type": "markdown",
   "metadata": {},
   "source": [
    "```Python\n",
    "mydata.loc[1, 'B'] # the current value at [1,'B'] is....\n",
    "```"
   ]
  },
  {
   "cell_type": "code",
   "execution_count": null,
   "metadata": {},
   "outputs": [],
   "source": []
  },
  {
   "cell_type": "markdown",
   "metadata": {
    "nbpresent": {
     "id": "ae7deca4-3428-441f-aa5f-8bfe4177f741"
    }
   },
   "source": [
    "```Python\n",
    "mydata.loc[1, 'B'] = 100 # changing the value to 100\n",
    "print(mydata.head())\n",
    "```"
   ]
  },
  {
   "cell_type": "code",
   "execution_count": null,
   "metadata": {},
   "outputs": [],
   "source": []
  },
  {
   "cell_type": "markdown",
   "metadata": {
    "nbpresent": {
     "id": "bea2b551-07a7-408b-9017-bf24c32e636c"
    },
    "slideshow": {
     "slide_type": "fragment"
    }
   },
   "source": [
    "Alternatively, we can assign multiple values at once with lists."
   ]
  },
  {
   "cell_type": "markdown",
   "metadata": {
    "nbpresent": {
     "id": "c25c6bae-7399-4b43-98dd-4679147f756c"
    }
   },
   "source": [
    "```Python\n",
    "mydata.loc[:, 'A'] = [0,0,0] # all rows for col 'A'\n",
    "print(mydata.head())\n",
    "```"
   ]
  },
  {
   "cell_type": "code",
   "execution_count": null,
   "metadata": {},
   "outputs": [],
   "source": []
  },
  {
   "cell_type": "markdown",
   "metadata": {},
   "source": [
    "```Python\n",
    "# let's try another example\n",
    "mydata.loc[0, ['B','C']] = [-1000, 'newstring']\n",
    "print(mydata.head())\n",
    "```"
   ]
  },
  {
   "cell_type": "code",
   "execution_count": null,
   "metadata": {},
   "outputs": [],
   "source": []
  },
  {
   "cell_type": "markdown",
   "metadata": {
    "nbpresent": {
     "id": "490dbfcd-2ae4-4034-b60e-b9b4e6411ad2"
    },
    "slideshow": {
     "slide_type": "slide"
    }
   },
   "source": [
    "<a id='basic_plotting'></a>\n",
    "\n",
    "### Basic Plotting Using DataFrames\n",
    "\n",
    "---\n",
    "\n",
    "DataFrames also come with some basic convenience functions for plotting data. First, import `matplotlib` and set it to run \"inline\" in your notebook."
   ]
  },
  {
   "cell_type": "markdown",
   "metadata": {
    "nbpresent": {
     "id": "d1a06a70-a1e6-4b6c-9ee7-cc13127f26e5"
    }
   },
   "source": [
    "```Python\n",
    "import matplotlib.pyplot as plt\n",
    "%matplotlib inline\n",
    "```"
   ]
  },
  {
   "cell_type": "code",
   "execution_count": 44,
   "metadata": {},
   "outputs": [],
   "source": [
    "import matplotlib.pyplot as plt\n",
    "%matplotlib inline"
   ]
  },
  {
   "cell_type": "markdown",
   "metadata": {
    "nbpresent": {
     "id": "fff80c48-a06e-43ca-b714-c811fd23650e"
    },
    "slideshow": {
     "slide_type": "slide"
    }
   },
   "source": [
    "Using our ```drug``` DataFrame once again, use the ```.plot()``` function to plot the **`age`** columns against the **`marijuana-use`** column."
   ]
  },
  {
   "cell_type": "markdown",
   "metadata": {
    "nbpresent": {
     "id": "9578a9c1-8f36-4851-a498-6814bcdcc8a8"
    }
   },
   "source": [
    "```Python\n",
    "drug.plot(x='age', y='marijuana-use')\n",
    "```"
   ]
  },
  {
   "cell_type": "code",
   "execution_count": 128,
   "metadata": {},
   "outputs": [
    {
     "data": {
      "text/plain": [
       "<matplotlib.axes._subplots.AxesSubplot at 0x2bbc85208c8>"
      ]
     },
     "execution_count": 128,
     "metadata": {},
     "output_type": "execute_result"
    },
    {
     "data": {
      "image/png": "[encoded data removed]",
      "text/plain": [
       "<Figure size 432x288 with 1 Axes>"
      ]
     },
     "metadata": {
      "needs_background": "light"
     },
     "output_type": "display_data"
    }
   ],
   "source": [
    "drug.plot(x='age', y='marijuana-use')"
   ]
  },
  {
   "cell_type": "markdown",
   "metadata": {
    "nbpresent": {
     "id": "72cc9674-6fd5-4f4c-abc8-a17dbdb4ab1d"
    },
    "slideshow": {
     "slide_type": "slide"
    }
   },
   "source": [
    "The ```.hist()``` function will create a histogram for a column's values."
   ]
  },
  {
   "cell_type": "markdown",
   "metadata": {
    "nbpresent": {
     "id": "f52830de-3357-4add-97eb-63bbfc5b1322"
    }
   },
   "source": [
    "```Python\n",
    "drug.hist('marijuana-use')\n",
    "```"
   ]
  },
  {
   "cell_type": "code",
   "execution_count": 46,
   "metadata": {},
   "outputs": [
    {
     "data": {
      "text/plain": [
       "array([[<matplotlib.axes._subplots.AxesSubplot object at 0x000002BBBDB7A988>]],\n",
       "      dtype=object)"
      ]
     },
     "execution_count": 46,
     "metadata": {},
     "output_type": "execute_result"
    },
    {
     "data": {
      "image/png": "[encoded data removed]",
      "text/plain": [
       "<Figure size 432x288 with 1 Axes>"
      ]
     },
     "metadata": {
      "needs_background": "light"
     },
     "output_type": "display_data"
    }
   ],
   "source": [
    "drug.hist('marijuana-use')"
   ]
  },
  {
   "cell_type": "markdown",
   "metadata": {
    "nbpresent": {
     "id": "5c69fcba-b6ce-461a-9c46-3caa19061490"
    },
    "slideshow": {
     "slide_type": "slide"
    }
   },
   "source": [
    "<a id='filtering'></a>\n",
    "\n",
    "### Filtering Logic\n",
    "\n",
    "---\n",
    "\n",
    "One of the most powerful features of DataFrames is the ability to use logical commands to filter data.\n",
    "\n",
    "Subset the ```drug``` data for only the rows in which `marijuana-use` is greater than 20."
   ]
  },
  {
   "cell_type": "markdown",
   "metadata": {},
   "source": [
    "```Python\n",
    "cond = drug['marijuana-use'] > 20\n",
    "cond\n",
    "```"
   ]
  },
  {
   "cell_type": "code",
   "execution_count": null,
   "metadata": {},
   "outputs": [],
   "source": []
  },
  {
   "cell_type": "markdown",
   "metadata": {
    "nbpresent": {
     "id": "36249690-74cb-4ace-8f49-ad32fc259194"
    },
    "slideshow": {
     "slide_type": "fragment"
    }
   },
   "source": [
    "```Python\n",
    "drug[drug['marijuana-use'] > 20]\n",
    "#drug[cond]\n",
    "```"
   ]
  },
  {
   "cell_type": "code",
   "execution_count": null,
   "metadata": {},
   "outputs": [],
   "source": []
  },
  {
   "cell_type": "markdown",
   "metadata": {
    "nbpresent": {
     "id": "c3556d0f-27ad-4e34-b711-d6b6082d3c80"
    },
    "slideshow": {
     "slide_type": "slide"
    }
   },
   "source": [
    "The ampersand sign can be used to subset where multiple conditions need to be met for each row. \n",
    "\n",
    "Subset the data for `marijuana-use` greater than 20 like before, but now, also include where the n is greater than 4,000."
   ]
  },
  {
   "cell_type": "markdown",
   "metadata": {
    "nbpresent": {
     "id": "735e4207-e303-4226-914f-0f4f581c9f08"
    },
    "scrolled": false
   },
   "source": [
    "```Python\n",
    "drug[(drug['marijuana-use'] > 20) & (drug.n > 4000)]\n",
    "```"
   ]
  },
  {
   "cell_type": "code",
   "execution_count": null,
   "metadata": {},
   "outputs": [],
   "source": []
  },
  {
   "cell_type": "markdown",
   "metadata": {},
   "source": [
    "Alternative code for the above one liner!"
   ]
  },
  {
   "cell_type": "markdown",
   "metadata": {},
   "source": [
    "```Python\n",
    "cond1 = drug['marijuana-use'] > 20\n",
    "cond2 = drug.n > 4000\n",
    "```"
   ]
  },
  {
   "cell_type": "code",
   "execution_count": null,
   "metadata": {},
   "outputs": [],
   "source": []
  },
  {
   "cell_type": "markdown",
   "metadata": {},
   "source": [
    "```Python\n",
    "drug[cond1 & cond2]\n",
    "```"
   ]
  },
  {
   "cell_type": "markdown",
   "metadata": {
    "slideshow": {
     "slide_type": "slide"
    }
   },
   "source": [
    "## Independent Practice\n",
    "\n",
    "With our drug dataset already loaded, let's explore our dataset a bit more thoroughly to gain some familiarity with beginning exploratory analysis."
   ]
  },
  {
   "cell_type": "markdown",
   "metadata": {},
   "source": [
    "```Python\n",
    "drug = pd.read_csv('drug-use-by-age.csv')\n",
    "```"
   ]
  },
  {
   "cell_type": "code",
   "execution_count": null,
   "metadata": {},
   "outputs": [],
   "source": []
  },
  {
   "cell_type": "markdown",
   "metadata": {},
   "source": [
    "### 1.  Identify which variable distributions are skewed left or right."
   ]
  },
  {
   "cell_type": "markdown",
   "metadata": {},
   "source": [
    "```Python\n",
    "import matplotlib.pyplot as plt\n",
    "%matplotlib inline\n",
    "```"
   ]
  },
  {
   "cell_type": "code",
   "execution_count": 223,
   "metadata": {},
   "outputs": [],
   "source": [
    "import matplotlib.pyplot as plt\n",
    "%matplotlib inline\n",
    "columns = list(drug.columns)\n",
    "columns.remove(\"age\")\n",
    "columns.remove(\"n\")\n",
    "columns.remove(\"stimulant-frequency\")\n",
    "columns.remove(\"marijuana-use\") #not\n",
    "columns.remove(\"pain-releiver-use\") #not\n",
    "columns.remove(\"hallucinogen-use\") #not\n",
    "columns.remove(\"tranquilizer-use\") #not\n",
    "columns.remove(\"stimulant-use\") #not\n",
    "columns.remove(\"oxycontin-use\") #not\n",
    "columns.remove(\"meth-use\") #not\n",
    "notskewed = [\"marijuana-use\", \"pain-releiver-use\", \"hallucinogen-use\", \"tranquilizer-use\", \"stimulant-use\", \"oxycontin-use\",\"meth-use\"]\n"
   ]
  },
  {
   "cell_type": "code",
   "execution_count": 222,
   "metadata": {
    "scrolled": false
   },
   "outputs": [
    {
     "data": {
      "text/plain": [
       "<matplotlib.axes._subplots.AxesSubplot at 0x2bbcba6d5c8>"
      ]
     },
     "execution_count": 222,
     "metadata": {},
     "output_type": "execute_result"
    },
    {
     "data": {
      "image/png": "[encoded data removed]",
      "text/plain": [
       "<Figure size 432x288 with 1 Axes>"
      ]
     },
     "metadata": {
      "needs_background": "light"
     },
     "output_type": "display_data"
    },
    {
     "data": {
      "image/png": "[encoded data removed]",
      "text/plain": [
       "<Figure size 432x288 with 1 Axes>"
      ]
     },
     "metadata": {
      "needs_background": "light"
     },
     "output_type": "display_data"
    },
    {
     "data": {
      "image/png": "[encoded data removed]",
      "text/plain": [
       "<Figure size 432x288 with 1 Axes>"
      ]
     },
     "metadata": {
      "needs_background": "light"
     },
     "output_type": "display_data"
    }
   ],
   "source": [
    "# A:\n",
    "drug.plot(x = \"age\", y = [\"n\",\"stimulant-frequency\"])\n",
    "drug.plot(x = \"age\", y = columns, marker=\"o\")\n",
    "drug.plot(x = \"age\", y = notskewed)\n",
    "#everything plotted is skewed. Tranquilizer frequency is the only one skewed left\n",
    "#third graph is whats not skewed\n"
   ]
  },
  {
   "cell_type": "markdown",
   "metadata": {
    "slideshow": {
     "slide_type": "-"
    }
   },
   "source": [
    "### 2(a). Select only data for \"marijuana-frequency\" when \"age\" is \"30-34\"."
   ]
  },
  {
   "cell_type": "code",
   "execution_count": 20,
   "metadata": {},
   "outputs": [
    {
     "data": {
      "text/html": [
       "<div>\n",
       "<style scoped>\n",
       "    .dataframe tbody tr th:only-of-type {\n",
       "        vertical-align: middle;\n",
       "    }\n",
       "\n",
       "    .dataframe tbody tr th {\n",
       "        vertical-align: top;\n",
       "    }\n",
       "\n",
       "    .dataframe thead th {\n",
       "        text-align: right;\n",
       "    }\n",
       "</style>\n",
       "<table border=\"1\" class=\"dataframe\">\n",
       "  <thead>\n",
       "    <tr style=\"text-align: right;\">\n",
       "      <th></th>\n",
       "      <th>marijuana-frequency</th>\n",
       "    </tr>\n",
       "    <tr>\n",
       "      <th>age</th>\n",
       "      <th></th>\n",
       "    </tr>\n",
       "  </thead>\n",
       "  <tbody>\n",
       "    <tr>\n",
       "      <th>30-34</th>\n",
       "      <td>72.0</td>\n",
       "    </tr>\n",
       "  </tbody>\n",
       "</table>\n",
       "</div>"
      ],
      "text/plain": [
       "       marijuana-frequency\n",
       "age                       \n",
       "30-34                 72.0"
      ]
     },
     "execution_count": 20,
     "metadata": {},
     "output_type": "execute_result"
    }
   ],
   "source": [
    "# A:\n",
    "import pandas as pd\n",
    "drug = pd.read_csv(\"drug-use-by-age.csv\")\n",
    "drug.index = drug[\"age\"]\n",
    "subsetq2 = drug.loc[[\"30-34\"], [\"marijuana-frequency\"]]\n",
    "subsetq2"
   ]
  },
  {
   "cell_type": "markdown",
   "metadata": {},
   "source": [
    "### 2(b). Can you select a range of values for age?  Why or why not?\n",
    "ie:  age > 17 but < 21"
   ]
  },
  {
   "cell_type": "code",
   "execution_count": 10,
   "metadata": {},
   "outputs": [
    {
     "data": {
      "text/plain": [
       "str"
      ]
     },
     "execution_count": 10,
     "metadata": {},
     "output_type": "execute_result"
    }
   ],
   "source": [
    "type(drug['age'][0])\n",
    "#you cannot because age is set to be a string value series."
   ]
  },
  {
   "cell_type": "markdown",
   "metadata": {},
   "source": [
    "### 3. Select only rows with index 5-10, for variables / columns \"crack-use\" and \"crack-frequency\""
   ]
  },
  {
   "cell_type": "code",
   "execution_count": 18,
   "metadata": {},
   "outputs": [
    {
     "data": {
      "text/html": [
       "<div>\n",
       "<style scoped>\n",
       "    .dataframe tbody tr th:only-of-type {\n",
       "        vertical-align: middle;\n",
       "    }\n",
       "\n",
       "    .dataframe tbody tr th {\n",
       "        vertical-align: top;\n",
       "    }\n",
       "\n",
       "    .dataframe thead th {\n",
       "        text-align: right;\n",
       "    }\n",
       "</style>\n",
       "<table border=\"1\" class=\"dataframe\">\n",
       "  <thead>\n",
       "    <tr style=\"text-align: right;\">\n",
       "      <th></th>\n",
       "      <th>crack-use</th>\n",
       "      <th>crack-frequency</th>\n",
       "    </tr>\n",
       "    <tr>\n",
       "      <th>age</th>\n",
       "      <th></th>\n",
       "      <th></th>\n",
       "    </tr>\n",
       "  </thead>\n",
       "  <tbody>\n",
       "    <tr>\n",
       "      <th>17</th>\n",
       "      <td>0.1</td>\n",
       "      <td>21.0</td>\n",
       "    </tr>\n",
       "    <tr>\n",
       "      <th>18</th>\n",
       "      <td>0.4</td>\n",
       "      <td>10.0</td>\n",
       "    </tr>\n",
       "    <tr>\n",
       "      <th>19</th>\n",
       "      <td>0.5</td>\n",
       "      <td>2.0</td>\n",
       "    </tr>\n",
       "    <tr>\n",
       "      <th>20</th>\n",
       "      <td>0.6</td>\n",
       "      <td>5.0</td>\n",
       "    </tr>\n",
       "    <tr>\n",
       "      <th>21</th>\n",
       "      <td>0.5</td>\n",
       "      <td>17.0</td>\n",
       "    </tr>\n",
       "    <tr>\n",
       "      <th>22-23</th>\n",
       "      <td>0.5</td>\n",
       "      <td>5.0</td>\n",
       "    </tr>\n",
       "  </tbody>\n",
       "</table>\n",
       "</div>"
      ],
      "text/plain": [
       "       crack-use crack-frequency\n",
       "age                             \n",
       "17           0.1            21.0\n",
       "18           0.4            10.0\n",
       "19           0.5             2.0\n",
       "20           0.6             5.0\n",
       "21           0.5            17.0\n",
       "22-23        0.5             5.0"
      ]
     },
     "execution_count": 18,
     "metadata": {},
     "output_type": "execute_result"
    }
   ],
   "source": [
    "# A: \n",
    "subsetq3 = drug.iloc[[5,6,7,8,9,10], [8,9]]\n",
    "subsetq3"
   ]
  },
  {
   "cell_type": "markdown",
   "metadata": {},
   "source": [
    "### 4. Select the columns by numeric offset 2-5, rows with numeric index 3-7"
   ]
  },
  {
   "cell_type": "code",
   "execution_count": 19,
   "metadata": {},
   "outputs": [
    {
     "data": {
      "text/html": [
       "<div>\n",
       "<style scoped>\n",
       "    .dataframe tbody tr th:only-of-type {\n",
       "        vertical-align: middle;\n",
       "    }\n",
       "\n",
       "    .dataframe tbody tr th {\n",
       "        vertical-align: top;\n",
       "    }\n",
       "\n",
       "    .dataframe thead th {\n",
       "        text-align: right;\n",
       "    }\n",
       "</style>\n",
       "<table border=\"1\" class=\"dataframe\">\n",
       "  <thead>\n",
       "    <tr style=\"text-align: right;\">\n",
       "      <th></th>\n",
       "      <th>alcohol-use</th>\n",
       "      <th>alcohol-frequency</th>\n",
       "      <th>marijuana-use</th>\n",
       "      <th>marijuana-frequency</th>\n",
       "    </tr>\n",
       "    <tr>\n",
       "      <th>age</th>\n",
       "      <th></th>\n",
       "      <th></th>\n",
       "      <th></th>\n",
       "      <th></th>\n",
       "    </tr>\n",
       "  </thead>\n",
       "  <tbody>\n",
       "    <tr>\n",
       "      <th>15</th>\n",
       "      <td>29.2</td>\n",
       "      <td>6.0</td>\n",
       "      <td>14.5</td>\n",
       "      <td>25.0</td>\n",
       "    </tr>\n",
       "    <tr>\n",
       "      <th>16</th>\n",
       "      <td>40.1</td>\n",
       "      <td>10.0</td>\n",
       "      <td>22.5</td>\n",
       "      <td>30.0</td>\n",
       "    </tr>\n",
       "    <tr>\n",
       "      <th>17</th>\n",
       "      <td>49.3</td>\n",
       "      <td>13.0</td>\n",
       "      <td>28.0</td>\n",
       "      <td>36.0</td>\n",
       "    </tr>\n",
       "    <tr>\n",
       "      <th>18</th>\n",
       "      <td>58.7</td>\n",
       "      <td>24.0</td>\n",
       "      <td>33.7</td>\n",
       "      <td>52.0</td>\n",
       "    </tr>\n",
       "    <tr>\n",
       "      <th>19</th>\n",
       "      <td>64.6</td>\n",
       "      <td>36.0</td>\n",
       "      <td>33.4</td>\n",
       "      <td>60.0</td>\n",
       "    </tr>\n",
       "  </tbody>\n",
       "</table>\n",
       "</div>"
      ],
      "text/plain": [
       "     alcohol-use  alcohol-frequency  marijuana-use  marijuana-frequency\n",
       "age                                                                    \n",
       "15          29.2                6.0           14.5                 25.0\n",
       "16          40.1               10.0           22.5                 30.0\n",
       "17          49.3               13.0           28.0                 36.0\n",
       "18          58.7               24.0           33.7                 52.0\n",
       "19          64.6               36.0           33.4                 60.0"
      ]
     },
     "execution_count": 19,
     "metadata": {},
     "output_type": "execute_result"
    }
   ],
   "source": [
    "# A:\n",
    "subsetq4 = drug.iloc[[3,4,5,6,7], [2,3,4,5]]\n",
    "subsetq4"
   ]
  },
  {
   "cell_type": "markdown",
   "metadata": {},
   "source": [
    "### 5. Select a subset of data using 3 masked conditions.\n",
    "\n",
    "ie: \"variable\" > 20 and \"variable 2\" != 23 and \"variable\" > -2<br>\n",
    "You can try on these cols `'alcohol-use','alcohol-frequency', 'cocaine-use'`. Or your own choice! "
   ]
  },
  {
   "cell_type": "code",
   "execution_count": null,
   "metadata": {
    "scrolled": true
   },
   "outputs": [],
   "source": [
    "#drug.describe()"
   ]
  },
  {
   "cell_type": "code",
   "execution_count": 43,
   "metadata": {},
   "outputs": [
    {
     "data": {
      "text/html": [
       "<div>\n",
       "<style scoped>\n",
       "    .dataframe tbody tr th:only-of-type {\n",
       "        vertical-align: middle;\n",
       "    }\n",
       "\n",
       "    .dataframe tbody tr th {\n",
       "        vertical-align: top;\n",
       "    }\n",
       "\n",
       "    .dataframe thead th {\n",
       "        text-align: right;\n",
       "    }\n",
       "</style>\n",
       "<table border=\"1\" class=\"dataframe\">\n",
       "  <thead>\n",
       "    <tr style=\"text-align: right;\">\n",
       "      <th></th>\n",
       "      <th>alcohol-use</th>\n",
       "      <th>alcohol-frequency</th>\n",
       "      <th>cocaine-use</th>\n",
       "    </tr>\n",
       "    <tr>\n",
       "      <th>age</th>\n",
       "      <th></th>\n",
       "      <th></th>\n",
       "      <th></th>\n",
       "    </tr>\n",
       "  </thead>\n",
       "  <tbody>\n",
       "    <tr>\n",
       "      <th>18</th>\n",
       "      <td>58.7</td>\n",
       "      <td>24.0</td>\n",
       "      <td>3.2</td>\n",
       "    </tr>\n",
       "    <tr>\n",
       "      <th>19</th>\n",
       "      <td>64.6</td>\n",
       "      <td>36.0</td>\n",
       "      <td>4.1</td>\n",
       "    </tr>\n",
       "    <tr>\n",
       "      <th>20</th>\n",
       "      <td>69.7</td>\n",
       "      <td>48.0</td>\n",
       "      <td>4.9</td>\n",
       "    </tr>\n",
       "    <tr>\n",
       "      <th>21</th>\n",
       "      <td>83.2</td>\n",
       "      <td>52.0</td>\n",
       "      <td>4.8</td>\n",
       "    </tr>\n",
       "    <tr>\n",
       "      <th>22-23</th>\n",
       "      <td>84.2</td>\n",
       "      <td>52.0</td>\n",
       "      <td>4.5</td>\n",
       "    </tr>\n",
       "    <tr>\n",
       "      <th>24-25</th>\n",
       "      <td>83.1</td>\n",
       "      <td>52.0</td>\n",
       "      <td>4.0</td>\n",
       "    </tr>\n",
       "    <tr>\n",
       "      <th>26-29</th>\n",
       "      <td>80.7</td>\n",
       "      <td>52.0</td>\n",
       "      <td>3.2</td>\n",
       "    </tr>\n",
       "    <tr>\n",
       "      <th>30-34</th>\n",
       "      <td>77.5</td>\n",
       "      <td>52.0</td>\n",
       "      <td>2.1</td>\n",
       "    </tr>\n",
       "  </tbody>\n",
       "</table>\n",
       "</div>"
      ],
      "text/plain": [
       "       alcohol-use  alcohol-frequency  cocaine-use\n",
       "age                                               \n",
       "18            58.7               24.0          3.2\n",
       "19            64.6               36.0          4.1\n",
       "20            69.7               48.0          4.9\n",
       "21            83.2               52.0          4.8\n",
       "22-23         84.2               52.0          4.5\n",
       "24-25         83.1               52.0          4.0\n",
       "26-29         80.7               52.0          3.2\n",
       "30-34         77.5               52.0          2.1"
      ]
     },
     "execution_count": 43,
     "metadata": {},
     "output_type": "execute_result"
    }
   ],
   "source": [
    "# A:\n",
    "subsetq5 = drug[(drug['alcohol-use'] > 20) & (drug['alcohol-frequency'] != 23) & (drug['cocaine-use'] > 2)]\n",
    "subsetq5m = subsetq5.iloc[list(range(0,8)), [2,3,6]]\n",
    "subsetq5m"
   ]
  },
  {
   "cell_type": "code",
   "execution_count": null,
   "metadata": {},
   "outputs": [],
   "source": []
  },
  {
   "cell_type": "markdown",
   "metadata": {
    "slideshow": {
     "slide_type": "slide"
    }
   },
   "source": [
    "<a id='review'></a>\n",
    "\n",
    "### Review\n",
    "\n",
    "---\n",
    "\n",
    " - What should we do with a data set when we first acquire it?\n",
    " - What's important to consider when first looking at a data set? \n",
    " - What are some common problems we can run into with new data?\n",
    " - What are some common operations we can run with DataFrames?\n",
    " - How do we slice? Index? Filter?"
   ]
  }
 ],
 "metadata": {
  "anaconda-cloud": {},
  "kernelspec": {
   "display_name": "Python 3",
   "language": "python",
   "name": "python3"
  },
  "language_info": {
   "codemirror_mode": {
    "name": "ipython",
    "version": 3
   },
   "file_extension": ".py",
   "mimetype": "text/x-python",
   "name": "python",
   "nbconvert_exporter": "python",
   "pygments_lexer": "ipython3",
   "version": "3.7.5"
  },
  "nbpresent": {
   "slides": {
    "5d802dcc-eba2-49cc-b8a7-4ba12c601026": {
     "id": "5d802dcc-eba2-49cc-b8a7-4ba12c601026",
     "prev": null,
     "regions": {
      "19d2ea1f-046e-4733-8563-5001186e649c": {
       "attrs": {
        "height": 1,
        "width": 1,
        "x": 0,
        "y": 0
       },
       "content": {
        "cell": "3433c1f4-195d-4a6b-8ad6-961d54c4c96d",
        "part": "source"
       },
       "id": "19d2ea1f-046e-4733-8563-5001186e649c"
      }
     },
     "theme": null
    },
    "b84d227e-3775-4693-a414-689ea9c77c6f": {
     "id": "b84d227e-3775-4693-a414-689ea9c77c6f",
     "prev": "c9e607c1-dc97-4a52-a24b-c5fa7fec789f",
     "regions": {
      "f05b4e9e-0831-49cc-8a61-40c615d0aed6": {
       "attrs": {
        "height": 1,
        "width": 1,
        "x": 0,
        "y": 0
       },
       "content": {
        "cell": "e9917673-4eb8-403d-95ba-3068360f3dcd",
        "part": "source"
       },
       "id": "f05b4e9e-0831-49cc-8a61-40c615d0aed6"
      }
     }
    },
    "c9e607c1-dc97-4a52-a24b-c5fa7fec789f": {
     "id": "c9e607c1-dc97-4a52-a24b-c5fa7fec789f",
     "prev": "5d802dcc-eba2-49cc-b8a7-4ba12c601026",
     "regions": {
      "be473921-0ea3-42d1-9fd2-6b9257a8966d": {
       "attrs": {
        "height": 1,
        "width": 1,
        "x": 0,
        "y": 0
       },
       "id": "be473921-0ea3-42d1-9fd2-6b9257a8966d"
      }
     }
    }
   },
   "themes": {
    "default": "5fe298e2-cc87-47e9-b12c-6f4471f17350",
    "theme": {
     "5fe298e2-cc87-47e9-b12c-6f4471f17350": {
      "id": "5fe298e2-cc87-47e9-b12c-6f4471f17350",
      "palette": {
       "19cc588f-0593-49c9-9f4b-e4d7cc113b1c": {
        "id": "19cc588f-0593-49c9-9f4b-e4d7cc113b1c",
        "rgb": [
         252,
         252,
         252
        ]
       },
       "31af15d2-7e15-44c5-ab5e-e04b16a89eff": {
        "id": "31af15d2-7e15-44c5-ab5e-e04b16a89eff",
        "rgb": [
         68,
         68,
         68
        ]
       },
       "50f92c45-a630-455b-aec3-788680ec7410": {
        "id": "50f92c45-a630-455b-aec3-788680ec7410",
        "rgb": [
         155,
         177,
         192
        ]
       },
       "c5cc3653-2ee1-402a-aba2-7caae1da4f6c": {
        "id": "c5cc3653-2ee1-402a-aba2-7caae1da4f6c",
        "rgb": [
         43,
         126,
         184
        ]
       },
       "efa7f048-9acb-414c-8b04-a26811511a21": {
        "id": "efa7f048-9acb-414c-8b04-a26811511a21",
        "rgb": [
         25.118061674008803,
         73.60176211453744,
         107.4819383259912
        ]
       }
      },
      "rules": {
       "blockquote": {
        "color": "50f92c45-a630-455b-aec3-788680ec7410"
       },
       "code": {
        "font-family": "Anonymous Pro"
       },
       "h1": {
        "color": "c5cc3653-2ee1-402a-aba2-7caae1da4f6c",
        "font-family": "Lato",
        "font-size": 8
       },
       "h2": {
        "color": "c5cc3653-2ee1-402a-aba2-7caae1da4f6c",
        "font-family": "Lato",
        "font-size": 6
       },
       "h3": {
        "color": "50f92c45-a630-455b-aec3-788680ec7410",
        "font-family": "Lato",
        "font-size": 5.5
       },
       "h4": {
        "color": "c5cc3653-2ee1-402a-aba2-7caae1da4f6c",
        "font-family": "Lato",
        "font-size": 5
       },
       "h5": {
        "font-family": "Lato"
       },
       "h6": {
        "font-family": "Lato"
       },
       "h7": {
        "font-family": "Lato"
       },
       "pre": {
        "font-family": "Anonymous Pro",
        "font-size": 4
       }
      },
      "text-base": {
       "font-family": "Merriweather",
       "font-size": 4
      }
     }
    }
   }
  },
  "toc": {
   "nav_menu": {},
   "number_sections": false,
   "sideBar": true,
   "skip_h1_title": false,
   "title_cell": "Table of Contents",
   "title_sidebar": "Contents",
   "toc_cell": false,
   "toc_position": {},
   "toc_section_display": true,
   "toc_window_display": false
  },
  "varInspector": {
   "cols": {
    "lenName": 16,
    "lenType": 16,
    "lenVar": 40
   },
   "kernels_config": {
    "python": {
     "delete_cmd_postfix": "",
     "delete_cmd_prefix": "del ",
     "library": "var_list.py",
     "varRefreshCmd": "print(var_dic_list())"
    },
    "r": {
     "delete_cmd_postfix": ") ",
     "delete_cmd_prefix": "rm(",
     "library": "var_list.r",
     "varRefreshCmd": "cat(var_dic_list()) "
    }
   },
   "types_to_exclude": [
    "module",
    "function",
    "builtin_function_or_method",
    "instance",
    "_Feature"
   ],
   "window_display": false
  }
 },
 "nbformat": 4,
 "nbformat_minor": 1
}
