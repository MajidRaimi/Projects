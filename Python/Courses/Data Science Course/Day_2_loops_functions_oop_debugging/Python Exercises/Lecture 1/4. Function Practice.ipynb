{
 "cells": [
  {
   "cell_type": "code",
   "execution_count": 14,
   "metadata": {},
   "outputs": [
    {
     "name": "stdout",
     "output_type": "stream",
     "text": [
      "3\n",
      "4\n",
      "5\n",
      "The sum of the given numbers is: 12\n"
     ]
    }
   ],
   "source": [
    "#A function that adds 3 numbers\n",
    "def addition(num1 = 1, num2 = 1, num3 = 1):\n",
    "    total = num1+num2+num3\n",
    "    print(\"The sum of the given numbers is:\", total)\n",
    "try:\n",
    "    addition(int(input()),int(input()),int(input()))\n",
    "except ValueError:\n",
    "    print(\"You have not given a number\")"
   ]
  },
  {
   "cell_type": "code",
   "execution_count": null,
   "metadata": {},
   "outputs": [],
   "source": []
  }
 ],
 "metadata": {
  "kernelspec": {
   "display_name": "Python 3",
   "language": "python",
   "name": "python3"
  },
  "language_info": {
   "codemirror_mode": {
    "name": "ipython",
    "version": 3
   },
   "file_extension": ".py",
   "mimetype": "text/x-python",
   "name": "python",
   "nbconvert_exporter": "python",
   "pygments_lexer": "ipython3",
   "version": "3.7.5"
  }
 },
 "nbformat": 4,
 "nbformat_minor": 2
}
