{
 "cells": [
  {
   "cell_type": "code",
   "execution_count": 3,
   "metadata": {},
   "outputs": [
    {
     "name": "stdout",
     "output_type": "stream",
     "text": [
      "The cube of 1 Is 1\n",
      "The cube of 2 Is 8\n",
      "The cube of 4 Is 64\n",
      "The cube of 2 Is 8\n",
      "We have reached 5, the loop will break\n"
     ]
    }
   ],
   "source": [
    "my_list = [1,2,4,2,5,6,4]\n",
    "for x in my_list:\n",
    "    if x == 5:\n",
    "        print(\"We have reached 5, the loop will break\")\n",
    "        break\n",
    "    else:\n",
    "        print(\"The cube of\",x,\"Is\",x**3)"
   ]
  },
  {
   "cell_type": "code",
   "execution_count": null,
   "metadata": {},
   "outputs": [],
   "source": []
  }
 ],
 "metadata": {
  "kernelspec": {
   "display_name": "Python 3",
   "language": "python",
   "name": "python3"
  },
  "language_info": {
   "codemirror_mode": {
    "name": "ipython",
    "version": 3
   },
   "file_extension": ".py",
   "mimetype": "text/x-python",
   "name": "python",
   "nbconvert_exporter": "python",
   "pygments_lexer": "ipython3",
   "version": "3.7.5"
  }
 },
 "nbformat": 4,
 "nbformat_minor": 2
}
