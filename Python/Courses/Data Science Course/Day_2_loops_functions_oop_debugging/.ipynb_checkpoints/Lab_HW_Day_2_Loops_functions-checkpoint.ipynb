{
 "cells": [
  {
   "cell_type": "markdown",
   "metadata": {},
   "source": [
    "# Functions Exercises - Lab_HW 2\n",
    "\n",
    "_Dr. Junaid Qazi, PhD_"
   ]
  },
  {
   "cell_type": "markdown",
   "metadata": {},
   "source": [
    "## This is a group task, please add your names here:\n",
    "-----"
   ]
  },
  {
   "cell_type": "markdown",
   "metadata": {},
   "source": [
    "### 1. Sum of List\n",
    "- function name is `sum_of_list`\n",
    "- input arguments are:\n",
    "  - list of numbers : `nums`\n",
    "- return is:\n",
    "  - number: sum of all elements in `nums`"
   ]
  },
  {
   "cell_type": "code",
   "execution_count": null,
   "metadata": {},
   "outputs": [],
   "source": [
    "# write your function here, the belwo cell is a function call "
   ]
  },
  {
   "cell_type": "code",
   "execution_count": 1,
   "metadata": {},
   "outputs": [
    {
     "name": "stdout",
     "output_type": "stream",
     "text": [
      "8815\n"
     ]
    }
   ],
   "source": [
    "# A: \n",
    "nums = [1,3,5,8798,8]\n",
    "print(sum_of_list(nums))"
   ]
  },
  {
   "cell_type": "markdown",
   "metadata": {},
   "source": [
    "### 2. Multiply Elements of List\n",
    "- function name is `multiply_list`\n",
    "- input arguments are:\n",
    "  - list of numbers : `nums`\n",
    "- return is:\n",
    "  - number: product of all elements in `nums`"
   ]
  },
  {
   "cell_type": "code",
   "execution_count": null,
   "metadata": {},
   "outputs": [],
   "source": [
    "# write your function here, the belwo cell is a function call "
   ]
  },
  {
   "cell_type": "code",
   "execution_count": 2,
   "metadata": {},
   "outputs": [
    {
     "name": "stdout",
     "output_type": "stream",
     "text": [
      "720\n"
     ]
    }
   ],
   "source": [
    "# A:\n",
    "print(multiply_list([1,2,3,4,5,6]))"
   ]
  },
  {
   "cell_type": "markdown",
   "metadata": {},
   "source": [
    "### 3. Reverse a String\n",
    "- function name is `reverse_string`\n",
    "- input arguments are:\n",
    "  - string : `string_to_reverse`\n",
    "- return is:\n",
    "  - string : `reversed_string`, the reversed result of input `string_to_reverse`\n",
    "   \n",
    "Note: Do not use `[::-1]` indexing to solve this problem, use loops."
   ]
  },
  {
   "cell_type": "code",
   "execution_count": null,
   "metadata": {},
   "outputs": [],
   "source": [
    "# write your function here, the belwo cell is a function call "
   ]
  },
  {
   "cell_type": "code",
   "execution_count": 3,
   "metadata": {},
   "outputs": [
    {
     "name": "stdout",
     "output_type": "stream",
     "text": [
      "nohtyP\n"
     ]
    }
   ],
   "source": [
    "my_string = \"Python\"\n",
    "print(reverse_string(my_string))"
   ]
  },
  {
   "cell_type": "markdown",
   "metadata": {},
   "source": [
    "### 4. Max of Three\n",
    "- function name is `max_of_three`\n",
    "- input arguments are:\n",
    "  - int : `x`\n",
    "  - int : `y`\n",
    "  - int : `z`\n",
    "- return is:\n",
    "  - int: max value of `x`, `y`, and `z`"
   ]
  },
  {
   "cell_type": "code",
   "execution_count": null,
   "metadata": {},
   "outputs": [],
   "source": [
    "# write your function here, the belwo cell is a function call "
   ]
  },
  {
   "cell_type": "code",
   "execution_count": 4,
   "metadata": {},
   "outputs": [
    {
     "name": "stdout",
     "output_type": "stream",
     "text": [
      "The number 55 is the max\n"
     ]
    }
   ],
   "source": [
    "x=4\n",
    "y=20\n",
    "z=55\n",
    "max_of_three(x,y,z)"
   ]
  },
  {
   "cell_type": "markdown",
   "metadata": {},
   "source": [
    "### 5. Unique Elements Only\n",
    "- function name is `make_unique`\n",
    "- input arguments are:\n",
    "  - list (mixed types)\n",
    "- return is:\n",
    "  - list (mixed types)\n",
    "  \n",
    "Note: Do not use `set` to solve this problem."
   ]
  },
  {
   "cell_type": "code",
   "execution_count": null,
   "metadata": {},
   "outputs": [],
   "source": [
    "# write your function here, the below cell is a function call "
   ]
  },
  {
   "cell_type": "code",
   "execution_count": 5,
   "metadata": {},
   "outputs": [
    {
     "name": "stdout",
     "output_type": "stream",
     "text": [
      "['Malak', 1, 'Hi', 8.9, 4.7]\n"
     ]
    }
   ],
   "source": [
    "#Should print a unique list\n",
    "print(make_unique([\"Malak\", 1, 4.7, \"Hi\", 1, \"Hi\", 8.9, 4.7]))"
   ]
  },
  {
   "cell_type": "markdown",
   "metadata": {},
   "source": [
    "### 6. [BONUS] Is It a [Palindrome?](https://en.wikipedia.org/wiki/Palindrome)\n",
    "- function name is `is_word_palindrome`\n",
    "- input arguments are:\n",
    "  - string\n",
    "- return is:\n",
    "  - boolean (True if input string is Palindrome, else False)\n",
    "  \n",
    "Note: Do not use [::-1] indexing to solve this problem.\n",
    "Note 2: Whitespace should be considered as a character against which to evaluate symmetry."
   ]
  },
  {
   "cell_type": "code",
   "execution_count": null,
   "metadata": {},
   "outputs": [],
   "source": [
    "# write your function here, the belwo cell is a function call "
   ]
  },
  {
   "cell_type": "code",
   "execution_count": 6,
   "metadata": {},
   "outputs": [
    {
     "name": "stdout",
     "output_type": "stream",
     "text": [
      "True\n",
      "False\n"
     ]
    }
   ],
   "source": [
    "word = \"pop\"\n",
    "print (is_word_palindrome(word))\n",
    "word = \"Python\"\n",
    "print (is_word_palindrome(word))"
   ]
  },
  {
   "cell_type": "markdown",
   "metadata": {},
   "source": [
    "### 7. FizzBuzz"
   ]
  },
  {
   "cell_type": "markdown",
   "metadata": {},
   "source": [
    "This is a very common programming question. It’s often on job interviews and a buzzword in the industry as a\n",
    "simple but common task to show your understanding.\n",
    "\n",
    "Write a program (functions) that prints the numbers from 1 to 101, but:\n",
    "\n",
    "- For multiples of three, print “Fizz” instead of the number.\n",
    "\n",
    "- For multiples of five, print “Buzz”.\n",
    "\n",
    "- For numbers which are multiples of both three and five, print “FizzBuzz”.\n"
   ]
  },
  {
   "cell_type": "code",
   "execution_count": null,
   "metadata": {},
   "outputs": [],
   "source": [
    "# write your functions here, the belwo cell is a function call \n",
    "# Hint: you may want to write 3 functions, range could be helpful as well."
   ]
  },
  {
   "cell_type": "code",
   "execution_count": 7,
   "metadata": {},
   "outputs": [
    {
     "name": "stdout",
     "output_type": "stream",
     "text": [
      "Fizz\n",
      "Fizz\n",
      "Fizz\n",
      "Fizz\n",
      "Fizz\n",
      "Fizz\n",
      "Fizz\n",
      "Fizz\n",
      "Fizz\n",
      "Fizz\n",
      "Fizz\n",
      "Fizz\n",
      "Fizz\n",
      "Fizz\n",
      "Fizz\n",
      "Fizz\n",
      "Fizz\n",
      "Fizz\n",
      "Fizz\n",
      "Fizz\n",
      "Fizz\n",
      "Fizz\n",
      "Fizz\n",
      "Fizz\n",
      "Fizz\n",
      "Fizz\n",
      "Fizz\n",
      "Fizz\n",
      "Fizz\n",
      "Fizz\n",
      "Fizz\n",
      "Fizz\n",
      "Fizz\n",
      "Buzz\n",
      "Buzz\n",
      "Buzz\n",
      "Buzz\n",
      "Buzz\n",
      "Buzz\n",
      "Buzz\n",
      "Buzz\n",
      "Buzz\n",
      "Buzz\n",
      "Buzz\n",
      "Buzz\n",
      "Buzz\n",
      "Buzz\n",
      "Buzz\n",
      "Buzz\n",
      "Buzz\n",
      "Buzz\n",
      "Buzz\n",
      "Buzz\n",
      "FizzBuzz\n",
      "FizzBuzz\n",
      "FizzBuzz\n",
      "FizzBuzz\n",
      "FizzBuzz\n",
      "FizzBuzz\n"
     ]
    }
   ],
   "source": [
    "# Don't run this cell, you will lose the output..!\n",
    "fizz()\n",
    "buzz()\n",
    "fizzbuzz()"
   ]
  },
  {
   "cell_type": "markdown",
   "metadata": {},
   "source": [
    "### 8. [BONUS] Write a function with an if-else statement for multiple conditions:\n",
    "\n",
    "Write a function `forecast()`, that takes two arguments temperature (an integer in C) and weather (rain or shine) and prints a recommendation based on the conditions below:\n",
    "\n",
    "1. Temperature over 20 ˚C and rain: bring an umbrella.\n",
    "2. Temperature less than or equal to 20 ˚C and rain: bring and umbrella and a jacket.\n",
    "3. Temperature over 20 ˚C and sunshine: wear a t-shirt.\n",
    "4. Temperature less than or equal to 20 ˚C and sunshine: bring a jacket."
   ]
  },
  {
   "cell_type": "code",
   "execution_count": null,
   "metadata": {},
   "outputs": [],
   "source": [
    "# write your function here, the belwo cell is a function call "
   ]
  },
  {
   "cell_type": "code",
   "execution_count": 3,
   "metadata": {},
   "outputs": [
    {
     "name": "stdout",
     "output_type": "stream",
     "text": [
      "bring a jacket\n"
     ]
    }
   ],
   "source": [
    "# Don't run this cell, this is just a guideline and function call. \n",
    "temp = 20\n",
    "weather = \"shine\"\n",
    "forecast(temp, weather)"
   ]
  }
 ],
 "metadata": {
  "kernelspec": {
   "display_name": "Python 3",
   "language": "python",
   "name": "python3"
  },
  "language_info": {
   "codemirror_mode": {
    "name": "ipython",
    "version": 3
   },
   "file_extension": ".py",
   "mimetype": "text/x-python",
   "name": "python",
   "nbconvert_exporter": "python",
   "pygments_lexer": "ipython3",
   "version": "3.7.5"
  }
 },
 "nbformat": 4,
 "nbformat_minor": 2
}
