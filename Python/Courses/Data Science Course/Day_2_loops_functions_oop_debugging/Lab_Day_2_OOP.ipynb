{
 "cells": [
  {
   "cell_type": "markdown",
   "metadata": {},
   "source": [
    "# Object Oriented Programming: \n",
    "## Classes, Inheritance\n",
    "\n",
    "_Dr. Junaid Qazi, PhD_"
   ]
  },
  {
   "cell_type": "markdown",
   "metadata": {},
   "source": [
    "<br><br>\n",
    "*****\n",
    "## Task to do in the lab:\n",
    "* Write an `Employee`, a parent class that can take input: name, salary, DoB (year, month, day)\n",
    "\n",
    "Here is a Stater code:\n",
    "```Python\n",
    "from datetime import date\n",
    "# Employee\n",
    "class Employee():\n",
    "    empCount = 0\n",
    "    def __init__(self, name, salary, year, month, day): #constructor\n",
    "        self.name = name\n",
    "        self.salary = salary\n",
    "        self.hireDay = date(year,month,day) # datetime object\n",
    "        Employee.empCount += 1\n",
    "        \n",
    "    def getEmpCount():\n",
    "        ............    \n",
    "    def getName(self):\n",
    "        ............    \n",
    "    def getSalary......\n",
    "        ............    \n",
    "    def getHireDay.....\n",
    "        ...............\n",
    "        ```\n",
    "        \n",
    "* Inherit your parent class to a child class `Manager`<br>\n",
    "Here is a stater code:\n",
    "```Python\n",
    "class Manager........ #inherits from Employee\n",
    "    def __init__(self, name, salary, year, month, day):\n",
    "        super().__init__(name, salary, year, month, day) #Call base class constructor\n",
    "\n",
    "    def getSalary(self): #Polymorphism, method overrides base class\n",
    "        # this function should add 1000 to the given salary of a manager\n",
    "    \n",
    "    def setBonus(self, bonus):\n",
    "        # this function should add bonus into the manager's salary\n",
    "        ```"
   ]
  },
  {
   "cell_type": "code",
   "execution_count": 10,
   "metadata": {},
   "outputs": [],
   "source": [
    "from datetime import date\n",
    "# Code for your Employee class goes here\n",
    "class Employee():\n",
    "    empCount = 0\n",
    "    def __init__(self, name, salary, year, month, day):\n",
    "        self.name = name\n",
    "        self.salary = salary\n",
    "        self.hiredate = date(year,month,day)\n",
    "        Employee.empCount += 1\n",
    "        \n",
    "    def getEmpcount(self):\n",
    "        return empCount\n",
    "    def getName(self):\n",
    "        return self.name\n",
    "    def getSalary(self):\n",
    "        return self.salary\n",
    "    def getHiredate(self):\n",
    "        return self.hiredate\n",
    "    \n",
    "\n"
   ]
  },
  {
   "cell_type": "code",
   "execution_count": 11,
   "metadata": {},
   "outputs": [],
   "source": [
    "# Code for your manager class goes here\n",
    "class Manager(Employee):\n",
    "    def __init__(self, name, salary, year, month, day):\n",
    "        super().__init__(name, salary, year, month, day)\n",
    "    \n",
    "    def getSalary(self):\n",
    "        return self.salary + 1000\n",
    "    def setBonus(self, bonus):\n",
    "        self.salary += bonus\n",
    "\n"
   ]
  },
  {
   "cell_type": "code",
   "execution_count": 15,
   "metadata": {},
   "outputs": [],
   "source": [
    "# here you are creating instancese for the classes and creating a list for a loop\n",
    "boss = Manager(\"Hamza\", 80000, 1987, 12, 15)\n",
    "boss.getSalary()\n",
    "boss.setBonus(5000)\n",
    "\n",
    "staff = []\n",
    "#fill the staff list with Manager and Employee objects\n",
    "staff.append(boss)\n",
    "staff.append(Employee(\"Husain\", 50000, 1989, 10, 1))\n",
    "staff.append(Employee(\"Abdullah\", 40000, 1990, 3, 15))"
   ]
  },
  {
   "cell_type": "code",
   "execution_count": 16,
   "metadata": {},
   "outputs": [
    {
     "name": "stdout",
     "output_type": "stream",
     "text": [
      "Hamza 86000 1987-12-15\n",
      "Husain 50000 1989-10-01\n",
      "Abdullah 40000 1990-03-15\n",
      "6\n"
     ]
    }
   ],
   "source": [
    "#print out information about all Employee objects\n",
    "for e in staff:\n",
    "    print (e.getName(), e.getSalary(), e.hiredate)\n",
    "print (Employee.empCount)"
   ]
  },
  {
   "cell_type": "code",
   "execution_count": null,
   "metadata": {},
   "outputs": [],
   "source": []
  }
 ],
 "metadata": {
  "kernelspec": {
   "display_name": "Python 3",
   "language": "python",
   "name": "python3"
  },
  "language_info": {
   "codemirror_mode": {
    "name": "ipython",
    "version": 3
   },
   "file_extension": ".py",
   "mimetype": "text/x-python",
   "name": "python",
   "nbconvert_exporter": "python",
   "pygments_lexer": "ipython3",
   "version": "3.7.5"
  }
 },
 "nbformat": 4,
 "nbformat_minor": 2
}
