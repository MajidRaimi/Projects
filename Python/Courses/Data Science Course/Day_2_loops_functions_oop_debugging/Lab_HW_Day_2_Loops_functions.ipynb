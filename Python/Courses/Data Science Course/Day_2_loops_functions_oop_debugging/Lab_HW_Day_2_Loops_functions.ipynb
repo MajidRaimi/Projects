{
 "cells": [
  {
   "cell_type": "markdown",
   "metadata": {},
   "source": [
    "# Functions Exercises - Lab_HW 2\n",
    "\n",
    "_Dr. Junaid Qazi, PhD_"
   ]
  },
  {
   "cell_type": "markdown",
   "metadata": {},
   "source": [
    "## This is a group task, please add your names here:\n",
    "Radwan Albahrani,\n",
    "Fahad,\n",
    "Ibrahim Alharbi,\n",
    "Abdulaziz\n",
    "\n",
    "-----"
   ]
  },
  {
   "cell_type": "markdown",
   "metadata": {},
   "source": [
    "### 1. Sum of List\n",
    "- function name is `sum_of_list`\n",
    "- input arguments are:\n",
    "  - list of numbers : `nums`\n",
    "- return is:\n",
    "  - number: sum of all elements in `nums`"
   ]
  },
  {
   "cell_type": "code",
   "execution_count": 1,
   "metadata": {},
   "outputs": [
    {
     "name": "stdout",
     "output_type": "stream",
     "text": [
      "8815\n"
     ]
    }
   ],
   "source": [
    "# write your function here, the belwo cell is a function call \n",
    "def sum_of_list(lists):\n",
    "    total = sum(lists)\n",
    "    return total\n",
    "nums = [1,3,5,8798,8]\n",
    "print(sum_of_list(nums))"
   ]
  },
  {
   "cell_type": "code",
   "execution_count": 2,
   "metadata": {},
   "outputs": [
    {
     "name": "stdout",
     "output_type": "stream",
     "text": [
      "8815\n"
     ]
    }
   ],
   "source": [
    "# A: \n",
    "nums = [1,3,5,8798,8]\n",
    "print(sum_of_list(nums))"
   ]
  },
  {
   "cell_type": "markdown",
   "metadata": {},
   "source": [
    "### 2. Multiply Elements of List\n",
    "- function name is `multiply_list`\n",
    "- input arguments are:\n",
    "  - list of numbers : `nums`\n",
    "- return is:\n",
    "  - number: product of all elements in `nums`"
   ]
  },
  {
   "cell_type": "code",
   "execution_count": 3,
   "metadata": {},
   "outputs": [
    {
     "name": "stdout",
     "output_type": "stream",
     "text": [
      "720\n"
     ]
    }
   ],
   "source": [
    "# write your function here, the below cell is a function call \n",
    "def multiply_list(lists):\n",
    "    result = 1\n",
    "    for x in lists:\n",
    "        result = result * x\n",
    "    return result\n",
    "print(multiply_list([1,2,3,4,5,6]))"
   ]
  },
  {
   "cell_type": "code",
   "execution_count": 4,
   "metadata": {},
   "outputs": [
    {
     "name": "stdout",
     "output_type": "stream",
     "text": [
      "720\n"
     ]
    }
   ],
   "source": [
    "# A:\n",
    "print(multiply_list([1,2,3,4,5,6]))"
   ]
  },
  {
   "cell_type": "markdown",
   "metadata": {},
   "source": [
    "### 3. Reverse a String\n",
    "- function name is `reverse_string`\n",
    "- input arguments are:\n",
    "  - string : `string_to_reverse`\n",
    "- return is:\n",
    "  - string : `reversed_string`, the reversed result of input `string_to_reverse`\n",
    "   \n",
    "Note: Do not use `[::-1]` indexing to solve this problem, use loops."
   ]
  },
  {
   "cell_type": "code",
   "execution_count": 27,
   "metadata": {},
   "outputs": [
    {
     "name": "stdout",
     "output_type": "stream",
     "text": [
      "nohtyP\n"
     ]
    }
   ],
   "source": [
    "# write your function here, the belwo cell is a function call \n",
    "def reverse_string(string_to_reverse):\n",
    "    mystring = string_to_reverse.strip()\n",
    "    emptystring = []\n",
    "    reversedstringlist = []\n",
    "    reversed_string = ''\n",
    "    for x in mystring:\n",
    "        emptystring.append(x)\n",
    "    index = len(emptystring)\n",
    "    for x in emptystring:\n",
    "        reversedstringlist.insert(0,x)\n",
    "    for x in reversedstringlist:\n",
    "        reversed_string += x\n",
    "    return reversed_string\n",
    "print(reverse_string(\"   Python       \"))"
   ]
  },
  {
   "cell_type": "code",
   "execution_count": 6,
   "metadata": {},
   "outputs": [
    {
     "name": "stdout",
     "output_type": "stream",
     "text": [
      "nohtyP\n"
     ]
    }
   ],
   "source": [
    "my_string = \"Python\"\n",
    "print(reverse_string(my_string))"
   ]
  },
  {
   "cell_type": "markdown",
   "metadata": {},
   "source": [
    "### 4. Max of Three\n",
    "- function name is `max_of_three`\n",
    "- input arguments are:\n",
    "  - int : `x`\n",
    "  - int : `y`\n",
    "  - int : `z`\n",
    "- return is:\n",
    "  - int: max value of `x`, `y`, and `z`"
   ]
  },
  {
   "cell_type": "code",
   "execution_count": 7,
   "metadata": {},
   "outputs": [
    {
     "name": "stdout",
     "output_type": "stream",
     "text": [
      "55\n"
     ]
    }
   ],
   "source": [
    "# write your function here, the belwo cell is a function call\n",
    "def max_of_three(x,y,z):\n",
    "    numlist = [x,y,z]\n",
    "    maxnum = max(numlist)\n",
    "    return maxnum\n",
    "print(max_of_three(4,20,55))"
   ]
  },
  {
   "cell_type": "code",
   "execution_count": 8,
   "metadata": {},
   "outputs": [
    {
     "data": {
      "text/plain": [
       "55"
      ]
     },
     "execution_count": 8,
     "metadata": {},
     "output_type": "execute_result"
    }
   ],
   "source": [
    "x=4\n",
    "y=20\n",
    "z=55\n",
    "max_of_three(x,y,z)"
   ]
  },
  {
   "cell_type": "markdown",
   "metadata": {},
   "source": [
    "### 5. Unique Elements Only\n",
    "- function name is `make_unique`\n",
    "- input arguments are:\n",
    "  - list (mixed types)\n",
    "- return is:\n",
    "  - list (mixed types)\n",
    "  \n",
    "Note: Do not use `set` to solve this problem."
   ]
  },
  {
   "cell_type": "code",
   "execution_count": 9,
   "metadata": {},
   "outputs": [
    {
     "name": "stdout",
     "output_type": "stream",
     "text": [
      "['malak', 1, 4.7, 'hi', 8.9]\n"
     ]
    }
   ],
   "source": [
    "# write your function here, the below cell is a function call \n",
    "def make_unique(givenlist):\n",
    "    unique_list = []\n",
    "    for x in givenlist:\n",
    "        if type(x) == str:\n",
    "            x = x.lower()\n",
    "        else:\n",
    "            pass\n",
    "        \n",
    "        if x in unique_list:\n",
    "            continue\n",
    "        else:\n",
    "            unique_list.append(x)\n",
    "    return unique_list\n",
    "print(make_unique([\"Malak\", 1, 4.7, \"hi\", 1, \"Hi\", 8.9, 4.7]))"
   ]
  },
  {
   "cell_type": "code",
   "execution_count": 10,
   "metadata": {},
   "outputs": [
    {
     "name": "stdout",
     "output_type": "stream",
     "text": [
      "['malak', 1, 4.7, 'hi', 8.9]\n"
     ]
    }
   ],
   "source": [
    "#Should print a unique list\n",
    "print(make_unique([\"Malak\", 1, 4.7, \"Hi\", 1, \"Hi\", 8.9, 4.7]))"
   ]
  },
  {
   "cell_type": "markdown",
   "metadata": {},
   "source": [
    "### 6. [BONUS] Is It a [Palindrome?](https://en.wikipedia.org/wiki/Palindrome)\n",
    "- function name is `is_word_palindrome`\n",
    "- input arguments are:\n",
    "  - string\n",
    "- return is:\n",
    "  - boolean (True if input string is Palindrome, else False)\n",
    "  \n",
    "Note: Do not use [::-1] indexing to solve this problem.\n",
    "Note 2: Whitespace should be considered as a character against which to evaluate symmetry."
   ]
  },
  {
   "cell_type": "code",
   "execution_count": 38,
   "metadata": {},
   "outputs": [
    {
     "name": "stdout",
     "output_type": "stream",
     "text": [
      "True\n",
      "False\n"
     ]
    }
   ],
   "source": [
    "# write your function here, the belwo cell is a function call \n",
    "def is_word_palindrome(string):\n",
    "    string = string.strip()\n",
    "    reversed_string = reverse_string(string)\n",
    "    if reversed_string == string:\n",
    "        return True\n",
    "    else:\n",
    "        return False\n",
    "word = \"pop\"\n",
    "print (is_word_palindrome(word))\n",
    "word = \"Python\"\n",
    "print (is_word_palindrome(word))"
   ]
  },
  {
   "cell_type": "code",
   "execution_count": 35,
   "metadata": {},
   "outputs": [
    {
     "name": "stdout",
     "output_type": "stream",
     "text": [
      "True\n",
      "False\n"
     ]
    }
   ],
   "source": [
    "word = \"pop\"\n",
    "print (is_word_palindrome(word))\n",
    "word = \"Python\"\n",
    "print (is_word_palindrome(word))"
   ]
  },
  {
   "cell_type": "markdown",
   "metadata": {},
   "source": [
    "### 7. FizzBuzz"
   ]
  },
  {
   "cell_type": "markdown",
   "metadata": {},
   "source": [
    "This is a very common programming question. It’s often on job interviews and a buzzword in the industry as a\n",
    "simple but common task to show your understanding.\n",
    "\n",
    "Write a program (functions) that prints the numbers from 1 to 101, but:\n",
    "\n",
    "- For multiples of three, print “Fizz” instead of the number.\n",
    "\n",
    "- For multiples of five, print “Buzz”.\n",
    "\n",
    "- For numbers which are multiples of both three and five, print “FizzBuzz”.\n"
   ]
  },
  {
   "cell_type": "code",
   "execution_count": 13,
   "metadata": {},
   "outputs": [
    {
     "name": "stdout",
     "output_type": "stream",
     "text": [
      "1\n",
      "2\n",
      "Fizz\n",
      "4\n",
      "Buzz\n",
      "Fizz\n",
      "7\n",
      "8\n",
      "Fizz\n",
      "Buzz\n",
      "11\n",
      "Fizz\n",
      "13\n",
      "14\n",
      "FizzBuzz\n",
      "16\n",
      "17\n",
      "Fizz\n",
      "19\n",
      "Buzz\n",
      "Fizz\n",
      "22\n",
      "23\n",
      "Fizz\n",
      "Buzz\n",
      "26\n",
      "Fizz\n",
      "28\n",
      "29\n",
      "FizzBuzz\n",
      "31\n",
      "32\n",
      "Fizz\n",
      "34\n",
      "Buzz\n",
      "Fizz\n",
      "37\n",
      "38\n",
      "Fizz\n",
      "Buzz\n",
      "41\n",
      "Fizz\n",
      "43\n",
      "44\n",
      "FizzBuzz\n",
      "46\n",
      "47\n",
      "Fizz\n",
      "49\n",
      "Buzz\n",
      "Fizz\n",
      "52\n",
      "53\n",
      "Fizz\n",
      "Buzz\n",
      "56\n",
      "Fizz\n",
      "58\n",
      "59\n",
      "FizzBuzz\n",
      "61\n",
      "62\n",
      "Fizz\n",
      "64\n",
      "Buzz\n",
      "Fizz\n",
      "67\n",
      "68\n",
      "Fizz\n",
      "Buzz\n",
      "71\n",
      "Fizz\n",
      "73\n",
      "74\n",
      "FizzBuzz\n",
      "76\n",
      "77\n",
      "Fizz\n",
      "79\n",
      "Buzz\n",
      "Fizz\n",
      "82\n",
      "83\n",
      "Fizz\n",
      "Buzz\n",
      "86\n",
      "Fizz\n",
      "88\n",
      "89\n",
      "FizzBuzz\n",
      "91\n",
      "92\n",
      "Fizz\n",
      "94\n",
      "Buzz\n",
      "Fizz\n",
      "97\n",
      "98\n",
      "Fizz\n",
      "Buzz\n",
      "101\n"
     ]
    }
   ],
   "source": [
    "# write your functions here, the belwo cell is a function call \n",
    "def FizzBuzz():\n",
    "    numberlist = list(range(1,102))\n",
    "    for x in numberlist:\n",
    "        if x % 3 == 0 and x % 5 == 0:\n",
    "            print(\"FizzBuzz\")\n",
    "        elif x % 3 == 0:\n",
    "            print(\"Fizz\")\n",
    "        elif x % 5 == 0:\n",
    "            print(\"Buzz\")\n",
    "        else:\n",
    "            print(x)\n",
    "FizzBuzz()\n",
    "# Hint: you may want to write 3 functions, range could be helpful as well."
   ]
  },
  {
   "cell_type": "code",
   "execution_count": 14,
   "metadata": {},
   "outputs": [
    {
     "name": "stdout",
     "output_type": "stream",
     "text": [
      "1\n",
      "2\n",
      "Fizz\n",
      "4\n",
      "Buzz\n",
      "Fizz\n",
      "7\n",
      "8\n",
      "Fizz\n",
      "Buzz\n",
      "11\n",
      "Fizz\n",
      "13\n",
      "14\n",
      "FizzBuzz\n",
      "16\n",
      "17\n",
      "Fizz\n",
      "19\n",
      "Buzz\n",
      "Fizz\n",
      "22\n",
      "23\n",
      "Fizz\n",
      "Buzz\n",
      "26\n",
      "Fizz\n",
      "28\n",
      "29\n",
      "FizzBuzz\n",
      "31\n",
      "32\n",
      "Fizz\n",
      "34\n",
      "Buzz\n",
      "Fizz\n",
      "37\n",
      "38\n",
      "Fizz\n",
      "Buzz\n",
      "41\n",
      "Fizz\n",
      "43\n",
      "44\n",
      "FizzBuzz\n",
      "46\n",
      "47\n",
      "Fizz\n",
      "49\n",
      "Buzz\n",
      "Fizz\n",
      "52\n",
      "53\n",
      "Fizz\n",
      "Buzz\n",
      "56\n",
      "Fizz\n",
      "58\n",
      "59\n",
      "FizzBuzz\n",
      "61\n",
      "62\n",
      "Fizz\n",
      "64\n",
      "Buzz\n",
      "Fizz\n",
      "67\n",
      "68\n",
      "Fizz\n",
      "Buzz\n",
      "71\n",
      "Fizz\n",
      "73\n",
      "74\n",
      "FizzBuzz\n",
      "76\n",
      "77\n",
      "Fizz\n",
      "79\n",
      "Buzz\n",
      "Fizz\n",
      "82\n",
      "83\n",
      "Fizz\n",
      "Buzz\n",
      "86\n",
      "Fizz\n",
      "88\n",
      "89\n",
      "FizzBuzz\n",
      "91\n",
      "92\n",
      "Fizz\n",
      "94\n",
      "Buzz\n",
      "Fizz\n",
      "97\n",
      "98\n",
      "Fizz\n",
      "Buzz\n",
      "101\n"
     ]
    }
   ],
   "source": [
    "# Don't run this cell, you will lose the output..!\n",
    "FizzBuzz()"
   ]
  },
  {
   "cell_type": "markdown",
   "metadata": {},
   "source": [
    "### 8. [BONUS] Write a function with an if-else statement for multiple conditions:\n",
    "\n",
    "Write a function `forecast()`, that takes two arguments temperature (an integer in C) and weather (rain or shine) and prints a recommendation based on the conditions below:\n",
    "\n",
    "1. Temperature over 20 ˚C and rain: bring an umbrella.\n",
    "2. Temperature less than or equal to 20 ˚C and rain: bring and umbrella and a jacket.\n",
    "3. Temperature over 20 ˚C and sunshine: wear a t-shirt.\n",
    "4. Temperature less than or equal to 20 ˚C and sunshine: bring a jacket."
   ]
  },
  {
   "cell_type": "code",
   "execution_count": 15,
   "metadata": {},
   "outputs": [
    {
     "name": "stdout",
     "output_type": "stream",
     "text": [
      "Bring a Jacket\n"
     ]
    }
   ],
   "source": [
    "# write your function here, the belwo cell is a function call \n",
    "def forecast(temp, whether):\n",
    "    if whether == \"rain\":\n",
    "        if temp > 20:\n",
    "            print(\"Bring an Umbrella\")\n",
    "        else:\n",
    "            print(\"Bring an Umbrella and a Jacket\")\n",
    "    elif whether == \"shine\":\n",
    "        if temp > 20:\n",
    "            print(\"Wear a T-shirt\")\n",
    "        else:\n",
    "            print(\"Bring a Jacket\")\n",
    "temp = 20\n",
    "weather = \"shine\"\n",
    "forecast(temp, weather)"
   ]
  },
  {
   "cell_type": "code",
   "execution_count": 16,
   "metadata": {},
   "outputs": [
    {
     "name": "stdout",
     "output_type": "stream",
     "text": [
      "Bring a Jacket\n"
     ]
    }
   ],
   "source": [
    "# Don't run this cell, this is just a guideline and function call. \n",
    "temp = 20\n",
    "weather = \"shine\"\n",
    "forecast(temp, weather)"
   ]
  }
 ],
 "metadata": {
  "kernelspec": {
   "display_name": "Python 3",
   "language": "python",
   "name": "python3"
  },
  "language_info": {
   "codemirror_mode": {
    "name": "ipython",
    "version": 3
   },
   "file_extension": ".py",
   "mimetype": "text/x-python",
   "name": "python",
   "nbconvert_exporter": "python",
   "pygments_lexer": "ipython3",
   "version": "3.7.5"
  }
 },
 "nbformat": 4,
 "nbformat_minor": 2
}
