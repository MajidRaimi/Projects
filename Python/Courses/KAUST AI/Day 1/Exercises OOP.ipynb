{
 "cells": [
  {
   "cell_type": "markdown",
   "metadata": {},
   "source": [
    "Exercise 4.1: Write a child class with 2 parents and validate the above scheme of attribute\n",
    "search in instance of a class.\n",
    "\n",
    "Exercise 4.2: Write a program (without using OOP) which takes in (x, y) ∈ R +2 a tuple of\n",
    "positive number representing the size of rectangular grid. It then takes an arbitrary number\n",
    "of parameters (x, y),r, where the (x, y) represents the center of a circle and r represents\n",
    "the radius. For each entry the program returns a \"True\" if the circle can be placed on the\n",
    "grid without it intersecting with any other circles and then places the circle on the grid. Else\n",
    "\"False\" if the circle can not be placed on the grid because it intersects with other previously\n",
    "placed circle.\n"
   ]
  },
  {
   "cell_type": "code",
   "execution_count": 13,
   "metadata": {},
   "outputs": [
    {
     "data": {
      "text/plain": [
       "-1"
      ]
     },
     "execution_count": 13,
     "metadata": {},
     "output_type": "execute_result"
    }
   ],
   "source": [
    "# Circles Problem\n",
    "xLim = int(input(\"Enter the X limit: \"))\n",
    "yLim = int(input(\"Enter the Y limit: \"))\n",
    "circles = []\n",
    "radii = []\n",
    "\n",
    "def place_Circle(xlim:int, ylim:int, cicrles:list, radii:list):\n",
    "    newCircle = input(\"Enter the Center of the circle you want to place, separated by a comma (-1 to exit): \").split(\",\")\n",
    "    if int(newCircle[0]) == -1:\n",
    "        return \"Exit\"\n",
    "    if len(newCircle) != 2:\n",
    "        return -2\n",
    "    newCircle = [int(element) for element in newCircle]\n",
    "    radius = int(input(\"Enter the Radius Of the circle you want to place: \"))\n",
    "\n",
    "\n",
    "test = place_Circle(xLim, yLim, circles, radii)\n",
    "\n",
    "while test != \"Exit\":\n",
    "    if test == -2:\n",
    "        print(\"Make sure you have entered the parameters properly.\")\n",
    "    place_Circle(xLim, yLim, circles, radii)\n",
    "print(\"Program Ended\")\n"
   ]
  },
  {
   "cell_type": "markdown",
   "metadata": {},
   "source": [
    "\n",
    "Exercise 4.3: Re-implement the above with OOP.\n"
   ]
  },
  {
   "cell_type": "markdown",
   "metadata": {},
   "source": [
    "\n",
    "Exercise 4.4: Re-implement the above in \"n\" dimensional space. where \"n\" is the input of\n",
    "the class constructor.\n"
   ]
  },
  {
   "cell_type": "code",
   "execution_count": 46,
   "metadata": {},
   "outputs": [],
   "source": [
    "class World:\n",
    "    # Initiate class with no circles, given limets, and a dimension limit\n",
    "    def __init__(self, limits:list):\n",
    "        self.circles = []\n",
    "        self.radii = []\n",
    "        self.limits = limits\n",
    "        self.dimension = len(self.limits)\n",
    "    \n",
    "    # Private function to calculate distances between centers of circles\n",
    "    def _calculateDistanceCenters(self, center):\n",
    "        # Start an empty list\n",
    "        distances = []\n",
    "        # Loop through all the circles\n",
    "        for i in range(len(self.circles)):\n",
    "            # Start a sum variable that starts at 0\n",
    "            normal = 0\n",
    "            # Loop through the center points of the current circle\n",
    "            for j in range(len(self.circles[i])):\n",
    "                # Get the sum for the distance formula\n",
    "                normal += (center[j] - self.circles[i][j])**2\n",
    "            # Add the square root of that sum to distances\n",
    "            distances.append(normal ** 1/2)\n",
    "        return distances \n",
    "\n",
    "\n",
    "    # Function to Place Circle, requires Center and Radius\n",
    "    def place_Circle(self, center, radius):\n",
    "        # Center must be of the same dimensions as the created world\n",
    "        if len(center) != self.dimension:\n",
    "            print(\"Circle in different dimension than created world\")\n",
    "            return\n",
    "        \n",
    "        # Check Variables\n",
    "        withinLimits = True\n",
    "        doesNotIntersect = True\n",
    "\n",
    "        # Loop through all the dimensions\n",
    "        for i in range(self.dimension):\n",
    "            # Check whether the circle is within the bounds of the world\n",
    "            withinLimits = withinLimits and (center[i] + radius < self.limits[i]) and (center[i] - radius) >= 0\n",
    "            # Whenever it is not, exit function\n",
    "            if withinLimits == False:\n",
    "                print(\"Circle out of bounds.\")\n",
    "                return  \n",
    "        # If we have other circles already      \n",
    "        if len(self.circles) > 0:\n",
    "            # Get the distances of these circles to the given circle\n",
    "            distances = self._calculateDistanceCenters(center)\n",
    "            # Loop through those distances\n",
    "            for i in range(len(distances)):\n",
    "                # Make sure the sum of the radius of the circles is less than or equal to the distances\n",
    "                doesNotIntersect = doesNotIntersect and self.radii[i] + radius <= distances[i]\n",
    "                # Whenever it turns false, exit function\n",
    "                if doesNotIntersect == False:\n",
    "                    print(\"Circle Intersects Another.\")\n",
    "                    return\n",
    "        # If both conditions are true, Add the circle\n",
    "        if withinLimits and doesNotIntersect:\n",
    "            self.circles.append(center)\n",
    "            self.radii.append(radius)\n",
    "            print(\"Circle added Successfully\")\n",
    "        "
   ]
  },
  {
   "cell_type": "code",
   "execution_count": 47,
   "metadata": {},
   "outputs": [],
   "source": [
    "world1 = World([10,10])"
   ]
  }
 ],
 "metadata": {
  "kernelspec": {
   "display_name": "Python 3.10.4 64-bit",
   "language": "python",
   "name": "python3"
  },
  "language_info": {
   "codemirror_mode": {
    "name": "ipython",
    "version": 3
   },
   "file_extension": ".py",
   "mimetype": "text/x-python",
   "name": "python",
   "nbconvert_exporter": "python",
   "pygments_lexer": "ipython3",
   "version": "3.10.4"
  },
  "orig_nbformat": 4,
  "vscode": {
   "interpreter": {
    "hash": "b0d9c7fd3642b660ffedf3a77d11c31e11ccbd2a913cb9ccb12c86252838bb24"
   }
  }
 },
 "nbformat": 4,
 "nbformat_minor": 2
}
