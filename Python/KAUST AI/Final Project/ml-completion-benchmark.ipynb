{
 "cells": [
  {
   "cell_type": "code",
   "execution_count": 1,
   "id": "b436a0fe",
   "metadata": {
    "_cell_guid": "b1076dfc-b9ad-4769-8c92-a6c4dae69d19",
    "_uuid": "8f2839f25d086af736a60e9eeb907d3b93b6e0e5",
    "execution": {
     "iopub.execute_input": "2022-06-30T03:49:27.276797Z",
     "iopub.status.busy": "2022-06-30T03:49:27.276387Z",
     "iopub.status.idle": "2022-06-30T03:49:28.501911Z",
     "shell.execute_reply": "2022-06-30T03:49:28.500952Z"
    },
    "papermill": {
     "duration": 1.234111,
     "end_time": "2022-06-30T03:49:28.504442",
     "exception": false,
     "start_time": "2022-06-30T03:49:27.270331",
     "status": "completed"
    },
    "tags": []
   },
   "outputs": [],
   "source": [
    "import pathlib\n",
    "\n",
    "import numpy as np\n",
    "import pandas as pd\n",
    "from sklearn import metrics, model_selection, tree"
   ]
  },
  {
   "cell_type": "markdown",
   "id": "7837ea16",
   "metadata": {
    "papermill": {
     "duration": 0.003192,
     "end_time": "2022-06-30T03:49:28.511446",
     "exception": false,
     "start_time": "2022-06-30T03:49:28.508254",
     "status": "completed"
    },
    "tags": []
   },
   "source": [
    "# Load the data"
   ]
  },
  {
   "cell_type": "code",
   "execution_count": 2,
   "id": "d381b9f1",
   "metadata": {
    "execution": {
     "iopub.execute_input": "2022-06-30T03:49:28.520466Z",
     "iopub.status.busy": "2022-06-30T03:49:28.519781Z",
     "iopub.status.idle": "2022-06-30T03:49:30.188064Z",
     "shell.execute_reply": "2022-06-30T03:49:30.186908Z"
    },
    "papermill": {
     "duration": 1.67584,
     "end_time": "2022-06-30T03:49:30.190691",
     "exception": false,
     "start_time": "2022-06-30T03:49:28.514851",
     "status": "completed"
    },
    "tags": []
   },
   "outputs": [],
   "source": [
    "DATA_DIR = pathlib.Path(\"../input/sdaia-kaust-ai-bootcamp\")\n",
    "\n",
    "# training data contains both features and labels\n",
    "train_df = pd.read_csv(DATA_DIR / \"train.csv\")\n",
    "\n",
    "# split training data into features and target\n",
    "train_features = train_df.drop(\"labels\", axis=1)\n",
    "train_target = train_df.loc[:, \"labels\"]\n",
    "\n",
    "# testing data contains only features\n",
    "test_features = pd.read_csv(DATA_DIR / \"test.csv\")"
   ]
  },
  {
   "cell_type": "code",
   "execution_count": 3,
   "id": "7b1c49cd",
   "metadata": {
    "execution": {
     "iopub.execute_input": "2022-06-30T03:49:30.200868Z",
     "iopub.status.busy": "2022-06-30T03:49:30.200509Z",
     "iopub.status.idle": "2022-06-30T03:49:30.221791Z",
     "shell.execute_reply": "2022-06-30T03:49:30.220649Z"
    },
    "papermill": {
     "duration": 0.029057,
     "end_time": "2022-06-30T03:49:30.224181",
     "exception": false,
     "start_time": "2022-06-30T03:49:30.195124",
     "status": "completed"
    },
    "tags": []
   },
   "outputs": [
    {
     "data": {
      "text/html": [
       "<div>\n",
       "<style scoped>\n",
       "    .dataframe tbody tr th:only-of-type {\n",
       "        vertical-align: middle;\n",
       "    }\n",
       "\n",
       "    .dataframe tbody tr th {\n",
       "        vertical-align: top;\n",
       "    }\n",
       "\n",
       "    .dataframe thead th {\n",
       "        text-align: right;\n",
       "    }\n",
       "</style>\n",
       "<table border=\"1\" class=\"dataframe\">\n",
       "  <thead>\n",
       "    <tr style=\"text-align: right;\">\n",
       "      <th></th>\n",
       "      <th>p0</th>\n",
       "      <th>p1</th>\n",
       "      <th>p2</th>\n",
       "      <th>p3</th>\n",
       "      <th>p4</th>\n",
       "      <th>p5</th>\n",
       "      <th>p6</th>\n",
       "      <th>p7</th>\n",
       "      <th>p8</th>\n",
       "      <th>p9</th>\n",
       "      <th>...</th>\n",
       "      <th>p1014</th>\n",
       "      <th>p1015</th>\n",
       "      <th>p1016</th>\n",
       "      <th>p1017</th>\n",
       "      <th>p1018</th>\n",
       "      <th>p1019</th>\n",
       "      <th>p1020</th>\n",
       "      <th>p1021</th>\n",
       "      <th>p1022</th>\n",
       "      <th>p1023</th>\n",
       "    </tr>\n",
       "  </thead>\n",
       "  <tbody>\n",
       "    <tr>\n",
       "      <th>0</th>\n",
       "      <td>0</td>\n",
       "      <td>0</td>\n",
       "      <td>0</td>\n",
       "      <td>0</td>\n",
       "      <td>0</td>\n",
       "      <td>0</td>\n",
       "      <td>0</td>\n",
       "      <td>0</td>\n",
       "      <td>0</td>\n",
       "      <td>0</td>\n",
       "      <td>...</td>\n",
       "      <td>0</td>\n",
       "      <td>0</td>\n",
       "      <td>0</td>\n",
       "      <td>0</td>\n",
       "      <td>0</td>\n",
       "      <td>0</td>\n",
       "      <td>0</td>\n",
       "      <td>0</td>\n",
       "      <td>0</td>\n",
       "      <td>0</td>\n",
       "    </tr>\n",
       "    <tr>\n",
       "      <th>1</th>\n",
       "      <td>0</td>\n",
       "      <td>0</td>\n",
       "      <td>0</td>\n",
       "      <td>0</td>\n",
       "      <td>0</td>\n",
       "      <td>0</td>\n",
       "      <td>0</td>\n",
       "      <td>0</td>\n",
       "      <td>0</td>\n",
       "      <td>0</td>\n",
       "      <td>...</td>\n",
       "      <td>0</td>\n",
       "      <td>0</td>\n",
       "      <td>0</td>\n",
       "      <td>0</td>\n",
       "      <td>0</td>\n",
       "      <td>0</td>\n",
       "      <td>0</td>\n",
       "      <td>0</td>\n",
       "      <td>0</td>\n",
       "      <td>0</td>\n",
       "    </tr>\n",
       "    <tr>\n",
       "      <th>2</th>\n",
       "      <td>0</td>\n",
       "      <td>0</td>\n",
       "      <td>0</td>\n",
       "      <td>0</td>\n",
       "      <td>0</td>\n",
       "      <td>0</td>\n",
       "      <td>0</td>\n",
       "      <td>0</td>\n",
       "      <td>0</td>\n",
       "      <td>0</td>\n",
       "      <td>...</td>\n",
       "      <td>0</td>\n",
       "      <td>0</td>\n",
       "      <td>0</td>\n",
       "      <td>0</td>\n",
       "      <td>0</td>\n",
       "      <td>0</td>\n",
       "      <td>0</td>\n",
       "      <td>0</td>\n",
       "      <td>0</td>\n",
       "      <td>0</td>\n",
       "    </tr>\n",
       "    <tr>\n",
       "      <th>3</th>\n",
       "      <td>0</td>\n",
       "      <td>0</td>\n",
       "      <td>0</td>\n",
       "      <td>0</td>\n",
       "      <td>0</td>\n",
       "      <td>0</td>\n",
       "      <td>0</td>\n",
       "      <td>0</td>\n",
       "      <td>0</td>\n",
       "      <td>0</td>\n",
       "      <td>...</td>\n",
       "      <td>0</td>\n",
       "      <td>0</td>\n",
       "      <td>0</td>\n",
       "      <td>0</td>\n",
       "      <td>0</td>\n",
       "      <td>0</td>\n",
       "      <td>0</td>\n",
       "      <td>0</td>\n",
       "      <td>0</td>\n",
       "      <td>0</td>\n",
       "    </tr>\n",
       "    <tr>\n",
       "      <th>4</th>\n",
       "      <td>0</td>\n",
       "      <td>0</td>\n",
       "      <td>0</td>\n",
       "      <td>0</td>\n",
       "      <td>0</td>\n",
       "      <td>0</td>\n",
       "      <td>0</td>\n",
       "      <td>0</td>\n",
       "      <td>0</td>\n",
       "      <td>0</td>\n",
       "      <td>...</td>\n",
       "      <td>0</td>\n",
       "      <td>0</td>\n",
       "      <td>0</td>\n",
       "      <td>0</td>\n",
       "      <td>0</td>\n",
       "      <td>0</td>\n",
       "      <td>0</td>\n",
       "      <td>0</td>\n",
       "      <td>0</td>\n",
       "      <td>0</td>\n",
       "    </tr>\n",
       "  </tbody>\n",
       "</table>\n",
       "<p>5 rows × 1024 columns</p>\n",
       "</div>"
      ],
      "text/plain": [
       "   p0  p1  p2  p3  p4  p5  p6  p7  p8  p9  ...  p1014  p1015  p1016  p1017  \\\n",
       "0   0   0   0   0   0   0   0   0   0   0  ...      0      0      0      0   \n",
       "1   0   0   0   0   0   0   0   0   0   0  ...      0      0      0      0   \n",
       "2   0   0   0   0   0   0   0   0   0   0  ...      0      0      0      0   \n",
       "3   0   0   0   0   0   0   0   0   0   0  ...      0      0      0      0   \n",
       "4   0   0   0   0   0   0   0   0   0   0  ...      0      0      0      0   \n",
       "\n",
       "   p1018  p1019  p1020  p1021  p1022  p1023  \n",
       "0      0      0      0      0      0      0  \n",
       "1      0      0      0      0      0      0  \n",
       "2      0      0      0      0      0      0  \n",
       "3      0      0      0      0      0      0  \n",
       "4      0      0      0      0      0      0  \n",
       "\n",
       "[5 rows x 1024 columns]"
      ]
     },
     "execution_count": 3,
     "metadata": {},
     "output_type": "execute_result"
    }
   ],
   "source": [
    "train_features.head()"
   ]
  },
  {
   "cell_type": "code",
   "execution_count": 4,
   "id": "bf767f80",
   "metadata": {
    "execution": {
     "iopub.execute_input": "2022-06-30T03:49:30.233517Z",
     "iopub.status.busy": "2022-06-30T03:49:30.233097Z",
     "iopub.status.idle": "2022-06-30T03:49:30.240522Z",
     "shell.execute_reply": "2022-06-30T03:49:30.239426Z"
    },
    "papermill": {
     "duration": 0.014522,
     "end_time": "2022-06-30T03:49:30.242753",
     "exception": false,
     "start_time": "2022-06-30T03:49:30.228231",
     "status": "completed"
    },
    "tags": []
   },
   "outputs": [
    {
     "data": {
      "text/plain": [
       "0    19\n",
       "1    23\n",
       "2     9\n",
       "3    27\n",
       "4    23\n",
       "Name: labels, dtype: int64"
      ]
     },
     "execution_count": 4,
     "metadata": {},
     "output_type": "execute_result"
    }
   ],
   "source": [
    "train_target.head()"
   ]
  },
  {
   "cell_type": "code",
   "execution_count": 5,
   "id": "52a13cc0",
   "metadata": {
    "execution": {
     "iopub.execute_input": "2022-06-30T03:49:30.253277Z",
     "iopub.status.busy": "2022-06-30T03:49:30.252593Z",
     "iopub.status.idle": "2022-06-30T03:49:30.269399Z",
     "shell.execute_reply": "2022-06-30T03:49:30.268307Z"
    },
    "papermill": {
     "duration": 0.024734,
     "end_time": "2022-06-30T03:49:30.271551",
     "exception": false,
     "start_time": "2022-06-30T03:49:30.246817",
     "status": "completed"
    },
    "tags": []
   },
   "outputs": [
    {
     "data": {
      "text/html": [
       "<div>\n",
       "<style scoped>\n",
       "    .dataframe tbody tr th:only-of-type {\n",
       "        vertical-align: middle;\n",
       "    }\n",
       "\n",
       "    .dataframe tbody tr th {\n",
       "        vertical-align: top;\n",
       "    }\n",
       "\n",
       "    .dataframe thead th {\n",
       "        text-align: right;\n",
       "    }\n",
       "</style>\n",
       "<table border=\"1\" class=\"dataframe\">\n",
       "  <thead>\n",
       "    <tr style=\"text-align: right;\">\n",
       "      <th></th>\n",
       "      <th>p0</th>\n",
       "      <th>p1</th>\n",
       "      <th>p2</th>\n",
       "      <th>p3</th>\n",
       "      <th>p4</th>\n",
       "      <th>p5</th>\n",
       "      <th>p6</th>\n",
       "      <th>p7</th>\n",
       "      <th>p8</th>\n",
       "      <th>p9</th>\n",
       "      <th>...</th>\n",
       "      <th>p1014</th>\n",
       "      <th>p1015</th>\n",
       "      <th>p1016</th>\n",
       "      <th>p1017</th>\n",
       "      <th>p1018</th>\n",
       "      <th>p1019</th>\n",
       "      <th>p1020</th>\n",
       "      <th>p1021</th>\n",
       "      <th>p1022</th>\n",
       "      <th>p1023</th>\n",
       "    </tr>\n",
       "  </thead>\n",
       "  <tbody>\n",
       "    <tr>\n",
       "      <th>0</th>\n",
       "      <td>0</td>\n",
       "      <td>0</td>\n",
       "      <td>0</td>\n",
       "      <td>0</td>\n",
       "      <td>0</td>\n",
       "      <td>0</td>\n",
       "      <td>0</td>\n",
       "      <td>0</td>\n",
       "      <td>0</td>\n",
       "      <td>0</td>\n",
       "      <td>...</td>\n",
       "      <td>0</td>\n",
       "      <td>0</td>\n",
       "      <td>0</td>\n",
       "      <td>0</td>\n",
       "      <td>0</td>\n",
       "      <td>0</td>\n",
       "      <td>0</td>\n",
       "      <td>0</td>\n",
       "      <td>0</td>\n",
       "      <td>0</td>\n",
       "    </tr>\n",
       "    <tr>\n",
       "      <th>1</th>\n",
       "      <td>0</td>\n",
       "      <td>0</td>\n",
       "      <td>0</td>\n",
       "      <td>0</td>\n",
       "      <td>0</td>\n",
       "      <td>0</td>\n",
       "      <td>0</td>\n",
       "      <td>0</td>\n",
       "      <td>0</td>\n",
       "      <td>0</td>\n",
       "      <td>...</td>\n",
       "      <td>0</td>\n",
       "      <td>0</td>\n",
       "      <td>0</td>\n",
       "      <td>0</td>\n",
       "      <td>0</td>\n",
       "      <td>0</td>\n",
       "      <td>0</td>\n",
       "      <td>0</td>\n",
       "      <td>0</td>\n",
       "      <td>0</td>\n",
       "    </tr>\n",
       "    <tr>\n",
       "      <th>2</th>\n",
       "      <td>0</td>\n",
       "      <td>0</td>\n",
       "      <td>0</td>\n",
       "      <td>0</td>\n",
       "      <td>0</td>\n",
       "      <td>0</td>\n",
       "      <td>0</td>\n",
       "      <td>0</td>\n",
       "      <td>0</td>\n",
       "      <td>0</td>\n",
       "      <td>...</td>\n",
       "      <td>0</td>\n",
       "      <td>0</td>\n",
       "      <td>0</td>\n",
       "      <td>0</td>\n",
       "      <td>0</td>\n",
       "      <td>0</td>\n",
       "      <td>0</td>\n",
       "      <td>0</td>\n",
       "      <td>0</td>\n",
       "      <td>0</td>\n",
       "    </tr>\n",
       "    <tr>\n",
       "      <th>3</th>\n",
       "      <td>0</td>\n",
       "      <td>0</td>\n",
       "      <td>0</td>\n",
       "      <td>0</td>\n",
       "      <td>0</td>\n",
       "      <td>0</td>\n",
       "      <td>0</td>\n",
       "      <td>0</td>\n",
       "      <td>0</td>\n",
       "      <td>0</td>\n",
       "      <td>...</td>\n",
       "      <td>0</td>\n",
       "      <td>0</td>\n",
       "      <td>0</td>\n",
       "      <td>0</td>\n",
       "      <td>0</td>\n",
       "      <td>0</td>\n",
       "      <td>0</td>\n",
       "      <td>0</td>\n",
       "      <td>0</td>\n",
       "      <td>0</td>\n",
       "    </tr>\n",
       "    <tr>\n",
       "      <th>4</th>\n",
       "      <td>0</td>\n",
       "      <td>0</td>\n",
       "      <td>0</td>\n",
       "      <td>0</td>\n",
       "      <td>0</td>\n",
       "      <td>0</td>\n",
       "      <td>0</td>\n",
       "      <td>0</td>\n",
       "      <td>0</td>\n",
       "      <td>0</td>\n",
       "      <td>...</td>\n",
       "      <td>0</td>\n",
       "      <td>0</td>\n",
       "      <td>0</td>\n",
       "      <td>0</td>\n",
       "      <td>0</td>\n",
       "      <td>0</td>\n",
       "      <td>0</td>\n",
       "      <td>0</td>\n",
       "      <td>0</td>\n",
       "      <td>0</td>\n",
       "    </tr>\n",
       "  </tbody>\n",
       "</table>\n",
       "<p>5 rows × 1024 columns</p>\n",
       "</div>"
      ],
      "text/plain": [
       "   p0  p1  p2  p3  p4  p5  p6  p7  p8  p9  ...  p1014  p1015  p1016  p1017  \\\n",
       "0   0   0   0   0   0   0   0   0   0   0  ...      0      0      0      0   \n",
       "1   0   0   0   0   0   0   0   0   0   0  ...      0      0      0      0   \n",
       "2   0   0   0   0   0   0   0   0   0   0  ...      0      0      0      0   \n",
       "3   0   0   0   0   0   0   0   0   0   0  ...      0      0      0      0   \n",
       "4   0   0   0   0   0   0   0   0   0   0  ...      0      0      0      0   \n",
       "\n",
       "   p1018  p1019  p1020  p1021  p1022  p1023  \n",
       "0      0      0      0      0      0      0  \n",
       "1      0      0      0      0      0      0  \n",
       "2      0      0      0      0      0      0  \n",
       "3      0      0      0      0      0      0  \n",
       "4      0      0      0      0      0      0  \n",
       "\n",
       "[5 rows x 1024 columns]"
      ]
     },
     "execution_count": 5,
     "metadata": {},
     "output_type": "execute_result"
    }
   ],
   "source": [
    "test_features.head()"
   ]
  },
  {
   "cell_type": "markdown",
   "id": "bf2e985d",
   "metadata": {
    "papermill": {
     "duration": 0.003929,
     "end_time": "2022-06-30T03:49:30.279741",
     "exception": false,
     "start_time": "2022-06-30T03:49:30.275812",
     "status": "completed"
    },
    "tags": []
   },
   "source": [
    "# Create an estimator"
   ]
  },
  {
   "cell_type": "code",
   "execution_count": 6,
   "id": "3ae9f0af",
   "metadata": {
    "execution": {
     "iopub.execute_input": "2022-06-30T03:49:30.289681Z",
     "iopub.status.busy": "2022-06-30T03:49:30.289263Z",
     "iopub.status.idle": "2022-06-30T03:49:30.295417Z",
     "shell.execute_reply": "2022-06-30T03:49:30.294279Z"
    },
    "papermill": {
     "duration": 0.01381,
     "end_time": "2022-06-30T03:49:30.297734",
     "exception": false,
     "start_time": "2022-06-30T03:49:30.283924",
     "status": "completed"
    },
    "tags": []
   },
   "outputs": [],
   "source": [
    "_seed = 5281983\n",
    "_estimator_hyperpararmeters = {\n",
    "    \"random_state\": np.random.RandomState(_seed),\n",
    "}\n",
    "estimator = tree.DecisionTreeClassifier(**_estimator_hyperpararmeters)"
   ]
  },
  {
   "cell_type": "code",
   "execution_count": 7,
   "id": "63478c89",
   "metadata": {
    "execution": {
     "iopub.execute_input": "2022-06-30T03:49:30.307900Z",
     "iopub.status.busy": "2022-06-30T03:49:30.307521Z",
     "iopub.status.idle": "2022-06-30T03:49:33.744315Z",
     "shell.execute_reply": "2022-06-30T03:49:33.743437Z"
    },
    "papermill": {
     "duration": 3.444631,
     "end_time": "2022-06-30T03:49:33.746700",
     "exception": false,
     "start_time": "2022-06-30T03:49:30.302069",
     "status": "completed"
    },
    "tags": []
   },
   "outputs": [
    {
     "data": {
      "text/plain": [
       "DecisionTreeClassifier(random_state=RandomState(MT19937) at 0x7FD9E7F698D0)"
      ]
     },
     "execution_count": 7,
     "metadata": {},
     "output_type": "execute_result"
    }
   ],
   "source": [
    "estimator.fit(train_features, train_target)"
   ]
  },
  {
   "cell_type": "code",
   "execution_count": 8,
   "id": "55fcea51",
   "metadata": {
    "execution": {
     "iopub.execute_input": "2022-06-30T03:49:33.757192Z",
     "iopub.status.busy": "2022-06-30T03:49:33.756818Z",
     "iopub.status.idle": "2022-06-30T03:49:42.400873Z",
     "shell.execute_reply": "2022-06-30T03:49:42.399459Z"
    },
    "papermill": {
     "duration": 8.652395,
     "end_time": "2022-06-30T03:49:42.403564",
     "exception": false,
     "start_time": "2022-06-30T03:49:33.751169",
     "status": "completed"
    },
    "tags": []
   },
   "outputs": [],
   "source": [
    "scores = model_selection.cross_val_score(\n",
    "    estimator,\n",
    "    train_features,\n",
    "    train_target,\n",
    "    cv=5,\n",
    "    scoring=\"accuracy\",\n",
    "    n_jobs=-1,\n",
    ")"
   ]
  },
  {
   "cell_type": "code",
   "execution_count": 9,
   "id": "f2eb3667",
   "metadata": {
    "execution": {
     "iopub.execute_input": "2022-06-30T03:49:42.414440Z",
     "iopub.status.busy": "2022-06-30T03:49:42.413837Z",
     "iopub.status.idle": "2022-06-30T03:49:42.419584Z",
     "shell.execute_reply": "2022-06-30T03:49:42.418224Z"
    },
    "papermill": {
     "duration": 0.014341,
     "end_time": "2022-06-30T03:49:42.422310",
     "exception": false,
     "start_time": "2022-06-30T03:49:42.407969",
     "status": "completed"
    },
    "tags": []
   },
   "outputs": [
    {
     "name": "stdout",
     "output_type": "stream",
     "text": [
      "Estimated validation error: 0.3391369047619048\n"
     ]
    }
   ],
   "source": [
    "print(f\"Estimated validation error: {scores.mean()}\")"
   ]
  },
  {
   "cell_type": "markdown",
   "id": "bf724cb5",
   "metadata": {
    "papermill": {
     "duration": 0.004608,
     "end_time": "2022-06-30T03:49:42.432156",
     "exception": false,
     "start_time": "2022-06-30T03:49:42.427548",
     "status": "completed"
    },
    "tags": []
   },
   "source": [
    "# Make predictions"
   ]
  },
  {
   "cell_type": "code",
   "execution_count": 10,
   "id": "0e8767c1",
   "metadata": {
    "execution": {
     "iopub.execute_input": "2022-06-30T03:49:42.443177Z",
     "iopub.status.busy": "2022-06-30T03:49:42.442187Z",
     "iopub.status.idle": "2022-06-30T03:49:42.545468Z",
     "shell.execute_reply": "2022-06-30T03:49:42.543597Z"
    },
    "papermill": {
     "duration": 0.1113,
     "end_time": "2022-06-30T03:49:42.547953",
     "exception": false,
     "start_time": "2022-06-30T03:49:42.436653",
     "status": "completed"
    },
    "tags": []
   },
   "outputs": [
    {
     "name": "stdout",
     "output_type": "stream",
     "text": [
      "              precision    recall  f1-score   support\n",
      "\n",
      "           1       1.00      1.00      1.00       480\n",
      "           2       1.00      1.00      1.00       480\n",
      "           3       1.00      1.00      1.00       480\n",
      "           4       1.00      1.00      1.00       480\n",
      "           5       1.00      1.00      1.00       480\n",
      "           6       1.00      1.00      1.00       480\n",
      "           7       1.00      1.00      1.00       480\n",
      "           8       1.00      1.00      1.00       480\n",
      "           9       1.00      1.00      1.00       480\n",
      "          10       1.00      1.00      1.00       480\n",
      "          11       1.00      1.00      1.00       480\n",
      "          12       1.00      1.00      1.00       480\n",
      "          13       1.00      1.00      1.00       480\n",
      "          14       1.00      1.00      1.00       480\n",
      "          15       1.00      1.00      1.00       480\n",
      "          16       1.00      1.00      1.00       480\n",
      "          17       1.00      1.00      1.00       480\n",
      "          18       1.00      1.00      1.00       480\n",
      "          19       1.00      1.00      1.00       480\n",
      "          20       1.00      1.00      1.00       480\n",
      "          21       1.00      1.00      1.00       480\n",
      "          22       1.00      1.00      1.00       480\n",
      "          23       1.00      1.00      1.00       480\n",
      "          24       1.00      1.00      1.00       480\n",
      "          25       1.00      1.00      1.00       480\n",
      "          26       1.00      1.00      1.00       480\n",
      "          27       1.00      1.00      1.00       480\n",
      "          28       1.00      1.00      1.00       480\n",
      "\n",
      "    accuracy                           1.00     13440\n",
      "   macro avg       1.00      1.00      1.00     13440\n",
      "weighted avg       1.00      1.00      1.00     13440\n",
      "\n"
     ]
    }
   ],
   "source": [
    "# assess the error on the training data\n",
    "train_predictions = estimator.predict(train_features)\n",
    "_report = metrics.classification_report(\n",
    "    train_target,\n",
    "    train_predictions\n",
    ")\n",
    "print(_report)"
   ]
  },
  {
   "cell_type": "code",
   "execution_count": 11,
   "id": "912fe324",
   "metadata": {
    "execution": {
     "iopub.execute_input": "2022-06-30T03:49:42.559192Z",
     "iopub.status.busy": "2022-06-30T03:49:42.558780Z",
     "iopub.status.idle": "2022-06-30T03:49:42.586037Z",
     "shell.execute_reply": "2022-06-30T03:49:42.584907Z"
    },
    "papermill": {
     "duration": 0.036438,
     "end_time": "2022-06-30T03:49:42.589038",
     "exception": false,
     "start_time": "2022-06-30T03:49:42.552600",
     "status": "completed"
    },
    "tags": []
   },
   "outputs": [],
   "source": [
    "# predict using the test data\n",
    "test_predictions = estimator.predict(test_features)"
   ]
  },
  {
   "cell_type": "markdown",
   "id": "e2e847a2",
   "metadata": {
    "papermill": {
     "duration": 0.004532,
     "end_time": "2022-06-30T03:49:42.598165",
     "exception": false,
     "start_time": "2022-06-30T03:49:42.593633",
     "status": "completed"
    },
    "tags": []
   },
   "source": [
    "# Generate a submission file"
   ]
  },
  {
   "cell_type": "code",
   "execution_count": 12,
   "id": "c97bc6f7",
   "metadata": {
    "execution": {
     "iopub.execute_input": "2022-06-30T03:49:42.609460Z",
     "iopub.status.busy": "2022-06-30T03:49:42.609058Z",
     "iopub.status.idle": "2022-06-30T03:49:42.623771Z",
     "shell.execute_reply": "2022-06-30T03:49:42.622520Z"
    },
    "papermill": {
     "duration": 0.024053,
     "end_time": "2022-06-30T03:49:42.626888",
     "exception": false,
     "start_time": "2022-06-30T03:49:42.602835",
     "status": "completed"
    },
    "tags": []
   },
   "outputs": [],
   "source": [
    "_ = (pd.DataFrame\n",
    "       .from_dict({\"Id\": test_features.index, \"Category\": test_predictions})\n",
    "       .to_csv(\"submission.csv\", index=False))"
   ]
  },
  {
   "cell_type": "code",
   "execution_count": null,
   "id": "b7050986",
   "metadata": {
    "papermill": {
     "duration": 0.004413,
     "end_time": "2022-06-30T03:49:42.636178",
     "exception": false,
     "start_time": "2022-06-30T03:49:42.631765",
     "status": "completed"
    },
    "tags": []
   },
   "outputs": [],
   "source": []
  }
 ],
 "metadata": {
  "kernelspec": {
   "display_name": "Python 3",
   "language": "python",
   "name": "python3"
  },
  "language_info": {
   "codemirror_mode": {
    "name": "ipython",
    "version": 3
   },
   "file_extension": ".py",
   "mimetype": "text/x-python",
   "name": "python",
   "nbconvert_exporter": "python",
   "pygments_lexer": "ipython3",
   "version": "3.7.12"
  },
  "papermill": {
   "default_parameters": {},
   "duration": 26.795333,
   "end_time": "2022-06-30T03:49:45.262290",
   "environment_variables": {},
   "exception": null,
   "input_path": "__notebook__.ipynb",
   "output_path": "__notebook__.ipynb",
   "parameters": {},
   "start_time": "2022-06-30T03:49:18.466957",
   "version": "2.3.4"
  }
 },
 "nbformat": 4,
 "nbformat_minor": 5
}
