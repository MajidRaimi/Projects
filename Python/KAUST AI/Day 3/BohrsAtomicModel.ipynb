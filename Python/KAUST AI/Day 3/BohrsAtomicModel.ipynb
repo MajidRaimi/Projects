{
  "cells": [
    {
      "cell_type": "code",
      "execution_count": 56,
      "metadata": {
        "colab": {
          "base_uri": "https://localhost:8080/",
          "height": 293
        },
        "id": "MVTNLbMT25BX",
        "outputId": "0094b2ab-b692-49a0-cfa4-4c222f88584a"
      },
      "outputs": [
        {
          "data": {
            "text/plain": [
              "[<matplotlib.lines.Line2D at 0x1fafca72d40>]"
            ]
          },
          "execution_count": 56,
          "metadata": {},
          "output_type": "execute_result"
        },
        {
          "data": {
            "image/png": "[encoded data removed]",
            "text/plain": [
              "<Figure size 432x288 with 1 Axes>"
            ]
          },
          "metadata": {
            "needs_background": "light"
          },
          "output_type": "display_data"
        }
      ],
      "source": [
        "#[Fictional Story] The data for the hydrogen spectrum was provided to a statistcain and he/She decided to use linear regression\n",
        "#model for finding the relation between the hydrogen spectrum and the hydrogen shell. The statistican wants to find the relatioship between \n",
        "#the shell from which the electron jumps (ni) to the first shell and the spatial frequency (sf). He/She tries to fit 2-7 order polynomial to the data.\n",
        "import numpy as np\n",
        "import matplotlib.pyplot as plt\n",
        "\n",
        "\n",
        "ni=np.arange(2,25)\n",
        "sf=[(1.1*10**7)*(1/(1)**2 -1/(i)**2) for i in ni] \n",
        "plt.plot(ni,sf,'.')"
      ]
    },
    {
      "cell_type": "code",
      "execution_count": 89,
      "metadata": {},
      "outputs": [
        {
          "data": {
            "text/plain": [
              "[<matplotlib.lines.Line2D at 0x1faff4e1a80>,\n",
              " <matplotlib.lines.Line2D at 0x1faff4e1ae0>]"
            ]
          },
          "execution_count": 89,
          "metadata": {},
          "output_type": "execute_result"
        },
        {
          "data": {
            "image/png": "[encoded data removed]",
            "text/plain": [
              "<Figure size 432x288 with 1 Axes>"
            ]
          },
          "metadata": {
            "needs_background": "light"
          },
          "output_type": "display_data"
        }
      ],
      "source": [
        "#implement Linear Regression Solution with Polynomial basis\n",
        "# Create array called weightConstants with bases 3\n",
        "weightConstants = []\n",
        "noOfBasis = 7\n",
        "# Fill it with values of polynomial\n",
        "for i in range(noOfBasis):\n",
        "    weightConstants.append((ni**i) ** 0.5)\n",
        "\n",
        "# make it into array and transpose it\n",
        "weightConstants = np.array(weightConstants).T\n",
        "\n",
        "# Calculate the weights\n",
        "weights = np.linalg.inv(weightConstants.T @ weightConstants) @ (weightConstants.T @ sf)\n",
        "\n",
        "# Prediction\n",
        "PredictedData = weightConstants @ weights\n",
        "\n",
        "plt.plot(ni, sf, ni, PredictedData)"
      ]
    }
  ],
  "metadata": {
    "colab": {
      "collapsed_sections": [],
      "name": "BohrsAtomicModel.ipynb",
      "provenance": []
    },
    "kernelspec": {
      "display_name": "Python 3.10.4 64-bit",
      "language": "python",
      "name": "python3"
    },
    "language_info": {
      "codemirror_mode": {
        "name": "ipython",
        "version": 3
      },
      "file_extension": ".py",
      "mimetype": "text/x-python",
      "name": "python",
      "nbconvert_exporter": "python",
      "pygments_lexer": "ipython3",
      "version": "3.10.4"
    },
    "vscode": {
      "interpreter": {
        "hash": "b0d9c7fd3642b660ffedf3a77d11c31e11ccbd2a913cb9ccb12c86252838bb24"
      }
    }
  },
  "nbformat": 4,
  "nbformat_minor": 0
}
