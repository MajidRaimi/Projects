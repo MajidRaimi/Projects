{
  "cells": [
    {
      "cell_type": "code",
      "execution_count": 1,
      "metadata": {
        "id": "cLcvhf0RAnKR"
      },
      "outputs": [],
      "source": [
        "import numpy as np\n",
        "import matplotlib.pyplot as plt\n",
        "\n",
        "%matplotlib inline"
      ]
    },
    {
      "cell_type": "code",
      "execution_count": 2,
      "metadata": {
        "id": "pk9S9C_QAu_I"
      },
      "outputs": [],
      "source": [
        "def plotClass(X,y,p):\n",
        "    plt.figure()\n",
        "    for i in range(y.shape[1]):\n",
        "        if y[0,i]==0:\n",
        "            plt.plot(X[0,i],X[1,i],'r'+p)\n",
        "        else:\n",
        "            plt.plot(X[0,i],X[1,i],'b'+p)\n",
        "            \n",
        "    plt.show()"
      ]
    },
    {
      "cell_type": "code",
      "execution_count": 3,
      "metadata": {
        "colab": {
          "base_uri": "https://localhost:8080/",
          "height": 300
        },
        "id": "vN0hzaUyAxWW",
        "outputId": "3d4a2c3e-ebdb-462d-a4c0-220837434f6f"
      },
      "outputs": [
        {
          "data": {
            "image/png": "[encoded data removed]",
            "text/plain": [
              "<Figure size 432x288 with 1 Axes>"
            ]
          },
          "metadata": {
            "needs_background": "light"
          },
          "output_type": "display_data"
        },
        {
          "name": "stdout",
          "output_type": "stream",
          "text": [
            "(2, 200)\n",
            "(1, 200)\n"
          ]
        }
      ],
      "source": [
        "num_data=100 # data points per class\n",
        "\n",
        "x1=np.random.randn(2,num_data)+4\n",
        "x0=np.random.randn(2,num_data)\n",
        "\n",
        "y1=np.ones((1,num_data))\n",
        "y0=np.zeros((1,num_data))\n",
        "\n",
        "X=np.concatenate((x1,x0),axis=1)\n",
        "y=np.concatenate((y1,y0), axis=1)\n",
        "plotClass(X,y,'o')\n",
        "print(X.shape)\n",
        "print(y.shape)"
      ]
    },
    {
      "cell_type": "code",
      "execution_count": 4,
      "metadata": {
        "id": "IQVYIabgA_Y1"
      },
      "outputs": [
        {
          "name": "stderr",
          "output_type": "stream",
          "text": [
            "C:\\Users\\radwa\\AppData\\Local\\Temp\\ipykernel_27136\\244839977.py:10: RuntimeWarning: divide by zero encountered in log\n",
            "  return np.sum(-y*np.log(yhat) - (1-y)*np.log(1-yhat), axis =1)\n",
            "C:\\Users\\radwa\\AppData\\Local\\Temp\\ipykernel_27136\\244839977.py:10: RuntimeWarning: invalid value encountered in multiply\n",
            "  return np.sum(-y*np.log(yhat) - (1-y)*np.log(1-yhat), axis =1)\n"
          ]
        },
        {
          "data": {
            "image/png": "[encoded data removed]",
            "text/plain": [
              "<Figure size 432x288 with 1 Axes>"
            ]
          },
          "metadata": {
            "needs_background": "light"
          },
          "output_type": "display_data"
        },
        {
          "data": {
            "image/png": "[encoded data removed]",
            "text/plain": [
              "<Figure size 432x288 with 1 Axes>"
            ]
          },
          "metadata": {
            "needs_background": "light"
          },
          "output_type": "display_data"
        }
      ],
      "source": [
        "#stochastic Gradient Decent\n",
        "def get_z(W,X):\n",
        "  return W @ X\n",
        "\n",
        "\n",
        "def get_sigmoid(z):\n",
        "  return 1/(1+np.exp(-z))\n",
        "\n",
        "def get_loss(y,yhat):\n",
        "  return np.sum(-y*np.log(yhat) - (1-y)*np.log(1-yhat), axis =1)\n",
        "\n",
        "\n",
        "nb = 3\n",
        "A=[]\n",
        "for i in range(nb):\n",
        "  for j in range(nb):\n",
        "    A.append(X[0,:]**i * X[1,:]**j)\n",
        "\n",
        "\n",
        "A = np.array(A)\n",
        "\n",
        "ls =[]\n",
        "lr = 0.0001\n",
        "W = np.random.randn(1, A.shape[0])\n",
        "for i in range(10000):\n",
        "  z = get_z(W,A)\n",
        "  yhat = get_sigmoid(z)\n",
        "  loss = get_loss(y, yhat)\n",
        "\n",
        "  ls.append(loss)\n",
        "\n",
        "  dZ = yhat - y\n",
        "  dW = dZ@A.T\n",
        "\n",
        "\n",
        "  W -= lr*dW\n",
        "\n",
        "plotClass(X,yhat>0.5,'o')\n",
        "plotClass(X,y,\"o\")\n"
      ]
    }
  ],
  "metadata": {
    "colab": {
      "collapsed_sections": [],
      "name": "OSAP_LogisticRegression3.ipynb",
      "provenance": []
    },
    "kernelspec": {
      "display_name": "Python 3.10.4 64-bit",
      "language": "python",
      "name": "python3"
    },
    "language_info": {
      "codemirror_mode": {
        "name": "ipython",
        "version": 3
      },
      "file_extension": ".py",
      "mimetype": "text/x-python",
      "name": "python",
      "nbconvert_exporter": "python",
      "pygments_lexer": "ipython3",
      "version": "3.10.4"
    },
    "vscode": {
      "interpreter": {
        "hash": "b0d9c7fd3642b660ffedf3a77d11c31e11ccbd2a913cb9ccb12c86252838bb24"
      }
    }
  },
  "nbformat": 4,
  "nbformat_minor": 0
}
