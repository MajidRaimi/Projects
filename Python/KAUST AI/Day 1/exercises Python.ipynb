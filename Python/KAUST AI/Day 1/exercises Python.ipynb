{
 "cells": [
  {
   "cell_type": "markdown",
   "metadata": {},
   "source": [
    "Exercises\n",
    "\n",
    "Exercise 3.1: Write a program that asks the user to input, their name, title, age and\n",
    "occupation and outputs a string, \"[title] [name] is [age] years old and works as a [job].\"\n"
   ]
  },
  {
   "cell_type": "code",
   "execution_count": 2,
   "metadata": {},
   "outputs": [
    {
     "name": "stdout",
     "output_type": "stream",
     "text": [
      "Captain Ahmad is 98 years old and works as Chemist\n"
     ]
    }
   ],
   "source": [
    "name = input(\"Enter Your Name: \")\n",
    "title = input(\"Enter your Title: \")\n",
    "age = input(\"Enter your age: \")\n",
    "occupation = input(\"Enter your Occupation: \")\n",
    "\n",
    "print(f\"{title} {name} is {age} years old and works as {occupation}\")"
   ]
  },
  {
   "cell_type": "markdown",
   "metadata": {},
   "source": [
    "\n",
    "Exercise 3.2: Write a program that takes a positive integer as an input and return’s it’s\n",
    "length. Return 0 if the number is not a positive integer.\n"
   ]
  },
  {
   "cell_type": "code",
   "execution_count": 45,
   "metadata": {},
   "outputs": [
    {
     "name": "stdout",
     "output_type": "stream",
     "text": [
      "0\n"
     ]
    }
   ],
   "source": [
    "# Get positive integer\n",
    "integer = int(input(\"Enter a Positive Integer\"))\n",
    "\n",
    "# Only if its positive\n",
    "if integer < 0:\n",
    "    print(\"0\")\n",
    "\n",
    "# Get the length of it\n",
    "else:\n",
    "    print(len(str(integer)))"
   ]
  },
  {
   "cell_type": "markdown",
   "metadata": {},
   "source": [
    "\n",
    "Exercise 3.3: In a single line of code extract all numbers from a list that are greater than\n",
    "100.\n"
   ]
  },
  {
   "cell_type": "code",
   "execution_count": 46,
   "metadata": {},
   "outputs": [
    {
     "name": "stdout",
     "output_type": "stream",
     "text": [
      "[102, 109, 209, 1029, 102, 1029]\n"
     ]
    }
   ],
   "source": [
    "testList = [100,102,109,209,1029,99,28,10,102,1029,88]\n",
    "\n",
    "newList = [row for row in testList if row > 100]\n",
    "\n",
    "print(newList)"
   ]
  },
  {
   "cell_type": "markdown",
   "metadata": {},
   "source": [
    "\n",
    "Exercise 3.4: In a single line of code capitalize the first character of the value strings in a\n",
    "Python dictionary.\n"
   ]
  },
  {
   "cell_type": "code",
   "execution_count": 49,
   "metadata": {},
   "outputs": [
    {
     "name": "stdout",
     "output_type": "stream",
     "text": [
      "['Hi', 'Many', 'World', 'Killers']\n"
     ]
    }
   ],
   "source": [
    "dictonary = {\"hello\" : \"hi\", 1 : \"many\", 2 : \"world\", 3 : \"killers\"}\n",
    "\n",
    "print([value.capitalize() for value in list(dictonary.values())])"
   ]
  },
  {
   "cell_type": "markdown",
   "metadata": {},
   "source": [
    "\n",
    "Exercise 3.5: Write a program that checks if a 5 digit positive integer is palindrome. Bonus:\n",
    "extent it to any positive integer.\n"
   ]
  },
  {
   "cell_type": "code",
   "execution_count": 41,
   "metadata": {},
   "outputs": [
    {
     "name": "stdout",
     "output_type": "stream",
     "text": [
      "Is not a Palindrom\n"
     ]
    }
   ],
   "source": [
    "# Get number and check it against its reverse\n",
    "try:\n",
    "    # Get a number from the user\n",
    "    givenNumber = int(input(\"Enter an Integer Number: \"))\n",
    "\n",
    "    # Check it against its reverse\n",
    "    if str(givenNumber) == str(givenNumber)[::-1]:\n",
    "        print(\"Is A Palindrom\")\n",
    "    \n",
    "    # If it doesn't equal its reverse, Its not a palindrom\n",
    "    else:\n",
    "        print(\"Is not a Palindrom\")\n",
    "\n",
    "# Only accepts Numbers\n",
    "except ValueError:\n",
    "    print(\"Must be a Number!\")"
   ]
  },
  {
   "cell_type": "markdown",
   "metadata": {},
   "source": [
    "\n",
    "Exercise 3.6: Write a program which will find all such numbers which are divisible by 7\n",
    "but are not a multiple of 4, between 100 and 1500 (both included). The numbers obtained\n",
    "should be printed in a comma-separated sequence on a single line.\n"
   ]
  },
  {
   "cell_type": "code",
   "execution_count": 50,
   "metadata": {},
   "outputs": [
    {
     "name": "stdout",
     "output_type": "stream",
     "text": [
      "[105, 119, 126, 133, 147, 154, 161, 175, 182, 189, 203, 210, 217, 231, 238, 245, 259, 266, 273, 287, 294, 301, 315, 322, 329, 343, 350, 357, 371, 378, 385, 399, 406, 413, 427, 434, 441, 455, 462, 469, 483, 490, 497, 511, 518, 525, 539, 546, 553, 567, 574, 581, 595, 602, 609, 623, 630, 637, 651, 658, 665, 679, 686, 693, 707, 714, 721, 735, 742, 749, 763, 770, 777, 791, 798, 805, 819, 826, 833, 847, 854, 861, 875, 882, 889, 903, 910, 917, 931, 938, 945, 959, 966, 973, 987, 994, 1001, 1015, 1022, 1029, 1043, 1050, 1057, 1071, 1078, 1085, 1099, 1106, 1113, 1127, 1134, 1141, 1155, 1162, 1169, 1183, 1190, 1197, 1211, 1218, 1225, 1239, 1246, 1253, 1267, 1274, 1281, 1295, 1302, 1309, 1323, 1330, 1337, 1351, 1358, 1365, 1379, 1386, 1393, 1407, 1414, 1421, 1435, 1442, 1449, 1463, 1470, 1477, 1491, 1498]\n"
     ]
    }
   ],
   "source": [
    "numbers = range(100, 1500 + 1)\n",
    "newNumbers = [element for element in numbers if element % 7 == 0 and element % 4 != 0]\n",
    "print(newNumbers)"
   ]
  },
  {
   "cell_type": "markdown",
   "metadata": {},
   "source": [
    "\n",
    "Exercise 3.7: Write a code that inputs two integers and returns True if they are anagram\n",
    "of each other, else returns False.\n"
   ]
  },
  {
   "cell_type": "code",
   "execution_count": 8,
   "metadata": {},
   "outputs": [
    {
     "name": "stdout",
     "output_type": "stream",
     "text": [
      "True\n"
     ]
    }
   ],
   "source": [
    "number1 = input(\"Enter a Number: \")\n",
    "number2 = input(\"Enter a second number: \")\n",
    "numberList1 = sorted([digit for digit in number1])\n",
    "numberList2 = sorted([digit for digit in number2])\n",
    "print(numberList1 == numberList2)"
   ]
  },
  {
   "cell_type": "markdown",
   "metadata": {},
   "source": [
    "\n",
    "Exercise 3.8: Write a program that takes a number and it’s base (<36) and returns the\n",
    "value in decimal system. Assume number greater than 9 are represented by alphabets [a-z].\n"
   ]
  },
  {
   "cell_type": "code",
   "execution_count": null,
   "metadata": {},
   "outputs": [],
   "source": []
  },
  {
   "cell_type": "markdown",
   "metadata": {},
   "source": [
    "\n",
    "Exercise 3.9: Text based calculator: Write a program that take’s in a string \"No1 operator\n",
    "No2\". and returns the output of the operation in string. Allowed operations are {+,-,*,÷}.\n",
    "\n",
    "Exercise 3.10: Write a program that takes an input N and returns fibonacci sequence to\n",
    "Nth number in the sequence with and without using recursion.\n",
    "\n",
    "Exercise 3.11: Write a program that takes a positive integer input N and returns all\n",
    "palindrome’s uptill and including N.\n",
    "\n",
    "Exercise 3.12: Write a program that return’s the smallest of the integers in a list.\n",
    "\n",
    "Exercise 3.13: Write a program that return’s the largest number in a list.\n",
    "\n",
    "Exercise 3.14: Write a program that removes all vowels from a string.\n",
    "\n",
    "Exercise 3.15: Write a program that take’s an input N (odd integer) and drawn an\n",
    "isosceles triangle with N stars on the base and the other sides of equal size.\n",
    "Example: N=5\n",
    "```\n",
    "  *\n",
    " ***\n",
    "*****\n",
    "```\n",
    "Exercise 3.16: Write a program that removes repeated words next to each other from a\n",
    "string."
   ]
  }
 ],
 "metadata": {
  "kernelspec": {
   "display_name": "Python 3.10.4 64-bit",
   "language": "python",
   "name": "python3"
  },
  "language_info": {
   "codemirror_mode": {
    "name": "ipython",
    "version": 3
   },
   "file_extension": ".py",
   "mimetype": "text/x-python",
   "name": "python",
   "nbconvert_exporter": "python",
   "pygments_lexer": "ipython3",
   "version": "3.10.4"
  },
  "orig_nbformat": 4,
  "vscode": {
   "interpreter": {
    "hash": "b0d9c7fd3642b660ffedf3a77d11c31e11ccbd2a913cb9ccb12c86252838bb24"
   }
  }
 },
 "nbformat": 4,
 "nbformat_minor": 2
}
